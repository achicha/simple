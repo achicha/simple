{
 "cells": [
  {
   "cell_type": "code",
   "execution_count": 1,
   "id": "353e526e",
   "metadata": {
    "ExecuteTime": {
     "end_time": "2022-04-17T12:58:26.769757Z",
     "start_time": "2022-04-17T12:58:26.349687Z"
    },
    "code_folding": [
     0
    ]
   },
   "outputs": [],
   "source": [
    "# import\n",
    "import pandas as pd\n",
    "import numpy as np\n",
    "import plotly.graph_objects as go\n",
    "from plotly.subplots import make_subplots\n",
    "from ipywidgets import interactive, HBox, VBox\n",
    "from numba import njit"
   ]
  },
  {
   "cell_type": "code",
   "execution_count": 2,
   "id": "725efe1b",
   "metadata": {
    "ExecuteTime": {
     "end_time": "2022-04-17T12:58:26.900454Z",
     "start_time": "2022-04-17T12:58:26.771511Z"
    }
   },
   "outputs": [
    {
     "data": {
      "text/plain": [
       "889360"
      ]
     },
     "execution_count": 2,
     "metadata": {},
     "output_type": "execute_result"
    }
   ],
   "source": [
    "T = np.load('tick.npz')['arr_0'].view(np.recarray)\n",
    "len(T)"
   ]
  },
  {
   "cell_type": "code",
   "execution_count": 3,
   "id": "a0f3de34",
   "metadata": {
    "ExecuteTime": {
     "end_time": "2022-04-17T12:58:26.934033Z",
     "start_time": "2022-04-17T12:58:26.902447Z"
    },
    "code_folding": [
     4,
     27,
     68
    ]
   },
   "outputs": [],
   "source": [
    "default_fee = 0.02\n",
    "fp32 = np.float32\n",
    "\n",
    "@njit(nogil=True)\n",
    "def vwap(priceA: np.array, volumeA: np.array, period: int, destA: np.array = None) -> np.ndarray:\n",
    "    turnover = 0.\n",
    "    size = 0.\n",
    "    sizeA = np.abs(volumeA)\n",
    "\n",
    "    if destA is None:\n",
    "        destA = np.zeros(len(priceA))\n",
    "\n",
    "    for i in range(period):\n",
    "        size += sizeA[i]\n",
    "        turnover += sizeA[i] * priceA[i]\n",
    "\n",
    "    for i in range(period, len(priceA)):\n",
    "        k = i - period\n",
    "        size += sizeA[i] - sizeA[k]\n",
    "        turnover += sizeA[i] * priceA[i] - sizeA[k] * priceA[k]\n",
    "        destA[i] = turnover / size\n",
    "\n",
    "    destA[:period] = destA[period]\n",
    "    return destA\n",
    "\n",
    "\n",
    "@njit(nogil=True)\n",
    "def backtestLimit(PriceA, qA, qB, fee_percent=default_fee) -> list:\n",
    "    \"\"\"Vectorized backtester for limit order strategies\"\"\"\n",
    "\n",
    "    buys = [(int(x), fp32(x)) for x in range(0)]\n",
    "    sells = [(int(x), fp32(x)) for x in range(0)]\n",
    "    trades = [(int(x), fp32(x), int(x), fp32(x), int(x), fp32(x), fp32(x)) for x in range(0)]\n",
    "\n",
    "    pos: int = 0\n",
    "\n",
    "    for i in range(len(PriceA) - 1):\n",
    "        price = PriceA[i]\n",
    "\n",
    "        if price > qA[i]:\n",
    "            delta_pos = -min(pos + 1, 1)\n",
    "        elif price < qB[i]:\n",
    "            delta_pos = min(1 - pos, 1)\n",
    "        else:\n",
    "            delta_pos = 0\n",
    "\n",
    "        k = i + 1\n",
    "        if delta_pos > 0:\n",
    "            buys.append((k, qB[k]))\n",
    "        elif delta_pos < 0: \n",
    "            sells.append((k, qA[k]))\n",
    "\n",
    "        if len(sells) > 0 and len(buys) > 0:\n",
    "            k_buy, buy = buys.pop(0)\n",
    "            k_sell, sell = sells.pop(0)\n",
    "            d_rawPnL = sell - buy\n",
    "            fee = fee_percent / 100 * (sell + buy)\n",
    "            d_PnL = d_rawPnL - fee\n",
    "            if delta_pos < 0:\n",
    "                trades.append((k_buy, buy, k_sell, sell, -delta_pos, d_PnL, fee))\n",
    "            else:\n",
    "                trades.append((k_sell, sell, k_buy, buy, -delta_pos, d_PnL, fee))\n",
    "\n",
    "        pos += delta_pos\n",
    "\n",
    "    return trades\n",
    "\n",
    "\n",
    "def npBacktestLimit(PriceA, qA, qB, fee_percent=default_fee) -> np.ndarray:\n",
    "    \"\"\"Converts trades from the limit-backtester to structured array\"\"\"\n",
    "\n",
    "    trades = backtestLimit(PriceA, qA, qB, fee_percent=fee_percent)\n",
    "    TPairTrade = [('X0', int), ('Price0', float), ('X1', int), ('Price1', float),\n",
    "                  ('Size', float), ('Profit', float), ('Fee', float)]\n",
    "    return np.array(trades, dtype=TPairTrade).view(np.recarray)"
   ]
  },
  {
   "cell_type": "code",
   "execution_count": 4,
   "id": "c1d6cae8",
   "metadata": {
    "ExecuteTime": {
     "end_time": "2022-04-17T12:58:26.938833Z",
     "start_time": "2022-04-17T12:58:26.935591Z"
    },
    "code_folding": [
     1
    ]
   },
   "outputs": [],
   "source": [
    "# trade model func\n",
    "def model(Period: int, StdDev: float):\n",
    "    center = vwap(T.PriceA, T.VolumeA, Period)\n",
    "    std = pd.Series(T.PriceA).rolling(Period).std().values\n",
    "    qA = center + std*StdDev\n",
    "    qB = center - std*StdDev\n",
    "\n",
    "    trades = npBacktestLimit(T.PriceA, qA, qB)\n",
    "    return center, qA, qB, trades"
   ]
  },
  {
   "cell_type": "code",
   "execution_count": 5,
   "id": "656650af",
   "metadata": {
    "ExecuteTime": {
     "end_time": "2022-04-17T12:58:27.222996Z",
     "start_time": "2022-04-17T12:58:26.940006Z"
    },
    "code_folding": [
     0
    ]
   },
   "outputs": [],
   "source": [
    "# create widget\n",
    "fig = go.FigureWidget(make_subplots(specs=[[{\"secondary_y\": True}]]))\n",
    "fig.update_layout(autosize=True, height=700, template='plotly_white', legend=dict(x=0.1, y=1, orientation=\"h\"), \n",
    "                  margin=dict(l=45, r=5, b=10, t=30, pad=3), xaxis_rangeslider_visible=False, yaxis2_showgrid=False)\n",
    "\n",
    "r = len(T.DateTimeA) // 1000\n",
    "x = np.array(range(len(T.DateTimeA[::r])))*r\n",
    "\n",
    "fig.add_scattergl(y=T.PriceA[::r], x=x, line_color='gray', name='Trade', opacity=0.25)\n",
    "fig.add_scattergl(x=x, line_color='blue', name='center', opacity=0.4)\n",
    "fig.add_scattergl(x=x, line_color='red', name='QAsk', opacity=0.25, line_dash='dot')\n",
    "fig.add_scattergl(x=x, line_color='green', name='QBid', opacity=0.25, line_dash='dot')\n",
    "\n",
    "# trades\n",
    "fig.add_scattergl(mode='markers', name='Buy', marker=dict(color='green', line_color=\"darkgreen\", line_width=1, symbol='triangle-up', size=10))\n",
    "fig.add_scattergl(mode='markers', name='Sell', marker=dict(color='red', line_color=\"darkred\", line_width=1, symbol='triangle-down', size=10))\n",
    "\n",
    "# profit w/fee\n",
    "fig.add_scattergl(mode='lines', line_color='black', line_width=8, name='Profit', opacity=0.1, secondary_y=True, line_shape='hv');"
   ]
  },
  {
   "cell_type": "code",
   "execution_count": 6,
   "id": "ba63c279",
   "metadata": {
    "ExecuteTime": {
     "end_time": "2022-04-17T12:58:28.135903Z",
     "start_time": "2022-04-17T12:58:27.224708Z"
    },
    "code_folding": [
     0,
     1
    ]
   },
   "outputs": [
    {
     "data": {
      "application/vnd.jupyter.widget-view+json": {
       "model_id": "35dea5a8ad3240b49d05702186c31e7a",
       "version_major": 2,
       "version_minor": 0
      },
      "text/plain": [
       "VBox(children=(HBox(children=(IntSlider(value=30000, description='Period', max=60000, min=1000, step=1000), Fl…"
      ]
     },
     "metadata": {},
     "output_type": "display_data"
    }
   ],
   "source": [
    "# interactive mode\n",
    "def update(Period, StdDev):\n",
    "    center, qA, qB, trades = model(Period, StdDev)\n",
    "    \n",
    "    LongEntry = trades[['X0', 'Price0']][trades.Size > 0]\n",
    "    LongExit = trades[['X1', 'Price1']][trades.Size < 0]\n",
    "    ShortEntry = trades[['X0', 'Price0']][trades.Size < 0]\n",
    "    ShortExit = trades[['X1', 'Price1']][trades.Size > 0]\n",
    "    \n",
    "    with fig.batch_update():\n",
    "        fig.data[1].y = center[::r]\n",
    "        fig.data[2].y = qA[::r]\n",
    "        fig.data[3].y = qB[::r]\n",
    "        \n",
    "        fig.data[4].x = np.concatenate((LongEntry.X0, LongExit.X1))\n",
    "        fig.data[4].y = np.concatenate((LongEntry.Price0, LongExit.Price1))\n",
    "\n",
    "        fig.data[5].x = np.concatenate((ShortEntry.X0, ShortExit.X1))\n",
    "        fig.data[5].y = np.concatenate((ShortEntry.Price0, ShortExit.Price1))\n",
    "        \n",
    "        fig.data[6].x = trades.X1\n",
    "        fig.data[6].y = trades.Profit.cumsum() + trades.Fee.cumsum()\n",
    "\n",
    "widget = interactive(update, Period=(1000, 60000, 1000), StdDev=(1, 4, 0.1))\n",
    "\n",
    "param = {w.description: w.value for w in widget.children[:-1]}\n",
    "update(**param)\n",
    "\n",
    "VBox([HBox(widget.children), fig])"
   ]
  }
 ],
 "metadata": {
  "kernelspec": {
   "display_name": "Python 3 (ipykernel)",
   "language": "python",
   "name": "python3"
  },
  "language_info": {
   "codemirror_mode": {
    "name": "ipython",
    "version": 3
   },
   "file_extension": ".py",
   "mimetype": "text/x-python",
   "name": "python",
   "nbconvert_exporter": "python",
   "pygments_lexer": "ipython3",
   "version": "3.8.13"
  }
 },
 "nbformat": 4,
 "nbformat_minor": 5
}
