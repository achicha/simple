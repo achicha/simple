{
 "cells": [
  {
   "cell_type": "code",
   "execution_count": 1,
   "id": "353e526e",
   "metadata": {
    "ExecuteTime": {
     "end_time": "2022-04-19T05:37:58.354356Z",
     "start_time": "2022-04-19T05:37:56.986666Z"
    },
    "code_folding": []
   },
   "outputs": [],
   "source": [
    "# import\n",
    "import pandas as pd\n",
    "import numpy as np\n",
    "from plotly_charts import interactFigure\n",
    "from numba import njit\n",
    "from funcs import vwap, cPIN\n",
    "from backtester import getLong, getShort\n",
    "import talib"
   ]
  },
  {
   "cell_type": "code",
   "execution_count": 2,
   "id": "725efe1b",
   "metadata": {
    "ExecuteTime": {
     "end_time": "2022-04-19T05:37:58.483199Z",
     "start_time": "2022-04-19T05:37:58.356641Z"
    }
   },
   "outputs": [
    {
     "data": {
      "text/plain": [
       "889360"
      ]
     },
     "execution_count": 2,
     "metadata": {},
     "output_type": "execute_result"
    }
   ],
   "source": [
    "T = np.load('tick.npz')['arr_0'].view(np.recarray)\n",
    "len(T)"
   ]
  },
  {
   "cell_type": "code",
   "execution_count": 3,
   "id": "a0f3de34",
   "metadata": {
    "ExecuteTime": {
     "end_time": "2022-04-19T05:37:58.496082Z",
     "start_time": "2022-04-19T05:37:58.486165Z"
    },
    "code_folding": []
   },
   "outputs": [],
   "source": [
    "fp32 = np.float32\n",
    "default_fee = 0.05 \n",
    "\n",
    "@njit(nogil=True)\n",
    "def backtestLimit(PriceA, qA, qB, fee_percent=default_fee) -> list:\n",
    "    \"\"\"Vectorized backtester for limit order strategies\"\"\"\n",
    "\n",
    "    buys = [(int(x), fp32(x)) for x in range(0)]\n",
    "    sells = [(int(x), fp32(x)) for x in range(0)]\n",
    "    trades = [(int(x), fp32(x), int(x), fp32(x), int(x), fp32(x), fp32(x)) for x in range(0)]\n",
    "\n",
    "    pos: int = 0\n",
    "\n",
    "    for i in range(len(PriceA) - 1):\n",
    "        price = PriceA[i]\n",
    "\n",
    "        if price > qA[i]:\n",
    "            delta_pos = -min(pos + 1, 1)\n",
    "        elif price < qB[i]:\n",
    "            delta_pos = min(1 - pos, 1)\n",
    "        else:\n",
    "            delta_pos = 0\n",
    "\n",
    "        k = i + 1\n",
    "        if delta_pos > 0:\n",
    "            buys.append((k, qB[k]))\n",
    "        elif delta_pos < 0: \n",
    "            sells.append((k, qA[k]))\n",
    "\n",
    "        if len(sells) > 0 and len(buys) > 0:\n",
    "            k_buy, buy = buys.pop(0)\n",
    "            k_sell, sell = sells.pop(0)\n",
    "            d_rawPnL = sell - buy\n",
    "            fee = fee_percent / 100 * (sell + buy)\n",
    "            d_PnL = d_rawPnL - fee\n",
    "            if delta_pos < 0:\n",
    "                trades.append((k_buy, buy, k_sell, sell, -delta_pos, d_PnL, fee))\n",
    "            else:\n",
    "                trades.append((k_sell, sell, k_buy, buy, -delta_pos, d_PnL, fee))\n",
    "\n",
    "        pos += delta_pos\n",
    "\n",
    "    return trades\n",
    "\n",
    "\n",
    "def npBacktestLimit(PriceA, qA, qB, fee_percent=default_fee) -> np.ndarray:\n",
    "    \"\"\"Converts trades from the limit-backtester to structured array\"\"\"\n",
    "\n",
    "    trades = backtestLimit(PriceA, qA, qB, fee_percent=fee_percent)\n",
    "    TPairTrade = [('X0', int), ('Price0', float), ('X1', int), ('Price1', float),\n",
    "                  ('Size', float), ('Profit', float), ('Fee', float)]\n",
    "    return np.array(trades, dtype=TPairTrade).view(np.recarray)"
   ]
  },
  {
   "cell_type": "code",
   "execution_count": 4,
   "id": "efaa5fb3",
   "metadata": {
    "ExecuteTime": {
     "end_time": "2022-04-19T05:37:58.502324Z",
     "start_time": "2022-04-19T05:37:58.498045Z"
    }
   },
   "outputs": [],
   "source": [
    "# declare chart linestyles\n",
    "lines = {'Tick': dict(color='gray', opacity=0.5),\n",
    "         'Center': dict(color='blue', opacity=0.5),\n",
    "         'qA': dict(color='red', opacity=0.5, dash='dot'),\n",
    "         'qB': dict(color='green', opacity=0.5, dash='dot'),\n",
    "         'Profit': dict(color='black', width=8, opacity=0.1, secondary_y=True, shape='hv'),\n",
    "         'Buy': dict(mode='markers', color='green', symbol='triangle-up', size=10, line=dict(color=\"darkgreen\", width=1)),\n",
    "         'Sell': dict(mode='markers', color='red', symbol='triangle-down', size=10, line=dict(color=\"darkred\", width=1)),\n",
    "         'OSC': dict(color='orange', row=2, col=1, opacity=0.6),\n",
    "         'VPIN': dict(color='cyan', row=3, col=1, opacity=0.6)\n",
    "        }"
   ]
  },
  {
   "cell_type": "code",
   "execution_count": 5,
   "id": "c1d6cae8",
   "metadata": {
    "ExecuteTime": {
     "end_time": "2022-04-19T05:37:58.508949Z",
     "start_time": "2022-04-19T05:37:58.503677Z"
    },
    "code_folding": []
   },
   "outputs": [],
   "source": [
    "# trade model func (return fitness and dataseries to be charted)\n",
    "def model(Period: int = (1000, 50000), StdDev: float = (1, 4, 0.1)):\n",
    "    center = vwap(T.PriceA, T.VolumeA, Period)\n",
    "    std = pd.Series(T.PriceA).rolling(Period).std().values\n",
    "    qA = center + std*StdDev\n",
    "    qB = center - std*StdDev\n",
    "\n",
    "    trades = npBacktestLimit(T.PriceA, qA, qB)\n",
    "    lx, ly = getLong(trades)\n",
    "    sx, sy = getShort(trades)\n",
    "    \n",
    "    r = len(T.DateTimeA) // 1000\n",
    "    return trades, dict(Tick=T.PriceA[::r], Center=center[::r], qA=qA[::r], qB=qB[::r], \n",
    "                        Profit=dict(x=trades.X1//r, y=trades.Profit.cumsum() + trades.Fee.cumsum()),\n",
    "                        Buy=dict(x=lx//r, y=ly), Sell=dict(x=sx//r, y=sy),\n",
    "                        OSC=talib.ROCR(T.PriceA, Period)[::r],\n",
    "                        VPIN=cPIN(T, Period)[::r])"
   ]
  },
  {
   "cell_type": "code",
   "execution_count": 6,
   "id": "77926b6e",
   "metadata": {
    "ExecuteTime": {
     "end_time": "2022-04-19T05:38:00.054460Z",
     "start_time": "2022-04-19T05:37:58.510638Z"
    }
   },
   "outputs": [
    {
     "data": {
      "application/vnd.jupyter.widget-view+json": {
       "model_id": "a19061c9f1144822afac9c1f328f1cb5",
       "version_major": 2,
       "version_minor": 0
      },
      "text/plain": [
       "VBox(children=(HBox(children=(IntSlider(value=25500, description='Period', max=50000, min=1000), FloatSlider(v…"
      ]
     },
     "metadata": {},
     "output_type": "display_data"
    }
   ],
   "source": [
    "interactFigure(model, lines, rows=3, height=650)"
   ]
  },
  {
   "cell_type": "code",
   "execution_count": null,
   "id": "5b21e404",
   "metadata": {},
   "outputs": [],
   "source": []
  }
 ],
 "metadata": {
  "kernelspec": {
   "display_name": "Python 3 (ipykernel)",
   "language": "python",
   "name": "python3"
  },
  "language_info": {
   "codemirror_mode": {
    "name": "ipython",
    "version": 3
   },
   "file_extension": ".py",
   "mimetype": "text/x-python",
   "name": "python",
   "nbconvert_exporter": "python",
   "pygments_lexer": "ipython3",
   "version": "3.8.13"
  }
 },
 "nbformat": 4,
 "nbformat_minor": 5
}
