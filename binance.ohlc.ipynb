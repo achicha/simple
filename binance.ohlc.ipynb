{
 "cells": [
  {
   "cell_type": "code",
   "execution_count": 1,
   "id": "551dc0f3-0258-417f-b35b-1e221c2733da",
   "metadata": {
    "ExecuteTime": {
     "end_time": "2022-05-25T16:07:21.390442Z",
     "start_time": "2022-05-25T16:07:20.817783Z"
    }
   },
   "outputs": [],
   "source": [
    "from binance import getOHLC\n",
    "import plotly.graph_objects as go\n",
    "from ipywidgets import interact"
   ]
  },
  {
   "cell_type": "code",
   "execution_count": 2,
   "id": "d0a80f1f-1159-40a6-8ae9-c423c49721c6",
   "metadata": {
    "ExecuteTime": {
     "end_time": "2022-05-25T16:07:21.395225Z",
     "start_time": "2022-05-25T16:07:21.392371Z"
    }
   },
   "outputs": [],
   "source": [
    "tickers = ['BTCUSDT', 'ETHUSDT', 'LTCUSDT', 'BCHUSDT']"
   ]
  },
  {
   "cell_type": "code",
   "execution_count": 3,
   "id": "56a1277d-fdec-470d-86ad-b0dd3bf6b1cd",
   "metadata": {
    "ExecuteTime": {
     "end_time": "2022-05-25T16:07:21.659347Z",
     "start_time": "2022-05-25T16:07:21.397379Z"
    }
   },
   "outputs": [
    {
     "data": {
      "application/vnd.jupyter.widget-view+json": {
       "model_id": "ee804f6619d04f59adad2a63a0297b90",
       "version_major": 2,
       "version_minor": 0
      },
      "text/plain": [
       "FigureWidget({\n",
       "    'data': [{'opacity': 0.5, 'type': 'candlestick', 'uid': '6e26e6a6-5dc2-439f-8f97-b5104394f4…"
      ]
     },
     "metadata": {},
     "output_type": "display_data"
    }
   ],
   "source": [
    "fig = go.FigureWidget(layout=dict(autosize=True, height=600, template='plotly_white',\n",
    "                                  legend=dict(x=0.4, y=1.01, orientation=\"h\"),\n",
    "                                  margin=dict(l=45, r=5, b=10, t=10, pad=3),\n",
    "                                  xaxis_rangeslider_visible=False))\n",
    "\n",
    "fig.add_candlestick(opacity=0.5)\n",
    "\n",
    "fig"
   ]
  },
  {
   "cell_type": "code",
   "execution_count": 5,
   "id": "3fea02a5-1ba7-46e7-aa7b-40af2ebefd9e",
   "metadata": {
    "ExecuteTime": {
     "end_time": "2022-05-25T16:07:21.695009Z",
     "start_time": "2022-05-25T16:07:21.661301Z"
    }
   },
   "outputs": [
    {
     "data": {
      "application/vnd.jupyter.widget-view+json": {
       "model_id": "f8d6c9de1be647e08b7274f704184c7e",
       "version_major": 2,
       "version_minor": 0
      },
      "text/plain": [
       "interactive(children=(IntSlider(value=2, description='ticker', max=6, min=-2), Output()), _dom_classes=('widge…"
      ]
     },
     "metadata": {},
     "output_type": "display_data"
    }
   ],
   "source": [
    "@interact(ticker=(len(tickers)//2))\n",
    "def update(ticker):\n",
    "    C = getOHLC(tickers[ticker], '2022-01-01', '2022-06-01', 30)\n",
    "    with fig.batch_update():\n",
    "        fig.data[0].open = C.Open\n",
    "        fig.data[0].high = C.High\n",
    "        fig.data[0].low = C.Low\n",
    "        fig.data[0].close = C.Close"
   ]
  },
  {
   "cell_type": "code",
   "execution_count": null,
   "id": "156516b6-b3c9-4cd3-9bc3-a01f4a211975",
   "metadata": {},
   "outputs": [],
   "source": []
  }
 ],
 "metadata": {
  "kernelspec": {
   "display_name": "Python 3 (ipykernel)",
   "language": "python",
   "name": "python3"
  },
  "language_info": {
   "codemirror_mode": {
    "name": "ipython",
    "version": 3
   },
   "file_extension": ".py",
   "mimetype": "text/x-python",
   "name": "python",
   "nbconvert_exporter": "python",
   "pygments_lexer": "ipython3",
   "version": "3.8.13"
  }
 },
 "nbformat": 4,
 "nbformat_minor": 5
}
