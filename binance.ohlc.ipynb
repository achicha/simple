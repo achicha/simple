{
 "cells": [
  {
   "cell_type": "code",
   "execution_count": 8,
   "id": "551dc0f3-0258-417f-b35b-1e221c2733da",
   "metadata": {
    "ExecuteTime": {
     "end_time": "2022-05-25T16:07:21.390442Z",
     "start_time": "2022-05-25T16:07:20.817783Z"
    }
   },
   "outputs": [],
   "source": [
    "from binance import storeOHLC\n",
    "import plotly.graph_objects as go\n",
    "from ipywidgets import interact\n",
    "from tqdm.auto import tqdm\n",
    "import pandas as pd"
   ]
  },
  {
   "cell_type": "code",
   "execution_count": 9,
   "id": "d0a80f1f-1159-40a6-8ae9-c423c49721c6",
   "metadata": {
    "ExecuteTime": {
     "end_time": "2022-05-25T16:07:21.395225Z",
     "start_time": "2022-05-25T16:07:21.392371Z"
    }
   },
   "outputs": [],
   "source": [
    "tickers = ['BTCUSDT', 'ETHUSDT', 'LTCUSDT', 'BCHUSDT']"
   ]
  },
  {
   "cell_type": "code",
   "execution_count": 6,
   "id": "0bb0f649-2174-47a1-aa56-8998c9f8e69b",
   "metadata": {},
   "outputs": [
    {
     "data": {
      "application/vnd.jupyter.widget-view+json": {
       "model_id": "b9c791a00f40401c81c9fc06c7fc5682",
       "version_major": 2,
       "version_minor": 0
      },
      "text/plain": [
       "  0%|          | 0/4 [00:00<?, ?it/s]"
      ]
     },
     "metadata": {},
     "output_type": "display_data"
    }
   ],
   "source": [
    "for ticker in tqdm(tickers):\n",
    "    storeOHLC(ticker, '2022-01-01', '2022-05-01', 5)"
   ]
  },
  {
   "cell_type": "code",
   "execution_count": 11,
   "id": "fc232c9a-9d3c-423a-99b8-fecb826ba349",
   "metadata": {},
   "outputs": [
    {
     "data": {
      "text/html": [
       "<div>\n",
       "<style scoped>\n",
       "    .dataframe tbody tr th:only-of-type {\n",
       "        vertical-align: middle;\n",
       "    }\n",
       "\n",
       "    .dataframe tbody tr th {\n",
       "        vertical-align: top;\n",
       "    }\n",
       "\n",
       "    .dataframe thead th {\n",
       "        text-align: right;\n",
       "    }\n",
       "</style>\n",
       "<table border=\"1\" class=\"dataframe\">\n",
       "  <thead>\n",
       "    <tr style=\"text-align: right;\">\n",
       "      <th></th>\n",
       "      <th>Open</th>\n",
       "      <th>High</th>\n",
       "      <th>Low</th>\n",
       "      <th>Close</th>\n",
       "      <th>Volume</th>\n",
       "    </tr>\n",
       "    <tr>\n",
       "      <th>DateTime</th>\n",
       "      <th></th>\n",
       "      <th></th>\n",
       "      <th></th>\n",
       "      <th></th>\n",
       "      <th></th>\n",
       "    </tr>\n",
       "  </thead>\n",
       "  <tbody>\n",
       "    <tr>\n",
       "      <th>2022-01-01 00:00:00</th>\n",
       "      <td>46216.93</td>\n",
       "      <td>46391.49</td>\n",
       "      <td>46208.37</td>\n",
       "      <td>46321.34</td>\n",
       "      <td>185.67558</td>\n",
       "    </tr>\n",
       "    <tr>\n",
       "      <th>2022-01-01 00:05:00</th>\n",
       "      <td>46321.34</td>\n",
       "      <td>46527.26</td>\n",
       "      <td>46280.00</td>\n",
       "      <td>46371.11</td>\n",
       "      <td>123.43577</td>\n",
       "    </tr>\n",
       "    <tr>\n",
       "      <th>2022-01-01 00:10:00</th>\n",
       "      <td>46369.79</td>\n",
       "      <td>46394.00</td>\n",
       "      <td>46276.22</td>\n",
       "      <td>46332.51</td>\n",
       "      <td>77.54574</td>\n",
       "    </tr>\n",
       "    <tr>\n",
       "      <th>2022-01-01 00:15:00</th>\n",
       "      <td>46332.52</td>\n",
       "      <td>46332.52</td>\n",
       "      <td>46236.27</td>\n",
       "      <td>46293.90</td>\n",
       "      <td>101.14315</td>\n",
       "    </tr>\n",
       "    <tr>\n",
       "      <th>2022-01-01 00:20:00</th>\n",
       "      <td>46295.42</td>\n",
       "      <td>46421.27</td>\n",
       "      <td>46286.25</td>\n",
       "      <td>46395.53</td>\n",
       "      <td>135.32479</td>\n",
       "    </tr>\n",
       "    <tr>\n",
       "      <th>...</th>\n",
       "      <td>...</td>\n",
       "      <td>...</td>\n",
       "      <td>...</td>\n",
       "      <td>...</td>\n",
       "      <td>...</td>\n",
       "    </tr>\n",
       "    <tr>\n",
       "      <th>2022-05-02 12:15:00</th>\n",
       "      <td>38508.62</td>\n",
       "      <td>38644.82</td>\n",
       "      <td>38508.62</td>\n",
       "      <td>38607.24</td>\n",
       "      <td>155.45922</td>\n",
       "    </tr>\n",
       "    <tr>\n",
       "      <th>2022-05-02 12:20:00</th>\n",
       "      <td>38607.25</td>\n",
       "      <td>38700.00</td>\n",
       "      <td>38607.24</td>\n",
       "      <td>38647.46</td>\n",
       "      <td>228.84522</td>\n",
       "    </tr>\n",
       "    <tr>\n",
       "      <th>2022-05-02 12:25:00</th>\n",
       "      <td>38647.46</td>\n",
       "      <td>38665.40</td>\n",
       "      <td>38614.15</td>\n",
       "      <td>38644.79</td>\n",
       "      <td>102.66850</td>\n",
       "    </tr>\n",
       "    <tr>\n",
       "      <th>2022-05-02 12:30:00</th>\n",
       "      <td>38644.80</td>\n",
       "      <td>38705.00</td>\n",
       "      <td>38566.16</td>\n",
       "      <td>38575.16</td>\n",
       "      <td>109.45798</td>\n",
       "    </tr>\n",
       "    <tr>\n",
       "      <th>2022-05-02 12:35:00</th>\n",
       "      <td>38575.16</td>\n",
       "      <td>38613.04</td>\n",
       "      <td>38534.00</td>\n",
       "      <td>38607.15</td>\n",
       "      <td>129.29841</td>\n",
       "    </tr>\n",
       "  </tbody>\n",
       "</table>\n",
       "<p>35000 rows × 5 columns</p>\n",
       "</div>"
      ],
      "text/plain": [
       "                         Open      High       Low     Close     Volume\n",
       "DateTime                                                              \n",
       "2022-01-01 00:00:00  46216.93  46391.49  46208.37  46321.34  185.67558\n",
       "2022-01-01 00:05:00  46321.34  46527.26  46280.00  46371.11  123.43577\n",
       "2022-01-01 00:10:00  46369.79  46394.00  46276.22  46332.51   77.54574\n",
       "2022-01-01 00:15:00  46332.52  46332.52  46236.27  46293.90  101.14315\n",
       "2022-01-01 00:20:00  46295.42  46421.27  46286.25  46395.53  135.32479\n",
       "...                       ...       ...       ...       ...        ...\n",
       "2022-05-02 12:15:00  38508.62  38644.82  38508.62  38607.24  155.45922\n",
       "2022-05-02 12:20:00  38607.25  38700.00  38607.24  38647.46  228.84522\n",
       "2022-05-02 12:25:00  38647.46  38665.40  38614.15  38644.79  102.66850\n",
       "2022-05-02 12:30:00  38644.80  38705.00  38566.16  38575.16  109.45798\n",
       "2022-05-02 12:35:00  38575.16  38613.04  38534.00  38607.15  129.29841\n",
       "\n",
       "[35000 rows x 5 columns]"
      ]
     },
     "execution_count": 11,
     "metadata": {},
     "output_type": "execute_result"
    }
   ],
   "source": [
    "OHLC = pd.read_hdf('quotes.hdf', 'BTCUSDT')\n",
    "OHLC"
   ]
  },
  {
   "cell_type": "code",
   "execution_count": 12,
   "id": "56a1277d-fdec-470d-86ad-b0dd3bf6b1cd",
   "metadata": {
    "ExecuteTime": {
     "end_time": "2022-05-25T16:07:21.659347Z",
     "start_time": "2022-05-25T16:07:21.397379Z"
    }
   },
   "outputs": [
    {
     "data": {
      "application/vnd.jupyter.widget-view+json": {
       "model_id": "b8b703e68fb84d0a861c16450a3a8434",
       "version_major": 2,
       "version_minor": 0
      },
      "text/plain": [
       "FigureWidget({\n",
       "    'data': [{'opacity': 0.5, 'type': 'candlestick', 'uid': 'c4882564-a468-4800-ac37-8f190c851b…"
      ]
     },
     "metadata": {},
     "output_type": "display_data"
    }
   ],
   "source": [
    "fig = go.FigureWidget(layout=dict(autosize=True, height=600, template='plotly_white',\n",
    "                                  legend=dict(x=0.4, y=1.01, orientation=\"h\"),\n",
    "                                  margin=dict(l=45, r=5, b=10, t=10, pad=3),\n",
    "                                  xaxis_rangeslider_visible=False))\n",
    "\n",
    "fig.add_candlestick(opacity=0.5)\n",
    "\n",
    "fig"
   ]
  },
  {
   "cell_type": "code",
   "execution_count": 23,
   "id": "3fea02a5-1ba7-46e7-aa7b-40af2ebefd9e",
   "metadata": {
    "ExecuteTime": {
     "end_time": "2022-05-25T16:07:21.695009Z",
     "start_time": "2022-05-25T16:07:21.661301Z"
    }
   },
   "outputs": [
    {
     "data": {
      "application/vnd.jupyter.widget-view+json": {
       "model_id": "32268bc9fcdb4f8bb1af3191b5cf3367",
       "version_major": 2,
       "version_minor": 0
      },
      "text/plain": [
       "interactive(children=(IntSlider(value=1, description='ticker', max=3), Output()), _dom_classes=('widget-intera…"
      ]
     },
     "metadata": {},
     "output_type": "display_data"
    }
   ],
   "source": [
    "@interact(ticker=(0, len(tickers)-1))\n",
    "def update(ticker):\n",
    "    C = pd.read_hdf('quotes.hdf', tickers[ticker]).iloc[:1000]\n",
    "    with fig.batch_update():\n",
    "        fig.data[0].open = C.Open\n",
    "        fig.data[0].high = C.High\n",
    "        fig.data[0].low = C.Low\n",
    "        fig.data[0].close = C.Close"
   ]
  },
  {
   "cell_type": "code",
   "execution_count": null,
   "id": "156516b6-b3c9-4cd3-9bc3-a01f4a211975",
   "metadata": {},
   "outputs": [],
   "source": []
  }
 ],
 "metadata": {
  "kernelspec": {
   "display_name": "Python 3 (ipykernel)",
   "language": "python",
   "name": "python3"
  },
  "language_info": {
   "codemirror_mode": {
    "name": "ipython",
    "version": 3
   },
   "file_extension": ".py",
   "mimetype": "text/x-python",
   "name": "python",
   "nbconvert_exporter": "python",
   "pygments_lexer": "ipython3",
   "version": "3.8.13"
  }
 },
 "nbformat": 4,
 "nbformat_minor": 5
}
