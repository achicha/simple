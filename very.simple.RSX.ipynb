{
 "cells": [
  {
   "cell_type": "code",
   "execution_count": 1,
   "id": "c72f71d9",
   "metadata": {
    "ExecuteTime": {
     "end_time": "2022-05-16T15:09:24.546841Z",
     "start_time": "2022-05-16T15:09:23.689375Z"
    },
    "code_folding": []
   },
   "outputs": [],
   "source": [
    "# import\n",
    "import numpy as np\n",
    "from plotly_charts import interactFigure\n",
    "from jurik import JRSX"
   ]
  },
  {
   "cell_type": "code",
   "execution_count": 2,
   "id": "78806a1e",
   "metadata": {
    "ExecuteTime": {
     "end_time": "2022-05-16T15:09:24.675261Z",
     "start_time": "2022-05-16T15:09:24.548616Z"
    }
   },
   "outputs": [
    {
     "data": {
      "text/plain": [
       "889360"
      ]
     },
     "execution_count": 2,
     "metadata": {},
     "output_type": "execute_result"
    }
   ],
   "source": [
    "T = np.load('tick.npz')['BTCUSDT']\n",
    "len(T)"
   ]
  },
  {
   "cell_type": "code",
   "execution_count": 3,
   "id": "2ad85430-1455-4f80-9e77-c440c458b7ae",
   "metadata": {
    "ExecuteTime": {
     "end_time": "2022-05-16T15:09:24.681804Z",
     "start_time": "2022-05-16T15:09:24.677441Z"
    }
   },
   "outputs": [
    {
     "data": {
      "text/plain": [
       "array([('2021-06-01T00:00:00.799000', '2021-06-01T00:00:00.840000', 37265. ,  1.000e+00, nan),\n",
       "       ('2021-06-01T00:00:00.832000', '2021-06-01T00:00:00.862000', 37264.5, -1.000e+00, nan),\n",
       "       ('2021-06-01T00:00:01.098000', '2021-06-01T00:00:01.128000', 37264.5, -3.700e+02, nan),\n",
       "       ...,\n",
       "       ('2021-06-04T23:59:52.505000', '2021-06-04T23:59:52.526000', 36849.5, -1.000e+02, nan),\n",
       "       ('2021-06-04T23:59:52.505000', '2021-06-04T23:59:52.526000', 36849.5, -2.824e+03, nan),\n",
       "       ('2021-06-04T23:59:56.400000', '2021-06-04T23:59:56.420000', 36840.5,  1.200e+02, nan)],\n",
       "      dtype=[('DateTimeA', '<M8[us]'), ('LocalTimeA', '<M8[us]'), ('PriceA', '<f8'), ('VolumeA', '<f8'), ('OpenIntA', '<f8')])"
      ]
     },
     "execution_count": 3,
     "metadata": {},
     "output_type": "execute_result"
    }
   ],
   "source": [
    "T"
   ]
  },
  {
   "cell_type": "code",
   "execution_count": 4,
   "id": "3fbd2922",
   "metadata": {
    "ExecuteTime": {
     "end_time": "2022-05-16T15:15:10.150860Z",
     "start_time": "2022-05-16T15:15:10.144028Z"
    }
   },
   "outputs": [],
   "source": [
    "def model(Period: int = (1000, 20000, 1000)):\n",
    "    Tick = T['PriceA']\n",
    "    RSX = JRSX(T['PriceA'], Period)\n",
    "    return 0, locals()"
   ]
  },
  {
   "cell_type": "code",
   "execution_count": 5,
   "id": "2290a208",
   "metadata": {
    "ExecuteTime": {
     "end_time": "2022-05-16T15:15:11.669472Z",
     "start_time": "2022-05-16T15:15:10.776285Z"
    }
   },
   "outputs": [
    {
     "data": {
      "application/vnd.jupyter.widget-view+json": {
       "model_id": "caa866a1c8d5447aaf9453c2f3b3e9a9",
       "version_major": 2,
       "version_minor": 0
      },
      "text/plain": [
       "VBox(children=(HBox(children=(IntSlider(value=10000, description='Period', max=20000, min=1000, step=1000),)),…"
      ]
     },
     "metadata": {},
     "output_type": "display_data"
    }
   ],
   "source": [
    "interactFigure(model, {\n",
    "    'Tick': {'color': 'gray', 'opacity': 0.4},\n",
    "    'RSX': {'color': 'green', 'opacity': 0.6, 'row': 2, 'col': 1},\n",
    "}, rows=2, height=750)"
   ]
  },
  {
   "cell_type": "code",
   "execution_count": null,
   "id": "dc07358d",
   "metadata": {},
   "outputs": [],
   "source": []
  }
 ],
 "metadata": {
  "kernelspec": {
   "display_name": "Python 3 (ipykernel)",
   "language": "python",
   "name": "python3"
  },
  "language_info": {
   "codemirror_mode": {
    "name": "ipython",
    "version": 3
   },
   "file_extension": ".py",
   "mimetype": "text/x-python",
   "name": "python",
   "nbconvert_exporter": "python",
   "pygments_lexer": "ipython3",
   "version": "3.8.13"
  },
  "widgets": {
   "application/vnd.jupyter.widget-state+json": {
    "state": {},
    "version_major": 2,
    "version_minor": 0
   }
  }
 },
 "nbformat": 4,
 "nbformat_minor": 5
}
