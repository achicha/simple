{
 "cells": [
  {
   "cell_type": "code",
   "execution_count": 1,
   "id": "64c4a250",
   "metadata": {
    "ExecuteTime": {
     "end_time": "2022-05-16T15:00:35.331700Z",
     "start_time": "2022-05-16T15:00:33.796653Z"
    },
    "code_folding": []
   },
   "outputs": [],
   "source": [
    "# import\n",
    "import pandas as pd\n",
    "import numpy as np\n",
    "from plotly_charts import interactFigure, updateLines, updateSliders\n",
    "from numba import njit\n",
    "from funcs import vwap\n",
    "from geneopt import GeneOpt\n",
    "from ipyslickgrid import show_grid\n",
    "from multiprocessing import current_process\n",
    "import plotly.graph_objs as go\n",
    "from ipywidgets import VBox"
   ]
  },
  {
   "cell_type": "code",
   "execution_count": 2,
   "id": "725efe1b",
   "metadata": {
    "ExecuteTime": {
     "end_time": "2022-05-16T15:00:35.457953Z",
     "start_time": "2022-05-16T15:00:35.333252Z"
    }
   },
   "outputs": [
    {
     "data": {
      "text/plain": [
       "889360"
      ]
     },
     "execution_count": 2,
     "metadata": {},
     "output_type": "execute_result"
    }
   ],
   "source": [
    "T = np.load('tick.npz')['arr_0'].view(np.recarray)\n",
    "len(T)"
   ]
  },
  {
   "cell_type": "code",
   "execution_count": 3,
   "id": "a0f3de34",
   "metadata": {
    "ExecuteTime": {
     "end_time": "2022-05-16T15:00:35.471617Z",
     "start_time": "2022-05-16T15:00:35.460045Z"
    },
    "code_folding": [
     4
    ],
    "tags": []
   },
   "outputs": [],
   "source": [
    "fp32 = np.float32\n",
    "default_fee = 0.05\n",
    "\n",
    "\n",
    "@njit(nogil=True)\n",
    "def backtestLimit(PriceA, qA, qB, fee_percent=default_fee) -> list:\n",
    "    \"\"\"Vectorized backtester for limit order strategies\"\"\"\n",
    "\n",
    "    buys = [(int(x), fp32(x)) for x in range(0)]\n",
    "    sells = [(int(x), fp32(x)) for x in range(0)]\n",
    "    trades = [(int(x), fp32(x), int(x), fp32(x), int(x), fp32(x), fp32(x)) for x in range(0)]\n",
    "\n",
    "    pos: int = 0\n",
    "\n",
    "    for i in range(len(PriceA) - 1):\n",
    "        price = PriceA[i]\n",
    "\n",
    "        if price > qA[i]:\n",
    "            delta_pos = -min(pos + 1, 1)\n",
    "        elif price < qB[i]:\n",
    "            delta_pos = min(1 - pos, 1)\n",
    "        else:\n",
    "            delta_pos = 0\n",
    "\n",
    "        k = i + 1\n",
    "        if delta_pos > 0:\n",
    "            buys.append((k, qB[k]))\n",
    "        elif delta_pos < 0:\n",
    "            sells.append((k, qA[k]))\n",
    "\n",
    "        if len(sells) > 0 and len(buys) > 0:\n",
    "            k_buy, buy = buys.pop(0)\n",
    "            k_sell, sell = sells.pop(0)\n",
    "            d_rawPnL = sell - buy\n",
    "            fee = fee_percent / 100 * (sell + buy)\n",
    "            d_PnL = d_rawPnL - fee\n",
    "            if delta_pos < 0:\n",
    "                trades.append((k_buy, buy, k_sell, sell, -delta_pos, d_PnL, fee))\n",
    "            else:\n",
    "                trades.append((k_sell, sell, k_buy, buy, -delta_pos, d_PnL, fee))\n",
    "\n",
    "        pos += delta_pos\n",
    "\n",
    "    return trades\n",
    "\n",
    "\n",
    "def npBacktestLimit(PriceA, qA, qB, fee_percent=default_fee) -> np.ndarray:\n",
    "    \"\"\"Converts trades from the limit-backtester to structured array\"\"\"\n",
    "\n",
    "    trades = backtestLimit(PriceA, qA, qB, fee_percent=fee_percent)\n",
    "    TPairTrade = [('X0', int), ('Price0', float), ('X1', int), ('Price1', float),\n",
    "                  ('Size', float), ('Profit', float), ('Fee', float)]\n",
    "    return np.array(trades, dtype=TPairTrade).view(np.recarray)\n",
    "\n",
    "\n",
    "def getLong(trades):\n",
    "    LongEntry = trades[['X0', 'Price0']][trades.Size > 0]\n",
    "    LongExit = trades[['X1', 'Price1']][trades.Size < 0]\n",
    "    return {'x': np.concatenate((LongEntry.X0, LongExit.X1)), 'y': np.concatenate((LongEntry.Price0, LongExit.Price1))}\n",
    "\n",
    "\n",
    "def getShort(trades):\n",
    "    ShortEntry = trades[['X0', 'Price0']][trades.Size < 0]\n",
    "    ShortExit = trades[['X1', 'Price1']][trades.Size > 0]\n",
    "    return {'x': np.concatenate((ShortEntry.X0, ShortExit.X1)), 'y': np.concatenate((ShortEntry.Price0, ShortExit.Price1))}"
   ]
  },
  {
   "cell_type": "code",
   "execution_count": 4,
   "id": "efaa5fb3",
   "metadata": {
    "ExecuteTime": {
     "end_time": "2022-05-16T15:00:35.476852Z",
     "start_time": "2022-05-16T15:00:35.473153Z"
    }
   },
   "outputs": [],
   "source": [
    "# declare chart linestyles\n",
    "line_styles = {\n",
    "    'Tick': dict(color='gray', opacity=0.25),\n",
    "    'Center': dict(color='blue', opacity=0.5),\n",
    "    'qA': dict(color='red', opacity=0.5, dash='dot'),\n",
    "    'qB': dict(color='green', opacity=0.5, dash='dot'),\n",
    "    'Profit': dict(color='black', width=8, opacity=0.1, secondary_y=True, shape='hv'),\n",
    "    'Buy': dict(mode='markers', color='green', symbol='triangle-up', size=10, line=dict(color=\"darkgreen\", width=1)),\n",
    "    'Sell': dict(mode='markers', color='red', symbol='triangle-down', size=10, line=dict(color=\"darkred\", width=1))\n",
    "}"
   ]
  },
  {
   "cell_type": "code",
   "execution_count": 5,
   "id": "237bbc5b",
   "metadata": {
    "ExecuteTime": {
     "end_time": "2022-05-16T15:00:35.482683Z",
     "start_time": "2022-05-16T15:00:35.478199Z"
    },
    "code_folding": []
   },
   "outputs": [],
   "source": [
    "def model(Period: int = (1000, 50000), StdDev: float = (1, 4, 0.1)):\n",
    "    if Period == 0 or StdDev == 0: return 0, {}\n",
    "    Tick = T.PriceA\n",
    "    Center = vwap(Tick, T.VolumeA, Period)\n",
    "    std = pd.Series(Tick).rolling(Period).std().values\n",
    "    qA = Center + std*StdDev\n",
    "    qB = Center - std*StdDev\n",
    "\n",
    "    trades = npBacktestLimit(Tick, qA, qB)\n",
    "    Buy, Sell = getLong(trades), getShort(trades)\n",
    "    return trades.Profit.sum(), {\n",
    "        'Count': len(trades),\n",
    "        'AvgProfit': trades.Profit.mean() if len(trades) > 0 else 0,\n",
    "        'Sharpe': trades.Profit.sum() / trades.Profit.std() if len(trades) > 1 else 0\n",
    "     } if current_process().daemon else locals()"
   ]
  },
  {
   "cell_type": "code",
   "execution_count": 6,
   "id": "14af796c",
   "metadata": {
    "ExecuteTime": {
     "end_time": "2022-05-16T15:00:47.568865Z",
     "start_time": "2022-05-16T15:00:35.483905Z"
    }
   },
   "outputs": [
    {
     "data": {
      "application/vnd.jupyter.widget-view+json": {
       "model_id": "83ec5a59889040a889e9bca1e2a8e21e",
       "version_major": 2,
       "version_minor": 0
      },
      "text/plain": [
       "  0%|          | 0/5 [00:00<?, ?it/s]"
      ]
     },
     "metadata": {},
     "output_type": "display_data"
    },
    {
     "data": {
      "text/plain": [
       "{'Period': 27716, 'StdDev': 2.3927957098912427}"
      ]
     },
     "execution_count": 6,
     "metadata": {},
     "output_type": "execute_result"
    }
   ],
   "source": [
    "# Genetic optimizer\n",
    "G = GeneOpt(model)\n",
    "G.maximize(population_size=100, generations=5)"
   ]
  },
  {
   "cell_type": "code",
   "execution_count": 7,
   "id": "fadf1447",
   "metadata": {
    "ExecuteTime": {
     "end_time": "2022-05-16T15:00:49.085753Z",
     "start_time": "2022-05-16T15:00:47.570095Z"
    }
   },
   "outputs": [],
   "source": [
    "# Create interactive figure\n",
    "box = interactFigure(model, line_styles, height=650)"
   ]
  },
  {
   "cell_type": "code",
   "execution_count": 8,
   "id": "f89b4e16",
   "metadata": {
    "ExecuteTime": {
     "end_time": "2022-05-16T15:00:49.196714Z",
     "start_time": "2022-05-16T15:00:49.087537Z"
    },
    "code_folding": [
     0
    ]
   },
   "outputs": [
    {
     "data": {
      "application/vnd.jupyter.widget-view+json": {
       "model_id": "a5bd36a2156043c691eb9b2036d32451",
       "version_major": 2,
       "version_minor": 0
      },
      "text/plain": [
       "VBox(children=(VBox(children=(HBox(children=(IntSlider(value=25500, description='Period', max=50000, min=1000)…"
      ]
     },
     "metadata": {},
     "output_type": "display_data"
    }
   ],
   "source": [
    "# Genetic result browser\n",
    "X = pd.DataFrame(G.log, columns=G.log_columns).drop_duplicates().sort_values('Fitness')\n",
    "\n",
    "\n",
    "def on_changed(event, grid):\n",
    "    changed = grid.get_changed_df()\n",
    "    k = event['new'][0]\n",
    "    selected = changed.iloc[k:k+1].to_dict('records')[0]\n",
    "    param = dict(filter(lambda x: x[0] in G.args, selected.items()))\n",
    "    updateSliders(box.children[0].children, **param)\n",
    "    updateLines(box.children[1], **model(**param)[1])\n",
    "\n",
    "\n",
    "grid = show_grid(X, grid_options={'editable': False, 'forceFitColumns': True, 'multiSelect': False},\n",
    "                 column_options={'defaultSortAsc': False})\n",
    "grid.on('selection_changed', on_changed)\n",
    "\n",
    "VBox([box, grid])"
   ]
  },
  {
   "cell_type": "code",
   "execution_count": 9,
   "id": "76156819",
   "metadata": {
    "ExecuteTime": {
     "end_time": "2022-05-16T15:00:49.276026Z",
     "start_time": "2022-05-16T15:00:49.198915Z"
    }
   },
   "outputs": [
    {
     "data": {
      "application/vnd.jupyter.widget-view+json": {
       "model_id": "044058e497204c88aa9609a7c02995d7",
       "version_major": 2,
       "version_minor": 0
      },
      "text/plain": [
       "FigureWidget({\n",
       "    'data': [{'dimensions': [{'label': 'Period',\n",
       "                              'values': array(…"
      ]
     },
     "metadata": {},
     "output_type": "display_data"
    }
   ],
   "source": [
    "# parallel coordinates chart for optimization results\n",
    "fig = go.FigureWidget(data=go.Parcoords(dimensions=[{'label': c, 'values': X[c]} for c in X.columns]))\n",
    "fig.update_layout(autosize=True, height=400, template='plotly_white', margin=dict(l=45, r=45, b=20, t=50, pad=3))\n",
    "fig"
   ]
  }
 ],
 "metadata": {
  "kernelspec": {
   "display_name": "Python 3 (ipykernel)",
   "language": "python",
   "name": "python3"
  },
  "language_info": {
   "codemirror_mode": {
    "name": "ipython",
    "version": 3
   },
   "file_extension": ".py",
   "mimetype": "text/x-python",
   "name": "python",
   "nbconvert_exporter": "python",
   "pygments_lexer": "ipython3",
   "version": "3.8.13"
  },
  "widgets": {
   "application/vnd.jupyter.widget-state+json": {
    "state": {
     "01daa88758724d9485453c17ea30c17d": {
      "model_module": "@jupyter-widgets/controls",
      "model_module_version": "1.5.0",
      "model_name": "DescriptionStyleModel",
      "state": {
       "description_width": ""
      }
     },
     "0d0f35ef308d4e1a86ba9dce62cb9a9e": {
      "model_module": "@jupyter-widgets/controls",
      "model_module_version": "1.5.0",
      "model_name": "SliderStyleModel",
      "state": {
       "description_width": ""
      }
     },
     "11d8c5a6c1e4412f833f7518f367e796": {
      "model_module": "@jupyter-widgets/controls",
      "model_module_version": "1.5.0",
      "model_name": "VBoxModel",
      "state": {
       "children": [
        "IPY_MODEL_90f8a8716a1f4b9ca9994fb8f0531f07",
        "IPY_MODEL_bb3c4781a22b40cf8ab15a72adb783f2"
       ],
       "layout": "IPY_MODEL_655361af16934ef0a77d2cbe0cfac047"
      }
     },
     "18ea819c7a694bd18ac70ae4305182ad": {
      "model_module": "@jupyter-widgets/base",
      "model_module_version": "1.2.0",
      "model_name": "LayoutModel",
      "state": {}
     },
     "1b2c9b8f325e40b9a0db039cf4ac38d3": {
      "model_module": "@jupyter-widgets/base",
      "model_module_version": "1.2.0",
      "model_name": "LayoutModel",
      "state": {}
     },
     "1ca147841f3243abbd5c16f2d63cf868": {
      "model_module": "@jupyter-widgets/base",
      "model_module_version": "1.2.0",
      "model_name": "LayoutModel",
      "state": {}
     },
     "1d2103357c8c4eb8bf8bd10485cd250a": {
      "model_module": "jupyterlab-plotly",
      "model_module_version": "^5.6.0",
      "model_name": "FigureModel",
      "state": {
       "_config": {
        "plotlyServerURL": "https://plot.ly"
       },
       "_js2py_layoutDelta": {},
       "_js2py_pointsCallback": {},
       "_js2py_relayout": {},
       "_js2py_restyle": {},
       "_js2py_traceDeltas": {},
       "_js2py_update": {},
       "_layout": {
        "template": {
         "data": {
          "bar": [
           {
            "error_x": {
             "color": "#2a3f5f"
            },
            "error_y": {
             "color": "#2a3f5f"
            },
            "marker": {
             "line": {
              "color": "#E5ECF6",
              "width": 0.5
             },
             "pattern": {
              "fillmode": "overlay",
              "size": 10,
              "solidity": 0.2
             }
            },
            "type": "bar"
           }
          ],
          "barpolar": [
           {
            "marker": {
             "line": {
              "color": "#E5ECF6",
              "width": 0.5
             },
             "pattern": {
              "fillmode": "overlay",
              "size": 10,
              "solidity": 0.2
             }
            },
            "type": "barpolar"
           }
          ],
          "carpet": [
           {
            "aaxis": {
             "endlinecolor": "#2a3f5f",
             "gridcolor": "white",
             "linecolor": "white",
             "minorgridcolor": "white",
             "startlinecolor": "#2a3f5f"
            },
            "baxis": {
             "endlinecolor": "#2a3f5f",
             "gridcolor": "white",
             "linecolor": "white",
             "minorgridcolor": "white",
             "startlinecolor": "#2a3f5f"
            },
            "type": "carpet"
           }
          ],
          "choropleth": [
           {
            "colorbar": {
             "outlinewidth": 0,
             "ticks": ""
            },
            "type": "choropleth"
           }
          ],
          "contour": [
           {
            "colorbar": {
             "outlinewidth": 0,
             "ticks": ""
            },
            "colorscale": [
             [
              0,
              "#0d0887"
             ],
             [
              0.1111111111111111,
              "#46039f"
             ],
             [
              0.2222222222222222,
              "#7201a8"
             ],
             [
              0.3333333333333333,
              "#9c179e"
             ],
             [
              0.4444444444444444,
              "#bd3786"
             ],
             [
              0.5555555555555556,
              "#d8576b"
             ],
             [
              0.6666666666666666,
              "#ed7953"
             ],
             [
              0.7777777777777778,
              "#fb9f3a"
             ],
             [
              0.8888888888888888,
              "#fdca26"
             ],
             [
              1,
              "#f0f921"
             ]
            ],
            "type": "contour"
           }
          ],
          "contourcarpet": [
           {
            "colorbar": {
             "outlinewidth": 0,
             "ticks": ""
            },
            "type": "contourcarpet"
           }
          ],
          "heatmap": [
           {
            "colorbar": {
             "outlinewidth": 0,
             "ticks": ""
            },
            "colorscale": [
             [
              0,
              "#0d0887"
             ],
             [
              0.1111111111111111,
              "#46039f"
             ],
             [
              0.2222222222222222,
              "#7201a8"
             ],
             [
              0.3333333333333333,
              "#9c179e"
             ],
             [
              0.4444444444444444,
              "#bd3786"
             ],
             [
              0.5555555555555556,
              "#d8576b"
             ],
             [
              0.6666666666666666,
              "#ed7953"
             ],
             [
              0.7777777777777778,
              "#fb9f3a"
             ],
             [
              0.8888888888888888,
              "#fdca26"
             ],
             [
              1,
              "#f0f921"
             ]
            ],
            "type": "heatmap"
           }
          ],
          "heatmapgl": [
           {
            "colorbar": {
             "outlinewidth": 0,
             "ticks": ""
            },
            "colorscale": [
             [
              0,
              "#0d0887"
             ],
             [
              0.1111111111111111,
              "#46039f"
             ],
             [
              0.2222222222222222,
              "#7201a8"
             ],
             [
              0.3333333333333333,
              "#9c179e"
             ],
             [
              0.4444444444444444,
              "#bd3786"
             ],
             [
              0.5555555555555556,
              "#d8576b"
             ],
             [
              0.6666666666666666,
              "#ed7953"
             ],
             [
              0.7777777777777778,
              "#fb9f3a"
             ],
             [
              0.8888888888888888,
              "#fdca26"
             ],
             [
              1,
              "#f0f921"
             ]
            ],
            "type": "heatmapgl"
           }
          ],
          "histogram": [
           {
            "marker": {
             "pattern": {
              "fillmode": "overlay",
              "size": 10,
              "solidity": 0.2
             }
            },
            "type": "histogram"
           }
          ],
          "histogram2d": [
           {
            "colorbar": {
             "outlinewidth": 0,
             "ticks": ""
            },
            "colorscale": [
             [
              0,
              "#0d0887"
             ],
             [
              0.1111111111111111,
              "#46039f"
             ],
             [
              0.2222222222222222,
              "#7201a8"
             ],
             [
              0.3333333333333333,
              "#9c179e"
             ],
             [
              0.4444444444444444,
              "#bd3786"
             ],
             [
              0.5555555555555556,
              "#d8576b"
             ],
             [
              0.6666666666666666,
              "#ed7953"
             ],
             [
              0.7777777777777778,
              "#fb9f3a"
             ],
             [
              0.8888888888888888,
              "#fdca26"
             ],
             [
              1,
              "#f0f921"
             ]
            ],
            "type": "histogram2d"
           }
          ],
          "histogram2dcontour": [
           {
            "colorbar": {
             "outlinewidth": 0,
             "ticks": ""
            },
            "colorscale": [
             [
              0,
              "#0d0887"
             ],
             [
              0.1111111111111111,
              "#46039f"
             ],
             [
              0.2222222222222222,
              "#7201a8"
             ],
             [
              0.3333333333333333,
              "#9c179e"
             ],
             [
              0.4444444444444444,
              "#bd3786"
             ],
             [
              0.5555555555555556,
              "#d8576b"
             ],
             [
              0.6666666666666666,
              "#ed7953"
             ],
             [
              0.7777777777777778,
              "#fb9f3a"
             ],
             [
              0.8888888888888888,
              "#fdca26"
             ],
             [
              1,
              "#f0f921"
             ]
            ],
            "type": "histogram2dcontour"
           }
          ],
          "mesh3d": [
           {
            "colorbar": {
             "outlinewidth": 0,
             "ticks": ""
            },
            "type": "mesh3d"
           }
          ],
          "parcoords": [
           {
            "line": {
             "colorbar": {
              "outlinewidth": 0,
              "ticks": ""
             }
            },
            "type": "parcoords"
           }
          ],
          "pie": [
           {
            "automargin": true,
            "type": "pie"
           }
          ],
          "scatter": [
           {
            "marker": {
             "colorbar": {
              "outlinewidth": 0,
              "ticks": ""
             }
            },
            "type": "scatter"
           }
          ],
          "scatter3d": [
           {
            "line": {
             "colorbar": {
              "outlinewidth": 0,
              "ticks": ""
             }
            },
            "marker": {
             "colorbar": {
              "outlinewidth": 0,
              "ticks": ""
             }
            },
            "type": "scatter3d"
           }
          ],
          "scattercarpet": [
           {
            "marker": {
             "colorbar": {
              "outlinewidth": 0,
              "ticks": ""
             }
            },
            "type": "scattercarpet"
           }
          ],
          "scattergeo": [
           {
            "marker": {
             "colorbar": {
              "outlinewidth": 0,
              "ticks": ""
             }
            },
            "type": "scattergeo"
           }
          ],
          "scattergl": [
           {
            "marker": {
             "colorbar": {
              "outlinewidth": 0,
              "ticks": ""
             }
            },
            "type": "scattergl"
           }
          ],
          "scattermapbox": [
           {
            "marker": {
             "colorbar": {
              "outlinewidth": 0,
              "ticks": ""
             }
            },
            "type": "scattermapbox"
           }
          ],
          "scatterpolar": [
           {
            "marker": {
             "colorbar": {
              "outlinewidth": 0,
              "ticks": ""
             }
            },
            "type": "scatterpolar"
           }
          ],
          "scatterpolargl": [
           {
            "marker": {
             "colorbar": {
              "outlinewidth": 0,
              "ticks": ""
             }
            },
            "type": "scatterpolargl"
           }
          ],
          "scatterternary": [
           {
            "marker": {
             "colorbar": {
              "outlinewidth": 0,
              "ticks": ""
             }
            },
            "type": "scatterternary"
           }
          ],
          "surface": [
           {
            "colorbar": {
             "outlinewidth": 0,
             "ticks": ""
            },
            "colorscale": [
             [
              0,
              "#0d0887"
             ],
             [
              0.1111111111111111,
              "#46039f"
             ],
             [
              0.2222222222222222,
              "#7201a8"
             ],
             [
              0.3333333333333333,
              "#9c179e"
             ],
             [
              0.4444444444444444,
              "#bd3786"
             ],
             [
              0.5555555555555556,
              "#d8576b"
             ],
             [
              0.6666666666666666,
              "#ed7953"
             ],
             [
              0.7777777777777778,
              "#fb9f3a"
             ],
             [
              0.8888888888888888,
              "#fdca26"
             ],
             [
              1,
              "#f0f921"
             ]
            ],
            "type": "surface"
           }
          ],
          "table": [
           {
            "cells": {
             "fill": {
              "color": "#EBF0F8"
             },
             "line": {
              "color": "white"
             }
            },
            "header": {
             "fill": {
              "color": "#C8D4E3"
             },
             "line": {
              "color": "white"
             }
            },
            "type": "table"
           }
          ]
         },
         "layout": {
          "annotationdefaults": {
           "arrowcolor": "#2a3f5f",
           "arrowhead": 0,
           "arrowwidth": 1
          },
          "autotypenumbers": "strict",
          "coloraxis": {
           "colorbar": {
            "outlinewidth": 0,
            "ticks": ""
           }
          },
          "colorscale": {
           "diverging": [
            [
             0,
             "#8e0152"
            ],
            [
             0.1,
             "#c51b7d"
            ],
            [
             0.2,
             "#de77ae"
            ],
            [
             0.3,
             "#f1b6da"
            ],
            [
             0.4,
             "#fde0ef"
            ],
            [
             0.5,
             "#f7f7f7"
            ],
            [
             0.6,
             "#e6f5d0"
            ],
            [
             0.7,
             "#b8e186"
            ],
            [
             0.8,
             "#7fbc41"
            ],
            [
             0.9,
             "#4d9221"
            ],
            [
             1,
             "#276419"
            ]
           ],
           "sequential": [
            [
             0,
             "#0d0887"
            ],
            [
             0.1111111111111111,
             "#46039f"
            ],
            [
             0.2222222222222222,
             "#7201a8"
            ],
            [
             0.3333333333333333,
             "#9c179e"
            ],
            [
             0.4444444444444444,
             "#bd3786"
            ],
            [
             0.5555555555555556,
             "#d8576b"
            ],
            [
             0.6666666666666666,
             "#ed7953"
            ],
            [
             0.7777777777777778,
             "#fb9f3a"
            ],
            [
             0.8888888888888888,
             "#fdca26"
            ],
            [
             1,
             "#f0f921"
            ]
           ],
           "sequentialminus": [
            [
             0,
             "#0d0887"
            ],
            [
             0.1111111111111111,
             "#46039f"
            ],
            [
             0.2222222222222222,
             "#7201a8"
            ],
            [
             0.3333333333333333,
             "#9c179e"
            ],
            [
             0.4444444444444444,
             "#bd3786"
            ],
            [
             0.5555555555555556,
             "#d8576b"
            ],
            [
             0.6666666666666666,
             "#ed7953"
            ],
            [
             0.7777777777777778,
             "#fb9f3a"
            ],
            [
             0.8888888888888888,
             "#fdca26"
            ],
            [
             1,
             "#f0f921"
            ]
           ]
          },
          "colorway": [
           "#636efa",
           "#EF553B",
           "#00cc96",
           "#ab63fa",
           "#FFA15A",
           "#19d3f3",
           "#FF6692",
           "#B6E880",
           "#FF97FF",
           "#FECB52"
          ],
          "font": {
           "color": "#2a3f5f"
          },
          "geo": {
           "bgcolor": "white",
           "lakecolor": "white",
           "landcolor": "#E5ECF6",
           "showlakes": true,
           "showland": true,
           "subunitcolor": "white"
          },
          "hoverlabel": {
           "align": "left"
          },
          "hovermode": "closest",
          "mapbox": {
           "style": "light"
          },
          "paper_bgcolor": "white",
          "plot_bgcolor": "#E5ECF6",
          "polar": {
           "angularaxis": {
            "gridcolor": "white",
            "linecolor": "white",
            "ticks": ""
           },
           "bgcolor": "#E5ECF6",
           "radialaxis": {
            "gridcolor": "white",
            "linecolor": "white",
            "ticks": ""
           }
          },
          "scene": {
           "xaxis": {
            "backgroundcolor": "#E5ECF6",
            "gridcolor": "white",
            "gridwidth": 2,
            "linecolor": "white",
            "showbackground": true,
            "ticks": "",
            "zerolinecolor": "white"
           },
           "yaxis": {
            "backgroundcolor": "#E5ECF6",
            "gridcolor": "white",
            "gridwidth": 2,
            "linecolor": "white",
            "showbackground": true,
            "ticks": "",
            "zerolinecolor": "white"
           },
           "zaxis": {
            "backgroundcolor": "#E5ECF6",
            "gridcolor": "white",
            "gridwidth": 2,
            "linecolor": "white",
            "showbackground": true,
            "ticks": "",
            "zerolinecolor": "white"
           }
          },
          "shapedefaults": {
           "line": {
            "color": "#2a3f5f"
           }
          },
          "ternary": {
           "aaxis": {
            "gridcolor": "white",
            "linecolor": "white",
            "ticks": ""
           },
           "baxis": {
            "gridcolor": "white",
            "linecolor": "white",
            "ticks": ""
           },
           "bgcolor": "#E5ECF6",
           "caxis": {
            "gridcolor": "white",
            "linecolor": "white",
            "ticks": ""
           }
          },
          "title": {
           "x": 0.05
          },
          "xaxis": {
           "automargin": true,
           "gridcolor": "white",
           "linecolor": "white",
           "ticks": "",
           "title": {
            "standoff": 15
           },
           "zerolinecolor": "white",
           "zerolinewidth": 2
          },
          "yaxis": {
           "automargin": true,
           "gridcolor": "white",
           "linecolor": "white",
           "ticks": "",
           "title": {
            "standoff": 15
           },
           "zerolinecolor": "white",
           "zerolinewidth": 2
          }
         }
        },
        "xaxis": {
         "anchor": "y",
         "domain": [
          0,
          0.94
         ]
        },
        "yaxis": {
         "anchor": "x",
         "domain": [
          0,
          1
         ]
        },
        "yaxis2": {
         "anchor": "x",
         "overlaying": "y",
         "side": "right"
        }
       },
       "_py2js_addTraces": {},
       "_py2js_animate": {},
       "_py2js_deleteTraces": {},
       "_py2js_moveTraces": {},
       "_py2js_relayout": {},
       "_py2js_removeLayoutProps": {},
       "_py2js_removeTraceProps": {},
       "_py2js_restyle": {},
       "_py2js_update": {},
       "_view_count": 0
      }
     },
     "1eccc9191050465d87d929393f35e3d1": {
      "model_module": "@jupyter-widgets/output",
      "model_module_version": "1.0.0",
      "model_name": "OutputModel",
      "state": {
       "layout": "IPY_MODEL_5b5cdb0ae00e4c30a8002b7fa33c5970"
      }
     },
     "219ce783c88e41258cf7223710574169": {
      "model_module": "@jupyter-widgets/base",
      "model_module_version": "1.2.0",
      "model_name": "LayoutModel",
      "state": {}
     },
     "23dffdf6b1664b79a02e8b799c68270e": {
      "model_module": "@jupyter-widgets/controls",
      "model_module_version": "1.5.0",
      "model_name": "SliderStyleModel",
      "state": {
       "description_width": ""
      }
     },
     "282fe3cbf18e4365b74703e6240dbd3d": {
      "model_module": "@jupyter-widgets/controls",
      "model_module_version": "1.5.0",
      "model_name": "ProgressStyleModel",
      "state": {
       "description_width": ""
      }
     },
     "336fd4dd231d44fab95a0e8f12e51fe8": {
      "model_module": "@jupyter-widgets/controls",
      "model_module_version": "1.5.0",
      "model_name": "VBoxModel",
      "state": {
       "children": [
        "IPY_MODEL_5baf1537b1ec4debb6b2325429028c98",
        "IPY_MODEL_a736df8a6078458888c9edc59c8cb41a"
       ],
       "layout": "IPY_MODEL_cc89908a07a943ee83640fbb9600a5af"
      }
     },
     "34a183722a814a198b8f7d07e6e2412e": {
      "model_module": "@jupyter-widgets/controls",
      "model_module_version": "1.5.0",
      "model_name": "DescriptionStyleModel",
      "state": {
       "description_width": ""
      }
     },
     "42961f56da9c430eb15b477fee35ea5d": {
      "model_module": "@jupyter-widgets/base",
      "model_module_version": "1.2.0",
      "model_name": "LayoutModel",
      "state": {}
     },
     "42afb9f642354c56a81b6b2d4ecee9ed": {
      "model_module": "@jupyter-widgets/base",
      "model_module_version": "1.2.0",
      "model_name": "LayoutModel",
      "state": {}
     },
     "4b4a5dc9846f4105a9e7825055f28d65": {
      "model_module": "@jupyter-widgets/controls",
      "model_module_version": "1.5.0",
      "model_name": "IntSliderModel",
      "state": {
       "description": "Period",
       "layout": "IPY_MODEL_9f24159a86954f21a230f2d196049cd1",
       "max": 50000,
       "min": 1000,
       "style": "IPY_MODEL_5a4335e4df0d491cb7406ccdc4b2eb0e",
       "value": 31660
      }
     },
     "4bbe9b0493d14396bf4c9ca8ffed2a53": {
      "buffers": [
       {
        "data": "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",
        "encoding": "base64",
        "path": [
         "_data",
         0,
         "y",
         "value"
        ]
       },
       {
        "data": "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",
        "encoding": "base64",
        "path": [
         "_data",
         1,
         "y",
         "value"
        ]
       },
       {
        "data": "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",
        "encoding": "base64",
        "path": [
         "_data",
         2,
         "y",
         "value"
        ]
       },
       {
        "data": "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",
        "encoding": "base64",
        "path": [
         "_data",
         3,
         "y",
         "value"
        ]
       },
       {
        "data": "Y4wxxhhbcUBnUbOoWQyOQMwL5gXzWnFAVOGp8FQMjkAnd5O7ybebQA==",
        "encoding": "base64",
        "path": [
         "_data",
         5,
         "x",
         "value"
        ]
       },
       {
        "data": "j6aQyJFx4UCD+LNcRk3iQO9YevOdceFAgB8+JkhN4kCPSYO6z3/hQA==",
        "encoding": "base64",
        "path": [
         "_data",
         5,
         "y",
         "value"
        ]
       },
       {
        "data": "8VR4KjxFbkD/aH+0Pw6JQIlsRDYiMZJA7Ph1/DoOiUB/tD/aHzGSQA==",
        "encoding": "base64",
        "path": [
         "_data",
         6,
         "x",
         "value"
        ]
       },
       {
        "data": "r+Jz0Nvm4UDLSU2kBljiQObaLNPbFeNAVcqE+wRY4kAsQAb12RXjQA==",
        "encoding": "base64",
        "path": [
         "_data",
         6,
         "y",
         "value"
        ]
       }
      ],
      "model_module": "jupyterlab-plotly",
      "model_module_version": "^5.6.0",
      "model_name": "FigureModel",
      "state": {
       "_config": {
        "plotlyServerURL": "https://plot.ly"
       },
       "_data": [
        {
         "line": {
          "color": "gray"
         },
         "name": "Tick",
         "opacity": 0.25,
         "type": "scattergl",
         "uid": "92b8d49c-566a-42c5-9384-e3d479d71def",
         "xaxis": "x2",
         "y": {
          "dtype": "float64",
          "shape": [
           2050
          ],
          "value": {}
         }
        },
        {
         "line": {
          "color": "blue"
         },
         "name": "Center",
         "opacity": 0.5,
         "type": "scattergl",
         "uid": "c6f5391f-7acc-4670-81f7-a61d141260bc",
         "xaxis": "x2",
         "y": {
          "dtype": "float64",
          "shape": [
           2050
          ],
          "value": {}
         }
        },
        {
         "line": {
          "color": "red",
          "dash": "dot"
         },
         "name": "qA",
         "opacity": 0.5,
         "type": "scattergl",
         "uid": "6adae251-b1ac-4fb7-b006-9a0d758d0663",
         "xaxis": "x2",
         "y": {
          "dtype": "float64",
          "shape": [
           2050
          ],
          "value": {}
         }
        },
        {
         "line": {
          "color": "green",
          "dash": "dot"
         },
         "name": "qB",
         "opacity": 0.5,
         "type": "scattergl",
         "uid": "1b9a26c7-7469-44bd-890a-a16e69622fde",
         "xaxis": "x2",
         "y": {
          "dtype": "float64",
          "shape": [
           2050
          ],
          "value": {}
         }
        },
        {
         "line": {
          "color": "black",
          "shape": "hv",
          "width": 8
         },
         "name": "Profit",
         "opacity": 0.1,
         "type": "scattergl",
         "uid": "974a3bd2-ae9c-44fd-ba88-36d196924516",
         "xaxis": "x2",
         "yaxis": "y2"
        },
        {
         "marker": {
          "color": "green",
          "line": {
           "color": "darkgreen",
           "width": 1
          },
          "size": 10,
          "symbol": "triangle-up"
         },
         "mode": "markers",
         "name": "Buy",
         "type": "scattergl",
         "uid": "8e3a6fd6-8a07-4ea6-8fdf-c247a72b4749",
         "x": {
          "dtype": "float64",
          "shape": [
           5
          ],
          "value": {}
         },
         "xaxis": "x2",
         "y": {
          "dtype": "float64",
          "shape": [
           5
          ],
          "value": {}
         }
        },
        {
         "marker": {
          "color": "red",
          "line": {
           "color": "darkred",
           "width": 1
          },
          "size": 10,
          "symbol": "triangle-down"
         },
         "mode": "markers",
         "name": "Sell",
         "type": "scattergl",
         "uid": "b4bfbd37-3a39-4aa4-b319-41c3c6b82415",
         "x": {
          "dtype": "float64",
          "shape": [
           5
          ],
          "value": {}
         },
         "xaxis": "x2",
         "y": {
          "dtype": "float64",
          "shape": [
           5
          ],
          "value": {}
         }
        }
       ],
       "_js2py_restyle": {},
       "_js2py_update": {},
       "_last_layout_edit_id": 23,
       "_last_trace_edit_id": 22,
       "_layout": {
        "autosize": true,
        "height": 650,
        "legend": {
         "orientation": "h",
         "x": 0.1,
         "y": 1
        },
        "margin": {
         "b": 10,
         "l": 45,
         "pad": 3,
         "r": 15,
         "t": 30
        },
        "template": {
         "data": {
          "bar": [
           {
            "error_x": {
             "color": "#2a3f5f"
            },
            "error_y": {
             "color": "#2a3f5f"
            },
            "marker": {
             "line": {
              "color": "white",
              "width": 0.5
             },
             "pattern": {
              "fillmode": "overlay",
              "size": 10,
              "solidity": 0.2
             }
            },
            "type": "bar"
           }
          ],
          "barpolar": [
           {
            "marker": {
             "line": {
              "color": "white",
              "width": 0.5
             },
             "pattern": {
              "fillmode": "overlay",
              "size": 10,
              "solidity": 0.2
             }
            },
            "type": "barpolar"
           }
          ],
          "carpet": [
           {
            "aaxis": {
             "endlinecolor": "#2a3f5f",
             "gridcolor": "#C8D4E3",
             "linecolor": "#C8D4E3",
             "minorgridcolor": "#C8D4E3",
             "startlinecolor": "#2a3f5f"
            },
            "baxis": {
             "endlinecolor": "#2a3f5f",
             "gridcolor": "#C8D4E3",
             "linecolor": "#C8D4E3",
             "minorgridcolor": "#C8D4E3",
             "startlinecolor": "#2a3f5f"
            },
            "type": "carpet"
           }
          ],
          "choropleth": [
           {
            "colorbar": {
             "outlinewidth": 0,
             "ticks": ""
            },
            "type": "choropleth"
           }
          ],
          "contour": [
           {
            "colorbar": {
             "outlinewidth": 0,
             "ticks": ""
            },
            "colorscale": [
             [
              0,
              "#0d0887"
             ],
             [
              0.1111111111111111,
              "#46039f"
             ],
             [
              0.2222222222222222,
              "#7201a8"
             ],
             [
              0.3333333333333333,
              "#9c179e"
             ],
             [
              0.4444444444444444,
              "#bd3786"
             ],
             [
              0.5555555555555556,
              "#d8576b"
             ],
             [
              0.6666666666666666,
              "#ed7953"
             ],
             [
              0.7777777777777778,
              "#fb9f3a"
             ],
             [
              0.8888888888888888,
              "#fdca26"
             ],
             [
              1,
              "#f0f921"
             ]
            ],
            "type": "contour"
           }
          ],
          "contourcarpet": [
           {
            "colorbar": {
             "outlinewidth": 0,
             "ticks": ""
            },
            "type": "contourcarpet"
           }
          ],
          "heatmap": [
           {
            "colorbar": {
             "outlinewidth": 0,
             "ticks": ""
            },
            "colorscale": [
             [
              0,
              "#0d0887"
             ],
             [
              0.1111111111111111,
              "#46039f"
             ],
             [
              0.2222222222222222,
              "#7201a8"
             ],
             [
              0.3333333333333333,
              "#9c179e"
             ],
             [
              0.4444444444444444,
              "#bd3786"
             ],
             [
              0.5555555555555556,
              "#d8576b"
             ],
             [
              0.6666666666666666,
              "#ed7953"
             ],
             [
              0.7777777777777778,
              "#fb9f3a"
             ],
             [
              0.8888888888888888,
              "#fdca26"
             ],
             [
              1,
              "#f0f921"
             ]
            ],
            "type": "heatmap"
           }
          ],
          "heatmapgl": [
           {
            "colorbar": {
             "outlinewidth": 0,
             "ticks": ""
            },
            "colorscale": [
             [
              0,
              "#0d0887"
             ],
             [
              0.1111111111111111,
              "#46039f"
             ],
             [
              0.2222222222222222,
              "#7201a8"
             ],
             [
              0.3333333333333333,
              "#9c179e"
             ],
             [
              0.4444444444444444,
              "#bd3786"
             ],
             [
              0.5555555555555556,
              "#d8576b"
             ],
             [
              0.6666666666666666,
              "#ed7953"
             ],
             [
              0.7777777777777778,
              "#fb9f3a"
             ],
             [
              0.8888888888888888,
              "#fdca26"
             ],
             [
              1,
              "#f0f921"
             ]
            ],
            "type": "heatmapgl"
           }
          ],
          "histogram": [
           {
            "marker": {
             "pattern": {
              "fillmode": "overlay",
              "size": 10,
              "solidity": 0.2
             }
            },
            "type": "histogram"
           }
          ],
          "histogram2d": [
           {
            "colorbar": {
             "outlinewidth": 0,
             "ticks": ""
            },
            "colorscale": [
             [
              0,
              "#0d0887"
             ],
             [
              0.1111111111111111,
              "#46039f"
             ],
             [
              0.2222222222222222,
              "#7201a8"
             ],
             [
              0.3333333333333333,
              "#9c179e"
             ],
             [
              0.4444444444444444,
              "#bd3786"
             ],
             [
              0.5555555555555556,
              "#d8576b"
             ],
             [
              0.6666666666666666,
              "#ed7953"
             ],
             [
              0.7777777777777778,
              "#fb9f3a"
             ],
             [
              0.8888888888888888,
              "#fdca26"
             ],
             [
              1,
              "#f0f921"
             ]
            ],
            "type": "histogram2d"
           }
          ],
          "histogram2dcontour": [
           {
            "colorbar": {
             "outlinewidth": 0,
             "ticks": ""
            },
            "colorscale": [
             [
              0,
              "#0d0887"
             ],
             [
              0.1111111111111111,
              "#46039f"
             ],
             [
              0.2222222222222222,
              "#7201a8"
             ],
             [
              0.3333333333333333,
              "#9c179e"
             ],
             [
              0.4444444444444444,
              "#bd3786"
             ],
             [
              0.5555555555555556,
              "#d8576b"
             ],
             [
              0.6666666666666666,
              "#ed7953"
             ],
             [
              0.7777777777777778,
              "#fb9f3a"
             ],
             [
              0.8888888888888888,
              "#fdca26"
             ],
             [
              1,
              "#f0f921"
             ]
            ],
            "type": "histogram2dcontour"
           }
          ],
          "mesh3d": [
           {
            "colorbar": {
             "outlinewidth": 0,
             "ticks": ""
            },
            "type": "mesh3d"
           }
          ],
          "parcoords": [
           {
            "line": {
             "colorbar": {
              "outlinewidth": 0,
              "ticks": ""
             }
            },
            "type": "parcoords"
           }
          ],
          "pie": [
           {
            "automargin": true,
            "type": "pie"
           }
          ],
          "scatter": [
           {
            "marker": {
             "colorbar": {
              "outlinewidth": 0,
              "ticks": ""
             }
            },
            "type": "scatter"
           }
          ],
          "scatter3d": [
           {
            "line": {
             "colorbar": {
              "outlinewidth": 0,
              "ticks": ""
             }
            },
            "marker": {
             "colorbar": {
              "outlinewidth": 0,
              "ticks": ""
             }
            },
            "type": "scatter3d"
           }
          ],
          "scattercarpet": [
           {
            "marker": {
             "colorbar": {
              "outlinewidth": 0,
              "ticks": ""
             }
            },
            "type": "scattercarpet"
           }
          ],
          "scattergeo": [
           {
            "marker": {
             "colorbar": {
              "outlinewidth": 0,
              "ticks": ""
             }
            },
            "type": "scattergeo"
           }
          ],
          "scattergl": [
           {
            "marker": {
             "colorbar": {
              "outlinewidth": 0,
              "ticks": ""
             }
            },
            "type": "scattergl"
           }
          ],
          "scattermapbox": [
           {
            "marker": {
             "colorbar": {
              "outlinewidth": 0,
              "ticks": ""
             }
            },
            "type": "scattermapbox"
           }
          ],
          "scatterpolar": [
           {
            "marker": {
             "colorbar": {
              "outlinewidth": 0,
              "ticks": ""
             }
            },
            "type": "scatterpolar"
           }
          ],
          "scatterpolargl": [
           {
            "marker": {
             "colorbar": {
              "outlinewidth": 0,
              "ticks": ""
             }
            },
            "type": "scatterpolargl"
           }
          ],
          "scatterternary": [
           {
            "marker": {
             "colorbar": {
              "outlinewidth": 0,
              "ticks": ""
             }
            },
            "type": "scatterternary"
           }
          ],
          "surface": [
           {
            "colorbar": {
             "outlinewidth": 0,
             "ticks": ""
            },
            "colorscale": [
             [
              0,
              "#0d0887"
             ],
             [
              0.1111111111111111,
              "#46039f"
             ],
             [
              0.2222222222222222,
              "#7201a8"
             ],
             [
              0.3333333333333333,
              "#9c179e"
             ],
             [
              0.4444444444444444,
              "#bd3786"
             ],
             [
              0.5555555555555556,
              "#d8576b"
             ],
             [
              0.6666666666666666,
              "#ed7953"
             ],
             [
              0.7777777777777778,
              "#fb9f3a"
             ],
             [
              0.8888888888888888,
              "#fdca26"
             ],
             [
              1,
              "#f0f921"
             ]
            ],
            "type": "surface"
           }
          ],
          "table": [
           {
            "cells": {
             "fill": {
              "color": "#EBF0F8"
             },
             "line": {
              "color": "white"
             }
            },
            "header": {
             "fill": {
              "color": "#C8D4E3"
             },
             "line": {
              "color": "white"
             }
            },
            "type": "table"
           }
          ]
         },
         "layout": {
          "annotationdefaults": {
           "arrowcolor": "#2a3f5f",
           "arrowhead": 0,
           "arrowwidth": 1
          },
          "autotypenumbers": "strict",
          "coloraxis": {
           "colorbar": {
            "outlinewidth": 0,
            "ticks": ""
           }
          },
          "colorscale": {
           "diverging": [
            [
             0,
             "#8e0152"
            ],
            [
             0.1,
             "#c51b7d"
            ],
            [
             0.2,
             "#de77ae"
            ],
            [
             0.3,
             "#f1b6da"
            ],
            [
             0.4,
             "#fde0ef"
            ],
            [
             0.5,
             "#f7f7f7"
            ],
            [
             0.6,
             "#e6f5d0"
            ],
            [
             0.7,
             "#b8e186"
            ],
            [
             0.8,
             "#7fbc41"
            ],
            [
             0.9,
             "#4d9221"
            ],
            [
             1,
             "#276419"
            ]
           ],
           "sequential": [
            [
             0,
             "#0d0887"
            ],
            [
             0.1111111111111111,
             "#46039f"
            ],
            [
             0.2222222222222222,
             "#7201a8"
            ],
            [
             0.3333333333333333,
             "#9c179e"
            ],
            [
             0.4444444444444444,
             "#bd3786"
            ],
            [
             0.5555555555555556,
             "#d8576b"
            ],
            [
             0.6666666666666666,
             "#ed7953"
            ],
            [
             0.7777777777777778,
             "#fb9f3a"
            ],
            [
             0.8888888888888888,
             "#fdca26"
            ],
            [
             1,
             "#f0f921"
            ]
           ],
           "sequentialminus": [
            [
             0,
             "#0d0887"
            ],
            [
             0.1111111111111111,
             "#46039f"
            ],
            [
             0.2222222222222222,
             "#7201a8"
            ],
            [
             0.3333333333333333,
             "#9c179e"
            ],
            [
             0.4444444444444444,
             "#bd3786"
            ],
            [
             0.5555555555555556,
             "#d8576b"
            ],
            [
             0.6666666666666666,
             "#ed7953"
            ],
            [
             0.7777777777777778,
             "#fb9f3a"
            ],
            [
             0.8888888888888888,
             "#fdca26"
            ],
            [
             1,
             "#f0f921"
            ]
           ]
          },
          "colorway": [
           "#636efa",
           "#EF553B",
           "#00cc96",
           "#ab63fa",
           "#FFA15A",
           "#19d3f3",
           "#FF6692",
           "#B6E880",
           "#FF97FF",
           "#FECB52"
          ],
          "font": {
           "color": "#2a3f5f"
          },
          "geo": {
           "bgcolor": "white",
           "lakecolor": "white",
           "landcolor": "white",
           "showlakes": true,
           "showland": true,
           "subunitcolor": "#C8D4E3"
          },
          "hoverlabel": {
           "align": "left"
          },
          "hovermode": "closest",
          "mapbox": {
           "style": "light"
          },
          "paper_bgcolor": "white",
          "plot_bgcolor": "white",
          "polar": {
           "angularaxis": {
            "gridcolor": "#EBF0F8",
            "linecolor": "#EBF0F8",
            "ticks": ""
           },
           "bgcolor": "white",
           "radialaxis": {
            "gridcolor": "#EBF0F8",
            "linecolor": "#EBF0F8",
            "ticks": ""
           }
          },
          "scene": {
           "xaxis": {
            "backgroundcolor": "white",
            "gridcolor": "#DFE8F3",
            "gridwidth": 2,
            "linecolor": "#EBF0F8",
            "showbackground": true,
            "ticks": "",
            "zerolinecolor": "#EBF0F8"
           },
           "yaxis": {
            "backgroundcolor": "white",
            "gridcolor": "#DFE8F3",
            "gridwidth": 2,
            "linecolor": "#EBF0F8",
            "showbackground": true,
            "ticks": "",
            "zerolinecolor": "#EBF0F8"
           },
           "zaxis": {
            "backgroundcolor": "white",
            "gridcolor": "#DFE8F3",
            "gridwidth": 2,
            "linecolor": "#EBF0F8",
            "showbackground": true,
            "ticks": "",
            "zerolinecolor": "#EBF0F8"
           }
          },
          "shapedefaults": {
           "line": {
            "color": "#2a3f5f"
           }
          },
          "ternary": {
           "aaxis": {
            "gridcolor": "#DFE8F3",
            "linecolor": "#A2B1C6",
            "ticks": ""
           },
           "baxis": {
            "gridcolor": "#DFE8F3",
            "linecolor": "#A2B1C6",
            "ticks": ""
           },
           "bgcolor": "white",
           "caxis": {
            "gridcolor": "#DFE8F3",
            "linecolor": "#A2B1C6",
            "ticks": ""
           }
          },
          "title": {
           "x": 0.05
          },
          "xaxis": {
           "automargin": true,
           "gridcolor": "#EBF0F8",
           "linecolor": "#EBF0F8",
           "ticks": "",
           "title": {
            "standoff": 15
           },
           "zerolinecolor": "#EBF0F8",
           "zerolinewidth": 2
          },
          "yaxis": {
           "automargin": true,
           "gridcolor": "#EBF0F8",
           "linecolor": "#EBF0F8",
           "ticks": "",
           "title": {
            "standoff": 15
           },
           "zerolinecolor": "#EBF0F8",
           "zerolinewidth": 2
          }
         }
        },
        "xaxis": {
         "anchor": "y",
         "domain": [
          0,
          0.94
         ],
         "spikedash": "dot",
         "spikemode": "across+marker",
         "spikesnap": "cursor",
         "spikethickness": 2
        },
        "yaxis": {
         "anchor": "x",
         "domain": [
          0,
          1
         ]
        },
        "yaxis2": {
         "anchor": "x",
         "overlaying": "y",
         "side": "right"
        }
       },
       "_py2js_animate": {},
       "_py2js_deleteTraces": {},
       "_py2js_moveTraces": {},
       "_py2js_removeLayoutProps": {},
       "_py2js_removeTraceProps": {},
       "_py2js_restyle": {},
       "_view_count": 2
      }
     },
     "53799dfffdb345f3964d1dec1070aee5": {
      "model_module": "@jupyter-widgets/base",
      "model_module_version": "1.2.0",
      "model_name": "LayoutModel",
      "state": {}
     },
     "54573f7b63bb4097bb7a76d8be42f19d": {
      "model_module": "@jupyter-widgets/controls",
      "model_module_version": "1.5.0",
      "model_name": "IntSliderModel",
      "state": {
       "description": "Period",
       "layout": "IPY_MODEL_1ca147841f3243abbd5c16f2d63cf868",
       "max": 50000,
       "min": 1000,
       "style": "IPY_MODEL_f86775efbf8240c5a02e4dab6fb93f20",
       "value": 31259
      }
     },
     "549c1a3359244151a855b51a7fdf2a05": {
      "model_module": "@jupyter-widgets/controls",
      "model_module_version": "1.5.0",
      "model_name": "HBoxModel",
      "state": {
       "children": [
        "IPY_MODEL_9257614b05e2487b9a2c7b92d97735e7",
        "IPY_MODEL_7ad9e1bd763e497e899690dfbee86390",
        "IPY_MODEL_e1a16c6898214f058aa2d6dad1567222"
       ],
       "layout": "IPY_MODEL_c2d0216eaab2428e8792a1703df05181"
      }
     },
     "58d5393f5ebd41198f09f40b72e593fa": {
      "buffers": [
       {
        "data": "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",
        "encoding": "base64",
        "path": [
         "_data",
         0,
         "dimensions",
         1,
         "values",
         "value"
        ]
       },
       {
        "data": "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",
        "encoding": "base64",
        "path": [
         "_data",
         0,
         "dimensions",
         2,
         "values",
         "value"
        ]
       },
       {
        "data": "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",
        "encoding": "base64",
        "path": [
         "_data",
         0,
         "dimensions",
         3,
         "values",
         "value"
        ]
       },
       {
        "data": "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",
        "encoding": "base64",
        "path": [
         "_data",
         0,
         "dimensions",
         4,
         "values",
         "value"
        ]
       },
       {
        "data": "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",
        "encoding": "base64",
        "path": [
         "_data",
         0,
         "dimensions",
         5,
         "values",
         "value"
        ]
       }
      ],
      "model_module": "jupyterlab-plotly",
      "model_module_version": "^5.6.0",
      "model_name": "FigureModel",
      "state": {
       "_config": {
        "plotlyServerURL": "https://plot.ly"
       },
       "_data": [
        {
         "dimensions": [
          {
           "label": "Period",
           "values": [
            3574,
            1172,
            5239,
            5234,
            9420,
            7702,
            5402,
            11787,
            2415,
            5402,
            12859,
            14551,
            10423,
            14723,
            18675,
            14301,
            2923,
            9426,
            10224,
            6376,
            22124,
            19526,
            16928,
            13314,
            23560,
            47789,
            10587,
            14887,
            16929,
            44555,
            46455,
            15219,
            14418,
            45629,
            15462,
            15219,
            28245,
            19097,
            40554,
            18007,
            16929,
            27683,
            12501,
            9426,
            8178,
            12152,
            19097,
            19105,
            46336,
            43866,
            21965,
            38252,
            18732,
            40151,
            43401,
            0,
            3236,
            46525,
            46525,
            38201,
            0,
            22166,
            33504,
            26948,
            28273,
            0,
            43509,
            39421,
            28245,
            27459,
            5300,
            24436,
            0,
            4939,
            31660,
            38963,
            32846,
            19143,
            31966,
            5300,
            19526,
            24436,
            24388,
            26161,
            27794,
            0,
            0,
            43509,
            19097,
            24388,
            39329,
            17167,
            19097,
            33951,
            40543,
            44203,
            37723,
            19143,
            19143,
            4698,
            6129,
            40071,
            45717,
            49521,
            19143,
            19097,
            46336,
            46336,
            32688,
            5402,
            44203,
            39329,
            26948,
            33951,
            24795,
            31660,
            32846,
            30565,
            43892,
            19143,
            22166,
            37858,
            9426,
            35523,
            27683,
            32501,
            33951,
            27459,
            36865,
            20148,
            26161,
            36354,
            36865,
            26161,
            40543,
            36354,
            33267,
            35523,
            39329,
            28337,
            36865,
            37723,
            37723,
            26639,
            36865,
            36865,
            30926,
            32846,
            36354,
            5402,
            22166,
            19105,
            29461,
            35523,
            29461,
            29221,
            22166,
            29461,
            31966,
            31660,
            33504,
            29461,
            31660,
            18523,
            33951,
            31966,
            31966,
            28273,
            33267,
            30565,
            32846,
            33951,
            31966,
            30565,
            31966,
            33504,
            30565,
            33951,
            16929,
            31660,
            32846,
            32846,
            36354,
            28245,
            28245,
            30565,
            18732,
            26161,
            28245,
            27459,
            26948,
            26161,
            29461,
            28245,
            19143,
            31660,
            28273,
            26161,
            20148,
            39329,
            35523,
            31966,
            31966,
            35523,
            33951,
            27459,
            27459,
            20148,
            30565,
            32846,
            36865,
            33267,
            28245,
            31660,
            26161,
            32846,
            32846,
            31966,
            31660,
            30565,
            35523,
            31660,
            33267,
            32846,
            33951,
            30565,
            31966,
            35523,
            27459,
            31660,
            31966
           ]
          },
          {
           "label": "StdDev",
           "values": {
            "dtype": "float64",
            "shape": [
             231
            ],
            "value": {}
           }
          },
          {
           "label": "Fitness",
           "values": {
            "dtype": "float64",
            "shape": [
             231
            ],
            "value": {}
           }
          },
          {
           "label": "Count",
           "values": {
            "dtype": "float64",
            "shape": [
             231
            ],
            "value": {}
           }
          },
          {
           "label": "AvgProfit",
           "values": {
            "dtype": "float64",
            "shape": [
             231
            ],
            "value": {}
           }
          },
          {
           "label": "Sharpe",
           "values": {
            "dtype": "float64",
            "shape": [
             231
            ],
            "value": {}
           }
          }
         ],
         "type": "parcoords",
         "uid": "f43386c3-e64d-49b4-bf33-a0bea466f156"
        }
       ],
       "_js2py_pointsCallback": {},
       "_js2py_relayout": {},
       "_js2py_restyle": {},
       "_js2py_update": {},
       "_last_layout_edit_id": 1,
       "_last_trace_edit_id": 1,
       "_layout": {
        "autosize": true,
        "height": 400,
        "margin": {
         "b": 20,
         "l": 45,
         "pad": 3,
         "r": 45,
         "t": 50
        },
        "template": {
         "data": {
          "bar": [
           {
            "error_x": {
             "color": "#2a3f5f"
            },
            "error_y": {
             "color": "#2a3f5f"
            },
            "marker": {
             "line": {
              "color": "white",
              "width": 0.5
             },
             "pattern": {
              "fillmode": "overlay",
              "size": 10,
              "solidity": 0.2
             }
            },
            "type": "bar"
           }
          ],
          "barpolar": [
           {
            "marker": {
             "line": {
              "color": "white",
              "width": 0.5
             },
             "pattern": {
              "fillmode": "overlay",
              "size": 10,
              "solidity": 0.2
             }
            },
            "type": "barpolar"
           }
          ],
          "carpet": [
           {
            "aaxis": {
             "endlinecolor": "#2a3f5f",
             "gridcolor": "#C8D4E3",
             "linecolor": "#C8D4E3",
             "minorgridcolor": "#C8D4E3",
             "startlinecolor": "#2a3f5f"
            },
            "baxis": {
             "endlinecolor": "#2a3f5f",
             "gridcolor": "#C8D4E3",
             "linecolor": "#C8D4E3",
             "minorgridcolor": "#C8D4E3",
             "startlinecolor": "#2a3f5f"
            },
            "type": "carpet"
           }
          ],
          "choropleth": [
           {
            "colorbar": {
             "outlinewidth": 0,
             "ticks": ""
            },
            "type": "choropleth"
           }
          ],
          "contour": [
           {
            "colorbar": {
             "outlinewidth": 0,
             "ticks": ""
            },
            "colorscale": [
             [
              0,
              "#0d0887"
             ],
             [
              0.1111111111111111,
              "#46039f"
             ],
             [
              0.2222222222222222,
              "#7201a8"
             ],
             [
              0.3333333333333333,
              "#9c179e"
             ],
             [
              0.4444444444444444,
              "#bd3786"
             ],
             [
              0.5555555555555556,
              "#d8576b"
             ],
             [
              0.6666666666666666,
              "#ed7953"
             ],
             [
              0.7777777777777778,
              "#fb9f3a"
             ],
             [
              0.8888888888888888,
              "#fdca26"
             ],
             [
              1,
              "#f0f921"
             ]
            ],
            "type": "contour"
           }
          ],
          "contourcarpet": [
           {
            "colorbar": {
             "outlinewidth": 0,
             "ticks": ""
            },
            "type": "contourcarpet"
           }
          ],
          "heatmap": [
           {
            "colorbar": {
             "outlinewidth": 0,
             "ticks": ""
            },
            "colorscale": [
             [
              0,
              "#0d0887"
             ],
             [
              0.1111111111111111,
              "#46039f"
             ],
             [
              0.2222222222222222,
              "#7201a8"
             ],
             [
              0.3333333333333333,
              "#9c179e"
             ],
             [
              0.4444444444444444,
              "#bd3786"
             ],
             [
              0.5555555555555556,
              "#d8576b"
             ],
             [
              0.6666666666666666,
              "#ed7953"
             ],
             [
              0.7777777777777778,
              "#fb9f3a"
             ],
             [
              0.8888888888888888,
              "#fdca26"
             ],
             [
              1,
              "#f0f921"
             ]
            ],
            "type": "heatmap"
           }
          ],
          "heatmapgl": [
           {
            "colorbar": {
             "outlinewidth": 0,
             "ticks": ""
            },
            "colorscale": [
             [
              0,
              "#0d0887"
             ],
             [
              0.1111111111111111,
              "#46039f"
             ],
             [
              0.2222222222222222,
              "#7201a8"
             ],
             [
              0.3333333333333333,
              "#9c179e"
             ],
             [
              0.4444444444444444,
              "#bd3786"
             ],
             [
              0.5555555555555556,
              "#d8576b"
             ],
             [
              0.6666666666666666,
              "#ed7953"
             ],
             [
              0.7777777777777778,
              "#fb9f3a"
             ],
             [
              0.8888888888888888,
              "#fdca26"
             ],
             [
              1,
              "#f0f921"
             ]
            ],
            "type": "heatmapgl"
           }
          ],
          "histogram": [
           {
            "marker": {
             "pattern": {
              "fillmode": "overlay",
              "size": 10,
              "solidity": 0.2
             }
            },
            "type": "histogram"
           }
          ],
          "histogram2d": [
           {
            "colorbar": {
             "outlinewidth": 0,
             "ticks": ""
            },
            "colorscale": [
             [
              0,
              "#0d0887"
             ],
             [
              0.1111111111111111,
              "#46039f"
             ],
             [
              0.2222222222222222,
              "#7201a8"
             ],
             [
              0.3333333333333333,
              "#9c179e"
             ],
             [
              0.4444444444444444,
              "#bd3786"
             ],
             [
              0.5555555555555556,
              "#d8576b"
             ],
             [
              0.6666666666666666,
              "#ed7953"
             ],
             [
              0.7777777777777778,
              "#fb9f3a"
             ],
             [
              0.8888888888888888,
              "#fdca26"
             ],
             [
              1,
              "#f0f921"
             ]
            ],
            "type": "histogram2d"
           }
          ],
          "histogram2dcontour": [
           {
            "colorbar": {
             "outlinewidth": 0,
             "ticks": ""
            },
            "colorscale": [
             [
              0,
              "#0d0887"
             ],
             [
              0.1111111111111111,
              "#46039f"
             ],
             [
              0.2222222222222222,
              "#7201a8"
             ],
             [
              0.3333333333333333,
              "#9c179e"
             ],
             [
              0.4444444444444444,
              "#bd3786"
             ],
             [
              0.5555555555555556,
              "#d8576b"
             ],
             [
              0.6666666666666666,
              "#ed7953"
             ],
             [
              0.7777777777777778,
              "#fb9f3a"
             ],
             [
              0.8888888888888888,
              "#fdca26"
             ],
             [
              1,
              "#f0f921"
             ]
            ],
            "type": "histogram2dcontour"
           }
          ],
          "mesh3d": [
           {
            "colorbar": {
             "outlinewidth": 0,
             "ticks": ""
            },
            "type": "mesh3d"
           }
          ],
          "parcoords": [
           {
            "line": {
             "colorbar": {
              "outlinewidth": 0,
              "ticks": ""
             }
            },
            "type": "parcoords"
           }
          ],
          "pie": [
           {
            "automargin": true,
            "type": "pie"
           }
          ],
          "scatter": [
           {
            "marker": {
             "colorbar": {
              "outlinewidth": 0,
              "ticks": ""
             }
            },
            "type": "scatter"
           }
          ],
          "scatter3d": [
           {
            "line": {
             "colorbar": {
              "outlinewidth": 0,
              "ticks": ""
             }
            },
            "marker": {
             "colorbar": {
              "outlinewidth": 0,
              "ticks": ""
             }
            },
            "type": "scatter3d"
           }
          ],
          "scattercarpet": [
           {
            "marker": {
             "colorbar": {
              "outlinewidth": 0,
              "ticks": ""
             }
            },
            "type": "scattercarpet"
           }
          ],
          "scattergeo": [
           {
            "marker": {
             "colorbar": {
              "outlinewidth": 0,
              "ticks": ""
             }
            },
            "type": "scattergeo"
           }
          ],
          "scattergl": [
           {
            "marker": {
             "colorbar": {
              "outlinewidth": 0,
              "ticks": ""
             }
            },
            "type": "scattergl"
           }
          ],
          "scattermapbox": [
           {
            "marker": {
             "colorbar": {
              "outlinewidth": 0,
              "ticks": ""
             }
            },
            "type": "scattermapbox"
           }
          ],
          "scatterpolar": [
           {
            "marker": {
             "colorbar": {
              "outlinewidth": 0,
              "ticks": ""
             }
            },
            "type": "scatterpolar"
           }
          ],
          "scatterpolargl": [
           {
            "marker": {
             "colorbar": {
              "outlinewidth": 0,
              "ticks": ""
             }
            },
            "type": "scatterpolargl"
           }
          ],
          "scatterternary": [
           {
            "marker": {
             "colorbar": {
              "outlinewidth": 0,
              "ticks": ""
             }
            },
            "type": "scatterternary"
           }
          ],
          "surface": [
           {
            "colorbar": {
             "outlinewidth": 0,
             "ticks": ""
            },
            "colorscale": [
             [
              0,
              "#0d0887"
             ],
             [
              0.1111111111111111,
              "#46039f"
             ],
             [
              0.2222222222222222,
              "#7201a8"
             ],
             [
              0.3333333333333333,
              "#9c179e"
             ],
             [
              0.4444444444444444,
              "#bd3786"
             ],
             [
              0.5555555555555556,
              "#d8576b"
             ],
             [
              0.6666666666666666,
              "#ed7953"
             ],
             [
              0.7777777777777778,
              "#fb9f3a"
             ],
             [
              0.8888888888888888,
              "#fdca26"
             ],
             [
              1,
              "#f0f921"
             ]
            ],
            "type": "surface"
           }
          ],
          "table": [
           {
            "cells": {
             "fill": {
              "color": "#EBF0F8"
             },
             "line": {
              "color": "white"
             }
            },
            "header": {
             "fill": {
              "color": "#C8D4E3"
             },
             "line": {
              "color": "white"
             }
            },
            "type": "table"
           }
          ]
         },
         "layout": {
          "annotationdefaults": {
           "arrowcolor": "#2a3f5f",
           "arrowhead": 0,
           "arrowwidth": 1
          },
          "autotypenumbers": "strict",
          "coloraxis": {
           "colorbar": {
            "outlinewidth": 0,
            "ticks": ""
           }
          },
          "colorscale": {
           "diverging": [
            [
             0,
             "#8e0152"
            ],
            [
             0.1,
             "#c51b7d"
            ],
            [
             0.2,
             "#de77ae"
            ],
            [
             0.3,
             "#f1b6da"
            ],
            [
             0.4,
             "#fde0ef"
            ],
            [
             0.5,
             "#f7f7f7"
            ],
            [
             0.6,
             "#e6f5d0"
            ],
            [
             0.7,
             "#b8e186"
            ],
            [
             0.8,
             "#7fbc41"
            ],
            [
             0.9,
             "#4d9221"
            ],
            [
             1,
             "#276419"
            ]
           ],
           "sequential": [
            [
             0,
             "#0d0887"
            ],
            [
             0.1111111111111111,
             "#46039f"
            ],
            [
             0.2222222222222222,
             "#7201a8"
            ],
            [
             0.3333333333333333,
             "#9c179e"
            ],
            [
             0.4444444444444444,
             "#bd3786"
            ],
            [
             0.5555555555555556,
             "#d8576b"
            ],
            [
             0.6666666666666666,
             "#ed7953"
            ],
            [
             0.7777777777777778,
             "#fb9f3a"
            ],
            [
             0.8888888888888888,
             "#fdca26"
            ],
            [
             1,
             "#f0f921"
            ]
           ],
           "sequentialminus": [
            [
             0,
             "#0d0887"
            ],
            [
             0.1111111111111111,
             "#46039f"
            ],
            [
             0.2222222222222222,
             "#7201a8"
            ],
            [
             0.3333333333333333,
             "#9c179e"
            ],
            [
             0.4444444444444444,
             "#bd3786"
            ],
            [
             0.5555555555555556,
             "#d8576b"
            ],
            [
             0.6666666666666666,
             "#ed7953"
            ],
            [
             0.7777777777777778,
             "#fb9f3a"
            ],
            [
             0.8888888888888888,
             "#fdca26"
            ],
            [
             1,
             "#f0f921"
            ]
           ]
          },
          "colorway": [
           "#636efa",
           "#EF553B",
           "#00cc96",
           "#ab63fa",
           "#FFA15A",
           "#19d3f3",
           "#FF6692",
           "#B6E880",
           "#FF97FF",
           "#FECB52"
          ],
          "font": {
           "color": "#2a3f5f"
          },
          "geo": {
           "bgcolor": "white",
           "lakecolor": "white",
           "landcolor": "white",
           "showlakes": true,
           "showland": true,
           "subunitcolor": "#C8D4E3"
          },
          "hoverlabel": {
           "align": "left"
          },
          "hovermode": "closest",
          "mapbox": {
           "style": "light"
          },
          "paper_bgcolor": "white",
          "plot_bgcolor": "white",
          "polar": {
           "angularaxis": {
            "gridcolor": "#EBF0F8",
            "linecolor": "#EBF0F8",
            "ticks": ""
           },
           "bgcolor": "white",
           "radialaxis": {
            "gridcolor": "#EBF0F8",
            "linecolor": "#EBF0F8",
            "ticks": ""
           }
          },
          "scene": {
           "xaxis": {
            "backgroundcolor": "white",
            "gridcolor": "#DFE8F3",
            "gridwidth": 2,
            "linecolor": "#EBF0F8",
            "showbackground": true,
            "ticks": "",
            "zerolinecolor": "#EBF0F8"
           },
           "yaxis": {
            "backgroundcolor": "white",
            "gridcolor": "#DFE8F3",
            "gridwidth": 2,
            "linecolor": "#EBF0F8",
            "showbackground": true,
            "ticks": "",
            "zerolinecolor": "#EBF0F8"
           },
           "zaxis": {
            "backgroundcolor": "white",
            "gridcolor": "#DFE8F3",
            "gridwidth": 2,
            "linecolor": "#EBF0F8",
            "showbackground": true,
            "ticks": "",
            "zerolinecolor": "#EBF0F8"
           }
          },
          "shapedefaults": {
           "line": {
            "color": "#2a3f5f"
           }
          },
          "ternary": {
           "aaxis": {
            "gridcolor": "#DFE8F3",
            "linecolor": "#A2B1C6",
            "ticks": ""
           },
           "baxis": {
            "gridcolor": "#DFE8F3",
            "linecolor": "#A2B1C6",
            "ticks": ""
           },
           "bgcolor": "white",
           "caxis": {
            "gridcolor": "#DFE8F3",
            "linecolor": "#A2B1C6",
            "ticks": ""
           }
          },
          "title": {
           "x": 0.05
          },
          "xaxis": {
           "automargin": true,
           "gridcolor": "#EBF0F8",
           "linecolor": "#EBF0F8",
           "ticks": "",
           "title": {
            "standoff": 15
           },
           "zerolinecolor": "#EBF0F8",
           "zerolinewidth": 2
          },
          "yaxis": {
           "automargin": true,
           "gridcolor": "#EBF0F8",
           "linecolor": "#EBF0F8",
           "ticks": "",
           "title": {
            "standoff": 15
           },
           "zerolinecolor": "#EBF0F8",
           "zerolinewidth": 2
          }
         }
        }
       },
       "_py2js_addTraces": {},
       "_py2js_animate": {},
       "_py2js_deleteTraces": {},
       "_py2js_moveTraces": {},
       "_py2js_removeLayoutProps": {},
       "_py2js_removeTraceProps": {},
       "_py2js_restyle": {},
       "_view_count": 2
      }
     },
     "5a4335e4df0d491cb7406ccdc4b2eb0e": {
      "model_module": "@jupyter-widgets/controls",
      "model_module_version": "1.5.0",
      "model_name": "SliderStyleModel",
      "state": {
       "description_width": ""
      }
     },
     "5b5cdb0ae00e4c30a8002b7fa33c5970": {
      "model_module": "@jupyter-widgets/base",
      "model_module_version": "1.2.0",
      "model_name": "LayoutModel",
      "state": {}
     },
     "5baf1537b1ec4debb6b2325429028c98": {
      "model_module": "@jupyter-widgets/controls",
      "model_module_version": "1.5.0",
      "model_name": "HBoxModel",
      "state": {
       "children": [
        "IPY_MODEL_54573f7b63bb4097bb7a76d8be42f19d",
        "IPY_MODEL_76d3125b7cc04371a5ea6332d0a94690"
       ],
       "layout": "IPY_MODEL_93f50ef0c7e8413cbac2a69a9a990528"
      }
     },
     "620949e0217e4d6ab17940d9222b5caa": {
      "model_module": "@jupyter-widgets/base",
      "model_module_version": "1.2.0",
      "model_name": "LayoutModel",
      "state": {}
     },
     "655361af16934ef0a77d2cbe0cfac047": {
      "model_module": "@jupyter-widgets/base",
      "model_module_version": "1.2.0",
      "model_name": "LayoutModel",
      "state": {}
     },
     "6aaca8dd29684865b8410fb788555fff": {
      "model_module": "@jupyter-widgets/base",
      "model_module_version": "1.2.0",
      "model_name": "LayoutModel",
      "state": {}
     },
     "6ed3ec66b0cc4e7595ca309177751de0": {
      "model_module": "@jupyter-widgets/controls",
      "model_module_version": "1.5.0",
      "model_name": "ProgressStyleModel",
      "state": {
       "description_width": ""
      }
     },
     "723a3f4d1d4143429a32dc4c4e19c4fd": {
      "model_module": "@jupyter-widgets/base",
      "model_module_version": "1.2.0",
      "model_name": "LayoutModel",
      "state": {}
     },
     "76d3125b7cc04371a5ea6332d0a94690": {
      "model_module": "@jupyter-widgets/controls",
      "model_module_version": "1.5.0",
      "model_name": "FloatSliderModel",
      "state": {
       "description": "StdDev",
       "layout": "IPY_MODEL_c220a47658b6469f93e0ec0ac2ec9660",
       "max": 4,
       "min": 1,
       "step": 0.1,
       "style": "IPY_MODEL_23dffdf6b1664b79a02e8b799c68270e",
       "value": 3.209066711314759
      }
     },
     "76e09e4318f4453c9d50c91ec7c79bcf": {
      "model_module": "@jupyter-widgets/controls",
      "model_module_version": "1.5.0",
      "model_name": "DescriptionStyleModel",
      "state": {
       "description_width": ""
      }
     },
     "7912b2ca1e064f47971dbc1076f66326": {
      "model_module": "@jupyter-widgets/controls",
      "model_module_version": "1.5.0",
      "model_name": "HBoxModel",
      "state": {
       "children": [
        "IPY_MODEL_8f4279236e47462b9d7501f2392af708",
        "IPY_MODEL_b75f63ce3d434fcdb85f482635c5ebed",
        "IPY_MODEL_b3d6a0a17a8046f992223fbde2ab7e96"
       ],
       "layout": "IPY_MODEL_620949e0217e4d6ab17940d9222b5caa"
      }
     },
     "7ad9e1bd763e497e899690dfbee86390": {
      "model_module": "@jupyter-widgets/controls",
      "model_module_version": "1.5.0",
      "model_name": "FloatProgressModel",
      "state": {
       "bar_style": "success",
       "layout": "IPY_MODEL_42961f56da9c430eb15b477fee35ea5d",
       "max": 5,
       "style": "IPY_MODEL_282fe3cbf18e4365b74703e6240dbd3d",
       "value": 5
      }
     },
     "85883d524b0b44c695815ce4248f74ab": {
      "model_module": "@jupyter-widgets/controls",
      "model_module_version": "1.5.0",
      "model_name": "VBoxModel",
      "state": {
       "_dom_classes": [
        "widget-interact"
       ],
       "children": [
        "IPY_MODEL_54573f7b63bb4097bb7a76d8be42f19d",
        "IPY_MODEL_76d3125b7cc04371a5ea6332d0a94690",
        "IPY_MODEL_1eccc9191050465d87d929393f35e3d1"
       ],
       "layout": "IPY_MODEL_ead6fc643eb14c3792ca7c7d37b18640"
      }
     },
     "85c891949c064a8a9342834cc7988ef1": {
      "model_module": "@jupyter-widgets/output",
      "model_module_version": "1.0.0",
      "model_name": "OutputModel",
      "state": {
       "layout": "IPY_MODEL_219ce783c88e41258cf7223710574169"
      }
     },
     "89e8771710bb4833b3dd5ec7bf4ce984": {
      "model_module": "@jupyter-widgets/controls",
      "model_module_version": "1.5.0",
      "model_name": "DescriptionStyleModel",
      "state": {
       "description_width": ""
      }
     },
     "8f4279236e47462b9d7501f2392af708": {
      "model_module": "@jupyter-widgets/controls",
      "model_module_version": "1.5.0",
      "model_name": "HTMLModel",
      "state": {
       "layout": "IPY_MODEL_903987e350f4421b85152b3f4159036d",
       "style": "IPY_MODEL_34a183722a814a198b8f7d07e6e2412e",
       "value": "100%"
      }
     },
     "903987e350f4421b85152b3f4159036d": {
      "model_module": "@jupyter-widgets/base",
      "model_module_version": "1.2.0",
      "model_name": "LayoutModel",
      "state": {}
     },
     "906f04de22dc4c91b335812e009f1f39": {
      "model_module": "ipyslickgrid",
      "model_module_version": "0.0.3",
      "model_name": "QgridModel",
      "state": {
       "_columns": {
        "AvgProfit": {
         "cssClass": "number",
         "defaultSortAsc": false,
         "editable": true,
         "field": "AvgProfit",
         "id": "AvgProfit",
         "maxWidth": null,
         "minWidth": 30,
         "name": "AvgProfit",
         "position": 6,
         "resizable": true,
         "sortable": true,
         "toolTip": "",
         "type": "number",
         "width": null
        },
        "Count": {
         "cssClass": "number",
         "defaultSortAsc": false,
         "editable": true,
         "field": "Count",
         "id": "Count",
         "maxWidth": null,
         "minWidth": 30,
         "name": "Count",
         "position": 5,
         "resizable": true,
         "sortable": true,
         "toolTip": "",
         "type": "number",
         "width": null
        },
        "Fitness": {
         "cssClass": "number",
         "defaultSortAsc": false,
         "editable": true,
         "field": "Fitness",
         "id": "Fitness",
         "maxWidth": null,
         "minWidth": 30,
         "name": "Fitness",
         "position": 4,
         "resizable": true,
         "sortable": true,
         "toolTip": "",
         "type": "number",
         "width": null
        },
        "Period": {
         "cssClass": "integer",
         "defaultSortAsc": false,
         "editable": true,
         "field": "Period",
         "id": "Period",
         "maxWidth": null,
         "minWidth": 30,
         "name": "Period",
         "position": 2,
         "resizable": true,
         "sortable": true,
         "toolTip": "",
         "type": "integer",
         "width": null
        },
        "Sharpe": {
         "cssClass": "number",
         "defaultSortAsc": false,
         "editable": true,
         "field": "Sharpe",
         "id": "Sharpe",
         "maxWidth": null,
         "minWidth": 30,
         "name": "Sharpe",
         "position": 7,
         "resizable": true,
         "sortable": true,
         "toolTip": "",
         "type": "number",
         "width": null
        },
        "StdDev": {
         "cssClass": "number",
         "defaultSortAsc": false,
         "editable": true,
         "field": "StdDev",
         "id": "StdDev",
         "maxWidth": null,
         "minWidth": 30,
         "name": "StdDev",
         "position": 3,
         "resizable": true,
         "sortable": true,
         "toolTip": "",
         "type": "number",
         "width": null
        },
        "index": {
         "cssClass": "integer",
         "defaultSortAsc": false,
         "editable": true,
         "field": "index",
         "first_index": true,
         "id": "index",
         "index_display_text": "",
         "is_index": true,
         "level": 0,
         "maxWidth": null,
         "minWidth": 30,
         "name": "index",
         "position": 0,
         "resizable": true,
         "sortable": true,
         "toolTip": "",
         "type": "integer",
         "width": null
        },
        "qgrid_unfiltered_index": {
         "cssClass": "integer",
         "defaultSortAsc": false,
         "editable": true,
         "field": "qgrid_unfiltered_index",
         "id": "qgrid_unfiltered_index",
         "maxWidth": null,
         "minWidth": 30,
         "name": "qgrid_unfiltered_index",
         "position": 1,
         "resizable": true,
         "sortable": true,
         "toolTip": "",
         "type": "integer",
         "width": null
        }
       },
       "_df_json": "{\"schema\":{\"fields\":[{\"name\":\"index\",\"type\":\"integer\"},{\"name\":\"qgrid_unfiltered_index\",\"type\":\"integer\"},{\"name\":\"Period\",\"type\":\"integer\"},{\"name\":\"StdDev\",\"type\":\"number\"},{\"name\":\"Fitness\",\"type\":\"number\"},{\"name\":\"Count\",\"type\":\"number\"},{\"name\":\"AvgProfit\",\"type\":\"number\"},{\"name\":\"Sharpe\",\"type\":\"number\"}],\"primaryKey\":[\"index\"],\"pandas_version\":\"0.20.0\"},\"data\":[{\"index\":465,\"qgrid_unfiltered_index\":231,\"Period\":31259,\"StdDev\":3.20907,\"Fitness\":7014.45848,\"Count\":4.0,\"AvgProfit\":1753.61462,\"Sharpe\":6.27706},{\"index\":365,\"qgrid_unfiltered_index\":230,\"Period\":31968,\"StdDev\":3.20907,\"Fitness\":6732.37587,\"Count\":4.0,\"AvgProfit\":1683.09397,\"Sharpe\":5.96357},{\"index\":443,\"qgrid_unfiltered_index\":229,\"Period\":31789,\"StdDev\":3.20907,\"Fitness\":6729.38402,\"Count\":4.0,\"AvgProfit\":1682.34601,\"Sharpe\":5.95724},{\"index\":436,\"qgrid_unfiltered_index\":228,\"Period\":31968,\"StdDev\":2.45125,\"Fitness\":6440.3661,\"Count\":19.0,\"AvgProfit\":338.96664,\"Sharpe\":13.20223},{\"index\":282,\"qgrid_unfiltered_index\":227,\"Period\":31259,\"StdDev\":3.13488,\"Fitness\":6434.18649,\"Count\":5.0,\"AvgProfit\":1286.8373,\"Sharpe\":8.62239},{\"index\":151,\"qgrid_unfiltered_index\":226,\"Period\":31259,\"StdDev\":3.13273,\"Fitness\":6430.56862,\"Count\":5.0,\"AvgProfit\":1286.11372,\"Sharpe\":8.61753},{\"index\":71,\"qgrid_unfiltered_index\":225,\"Period\":31789,\"StdDev\":2.45125,\"Fitness\":6397.13735,\"Count\":19.0,\"AvgProfit\":336.69144,\"Sharpe\":13.09501},{\"index\":261,\"qgrid_unfiltered_index\":224,\"Period\":31259,\"StdDev\":2.45125,\"Fitness\":5891.39289,\"Count\":19.0,\"AvgProfit\":310.07331,\"Sharpe\":11.70613},{\"index\":178,\"qgrid_unfiltered_index\":223,\"Period\":31291,\"StdDev\":2.44659,\"Fitness\":5860.41914,\"Count\":19.0,\"AvgProfit\":308.44311,\"Sharpe\":11.63443},{\"index\":169,\"qgrid_unfiltered_index\":222,\"Period\":27291,\"StdDev\":2.45125,\"Fitness\":5841.9957,\"Count\":21.0,\"AvgProfit\":278.19027,\"Sharpe\":12.49595},{\"index\":407,\"qgrid_unfiltered_index\":221,\"Period\":27955,\"StdDev\":2.33959,\"Fitness\":5821.03644,\"Count\":23.0,\"AvgProfit\":253.08854,\"Sharpe\":12.30121},{\"index\":90,\"qgrid_unfiltered_index\":220,\"Period\":27955,\"StdDev\":2.32726,\"Fitness\":5736.82787,\"Count\":23.0,\"AvgProfit\":249.4273,\"Sharpe\":12.13714},{\"index\":88,\"qgrid_unfiltered_index\":219,\"Period\":34816,\"StdDev\":3.20907,\"Fitness\":5717.55056,\"Count\":4.0,\"AvgProfit\":1429.38764,\"Sharpe\":6.97949},{\"index\":486,\"qgrid_unfiltered_index\":218,\"Period\":27955,\"StdDev\":2.32408,\"Fitness\":5710.33233,\"Count\":23.0,\"AvgProfit\":248.27532,\"Sharpe\":12.08261},{\"index\":61,\"qgrid_unfiltered_index\":217,\"Period\":30720,\"StdDev\":2.40827,\"Fitness\":5412.04394,\"Count\":19.0,\"AvgProfit\":284.84442,\"Sharpe\":10.81207},{\"index\":188,\"qgrid_unfiltered_index\":216,\"Period\":31789,\"StdDev\":2.33959,\"Fitness\":5340.38744,\"Count\":21.0,\"AvgProfit\":254.30416,\"Sharpe\":11.40968},{\"index\":442,\"qgrid_unfiltered_index\":215,\"Period\":31968,\"StdDev\":2.36383,\"Fitness\":5339.43278,\"Count\":19.0,\"AvgProfit\":281.02278,\"Sharpe\":10.80282},{\"index\":341,\"qgrid_unfiltered_index\":214,\"Period\":31259,\"StdDev\":2.36383,\"Fitness\":5326.28018,\"Count\":20.0,\"AvgProfit\":266.31401,\"Sharpe\":11.07487},{\"index\":431,\"qgrid_unfiltered_index\":213,\"Period\":27291,\"StdDev\":2.33959,\"Fitness\":5318.48962,\"Count\":23.0,\"AvgProfit\":231.23868,\"Sharpe\":11.2706},{\"index\":229,\"qgrid_unfiltered_index\":212,\"Period\":31968,\"StdDev\":2.32726,\"Fitness\":5241.88414,\"Count\":21.0,\"AvgProfit\":249.61353,\"Sharpe\":11.24286},{\"index\":313,\"qgrid_unfiltered_index\":211,\"Period\":31789,\"StdDev\":2.32726,\"Fitness\":5196.00324,\"Count\":21.0,\"AvgProfit\":247.42873,\"Sharpe\":11.13056},{\"index\":422,\"qgrid_unfiltered_index\":210,\"Period\":31259,\"StdDev\":2.33959,\"Fitness\":5187.62296,\"Count\":21.0,\"AvgProfit\":247.02966,\"Sharpe\":11.00935},{\"index\":187,\"qgrid_unfiltered_index\":209,\"Period\":31789,\"StdDev\":2.32408,\"Fitness\":5171.97311,\"Count\":21.0,\"AvgProfit\":246.28443,\"Sharpe\":11.08115},{\"index\":423,\"qgrid_unfiltered_index\":208,\"Period\":31789,\"StdDev\":3.13488,\"Fitness\":5155.16553,\"Count\":5.0,\"AvgProfit\":1031.03311,\"Sharpe\":8.3973},{\"index\":244,\"qgrid_unfiltered_index\":207,\"Period\":31789,\"StdDev\":3.13273,\"Fitness\":5152.06825,\"Count\":5.0,\"AvgProfit\":1030.41365,\"Sharpe\":8.39241},{\"index\":402,\"qgrid_unfiltered_index\":206,\"Period\":31968,\"StdDev\":3.13488,\"Fitness\":5144.26501,\"Count\":5.0,\"AvgProfit\":1028.853,\"Sharpe\":8.3665},{\"index\":111,\"qgrid_unfiltered_index\":205,\"Period\":31789,\"StdDev\":2.36383,\"Fitness\":5058.29853,\"Count\":19.0,\"AvgProfit\":266.22624,\"Sharpe\":10.34312},{\"index\":317,\"qgrid_unfiltered_index\":204,\"Period\":31259,\"StdDev\":2.32726,\"Fitness\":5051.9132,\"Count\":21.0,\"AvgProfit\":240.5673,\"Sharpe\":10.77635},{\"index\":398,\"qgrid_unfiltered_index\":203,\"Period\":31789,\"StdDev\":3.08244,\"Fitness\":5049.52371,\"Count\":5.0,\"AvgProfit\":1009.90474,\"Sharpe\":8.21593},{\"index\":331,\"qgrid_unfiltered_index\":202,\"Period\":31259,\"StdDev\":3.04825,\"Fitness\":4991.80918,\"Count\":5.0,\"AvgProfit\":998.36184,\"Sharpe\":8.14135},{\"index\":168,\"qgrid_unfiltered_index\":201,\"Period\":31789,\"StdDev\":3.04825,\"Fitness\":4969.90418,\"Count\":5.0,\"AvgProfit\":993.98084,\"Sharpe\":8.08391},{\"index\":191,\"qgrid_unfiltered_index\":200,\"Period\":31259,\"StdDev\":2.13516,\"Fitness\":4858.69202,\"Count\":24.0,\"AvgProfit\":202.4455,\"Sharpe\":10.72913},{\"index\":224,\"qgrid_unfiltered_index\":199,\"Period\":27291,\"StdDev\":2.32726,\"Fitness\":4851.5577,\"Count\":23.0,\"AvgProfit\":210.93729,\"Sharpe\":10.22647},{\"index\":358,\"qgrid_unfiltered_index\":198,\"Period\":37074,\"StdDev\":2.36383,\"Fitness\":4747.72356,\"Count\":16.0,\"AvgProfit\":296.73272,\"Sharpe\":7.62842},{\"index\":352,\"qgrid_unfiltered_index\":197,\"Period\":31259,\"StdDev\":2.21516,\"Fitness\":4734.75892,\"Count\":22.0,\"AvgProfit\":215.21631,\"Sharpe\":10.12198},{\"index\":404,\"qgrid_unfiltered_index\":196,\"Period\":31789,\"StdDev\":2.21516,\"Fitness\":4716.078,\"Count\":22.0,\"AvgProfit\":214.36718,\"Sharpe\":10.03715},{\"index\":480,\"qgrid_unfiltered_index\":195,\"Period\":34816,\"StdDev\":2.32726,\"Fitness\":4556.59066,\"Count\":18.0,\"AvgProfit\":253.14393,\"Sharpe\":7.80916},{\"index\":114,\"qgrid_unfiltered_index\":194,\"Period\":25172,\"StdDev\":2.36383,\"Fitness\":4288.23882,\"Count\":23.0,\"AvgProfit\":186.44517,\"Sharpe\":9.3911},{\"index\":292,\"qgrid_unfiltered_index\":193,\"Period\":37074,\"StdDev\":2.21516,\"Fitness\":4209.24201,\"Count\":18.0,\"AvgProfit\":233.84678,\"Sharpe\":7.15921},{\"index\":386,\"qgrid_unfiltered_index\":192,\"Period\":27291,\"StdDev\":2.99447,\"Fitness\":4194.7403,\"Count\":5.0,\"AvgProfit\":838.94806,\"Sharpe\":7.20881},{\"index\":104,\"qgrid_unfiltered_index\":191,\"Period\":18020,\"StdDev\":2.36383,\"Fitness\":4119.58358,\"Count\":26.0,\"AvgProfit\":158.44552,\"Sharpe\":7.47972},{\"index\":285,\"qgrid_unfiltered_index\":190,\"Period\":24925,\"StdDev\":2.36383,\"Fitness\":4109.59134,\"Count\":23.0,\"AvgProfit\":178.67788,\"Sharpe\":9.11826},{\"index\":99,\"qgrid_unfiltered_index\":189,\"Period\":23203,\"StdDev\":2.76925,\"Fitness\":4109.12482,\"Count\":10.0,\"AvgProfit\":410.91248,\"Sharpe\":6.72209},{\"index\":483,\"qgrid_unfiltered_index\":188,\"Period\":34816,\"StdDev\":2.36383,\"Fitness\":4066.87119,\"Count\":16.0,\"AvgProfit\":254.17945,\"Sharpe\":6.6748},{\"index\":195,\"qgrid_unfiltered_index\":187,\"Period\":18825,\"StdDev\":2.36383,\"Fitness\":4031.06794,\"Count\":28.0,\"AvgProfit\":143.96671,\"Sharpe\":8.33327},{\"index\":80,\"qgrid_unfiltered_index\":186,\"Period\":38472,\"StdDev\":2.13516,\"Fitness\":3936.96082,\"Count\":18.0,\"AvgProfit\":218.72005,\"Sharpe\":6.66356},{\"index\":214,\"qgrid_unfiltered_index\":185,\"Period\":25172,\"StdDev\":2.33959,\"Fitness\":3797.03375,\"Count\":23.0,\"AvgProfit\":165.08842,\"Sharpe\":8.51781},{\"index\":126,\"qgrid_unfiltered_index\":184,\"Period\":34816,\"StdDev\":2.99447,\"Fitness\":3738.99976,\"Count\":4.0,\"AvgProfit\":934.74994,\"Sharpe\":6.27976},{\"index\":110,\"qgrid_unfiltered_index\":183,\"Period\":22401,\"StdDev\":2.45125,\"Fitness\":3686.89104,\"Count\":24.0,\"AvgProfit\":153.62046,\"Sharpe\":7.79957},{\"index\":387,\"qgrid_unfiltered_index\":182,\"Period\":34816,\"StdDev\":2.45125,\"Fitness\":3441.03333,\"Count\":14.0,\"AvgProfit\":245.78809,\"Sharpe\":5.34118},{\"index\":55,\"qgrid_unfiltered_index\":181,\"Period\":18694,\"StdDev\":2.44659,\"Fitness\":3400.60411,\"Count\":22.0,\"AvgProfit\":154.57291,\"Sharpe\":5.43662},{\"index\":165,\"qgrid_unfiltered_index\":180,\"Period\":20841,\"StdDev\":3.13273,\"Fitness\":3274.95148,\"Count\":3.0,\"AvgProfit\":1091.65049,\"Sharpe\":2.41874},{\"index\":199,\"qgrid_unfiltered_index\":179,\"Period\":38472,\"StdDev\":1.78703,\"Fitness\":3220.56962,\"Count\":21.0,\"AvgProfit\":153.36046,\"Sharpe\":5.55573},{\"index\":409,\"qgrid_unfiltered_index\":178,\"Period\":27291,\"StdDev\":3.20907,\"Fitness\":3207.45639,\"Count\":3.0,\"AvgProfit\":1069.15213,\"Sharpe\":6.38289},{\"index\":481,\"qgrid_unfiltered_index\":177,\"Period\":27955,\"StdDev\":3.20907,\"Fitness\":3187.28311,\"Count\":3.0,\"AvgProfit\":1062.4277,\"Sharpe\":6.37372},{\"index\":40,\"qgrid_unfiltered_index\":176,\"Period\":16329,\"StdDev\":2.98372,\"Fitness\":3114.39968,\"Count\":8.0,\"AvgProfit\":389.29996,\"Sharpe\":5.8759},{\"index\":189,\"qgrid_unfiltered_index\":175,\"Period\":21544,\"StdDev\":2.45125,\"Fitness\":3097.45563,\"Count\":24.0,\"AvgProfit\":129.06065,\"Sharpe\":6.54259},{\"index\":185,\"qgrid_unfiltered_index\":174,\"Period\":25172,\"StdDev\":3.13488,\"Fitness\":3074.25792,\"Count\":3.0,\"AvgProfit\":1024.75264,\"Sharpe\":6.27098},{\"index\":252,\"qgrid_unfiltered_index\":173,\"Period\":25172,\"StdDev\":3.13273,\"Fitness\":3072.02407,\"Count\":3.0,\"AvgProfit\":1024.00802,\"Sharpe\":6.26567},{\"index\":426,\"qgrid_unfiltered_index\":172,\"Period\":27955,\"StdDev\":3.13488,\"Fitness\":3021.26334,\"Count\":3.0,\"AvgProfit\":1007.08778,\"Sharpe\":6.0477},{\"index\":494,\"qgrid_unfiltered_index\":171,\"Period\":27955,\"StdDev\":3.13273,\"Fitness\":3019.23258,\"Count\":3.0,\"AvgProfit\":1006.41086,\"Sharpe\":6.04328},{\"index\":316,\"qgrid_unfiltered_index\":170,\"Period\":27291,\"StdDev\":3.13488,\"Fitness\":3017.33229,\"Count\":3.0,\"AvgProfit\":1005.77743,\"Sharpe\":6.01281},{\"index\":172,\"qgrid_unfiltered_index\":169,\"Period\":27291,\"StdDev\":2.07741,\"Fitness\":3016.03032,\"Count\":26.0,\"AvgProfit\":116.00117,\"Sharpe\":6.67209},{\"index\":390,\"qgrid_unfiltered_index\":168,\"Period\":31968,\"StdDev\":2.99447,\"Fitness\":3011.54695,\"Count\":6.0,\"AvgProfit\":501.92449,\"Sharpe\":4.50454},{\"index\":108,\"qgrid_unfiltered_index\":167,\"Period\":37074,\"StdDev\":1.83347,\"Fitness\":3005.50856,\"Count\":21.0,\"AvgProfit\":143.11946,\"Sharpe\":5.13775},{\"index\":253,\"qgrid_unfiltered_index\":166,\"Period\":20841,\"StdDev\":2.36383,\"Fitness\":2993.33523,\"Count\":26.0,\"AvgProfit\":115.12828,\"Sharpe\":6.275},{\"index\":389,\"qgrid_unfiltered_index\":165,\"Period\":27955,\"StdDev\":3.08244,\"Fitness\":2929.87464,\"Count\":3.0,\"AvgProfit\":976.62488,\"Sharpe\":5.80584},{\"index\":6,\"qgrid_unfiltered_index\":164,\"Period\":43375,\"StdDev\":3.08244,\"Fitness\":2883.83687,\"Count\":4.0,\"AvgProfit\":720.95922,\"Sharpe\":4.22541},{\"index\":273,\"qgrid_unfiltered_index\":163,\"Period\":31968,\"StdDev\":2.07741,\"Fitness\":2870.11822,\"Count\":21.0,\"AvgProfit\":136.6723,\"Sharpe\":6.2073},{\"index\":77,\"qgrid_unfiltered_index\":162,\"Period\":27291,\"StdDev\":3.04825,\"Fitness\":2840.35336,\"Count\":3.0,\"AvgProfit\":946.78445,\"Sharpe\":5.48598},{\"index\":163,\"qgrid_unfiltered_index\":161,\"Period\":23203,\"StdDev\":3.20907,\"Fitness\":2683.26387,\"Count\":2.0,\"AvgProfit\":1341.63194,\"Sharpe\":5.27139},{\"index\":342,\"qgrid_unfiltered_index\":160,\"Period\":18825,\"StdDev\":2.32408,\"Fitness\":2669.61229,\"Count\":28.0,\"AvgProfit\":95.3433,\"Sharpe\":5.61744},{\"index\":166,\"qgrid_unfiltered_index\":159,\"Period\":25172,\"StdDev\":2.99447,\"Fitness\":2625.45233,\"Count\":3.0,\"AvgProfit\":875.15078,\"Sharpe\":4.62848},{\"index\":211,\"qgrid_unfiltered_index\":158,\"Period\":24925,\"StdDev\":2.99447,\"Fitness\":2615.65891,\"Count\":3.0,\"AvgProfit\":871.8863,\"Sharpe\":4.62214},{\"index\":34,\"qgrid_unfiltered_index\":157,\"Period\":31259,\"StdDev\":1.67437,\"Fitness\":2610.79989,\"Count\":28.0,\"AvgProfit\":93.24285,\"Sharpe\":5.96174},{\"index\":201,\"qgrid_unfiltered_index\":156,\"Period\":27955,\"StdDev\":2.45125,\"Fitness\":2503.22673,\"Count\":17.0,\"AvgProfit\":147.24863,\"Sharpe\":4.30968},{\"index\":496,\"qgrid_unfiltered_index\":155,\"Period\":25172,\"StdDev\":3.20907,\"Fitness\":2495.57465,\"Count\":2.0,\"AvgProfit\":1247.78732,\"Sharpe\":4.94659},{\"index\":27,\"qgrid_unfiltered_index\":154,\"Period\":22401,\"StdDev\":2.36383,\"Fitness\":2408.91595,\"Count\":24.0,\"AvgProfit\":100.3715,\"Sharpe\":5.22152},{\"index\":364,\"qgrid_unfiltered_index\":153,\"Period\":34816,\"StdDev\":2.07741,\"Fitness\":2398.96802,\"Count\":19.0,\"AvgProfit\":126.26147,\"Sharpe\":4.06929},{\"index\":128,\"qgrid_unfiltered_index\":152,\"Period\":19756,\"StdDev\":3.13488,\"Fitness\":2368.72856,\"Count\":4.0,\"AvgProfit\":592.18214,\"Sharpe\":2.07986},{\"index\":283,\"qgrid_unfiltered_index\":151,\"Period\":19756,\"StdDev\":3.13273,\"Fitness\":2366.10085,\"Count\":4.0,\"AvgProfit\":591.52521,\"Sharpe\":2.07751},{\"index\":29,\"qgrid_unfiltered_index\":150,\"Period\":38943,\"StdDev\":2.99447,\"Fitness\":2195.49751,\"Count\":4.0,\"AvgProfit\":548.87438,\"Sharpe\":3.99788},{\"index\":91,\"qgrid_unfiltered_index\":149,\"Period\":21544,\"StdDev\":2.33959,\"Fitness\":2173.41227,\"Count\":26.0,\"AvgProfit\":83.59278,\"Sharpe\":4.79468},{\"index\":98,\"qgrid_unfiltered_index\":148,\"Period\":31968,\"StdDev\":1.83347,\"Fitness\":2173.37989,\"Count\":24.0,\"AvgProfit\":90.5575,\"Sharpe\":4.90443},{\"index\":93,\"qgrid_unfiltered_index\":147,\"Period\":25172,\"StdDev\":2.21516,\"Fitness\":2137.1984,\"Count\":23.0,\"AvgProfit\":92.92167,\"Sharpe\":4.67123},{\"index\":215,\"qgrid_unfiltered_index\":146,\"Period\":21544,\"StdDev\":3.13488,\"Fitness\":2099.13243,\"Count\":3.0,\"AvgProfit\":699.71081,\"Sharpe\":2.67488},{\"index\":260,\"qgrid_unfiltered_index\":145,\"Period\":21544,\"StdDev\":3.13273,\"Fitness\":2097.3545,\"Count\":3.0,\"AvgProfit\":699.11817,\"Sharpe\":2.67227},{\"index\":167,\"qgrid_unfiltered_index\":144,\"Period\":38943,\"StdDev\":2.21516,\"Fitness\":2049.83677,\"Count\":14.0,\"AvgProfit\":146.41691,\"Sharpe\":3.05725},{\"index\":353,\"qgrid_unfiltered_index\":143,\"Period\":37074,\"StdDev\":3.13488,\"Fitness\":2023.19848,\"Count\":2.0,\"AvgProfit\":1011.59924,\"Sharpe\":2.36814},{\"index\":222,\"qgrid_unfiltered_index\":142,\"Period\":22401,\"StdDev\":2.32408,\"Fitness\":1914.05816,\"Count\":24.0,\"AvgProfit\":79.75242,\"Sharpe\":4.14692},{\"index\":68,\"qgrid_unfiltered_index\":141,\"Period\":11679,\"StdDev\":3.7519,\"Fitness\":1899.06,\"Count\":1.0,\"AvgProfit\":1899.06,\"Sharpe\":0.0},{\"index\":280,\"qgrid_unfiltered_index\":140,\"Period\":31789,\"StdDev\":1.55835,\"Fitness\":1829.35496,\"Count\":28.0,\"AvgProfit\":65.33411,\"Sharpe\":4.2077},{\"index\":92,\"qgrid_unfiltered_index\":139,\"Period\":38090,\"StdDev\":1.60312,\"Fitness\":1725.40143,\"Count\":21.0,\"AvgProfit\":82.16197,\"Sharpe\":2.99152},{\"index\":25,\"qgrid_unfiltered_index\":138,\"Period\":38976,\"StdDev\":1.55835,\"Fitness\":1699.42286,\"Count\":21.0,\"AvgProfit\":80.9249,\"Sharpe\":2.94423},{\"index\":200,\"qgrid_unfiltered_index\":137,\"Period\":21544,\"StdDev\":2.32726,\"Fitness\":1658.2668,\"Count\":26.0,\"AvgProfit\":63.77949,\"Sharpe\":3.72078},{\"index\":475,\"qgrid_unfiltered_index\":136,\"Period\":37074,\"StdDev\":2.45125,\"Fitness\":1633.99243,\"Count\":12.0,\"AvgProfit\":136.16604,\"Sharpe\":2.47687},{\"index\":197,\"qgrid_unfiltered_index\":135,\"Period\":37074,\"StdDev\":2.44659,\"Fitness\":1612.71173,\"Count\":12.0,\"AvgProfit\":134.39264,\"Sharpe\":2.44515},{\"index\":122,\"qgrid_unfiltered_index\":134,\"Period\":47864,\"StdDev\":3.04825,\"Fitness\":1602.3744,\"Count\":4.0,\"AvgProfit\":400.5936,\"Sharpe\":2.5068},{\"index\":4,\"qgrid_unfiltered_index\":133,\"Period\":24925,\"StdDev\":1.7936,\"Fitness\":1555.67177,\"Count\":32.0,\"AvgProfit\":48.61474,\"Sharpe\":3.78261},{\"index\":255,\"qgrid_unfiltered_index\":132,\"Period\":21544,\"StdDev\":2.36383,\"Fitness\":1473.30808,\"Count\":24.0,\"AvgProfit\":61.38784,\"Sharpe\":3.21511}]}",
       "_df_range": [
        0,
        100
       ],
       "_editable_rows": {},
       "_index_col_name": "qgrid_unfiltered_index",
       "_interval_columns": [],
       "_model_module_version": "0.0.3",
       "_multi_index": false,
       "_row_count": 232,
       "_row_styles": {},
       "_sort_ascending": false,
       "_sort_field": "Fitness",
       "_view_module_version": "0.0.3",
       "_viewport_range": [
        0,
        100
       ],
       "grid_options": {
        "autoEdit": false,
        "boldIndex": true,
        "defaultColumnWidth": 150,
        "editable": false,
        "enableColumnReorder": false,
        "enableTextSelectionOnCells": true,
        "explicitInitialization": true,
        "filterable": true,
        "forceFitColumns": true,
        "fullWidthRows": true,
        "highlightSelectedCell": false,
        "highlightSelectedRow": true,
        "maxVisibleRows": 15,
        "minVisibleRows": 8,
        "multiSelect": false,
        "rowHeight": 28,
        "sortable": true,
        "syncColumnCellResize": true
       },
       "id": "6d456f58-041b-446d-9a9a-bf521fb24cbf",
       "layout": "IPY_MODEL_53799dfffdb345f3964d1dec1070aee5",
       "precision": 5,
       "show_toolbar": false
      }
     },
     "90f8a8716a1f4b9ca9994fb8f0531f07": {
      "model_module": "@jupyter-widgets/controls",
      "model_module_version": "1.5.0",
      "model_name": "VBoxModel",
      "state": {
       "children": [
        "IPY_MODEL_9561352e08c74ab38ba66755919026f9",
        "IPY_MODEL_4bbe9b0493d14396bf4c9ca8ffed2a53"
       ],
       "layout": "IPY_MODEL_c6cf1e4d385c45649935a89b786d5669"
      }
     },
     "9257614b05e2487b9a2c7b92d97735e7": {
      "model_module": "@jupyter-widgets/controls",
      "model_module_version": "1.5.0",
      "model_name": "HTMLModel",
      "state": {
       "layout": "IPY_MODEL_1b2c9b8f325e40b9a0db039cf4ac38d3",
       "style": "IPY_MODEL_89e8771710bb4833b3dd5ec7bf4ce984",
       "value": "100%"
      }
     },
     "93f50ef0c7e8413cbac2a69a9a990528": {
      "model_module": "@jupyter-widgets/base",
      "model_module_version": "1.2.0",
      "model_name": "LayoutModel",
      "state": {}
     },
     "9561352e08c74ab38ba66755919026f9": {
      "model_module": "@jupyter-widgets/controls",
      "model_module_version": "1.5.0",
      "model_name": "HBoxModel",
      "state": {
       "children": [
        "IPY_MODEL_4b4a5dc9846f4105a9e7825055f28d65",
        "IPY_MODEL_e7def9760b0b419fada0cf0117c4c4bb"
       ],
       "layout": "IPY_MODEL_d166079fc67c4fcfa806dd83ce0fcf64"
      }
     },
     "95c747779f894beebb2dca5089ba4dd9": {
      "model_module": "@jupyter-widgets/base",
      "model_module_version": "1.2.0",
      "model_name": "LayoutModel",
      "state": {}
     },
     "9cbddb2f058a4df28dbc1ca22ff08758": {
      "model_module": "@jupyter-widgets/base",
      "model_module_version": "1.2.0",
      "model_name": "LayoutModel",
      "state": {}
     },
     "9ec64a8b98db4c9dab63cebef5830dbe": {
      "model_module": "@jupyter-widgets/base",
      "model_module_version": "1.2.0",
      "model_name": "LayoutModel",
      "state": {}
     },
     "9f24159a86954f21a230f2d196049cd1": {
      "model_module": "@jupyter-widgets/base",
      "model_module_version": "1.2.0",
      "model_name": "LayoutModel",
      "state": {}
     },
     "a736df8a6078458888c9edc59c8cb41a": {
      "buffers": [
       {
        "data": "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",
        "encoding": "base64",
        "path": [
         "_data",
         0,
         "y",
         "value"
        ]
       },
       {
        "data": "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",
        "encoding": "base64",
        "path": [
         "_data",
         1,
         "y",
         "value"
        ]
       },
       {
        "data": "AAAAAAAAAAAAAAAAAAAAAAAAAAAAAAAAAAAAAAAAAAAAAAAAAAAAAAAAAAAAAAAAAAAAAAAAAAAAAAAAAAAAAAAAAAAAAAAAAAAAAAAAAAAAAAAAAAAAAAAAAAAAAAAAAAAAAAAAAAAAAAAAAAAAAAAAAAAAAAAAAAAAAAAAAAAAAAAAAAAAAAAAAAAAAAAAAAAAAAAAAAAAAAAAAAAAAAAAAAAAAAAAAAAAAAAAAAAAAAAAAAAAAAAAAAAAAAAAAAAAAAAAAAAAAAAAAAAAAAAAAAAAAAAAAAAAAAAAAAAAAAAAAAAAAAAAAAAAAAAAAAAAAAAAAAAAAAAAAAAAAAAAAAAAAAAAAAAAAAAAAAAAAAAAAAAAAAAAAAAAAAAAAAAAAAAAAAAAAAAAAAAAAAAAAAAAAAAAAAAAAAAAAAAAAAAAAAAAAAAAAAAAAAAAAAAAAAAAAAAAAAAAAAAAAAAAAAAAAAAAAAAAAAAAAAAAAAAAAAAAAAAAAAAAAAAAAAAAAAAAAAAAAAAAAAAAAAAAAAAAAAAAAAAAAAAAAAAAAAAAAAAAAAAAAAAAAAAAAAAAAAAAAAAAAAAAAAAAAAAAAAAAAAAAAAAAAAAAAAAAAAAAAAAAAAAAAAAAAAAAAAAAAAAAAAAAAAAAAAAAAAAAAAAAAAAAAAAAAAAAAAAAAAAAAAAAAAAAAAAAAAAAAAAAAAAAAAAAAAAAAAAAAAAAAAAAAAAAAAAAAAAAAAAAAAAAAAAAAAAAAAAAAAAAAAAAAAAAAAAAAAAAAAAAAAAAAAAAAAAAAAAAAAAAAAAAAAAAAAAAAAAAAAAAAAAAAAAAAAAAAAAAAAAAAAAAAAAAAAAAAAAAAAAAAAAAAAAAAAAAAAAAAAAAAAAAAAAAAAAAAAAAAAAAAAAAAAAAAAAAAAAAAAAAAAAAAAAAAAAAAAAAAAAAAAAAAAAAAAAAAAAAAAAAAAAAAAAAAAAAAAAAAAAAAAAAAAAAAAAAAAAAAAAAAAAAAAAAAAAAAAAAAAAAAAAAAAAAAAAAAAAAAAAAAAAAAAAAAAAAAAAAAAAAAAAAAAAAAAAAAAAAAAAAAAAAAAAAAAAAAAAAAAAAAAAAAAAAAAAAAAAAAAAAAAAAAAAAAAAAAAAAAAAAAAAAAAAAAAAAAAAAAAAAAAAAAAAAAAAAAAAAAAAAAAAAAAAAAAAAAAAAAAAAAAAAAAAAAAAAAAAAAAAAAAAAAAAAAAAAAAAAAAAAAAAAAAAAAAAAAAAAAAAAAAAAAAAAAAAAAAAAAAAAAAAAAAAAAAAAAAAAAAAAAAAAAAAAAAAAAAAAAAAAAAAAAAAAAAAAAAAAAAAAAAAAAAAAAAAAAAAAAAAAAAAAAAAAAAAAAAAAAAAAAAAAAAAAAAAAAAAAAAAAAAAAAAAAAAAAAAAAAAAAAAAAAAAAAAAAAAAAAAAAAAAAAAAAAAAAAAAAAAAAAAAAAAAAAAAAAAAAAAAAAAAAAAAAAAAAAAAAAAAAAAAAAAAAAAAAAAAAAAAAAAAAAAAAAAAAAAAAAAAAAAAAAAAAAAAAAAAAAAAAAAAAAAAAAAAAAAAAAAAAAAAAAAAAAAAAAAAAAAAAAAAAAAAAAAAAAAAAAAAAAAAAAAAAAAAAAAAAAAAAAAAAAAAAAAAAAAAAAAAAAAAAAAAAAAAAAAAAAAAAAAAAAAAAAAAAAAAAAAAAAAAAAAAAAAAAAAAAAAAAAAAAAAAAAAAAAAAAAAAAAAAAAAAAAAAAAAAAAAAAAAAAAAAAAAAAAAAAAAAAAAAAAAAAAAAAAAAAAAAAAAAAAAAAAAAAAAAAAAAAAAAAAAAAAAAAAAAAAAAAAAAAAAAAAAAAAAAAAAAAAAAAAAAAAAAAAAAAAAAAAAAAAAAAAAAAAAAAAAAAAAAAAAAAAAAAAAAAAAAAAAAAAAAAAAAAAAAAAAAAAAAAAAAAAAAAAAAAAAAAAAAAAAAAAAAAAAAAAAAAAAAAAAAAAAAAAAAAAAAAAAAAAAAAAAAAAAAAAAAAAAAAAAAAAAAAAAAAAAAAAAAAAAAAAAAAAAAAAAAAAAAAAAAAAAAAAAAAAAAAAAAAAAAAAAAAAAAAAAAAAAAAAAAAAAAAAAAAAAAAAAAAAAAAAAAAAAAAAAAAAAAAAAAAAAAAAAAAAAAAAAAAAAAAAAAAAAAAAAAAAAAAAAAAAAAAAAAAAAAAAAAAAAAAAAAAAAAAAAAAAAAAAAAAAAAAAAAAAAAAAAAAAAAAAAAAAAAAAAAAAAAAAAAAAAAAAAAAAAAAAAAAAAAAAAAAAAAAAAAAAAAAAAAAAAAAAAAAAAAAAAAAAAAAAAAAAAAAAAAAAAAAAAAAAAAAAAAAAAAAAAAAAAAAAAAAAAAAAAAAAAAAAAAAAAAAAAAAAAAAAAAAAAAAAAAAAAAAAAAAAAAAAAAAAAAAAAAAAAAAAAAAAAAAAAAAAAAAAAAAAAAAAAAAAAAAAAAAAAAAAAAAAAAAAAAAAAAAAAAAAAAAAAAAAAAAAAAAAAAAAAAAAAAAAAAAAAAAAAAAAAAAAAAAAAAAAAAAAAAAAAAAAAAAAAAAAAAAAAAAAAAAAAAAAAAAAAAAAAAAAAAAAAAAAAAAAAAAAAAAAAAAAAAAAAAAAAAAAAAAAAAAAAAAAAAAAAAAAAAAAAAAAAAAAAAAAAAAAAAAAAAAAAAAAAAAAAAAAAAAAAAAAAAAAAAAAAAAAAAAAAAAAAAAAAAAAAAAAAAAAAAAAAAAAAAAAAAAAAAAAAAAAAAAAAAAAAAAAAAAAAAAAAAAAAAAAAAAAAAAAAAAAAAAAAAAAAAAAAAAAAAAAAAAAAAAAAAAAAAAAAAAAAAAAAAAAAAAAAAAAAAAAAAAAAAAAAAAAAAAAAAAAAAAAAAAAAAAAAAAAAAAAAAAAAAAAAAAAAAAAAAAAAAAAAAAAAAAAAAAAAAAAAAAAAAAAAAAAAAAAAAAAAAAAAAAAAAAAAAAAAAAAAAAAAAAAAAAAAAAAAAAAAAAAAAAAAAAAAAAAAAAAAAAAAAAAAAAAAAAAAAAAAAAAAAAAAAAAAAAAAAAAAAAAAAAAAAAAAAAAAAAAAAAAAAAAAAAAAAAAAAAAAAAAAAAAAAAAAAAAAAAAAAAAAAAAAAAAAAAAAAAAAAAAAAAAAAAAAAAAAAAAAAAAAAAAAAAAAAAAAAAAAAAAAAAAAAAAAAAAAAAAAAAAAAAAAAAAAAAAAAAAAAAAAAAAAAAAAAAAAAAAAAAAAAAAAAAAAAAAAAAAAAAAAAAAAAAAAAAAAAAAAAAAAAAAAAAAAAAAAAAAAAAAAAAAAAAAAAAAAAAAAAAAAAAAAAAAAAAAAAAAAAAAAAAAAAAAAAAAAAAAAAAAAAAAAAAAAAAAAAAAAAAAAAAAAAAAAAAAAAAAAAAAAAAAAAAAAAAAAAAAAAAAAAAAAAAAAAAAAAAAAAAAAAAAAAAAAAAAAAAAAAAAAAAAAAAAAAAAAAAAAAAAAAAAAAAAAAAAAAAAAAAAAAAAAAAAAAAAAAAAAAAAAAAAAAAAAAAAAAAAAAAAAAAAAAAAAAAAAAAAAAAAAAAAAAAAAAAAAAAAAAAAAAAAAAAAAAAAAAAAAAAAAAAAAAAAAAAAAAAAAAAAAAAAAAAAAAAAAAAAAAAAAAAAAAAAAAAAAAAAAAAAAAAAAAAAAAAAAAAAAAAAAAAAAAAAAAAAAAAAAAAAAAAAAAAAAAAAAAAAAAAAAAAAAAAAAAAAAAAAAAAAAAAAAAAAAAAAAAAAAAAAAAAAAAAAAAAAAAAAAAAAAAAAAAAAAAAAAAAAAAAAAAAAAAAAAAAAAAAAAAAAAAAAAAAAAAAAAAAAAAAAAAAAAAAAAAAAAAAAAAAAAAAAAAAAAAAAAAAAAAAAAAAAAAAAAAAAAAAAAAAAAAAAAAAAAAAAAAAAAAAAAAAAAAAAAAAAAAAAAAAAAAAAAAAAAAAAAAAAAAAAAAAAAAAAAAAAAAAAAAAAAAAAAAAAAAAAAAAAAAAAAAAAAAAAAAAAAAAAAAAAAAAAAAAAAAAAAAAAAAAAAAAAAAAAAAAAAAAAAAAAAAAAAAAAAAAAAAAAAAAAAAAAAAAAAAAAAAAAAAAAAAAAAAAAAAAAAAAAAAAAAAAAAAAAAAAAAAAAAAAAAAAAAAAAAAAAAAAAAAAAAAAAAAAAAAAAAAAAAAAAAAAAAAAAAAAAAAAAAAAAAAAAAAAAAAAAAAAAAAAAAAAAAAAAAAAAAAAAAAAAAAAAAAAAAAAAAAAAAAAAAAAAAAAAAAAAAAAAAAAAAAAAAAAAAAAAAAAAAAAAAAAAAAAAAAAAAAAAAAAAAAAAAAAAAAAAAAAAAAAAAAAAAAAAAAAAAAAAAAAAAAAAAAAAAAAAAAAAAAAAAAAAAAAAAAAAAAAAAAAAAAAAAAAAAAAAAAAAAAAAAAAAAAAAAAAAAAAAAAAAAAAAAAAAAAAAAAAAAAAAAAAAAAAAAAAAAAAAAAAAAAAAAAAAAAAAAAAAAAAAAAAAAAAAAAAAAAAAAAAAAAAAAAAAAAAAAAAAAAAAAAAAAAAAAAAAAAAAAAAAAAAAAAAAAAAAAAAAAAAAAAAAAAAAAAAAAAAAAAAAAAAAAAAAAAAAAAAAAAAAAAAAAAAAAAAAAAAAAAAAAAAAAAAAAAAAAAAAAAAAAAAAAAAAAAAAAAAAAAAAAAAAAAAAAAAAAAAAAAAAAAAAAAAAAAAAAAAAAAAAAAAAAAAAAAAAAAAAAAAAAAAAAAAAAAAAAAAAAAAAAAAAAAAAAAAAAAAAAAAAAAAAAAAAAAAAAAAAAAAAAAAAAAAAAAAAAAAAAAAAAAAAAAAAAAAAAAAAAAAAAAAAAAAAAAAAAAAAAAAAAAAAAAAAAAAAAAAAAAAAAAAAAAAAAAAAAAAAAAAAAAAAAAAAAAAAAAAAAAAAAAAAAAAAAAAAAAAAAAAAAAAAAAAAAAAAAAAAAAAAAAAAAAAAAAAAAAAAAAAAAAAAAAAAAAAAAAAAAAAAAAAAAAAAAAAAAAAAAAAAAAAAAAAAAAAAAAAAAAAAAAAAAAAAAAAAAAAAAAAAAAAAAAAAAAAAAAAAAAAAAAAAAAAAAAAAAAAAAAAAAAAAAAAAAAAAAAAAAAAAAAAAAAAAAAAAAAAAAAAAAAAAAAAAAAAAAAAAAAAAAAAAAAAAAAAAAAAAAAAAAAAAAAAAAAAAAAAAAAAAAAAAAAAAAAAAAAAAAAAAAAAAAAAAAAAAAAAAAAAAAAAAAAAAAAAAAAAAAAAAAAAAAAAAAAAAAAAAAAAAAAAAAAAAAAAAAAAAAAAAAAAAAAAAAAAAAAAAAAAAAAAAAAAAAAAAAAAAAAAAAAAAAAAAAAAAAAAAAAAAAAAAAAAAAAAAAAAAAAAAAAAAAAAAAAAAAAAAAAAAAAAAAAAAAAAAAAAAAAAAAAAAAAAAAAAAAAAAAAAAAAAAAAAAAAAAAAAAAAAAAAAAAAAAAAAAAAAAAAAAAAAAAAAAAAAAAAAAAAAAAAAAAAAAAAAAAAAAAAAAAAAAAAAAAAAAAAAAAAAAAAAAAAAAAAAAAAAAAAAAAAAAAAAAAAAAAAAAAAAAAAAAAAAAAAAAAAAAAAAAAAAAAAAAAAAAAAAAAAAAAAAAAAAAAAAAAAAAAAAAAAAAAAAAAAAAAAAAAAAAAAAAAAAAAAAAAAAAAAAAAAAAAAAAAAAAAAAAAAAAAAAAAAAAAAAAAAAAAAAAAAAAAAAAAAAAAAAAAAAAAAAAAAAAAAAAAAAAAAAAAAAAAAAAAAAAAAAAAAAAAAAAAAAAAAAAAAAAAAAAAAAAAAAAAAAAAAAAAAAAAAAAAAAAAAAAAAAAAAAAAAAAAAAAAAAAAAAAAAAAAAAAAAAAAAAAAAAAAAAAAAAAAAAAAAAAAAAAAAAAAAAAAAAAAAAAAAAAAAAAAAAAAAAAAAAAAAAAAAAAAAAAAAAAAAAAAAAAAAAAAAAAAAAAAAAAAAAAAAAAAAAAAAAAAAAAAAAAAAAAAAAAAAAAAAAAAAAAAAAAAAAAAAAAAAAAAAAAAAAAAAAAAAAAAAAAAAAAAAAAAAAAAAAAAAAAAAAAAAAAAAAAAAAAAAAAAAAAAAAAAAAAAAAAAAAAAAAAAAAAAAAAAAAAAAAAAAAAAAAAAAAAAAAAAAAAAAAAAAAAAAAAAAAAAAAAAAAAAAAAAAAAAAAAAAAAAAAAAAAAAAAAAAAAAAAAAAAAAAAAAAAAAAAAAAAAAAAAAAAAAAAAAAAAAAAAAAAAAAAAAAAAAAAAAAAAAAAAAAAAAAAAAAAAAAAAAAAAAAAAAAAAAAAAAAAAAAAAAAAAAAAAAAAAAAAAAAAAAAAAAAAAAAAAAAAAAAAAAAAAAAAAAAAAAAAAAAAAAAAAAAAAAAAAAAAAAAAAAAAAAAAAAAAAAAAAAAAAAAAAAAAAAAAAAAAAAAAAAAAAAAAAAAAAAAAAAAAAAAAAAAAAAAAAAAAAAAAAAAAAAAAAAAAAAAAAAAAAAAAAAAAAAAAAAAAAAAAAAAAAAAAAAAAAAAAAAAAAAAAAAAAAAAAAAAAAAAAAAAAAAAAAAAAAAAAAAAAAAAAAAAAAAAAAAAAAAAAAAAAAAAAAAAAAAAAAAAAAAAAAAAAAAAAAAAAAAAAAAAAAAAAAAAAAAAAAAAAAAAAAAAAAAAAAAAAAAAAAAAAAAAAAAAAAAAAAAAAAAAAAAAAAAAAAAAAAAAAAAAAAAAAAAAAAAAAAAAAAAAAAAAAAAAAAAAAAAAAAAAAAAAAAAAAAAAAAAAAAAAAAAAAAAAAAAAAAAAAAAAAAAAAAAAAAAAAAAAAAAAAAAAAAAAAAAAAAAAAAAAAAAAAAAAAAAAAAAAAAAAAAAAAAAAAAAAAAAAAAAAAAAAAAAAAAAAAAAAAAAAAAAAAAAAAAAAAAAAAAAAAAAAAAAAAAAAAAAAAAAAAAAAAAAAAAAAAAAAAAAAAAAAAAAAAAAAAAAAAAAAAAAAAAAAAAAAAAAAAAAAAAAAAAAAAAAAAAAAAAAAAAAAAAAAAAAAAAAAAAAAAAAAAAAAAAAAAAAAAAAAAAAAAAAAAAAAAAAAAAAAAAAAAAAAAAAAAAAAAAAAAAAAAAAAAAAAAAAAAAAAAAAAAAAAAAAAAAAAAAAAAAAAAAAAAAAAAAAAAAAAAAAAAAAAAAAAAAAAAAAAAAAAAAAAAAAAAAAAAAAAAAAAAAAAAAAAAAAAAAAAAAAAAAAAAAAAAAAAAAAAAAAAAAAAAAAAAAAAAAAAAAAAAAAAAAAAAAAAAAAAAAAAAAAAAAAAAAAAAAAAAAAAAAAAAAAAAAAAAAAAAAAAAAAAAAAAAAAAAAAAAAAAAAAAAAAAAAAAAAAAAAAAAAAAAAAAAAAAAAAAAAAAAAAAAAAAAAAAAAAAAAAAAAAAAAAAAAAAAAAAAAAAAAAAAAAAAAAAAAAAAAAAAAAAAAAAAAAAAAAAAAAAAAAAAAAAAAAAAAAAAAAAAAAAAAAAAAAAAAAAAAAAAAAAAAAAAAAAAAAAAAAAAAAAAAAAAAAAAAAAAAAAAAAAAAAAAAAAAAAAAAAAAAAAAAAAAAAAAAAAAAAAAAAAAAAAAAAAAAAAAAAAAAAAAAAAAAAAAAAAAAAAAAAAAAAAAAAAAAAAAAAAAAAAAAAAAAAAAAAAAAAAAAAAAAAAAAAAAAAAAAAAAAAAAAAAAAAAAAAAAAAAAAAAAAAAAAAAAAAAAAAAAAAAAAAAAAAAAAAAAAAAAAAAAAAAAAAAAAAAAAAAAAAAAAAAAAAAAAAAAAAAAAAAAAAAAAAAAAAAAAAAAAAAAAAAAAAAAAAAAAAAAAAAAAAAAAAAAAAAAAAAAAAAAAAAAAAAAAAAAAAAAAAAAAAAAAAAAAAAAAAAAAAAAAAAAAAAAAAAAAAAAAAAAAAAAAAAAAAAAAAAAAAAAAAAAAAAAAAAAAAAAAAAAAAAAAAAAAAAAAAAAAAAAAAAAAAAAAAAAAAAAAAAAAAAAAAAAAAAAAAAAAAAAAAAAAAAAAAAAAAAAAAAAAAAAAAAAAAAAAAAAAAAAAAAAAAAAAAAAAAAAAAAAAAAAAAAAAAAAAAAAAAAAAAAAAAAAAAAAAAAAAAAAAAAAAAAAAAAAAAAAAAAAAAAAAAAAAAAAAAAAAAAAAAAAAAAAAAAAAAAAAAAAAAAAAAAAAAAAAAAAAAAAAAAAAAAAAAAAAAAAAAAAAAAAAAAAAAAAAAAAAAAAAAAAAAAAAAAAAAAAAAAAAAAAAAAAAAAAAAAAAAAAAAAAAAAAAAAAAAAAAAAAAAAAAAAAAAAAAAAAAAAAAAAAAAAAAAAAAAAAAAAAAAAAAAAAAAAAAAAAAAAAAAAAAAAAAAAAAAAAAAAAAAAAAAAAAAAAAAAAAAAAAAAAAAAAAAAAAAAAAAAAAAAAAAAAAAAAAAAAAAAAAAAAAAAAAAAAAAAAAAAAAAAAAAAAAAAAAAAAAAAAAAAAAAAAAAAAAAAAAAAAAAAAAAAAAAAAAAAAAAAAAAAAAAAAAAAAAAAAAAAAAAAAAAAAAAAAAAAAAAAAAAAAAAAAAAAAAAAAAAAAAAAAAAAAAAAAAAAAAAAAAAAAAAAAAAAAAAAAAAAAAAAAAAAAAAAAAAAAAAAAAAAAAAAAAAAAAAAAAAAAAAAAAAAAAAAAAAAAAAAAAAAAAAAAAAAAAAAAAAAAAAAAAAAAAAAAAAAAAAAAAAAAAAAAAAAAAAAAAAAAAAAAAAAAAAAAAAAAAAAAAAAAAAAAAAAAAAAAAAAAAAAAAAAAAAAAAAAAAAAAAAAAAAAAAAAAAAAAAAAAAAAAAAAAAAAAAAAAAAAAAAAAAAAAAAAAAAAAAAAAAAAAAAAAAAAAAAAAAAAAAAAAAAAAAAAAAAAAAAAAAAAAAAAAAAAAAAAAAAAAAAAAAAAAAAAAAAAAAAAAAAAAAAAAAAAAAAAAAAAAAAAAAAAAAAAAAAAAAAAAAAAAAAAAAAAAAAAAAAAAAAAAAAAAAAAAAAAAAAAAAAAAAAAAAAAAAAAAAAAAAAAAAAAAAAAAAAAAAAAAAAAAAAAAAAAAAAAAAAAAAAAAAAAAAAAAAAAAAAAAAAAAAAAAAAAAAAAAAAAAAAAAAAAAAAAAAAAAAAAAAAAAAAAAAAAAAAAAAAAAAAAAAAAAAAAAAAAAAAAAAAAAAAAAAAAAAAAAAAAAAAAAAAAAAAAAAAAAAAAAAAAAAAAAAAAAAAAAAAAAAAAAAAAAAAAAAAAAAAAAAAAAAAAAAAAAAAAAAAAAAAAAAAAAAAAAAAAAAAAAAAAAAAAAAAAAAAAAAAAAAAAAAAAAAAAAAAAAAAAAAAAAAAAAAAAAAAAAAAAAAAAAAAAAAAAAAAAAAAAAAAAAAAAAAAAAAAAAAAAAAAAAAAAAAAAAAAAAAAAAAAAAAAAAAAAAAAAAAAAAAAAAAAAAAAAAAAAAAAAAAAAAAAAAAAAAAAAAAAAAAAAAAAAAAAAAAAAAAAAAAAAAAAAAAAAAAAAAAAAAAAAAAAAAAAAAAAAAAAAAAAAAAAAAAAAAAAAAAAAAAAAAAAAAAAAAAAAAAAAAAAAAAAAAAAAAAAAAAAAAAAAAAAAAAAAAAAAAAAAAAAAAAAAAAAAAAAAAAAAAAAAAAAAAAAAAAAAAAAAAAAAAAAAAAAAAAAAAAAAAAAAAAAAAAAAAAAAAAAAAAAAAAAAAAAAAAAAAAAAAAAAAAAAAAAAAAAAAAAAAAAAAAAAAAAAAAAAAAAAAAAAAAAAAAAAAAAAAAAAAAAAAAAAAAAAAAAAAAAAAAAAAAAAAAAAAAAAAAAAAAAAAAAAAAAAAAAAAAAAAAAAAAAAAAAAAAAAAAAAAAAAAAAAAAAAAAAAAAAAAAAAAAAAAAAAAAAAAAAAAAAAAAAAAAAAAAAAAAAAAAAAAAAAAAAAAAAAAAAAAAAAAAAAAAAAAAAAAAAAAAAAAAAAAAAAAAAAAAAAAAAAAAAAAAAAAAAAAAAAAAAAAAAAAAAAAAAAAAAAAAAAAAAAAAAAAAAAAAAAAAAAAAAAAAAAAAAAAAAAAAAAAAAAAAAAAAAAAAAAAAAAAAAAAAAAAAAAAAAAAAAAAAAAAAAAAAAAAAAAAAAAAAAAAAAAAAAAAAAAAAAAAAAAAAAAAAAAAAAAAAAAAAAAAAAAAAAAAAAAAAAAAAAAAAAAAAAAAAAAAAAAAAAAAAAAAAAAAAAAAAAAAAAAAAAAAAAAAAAAAAAAAAAAAAAAAAAAAAAAAAAAAAAAAAAAAAAAAAAAAAAAAAAAAAAAAAAAAAAAAAAAAAAAAAAAAAAAAAAAAAAAAAAAAAAAAAAAAAAAAAAAAAAAAAAAAAAAAAAAAAAAAAAAAAAAAAAAAAAAAAAAAAAAAAAAAAAAAAAAAAAAAAAAAAAAAAAAAAAAAAAAAAAAAAAAAAAAAAAAAAAAAAAAAAAAAAAAAAAAAAAAAAAAAAAAAAAAAAAAAAAAAAAAAAAAAAAAAAAAAAAAAAAAAAAAAAAAAAAAAAAAAAAAAAAAAAAAAAAAAAAAAAAAAAAAAAAAAAAAAAAAAAAAAAAAAAAAAAAAAAAAAAAAAAAAAAAAAAAAAAAAAAAAAAAAAAAAAAAAAAAAAAAAAAAAAAAAAAAAAAAAAAAAAAAAAAAAAAAAA+H8=",
        "encoding": "base64",
        "path": [
         "_data",
         2,
         "y",
         "value"
        ]
       },
       {
        "data": "AAAAAAAAAAAAAAAAAAAAAAAAAAAAAAAAAAAAAAAAAAAAAAAAAAAAAAAAAAAAAAAAAAAAAAAAAAAAAAAAAAAAAAAAAAAAAAAAAAAAAAAAAAAAAAAAAAAAAAAAAAAAAAAAAAAAAAAAAAAAAAAAAAAAAAAAAAAAAAAAAAAAAAAAAAAAAAAAAAAAAAAAAAAAAAAAAAAAAAAAAAAAAAAAAAAAAAAAAAAAAAAAAAAAAAAAAAAAAAAAAAAAAAAAAAAAAAAAAAAAAAAAAAAAAAAAAAAAAAAAAAAAAAAAAAAAAAAAAAAAAAAAAAAAAAAAAAAAAAAAAAAAAAAAAAAAAAAAAAAAAAAAAAAAAAAAAAAAAAAAAAAAAAAAAAAAAAAAAAAAAAAAAAAAAAAAAAAAAAAAAAAAAAAAAAAAAAAAAAAAAAAAAAAAAAAAAAAAAAAAAAAAAAAAAAAAAAAAAAAAAAAAAAAAAAAAAAAAAAAAAAAAAAAAAAAAAAAAAAAAAAAAAAAAAAAAAAAAAAAAAAAAAAAAAAAAAAAAAAAAAAAAAAAAAAAAAAAAAAAAAAAAAAAAAAAAAAAAAAAAAAAAAAAAAAAAAAAAAAAAAAAAAAAAAAAAAAAAAAAAAAAAAAAAAAAAAAAAAAAAAAAAAAAAAAAAAAAAAAAAAAAAAAAAAAAAAAAAAAAAAAAAAAAAAAAAAAAAAAAAAAAAAAAAAAAAAAAAAAAAAAAAAAAAAAAAAAAAAAAAAAAAAAAAAAAAAAAAAAAAAAAAAAAAAAAAAAAAAAAAAAAAAAAAAAAAAAAAAAAAAAAAAAAAAAAAAAAAAAAAAAAAAAAAAAAAAAAAAAAAAAAAAAAAAAAAAAAAAAAAAAAAAAAAAAAAAAAAAAAAAAAAAAAAAAAAAAAAAAAAAAAAAAAAAAAAAAAAAAAAAAAAAAAAAAAAAAAAAAAAAAAAAAAAAAAAAAAAAAAAAAAAAAAAAAAAAAAAAAAAAAAAAAAAAAAAAAAAAAAAAAAAAAAAAAAAAAAAAAAAAAAAAAAAAAAAAAAAAAAAAAAAAAAAAAAAAAAAAAAAAAAAAAAAAAAAAAAAAAAAAAAAAAAAAAAAAAAAAAAAAAAAAAAAAAAAAAAAAAAAAAAAAAAAAAAAAAAAAAAAAAAAAAAAAAAAAAAAAAAAAAAAAAAAAAAAAAAAAAAAAAAAAAAAAAAAAAAAAAAAAAAAAAAAAAAAAAAAAAAAAAAAAAAAAAAAAAAAAAAAAAAAAAAAAAAAAAAAAAAAAAAAAAAAAAAAAAAAAAAAAAAAAAAAAAAAAAAAAAAAAAAAAAAAAAAAAAAAAAAAAAAAAAAAAAAAAAAAAAAAAAAAAAAAAAAAAAAAAAAAAAAAAAAAAAAAAAAAAAAAAAAAAAAAAAAAAAAAAAAAAAAAAAAAAAAAAAAAAAAAAAAAAAAAAAAAAAAAAAAAAAAAAAAAAAAAAAAAAAAAAAAAAAAAAAAAAAAAAAAAAAAAAAAAAAAAAAAAAAAAAAAAAAAAAAAAAAAAAAAAAAAAAAAAAAAAAAAAAAAAAAAAAAAAAAAAAAAAAAAAAAAAAAAAAAAAAAAAAAAAAAAAAAAAAAAAAAAAAAAAAAAAAAAAAAAAAAAAAAAAAAAAAAAAAAAAAAAAAAAAAAAAAAAAAAAAAAAAAAAAAAAAAAAAAAAAAAAAAAAAAAAAAAAAAAAAAAAAAAAAAAAAAAAAAAAAAAAAAAAAAAAAAAAAAAAAAAAAAAAAAAAAAAAAAAAAAAAAAAAAAAAAAAAAAAAAAAAAAAAAAAAAAAAAAAAAAAAAAAAAAAAAAAAAAAAAAAAAAAAAAAAAAAAAAAAAAAAAAAAAAAAAAAAAAAAAAAAAAAAAAAAAAAAAAAAAAAAAAAAAAAAAAAAAAAAAAAAAAAAAAAAAAAAAAAAAAAAAAAAAAAAAAAAAAAAAAAAAAAAAAAAAAAAAAAAAAAAAAAAAAAAAAAAAAAAAAAAAAAAAAAAAAAAAAAAAAAAAAAAAAAAAAAAAAAAAAAAAAAAAAAAAAAAAAAAAAAAAAAAAAAAAAAAAAAAAAAAAAAAAAAAAAAAAAAAAAAAAAAAAAAAAAAAAAAAAAAAAAAAAAAAAAAAAAAAAAAAAAAAAAAAAAAAAAAAAAAAAAAAAAAAAAAAAAAAAAAAAAAAAAAAAAAAAAAAAAAAAAAAAAAAAAAAAAAAAAAAAAAAAAAAAAAAAAAAAAAAAAAAAAAAAAAAAAAAAAAAAAAAAAAAAAAAAAAAAAAAAAAAAAAAAAAAAAAAAAAAAAAAAAAAAAAAAAAAAAAAAAAAAAAAAAAAAAAAAAAAAAAAAAAAAAAAAAAAAAAAAAAAAAAAAAAAAAAAAAAAAAAAAAAAAAAAAAAAAAAAAAAAAAAAAAAAAAAAAAAAAAAAAAAAAAAAAAAAAAAAAAAAAAAAAAAAAAAAAAAAAAAAAAAAAAAAAAAAAAAAAAAAAAAAAAAAAAAAAAAAAAAAAAAAAAAAAAAAAAAAAAAAAAAAAAAAAAAAAAAAAAAAAAAAAAAAAAAAAAAAAAAAAAAAAAAAAAAAAAAAAAAAAAAAAAAAAAAAAAAAAAAAAAAAAAAAAAAAAAAAAAAAAAAAAAAAAAAAAAAAAAAAAAAAAAAAAAAAAAAAAAAAAAAAAAAAAAAAAAAAAAAAAAAAAAAAAAAAAAAAAAAAAAAAAAAAAAAAAAAAAAAAAAAAAAAAAAAAAAAAAAAAAAAAAAAAAAAAAAAAAAAAAAAAAAAAAAAAAAAAAAAAAAAAAAAAAAAAAAAAAAAAAAAAAAAAAAAAAAAAAAAAAAAAAAAAAAAAAAAAAAAAAAAAAAAAAAAAAAAAAAAAAAAAAAAAAAAAAAAAAAAAAAAAAAAAAAAAAAAAAAAAAAAAAAAAAAAAAAAAAAAAAAAAAAAAAAAAAAAAAAAAAAAAAAAAAAAAAAAAAAAAAAAAAAAAAAAAAAAAAAAAAAAAAAAAAAAAAAAAAAAAAAAAAAAAAAAAAAAAAAAAAAAAAAAAAAAAAAAAAAAAAAAAAAAAAAAAAAAAAAAAAAAAAAAAAAAAAAAAAAAAAAAAAAAAAAAAAAAAAAAAAAAAAAAAAAAAAAAAAAAAAAAAAAAAAAAAAAAAAAAAAAAAAAAAAAAAAAAAAAAAAAAAAAAAAAAAAAAAAAAAAAAAAAAAAAAAAAAAAAAAAAAAAAAAAAAAAAAAAAAAAAAAAAAAAAAAAAAAAAAAAAAAAAAAAAAAAAAAAAAAAAAAAAAAAAAAAAAAAAAAAAAAAAAAAAAAAAAAAAAAAAAAAAAAAAAAAAAAAAAAAAAAAAAAAAAAAAAAAAAAAAAAAAAAAAAAAAAAAAAAAAAAAAAAAAAAAAAAAAAAAAAAAAAAAAAAAAAAAAAAAAAAAAAAAAAAAAAAAAAAAAAAAAAAAAAAAAAAAAAAAAAAAAAAAAAAAAAAAAAAAAAAAAAAAAAAAAAAAAAAAAAAAAAAAAAAAAAAAAAAAAAAAAAAAAAAAAAAAAAAAAAAAAAAAAAAAAAAAAAAAAAAAAAAAAAAAAAAAAAAAAAAAAAAAAAAAAAAAAAAAAAAAAAAAAAAAAAAAAAAAAAAAAAAAAAAAAAAAAAAAAAAAAAAAAAAAAAAAAAAAAAAAAAAAAAAAAAAAAAAAAAAAAAAAAAAAAAAAAAAAAAAAAAAAAAAAAAAAAAAAAAAAAAAAAAAAAAAAAAAAAAAAAAAAAAAAAAAAAAAAAAAAAAAAAAAAAAAAAAAAAAAAAAAAAAAAAAAAAAAAAAAAAAAAAAAAAAAAAAAAAAAAAAAAAAAAAAAAAAAAAAAAAAAAAAAAAAAAAAAAAAAAAAAAAAAAAAAAAAAAAAAAAAAAAAAAAAAAAAAAAAAAAAAAAAAAAAAAAAAAAAAAAAAAAAAAAAAAAAAAAAAAAAAAAAAAAAAAAAAAAAAAAAAAAAAAAAAAAAAAAAAAAAAAAAAAAAAAAAAAAAAAAAAAAAAAAAAAAAAAAAAAAAAAAAAAAAAAAAAAAAAAAAAAAAAAAAAAAAAAAAAAAAAAAAAAAAAAAAAAAAAAAAAAAAAAAAAAAAAAAAAAAAAAAAAAAAAAAAAAAAAAAAAAAAAAAAAAAAAAAAAAAAAAAAAAAAAAAAAAAAAAAAAAAAAAAAAAAAAAAAAAAAAAAAAAAAAAAAAAAAAAAAAAAAAAAAAAAAAAAAAAAAAAAAAAAAAAAAAAAAAAAAAAAAAAAAAAAAAAAAAAAAAAAAAAAAAAAAAAAAAAAAAAAAAAAAAAAAAAAAAAAAAAAAAAAAAAAAAAAAAAAAAAAAAAAAAAAAAAAAAAAAAAAAAAAAAAAAAAAAAAAAAAAAAAAAAAAAAAAAAAAAAAAAAAAAAAAAAAAAAAAAAAAAAAAAAAAAAAAAAAAAAAAAAAAAAAAAAAAAAAAAAAAAAAAAAAAAAAAAAAAAAAAAAAAAAAAAAAAAAAAAAAAAAAAAAAAAAAAAAAAAAAAAAAAAAAAAAAAAAAAAAAAAAAAAAAAAAAAAAAAAAAAAAAAAAAAAAAAAAAAAAAAAAAAAAAAAAAAAAAAAAAAAAAAAAAAAAAAAAAAAAAAAAAAAAAAAAAAAAAAAAAAAAAAAAAAAAAAAAAAAAAAAAAAAAAAAAAAAAAAAAAAAAAAAAAAAAAAAAAAAAAAAAAAAAAAAAAAAAAAAAAAAAAAAAAAAAAAAAAAAAAAAAAAAAAAAAAAAAAAAAAAAAAAAAAAAAAAAAAAAAAAAAAAAAAAAAAAAAAAAAAAAAAAAAAAAAAAAAAAAAAAAAAAAAAAAAAAAAAAAAAAAAAAAAAAAAAAAAAAAAAAAAAAAAAAAAAAAAAAAAAAAAAAAAAAAAAAAAAAAAAAAAAAAAAAAAAAAAAAAAAAAAAAAAAAAAAAAAAAAAAAAAAAAAAAAAAAAAAAAAAAAAAAAAAAAAAAAAAAAAAAAAAAAAAAAAAAAAAAAAAAAAAAAAAAAAAAAAAAAAAAAAAAAAAAAAAAAAAAAAAAAAAAAAAAAAAAAAAAAAAAAAAAAAAAAAAAAAAAAAAAAAAAAAAAAAAAAAAAAAAAAAAAAAAAAAAAAAAAAAAAAAAAAAAAAAAAAAAAAAAAAAAAAAAAAAAAAAAAAAAAAAAAAAAAAAAAAAAAAAAAAAAAAAAAAAAAAAAAAAAAAAAAAAAAAAAAAAAAAAAAAAAAAAAAAAAAAAAAAAAAAAAAAAAAAAAAAAAAAAAAAAAAAAAAAAAAAAAAAAAAAAAAAAAAAAAAAAAAAAAAAAAAAAAAAAAAAAAAAAAAAAAAAAAAAAAAAAAAAAAAAAAAAAAAAAAAAAAAAAAAAAAAAAAAAAAAAAAAAAAAAAAAAAAAAAAAAAAAAAAAAAAAAAAAAAAAAAAAAAAAAAAAAAAAAAAAAAAAAAAAAAAAAAAAAAAAAAAAAAAAAAAAAAAAAAAAAAAAAAAAAAAAAAAAAAAAAAAAAAAAAAAAAAAAAAAAAAAAAAAAAAAAAAAAAAAAAAAAAAAAAAAAAAAAAAAAAAAAAAAAAAAAAAAAAAAAAAAAAAAAAAAAAAAAAAAAAAAAAAAAAAAAAAAAAAAAAAAAAAAAAAAAAAAAAAAAAAAAAAAAAAAAAAAAAAAAAAAAAAAAAAAAAAAAAAAAAAAAAAAAAAAAAAAAAAAAAAAAAAAAAAAAAAAAAAAAAAAAAAAAAAAAAAAAAAAAAAAAAAAAAAAAAAAAAAAAAAAAAAAAAAAAAAAAAAAAAAAAAAAAAAAAAAAAAAAAAAAAAAAAAAAAAAAAAAAAAAAAAAAAAAAAAAAAAAAAAAAAAAAAAAAAAAAAAAAAAAAAAAAAAAAAAAAAAAAAAAAAAAAAAAAAAAAAAAAAAAAAAAAAAAAAAAAAAAAAAAAAAAAAAAAAAAAAAAAAAAAAAAAAAAAAAAAAAAAAAAAAAAAAAAAAAAAAAAAAAAAAAAAAAAAAAAAAAAAAAAAAAAAAAAAAAAAAAAAAAAAAAAAAAAAAAAAAAAAAAAAAAAAAAAAAAAAAAAAAAAAAAAAAAAAAAAAAAAAAAAAAAAAAAAAAAAAAAAAAAAAAAAAAAAAAAAAAAAAAAAAAAAAAAAAAAAAAAAAAAAAAAAAAAAAAAAAAAAAAAAAAAAAAAAAAAAAAAAAAAAAAAAAAAAAAAAAAAAAAAAAAAAAAAAAAAAAAAAAAAAAAAAAAAAAAAAAAAAAAAAAAAAAAAAAAAAAAAAAAAAAAAAAAAAAAAAAAAAAAAAAAAAAAAAAAAAAAAAAAAAAAAAAAAAAAAAAAAAAAAAAAAAAAAAAAAAAAAAAAAAAAAAAAAAAAAAAAAAAAAAAAAAAAAAAAAAAAAAAAAAAAAAAAAAAAAAAAAAAAAAAAAAAAAAAAAAAAAAAAAAAAAAAAAAAAAAAAAAAAAAAAAAAAAAAAAAAAAAAAAAAAAAAAAAAAAAAAAAAAAAAAAAAAAAAAAAAAAAAAAAAAAAAAAAAAAAAAAAAAAAAAAAAAAAAAAAAAAAAAAAAAAAAAAAAAAAAAAAAAAAAAAAAAAAAAAAAAAAAAAAAAAAAAAAAAAAAAAAAAAAAAAAAAAAAAAAAAAAAAAAAAAAAAAAAAAAAAAAAAAAAAAAAAAAAAAAAAAAAAAAAAAAAAAAAAAAAAAAAAAAAAAAAAAAAAAAAAAAAAAAAAAAAAAAAAAAAAAAAAAAAAAAAAAAAAAAAAAAAAAAAAAAAAAAAAAAAAAAAAAAAAAAAAAAAAAAAAAAAAAAAAAAAAAAAAAAAAAAAAAAAAAAAAAAAAAAAAAAAAAAAAAAAAAAAAAAAAAAAAAAAAAAAAAAAAAAAAAAAAAAAAAAAAAAAAAAAAAAAAAAAAAAAAAAAAAAAAAAAAAAAAAAAAAAAAAAAAAAAAAAAAAAAAAAAAAAAAAAAAAAAAAAAAAAAAAAAAAAAAAAAAAAAAAAAAAAAAAAAAAAAAAAAAAAAAAAAAAAAAAAAAAAAAAAAAAAAAAAAAAAAAAAAAAAAAAAAAAAAAAAAAAAAAAAAAAAAAAAAAAAAAAAAAAAAAAAAAAAAAAAAAAAAAAAAAAAAAAAAAAAAAAAAAAAAAAAAAAAAAAAAAAAAAAAAAAAAAAAAAAAAAAAAAAAAAAAAAAAAAAAAAAAAAAAAAAAAAAAAAAAAAAAAAAAAAAAAAAAAAAAAAAAAAAAAAAAAAAAAAAAAAAAAAAAAAAAAAAAAAAAAAAAAAAAAAAAAAAAAAAAAAAAAAAAAAAAAAAAAAAAAAAAAAAAAAAAAAAAAAAAAAAAAAAAAAAAAAAAAAAAAAAAAAAAAAAAAAAAAAAAAAAAAAAAAAAAAAAAAAAAAAAAAAAAAAAAAAAAAAAAAAAAAAAAAAAAAAAAAAAAAAAAAAAAAAAAAAAAAAAAAAAAAAAAAAAAAAAAAAAAAAAAAAAAAAAAAAAAAAAAAAAAAAAAAAAAAAAAAAAAAAAAAAAAAAAAAAAAAAAAAAAAAAAAAAAAAAAAAAAAAAAAAAAAAAAAAAAAAAAAAAAAAAAAAAAAAAAAAAAAAAAAAAAAAAAAAAAAAAAAAAAAAAAAAAAAAAAAAAAAAAAAAAAAAAAAAAAAAAAAAAAAAAAAAAAAAAAAAAAAAAAAAAAAAAAAAAAAAAAAAAAAAAAAAAAAAAAAAAAAAAAAAAAAAAAAAAAAAAAAAAAAAAAAAAAAAAAAAAAAAAAAAAAAAAAAAAAAAAAAAAAAAAAAAAAAAAAAAAAAAAAAAAAAAAAAAAAAAAAAAAAAAAAAAAAAAAAAAAAAAAAAAAAAAAAAAAAAAAAAAAAAAAAAAAAAAAAAAAAAAAAAAAAAAAAAAAAAAAAAAAAAAAAAAAAAAAAAAAAAAAAAAAAAAAAAAAAAAAAAAAAAAAAAAAAAAAAAAAAAAAAAAAAAAAAAAAAAAAAAAAAAAAAAAAAAAAAAAAAAAAAAAAAAAAAAAAAAAAAAAAAAAAAAAAAAAAAAAAAAAAAAAAAAAAAAAAAAAAAAAAAAAAAAAAAAAAAAAAAAAAAAAAAAAAAAAAAAAAAAAAAAAAAAAAAAAAAAAAAAAAAAAAAAAAAAAAAAAAAAAAAAAAAAAAAAAAAAAAAAAAAAAAAAAAAAAAAAAAAAAAAAAAAAAAAAAAAAAAAAAAAAAAAAAAAAAAAAAAAAAAAAAAAAAAAAAAAAAAAAAAAAAAAAAAAAAAAAAAAAAAAAAAAAAAAAAAAAAAAAAAAAAAAAAAAAAAAAAAAAAAAAAAAAAAAAAAAAAAAAAAAAAAAAAAAAAAAAAAAAAAAAAAAAAAAAAAAAAAAAAAAAAAAAAAAAAAAAAAAAAAAAAAAAAAAAAAAAAAAAAAAAAAAAAAAAAAAAAAAAAAAAAAAAAAAAAAAAAAAAAAAAAAAAAAAAAAAAAAAAAAAAAAAAAAAAAAAAAAAAAAAAAAAAAAAAAAAAAAAAAAAAAAAAAAAAAAAAAAAAAAAAAAAAAAAAAAAAAAAAAAAAAAAAAAAAAAAAAAAAAAAAAAAAAAAAAAAAAAAAAAAAAAAAAAAAAAAAAAAAAAAAAAAAAAAAAAAAAAAAAAAAAAAAAAAAAAAAAAAAAAAAAAAAAAAAAAAAAAAAAAAAAAAAAAAAAAAAAAAAAAAAAAAAAAAAAAAAAAAAAAAAAAAAAAAAAAAAAAAAAAAAAAAAAAAAAAAAAAAAAAAAAAAAAAAAAAAAAAAAAAAAAAAAAAAAAAAAAAAAAAAAAAAAAAAAAAAAAAAAAAAAAAAAAAAAAAAAAAAAAAAAAAAAAAAAAAAAAAAAAAAAAAAAAAAAAAAAAAAAAAAAAAAAAAAAAAAAAAAAAAAAAAAAAAAAAAAAAAAAAAAAAAAAAAAAAAAAAAAAAAAAAAAAAAAAAAAAAAAAAAAAAAAAAAAAAAAAAAAAAAAAAAAAAAAAAAAAAAAAAAAAAAAAAAAAAAAAAAAAAAAAAAAAAAAAAAAAAAAAAAAAAAAAAAAAAAAAAAAAAAAAAAAAAAAAAAAAAAAAAAAAAAAAAAAAAAAAAAAAAAAAAAAAAAAAAAAAAAAAAAAAAAAAAAAAAAAAAAAAAAAAAAAAAAAAAAAAAAAAAAAAAAAAAAAAAAAAAAAAAAAAAAAAAAAAAAAAAAAAAAAAAAAAAAAAAAAAAAAAAAAAAAAAAAAAAAAAAAAAAAAAAAAAAAAAAAAAAAAAAAAAAAAAAAAAAAAAAAAAAAAAAAAAAAAAAAAAAAAAAAAAAAAAAAAAAAAAAAAAAAAAAAAAAAAAAAAAAAAAAAAAAAAAAAAAAAAAAAAAAAAAAAAAAAAAAAAAAAAAAAAAAAAAAAAAAAAAAAAAAAAAAAAAAAAAAAAAAAAAAAAAAAAAAAAAAAAAAAAAAAAAAAAAAAAAAAAAAAAAAAAAAAAAAAAAAAAAAAAAAAAAAAAAAAAAAAAAAAAAAAAAAAAAAAAAAAAAAAAAAAAAAAAAAAAAAAAAAAAAAAAAAAAAAAAAAAAAAAAAAAAAAAAAAAAAAAAAAAAAAAAAAAAAAAAAAAAAAAAAAAAAAAAAAAAAAAAAAAAAAAAAAAAAAAAAAAAAAAAAAAAAAAAAAAAAAAAAAAAAAAAAAAAAAAAAAAAAAAAAAAAAAAAAAAAAAAAAAAAAAAAAAAAAAAAAAAAAAAAAAAAAAAAAAAAAAAAAAAAAAAAAAAAAAAAAAAAAAAAAAAAAAAAAAAAAAAAAAAAAAAAAAAAAAAAAAAAAAAAAAAAAAAAAAAAAAAAAAAAAAAAAAAAAAAAAAAAAAAAAAAAAAAAAAAAAAAAAAAAAAAAAAAAAAAAAAAAAAAAAAAAAAAAAAAAAAAAAAAAAAAAAAAAAAAAAAAAAAAAAAAAAAAAAAAAAAAAAAAAAAAAAAAAAAAAAAAAAAAAAAAAAAAAAAAAAAAAAAAAAAAAAAAAAAAAAAAAAAAAAAAAAAAAAAAAAAAAAAAAAAAAAAAAAAAAAAAAAAAAAAAAAAAAAAAAAAAAAAAAAAAAAAAAAAAAAAAAAAAAAAAAAAAAAAAAAAAAAAAAAAAAAAAAAAAAAAAAAAAAAAAAAAAAAAAAAAAAAAAAAAAAAAAAAAAAAAAAAAAAAAAAAAAAAAAAAAAAAAAAAAAAAAAAAAAAAAAAAAAAAAAAAAAAAAAAAAAAAAAAAAAAAAAAAAAAAAAAAAAAAAAAAAAAAAAAAAAAAAAAAAAAAAAAAAAAAAAAAAAAAAAAAAAAAAAAAAAAAAAAAAAAAAAAAAAAAAAAAAAAAAAAAAAAAAAAAAAAAAAAAAAAAAAAAAAAAAAAAAAAAAAAAAAAAAAAAAAAAAAAAAAAAAAAAAAAAAAAAAAAAAAAAAAAAAAAAAAAAAAAAAAAAAAAAAAAAAAAAAAAAAAAAAAAAAAAAAAAAAAAAAAAAAAAAAAAAAAAAAAAAAAAAAAAAAAAAAAAAAAAAAAAAAAAAAAAAAAAAAAAAAAAAAAAAAAAAAAAAAAAAAAAAAAAAAAAAAAAAAAAAAAAAAAAAAAAAAAAAAAAAAAAAAAAAAAAAAAAAAAAAAAAAAAAAAAAAAAAAAAAAAAAAAAAAAAAAAAAAAAAAAAAAAAAAAAAAAAAAAAAAAAAAAAAAAAAAAAAAAAAAAAAAAAAAAAAAAAAAAAAAAAAAAAAAAAAAAAAAAAAAAAAAAAAAAAAAAAAAAAAAAAAAAAAAAAAAAAAAAAAAAAAAAAAAAAAAAAAAAAAAA+H8=",
        "encoding": "base64",
        "path": [
         "_data",
         3,
         "y",
         "value"
        ]
       },
       {
        "data": "NxcRP/9u4UAdYOQSDkLiQAAAAAAAAPh/80g6YgtC4kA=",
        "encoding": "base64",
        "path": [
         "_data",
         5,
         "y",
         "value"
        ]
       }
      ],
      "model_module": "jupyterlab-plotly",
      "model_module_version": "^5.6.0",
      "model_name": "FigureModel",
      "state": {
       "_config": {
        "plotlyServerURL": "https://plot.ly"
       },
       "_data": [
        {
         "line": {
          "color": "gray"
         },
         "name": "<b style=\"color:sandybrown\">[R]</b> Tick <i style=\"color:#fc9944\">~890</i>",
         "opacity": 0.25,
         "type": "scattergl",
         "uid": "e1dc906e-6000-4f8a-8f74-43f4d94680d2",
         "x": [
          0,
          538,
          1383,
          2031,
          3137,
          3593,
          5130,
          5515,
          6577,
          7345,
          8157,
          8993,
          10173,
          11201,
          11585,
          13271,
          13859,
          15114,
          15962,
          16376,
          17585,
          17966,
          19605,
          20103,
          21223,
          21987,
          22971,
          23269,
          24660,
          25843,
          26486,
          27617,
          27858,
          28918,
          29923,
          30385,
          31850,
          32954,
          33197,
          34581,
          35488,
          36536,
          36982,
          37428,
          38585,
          39211,
          40693,
          41186,
          42109,
          42949,
          44087,
          44681,
          45635,
          46932,
          47987,
          48442,
          49026,
          50610,
          51316,
          51753,
          52925,
          54125,
          54599,
          55702,
          56352,
          57539,
          58815,
          59176,
          60476,
          61192,
          62294,
          62786,
          63390,
          64385,
          65936,
          66830,
          67532,
          68044,
          69269,
          70247,
          70699,
          71452,
          72774,
          73772,
          74013,
          75446,
          76158,
          77363,
          78239,
          78855,
          79362,
          80407,
          81462,
          82807,
          83352,
          83958,
          84819,
          85919,
          86816,
          88025,
          88759,
          89202,
          90683,
          91445,
          92386,
          92980,
          93838,
          94655,
          95542,
          96262,
          97135,
          98916,
          99760,
          100051,
          101046,
          102190,
          103112,
          103453,
          105098,
          105286,
          106936,
          107735,
          108557,
          108999,
          109669,
          110913,
          112212,
          112412,
          114037,
          114625,
          115536,
          115849,
          116939,
          118093,
          119244,
          120106,
          120755,
          121483,
          122140,
          123517,
          124141,
          124996,
          126162,
          126827,
          127647,
          129075,
          130019,
          130170,
          131154,
          132278,
          133114,
          134184,
          134815,
          135810,
          136545,
          137846,
          139017,
          139805,
          140089,
          140801,
          141943,
          143473,
          144077,
          144378,
          145561,
          146267,
          147233,
          148307,
          148983,
          150602,
          151324,
          151663,
          152630,
          153660,
          154591,
          155796,
          156173,
          156856,
          158351,
          159089,
          160186,
          160479,
          161672,
          162188,
          163509,
          164705,
          165358,
          165964,
          167103,
          168101,
          168796,
          169776,
          170878,
          171294,
          172373,
          173337,
          174192,
          175428,
          176146,
          176649,
          177437,
          178266,
          179321,
          180526,
          181062,
          182039,
          183474,
          184424,
          184854,
          185357,
          186763,
          187664,
          188380,
          188949,
          190125,
          190846,
          192213,
          193087,
          193867,
          194358,
          195359,
          196051,
          197028,
          198724,
          199593,
          200048,
          201006,
          201398,
          202378,
          204021,
          204539,
          205421,
          205884,
          207470,
          208511,
          208879,
          210010,
          210453,
          211530,
          212352,
          213143,
          214201,
          214934,
          216207,
          217232,
          217913,
          219219,
          219918,
          220158,
          221654,
          222721,
          222849,
          223879,
          224801,
          225767,
          226756,
          228095,
          228960,
          229517,
          230555,
          231369,
          231960,
          232693,
          233561,
          234984,
          235734,
          236228,
          237061,
          238448,
          239596,
          239731,
          241028,
          241689,
          242397,
          244027,
          244626,
          245165,
          246845,
          247098,
          247957,
          248894,
          250067,
          250888,
          251686,
          252194,
          253309,
          254531,
          255112,
          256226,
          256885,
          257567,
          259106,
          259582,
          260221,
          261814,
          262533,
          263478,
          264259,
          264777,
          266271,
          266534,
          267673,
          268814,
          269581,
          270213,
          271399,
          272499,
          272955,
          274024,
          275095,
          275925,
          277045,
          278023,
          278863,
          279178,
          280562,
          281229,
          282382,
          283225,
          284090,
          285019,
          285433,
          286229,
          286965,
          288525,
          289335,
          290112,
          290649,
          292230,
          292573,
          293898,
          294929,
          295396,
          296749,
          297220,
          298222,
          298869,
          299919,
          300904,
          301774,
          302433,
          303189,
          304090,
          305277,
          305910,
          307061,
          308096,
          308965,
          310009,
          310285,
          311115,
          312236,
          313075,
          314502,
          314918,
          316106,
          316525,
          317246,
          318294,
          319028,
          320570,
          321535,
          321886,
          322988,
          323484,
          324575,
          325566,
          326544,
          327540,
          328383,
          329154,
          330612,
          331245,
          332353,
          332978,
          333519,
          334696,
          335441,
          336159,
          336961,
          338376,
          339025,
          340148,
          340535,
          342197,
          342435,
          343394,
          344141,
          345090,
          346247,
          346682,
          348098,
          349326,
          349705,
          350618,
          351200,
          352366,
          353232,
          354196,
          354674,
          356152,
          357280,
          357645,
          358955,
          359460,
          360651,
          361090,
          361869,
          363089,
          364172,
          364616,
          365454,
          366686,
          367390,
          368929,
          369787,
          370466,
          370887,
          371937,
          372566,
          373650,
          375063,
          375647,
          376308,
          377699,
          378049,
          379051,
          380153,
          381233,
          381871,
          382693,
          383437,
          384374,
          385718,
          385914,
          387060,
          388128,
          388744,
          390183,
          390530,
          391404,
          392477,
          393021,
          394052,
          395089,
          395667,
          396670,
          397700,
          398450,
          400021,
          400438,
          401142,
          401917,
          402878,
          404100,
          404960,
          405672,
          406552,
          407842,
          408276,
          409177,
          410668,
          411693,
          412189,
          412920,
          413999,
          414719,
          415875,
          416458,
          417338,
          418007,
          418864,
          420576,
          420941,
          421520,
          422429,
          423456,
          424227,
          425372,
          426808,
          427302,
          428187,
          428983,
          430132,
          430597,
          431642,
          432435,
          433241,
          434763,
          434930,
          435770,
          436945,
          437942,
          439277,
          439958,
          440263,
          441431,
          442014,
          443651,
          443856,
          445502,
          446450,
          446952,
          447588,
          448596,
          449361,
          450869,
          451444,
          452257,
          453393,
          454077,
          454736,
          455893,
          456519,
          457585,
          458741,
          459423,
          460625,
          461296,
          462425,
          463128,
          463717,
          464459,
          465442,
          466669,
          467281,
          468211,
          469155,
          470418,
          471411,
          472037,
          473088,
          473452,
          474893,
          475276,
          476536,
          477343,
          477813,
          479431,
          479831,
          480499,
          481635,
          482115,
          483164,
          484123,
          484852,
          486252,
          487197,
          487581,
          488370,
          489663,
          490127,
          491617,
          492002,
          493103,
          494024,
          494957,
          496364,
          496585,
          497799,
          498753,
          499704,
          500344,
          500821,
          502602,
          503000,
          503972,
          504570,
          505321,
          506534,
          507389,
          508504,
          509617,
          510470,
          511245,
          511994,
          512432,
          513811,
          514190,
          515199,
          516085,
          516861,
          518393,
          518709,
          520109,
          520648,
          522117,
          522813,
          523705,
          524011,
          525695,
          525834,
          527166,
          528061,
          529056,
          529815,
          530304,
          531348,
          532404,
          533255,
          534259,
          534921,
          535902,
          536973,
          537789,
          538313,
          539463,
          540204,
          541385,
          542691,
          543594,
          543979,
          545017,
          546128,
          546642,
          547511,
          548640,
          549200,
          550548,
          550915,
          552192,
          553386,
          553900,
          554526,
          555337,
          556072,
          557341,
          558225,
          559366,
          560220,
          561353,
          561938,
          563199,
          563825,
          564500,
          565197,
          566291,
          567479,
          567757,
          568942,
          570107,
          571193,
          571647,
          572984,
          573779,
          574548,
          574990,
          575890,
          577456,
          578188,
          578369,
          579847,
          580694,
          581292,
          582563,
          583116,
          583817,
          584636,
          585637,
          586374,
          587369,
          588328,
          589771,
          589991,
          591086,
          592313,
          592884,
          593697,
          594416,
          596064,
          596537,
          597563,
          598230,
          599047,
          600125,
          601339,
          601563,
          602994,
          604006,
          604690,
          605740,
          606697,
          606945,
          608379,
          608794,
          609663,
          610718,
          611728,
          612649,
          613993,
          614574,
          615724,
          616420,
          616803,
          617579,
          619301,
          619458,
          620959,
          621961,
          622196,
          623057,
          624570,
          624733,
          626470,
          627129,
          627791,
          628254,
          629705,
          630206,
          631064,
          632617,
          633365,
          634469,
          635020,
          635699,
          636344,
          637551,
          638842,
          639658,
          639993,
          641359,
          642004,
          642912,
          643720,
          644791,
          645592,
          646076,
          647798,
          648496,
          648928,
          650531,
          651243,
          652261,
          652876,
          653441,
          654984,
          655070,
          656543,
          657122,
          658468,
          659069,
          659451,
          660698,
          661416,
          662312,
          663360,
          664428,
          664934,
          666119,
          667304,
          667568,
          669030,
          670087,
          670701,
          671866,
          672808,
          673435,
          674164,
          675301,
          676043,
          677097,
          677496,
          678158,
          679206,
          679987,
          680832,
          682302,
          683246,
          684380,
          685125,
          686176,
          686742,
          687918,
          688376,
          689364,
          689921,
          691344,
          692143,
          692868,
          694194,
          694636,
          695594,
          696131,
          697034,
          698571,
          699400,
          700001,
          700525,
          702145,
          702325,
          703523,
          704511,
          705745,
          706148,
          706736,
          708035,
          708576,
          709471,
          710315,
          711990,
          712266,
          713100,
          714118,
          715016,
          715599,
          717021,
          717430,
          718333,
          719799,
          720679,
          721551,
          722570,
          723034,
          724022,
          725206,
          726164,
          726813,
          728033,
          728695,
          729641,
          730035,
          731359,
          732415,
          733164,
          733623,
          734593,
          735812,
          736082,
          737464,
          738635,
          739056,
          740336,
          740561,
          741641,
          742948,
          743723,
          744107,
          745750,
          746766,
          747005,
          748555,
          749144,
          750229,
          751059,
          751672,
          752816,
          753178,
          754374,
          755260,
          756379,
          756772,
          757699,
          758883,
          760115,
          760367,
          761260,
          762352,
          763498,
          763791,
          764880,
          766315,
          767270,
          767510,
          768475,
          769922,
          770086,
          770836,
          772148,
          772920,
          774148,
          775132,
          776127,
          776883,
          777905,
          778408,
          778922,
          779748,
          781257,
          782212,
          782521,
          783329,
          784919,
          785867,
          786599,
          787356,
          788033,
          789450,
          790119,
          791102,
          791455,
          792348,
          793736,
          794291,
          794936,
          795976,
          796975,
          797824,
          798508,
          800158,
          800328,
          801955,
          802741,
          803013,
          804696,
          805584,
          806055,
          806589,
          807757,
          809007,
          809478,
          810495,
          811163,
          812033,
          813585,
          814073,
          815162,
          816248,
          816569,
          817244,
          818406,
          819347,
          820172,
          820939,
          821631,
          823276,
          823983,
          824698,
          825676,
          826723,
          827731,
          828167,
          828879,
          829693,
          830769,
          831787,
          832631,
          833883,
          834925,
          835456,
          836516,
          837353,
          838205,
          839050,
          840218,
          840935,
          841443,
          842687,
          843342,
          844546,
          845189,
          845781,
          846956,
          848077,
          849207,
          850019,
          850323,
          851272,
          852216,
          853003,
          854567,
          855224,
          855813,
          856657,
          857376,
          858834,
          859605,
          860311,
          861473,
          862234,
          863471,
          863981,
          864559,
          866087,
          866319,
          867354,
          868528,
          869295,
          870219,
          870644,
          872110,
          873042,
          873469,
          874208,
          875099,
          876188,
          877097,
          877974,
          879476,
          879954,
          880807,
          881361,
          883015,
          884010,
          884520,
          885088,
          886682,
          887574,
          888427,
          889167,
          889358
         ],
         "xaxis": "x2",
         "y": {
          "dtype": "float64",
          "shape": [
           1000
          ]
         }
        },
        {
         "line": {
          "color": "blue"
         },
         "name": "<b style=\"color:sandybrown\">[R]</b> Center <i style=\"color:#fc9944\">~890</i>",
         "opacity": 0.5,
         "type": "scattergl",
         "uid": "66bf19d7-18de-4997-aeb4-131868f399db",
         "x": [
          0,
          891,
          1782,
          2673,
          3564,
          4455,
          5346,
          6237,
          7129,
          8020,
          8911,
          9802,
          10693,
          11584,
          12475,
          13367,
          14258,
          15149,
          16040,
          16931,
          17822,
          18713,
          19605,
          20496,
          21387,
          22278,
          23169,
          24060,
          24951,
          25684,
          26478,
          26735,
          27656,
          28817,
          30298,
          30944,
          31718,
          32384,
          33439,
          34074,
          35038,
          36089,
          37131,
          37787,
          38649,
          39665,
          40984,
          41119,
          42721,
          43662,
          44239,
          44783,
          46071,
          47058,
          48121,
          48987,
          49617,
          50289,
          51096,
          52166,
          53003,
          53835,
          54789,
          55623,
          56903,
          57884,
          58697,
          59460,
          60178,
          61088,
          61711,
          62444,
          63452,
          64548,
          65783,
          66557,
          67001,
          68125,
          68797,
          70134,
          71258,
          72043,
          72528,
          73240,
          73972,
          75740,
          76102,
          77079,
          77889,
          78480,
          80034,
          80962,
          81927,
          82657,
          83283,
          84114,
          84872,
          85856,
          87214,
          88025,
          89008,
          89690,
          90782,
          91735,
          92515,
          93040,
          94297,
          94531,
          96230,
          96753,
          97974,
          98332,
          99606,
          100235,
          101566,
          102445,
          102785,
          103549,
          104964,
          105301,
          106137,
          107745,
          108707,
          109459,
          110341,
          111356,
          111926,
          112725,
          114065,
          114838,
          115120,
          116073,
          117305,
          118036,
          118957,
          120032,
          120563,
          121957,
          122571,
          123208,
          124210,
          125262,
          126105,
          126743,
          128257,
          128567,
          129798,
          130622,
          131395,
          132038,
          133594,
          133684,
          134593,
          135596,
          136613,
          137664,
          138737,
          139393,
          140058,
          141180,
          142428,
          142998,
          144348,
          144708,
          146063,
          146780,
          147457,
          148074,
          149460,
          150585,
          151492,
          151631,
          152570,
          153276,
          154628,
          155764,
          156239,
          157203,
          158457,
          159040,
          159826,
          160999,
          162145,
          162947,
          163275,
          164529,
          164990,
          165916,
          166828,
          167826,
          168806,
          169975,
          170609,
          171602,
          172758,
          173660,
          173887,
          175234,
          175920,
          176555,
          177673,
          179062,
          179233,
          180771,
          181537,
          181893,
          182869,
          183652,
          185356,
          186003,
          186885,
          187936,
          188397,
          189611,
          190052,
          191533,
          192486,
          193163,
          194152,
          194522,
          195598,
          196857,
          197651,
          198338,
          199021,
          200259,
          201061,
          201624,
          202640,
          203431,
          204338,
          205440,
          206679,
          207342,
          208184,
          209240,
          210214,
          210851,
          211797,
          212972,
          213623,
          214321,
          215034,
          216377,
          216995,
          218328,
          219132,
          219582,
          220495,
          221863,
          222700,
          223610,
          224214,
          225341,
          226278,
          226866,
          227378,
          228569,
          229072,
          230660,
          231461,
          232133,
          233452,
          233984,
          235081,
          235402,
          236202,
          237934,
          238561,
          239240,
          240235,
          241311,
          242225,
          243046,
          243913,
          244457,
          245728,
          246721,
          247576,
          248083,
          249098,
          249900,
          250859,
          251893,
          252675,
          253306,
          254294,
          255056,
          256077,
          256962,
          257920,
          259321,
          260159,
          260506,
          261753,
          262116,
          263514,
          264084,
          265539,
          265970,
          266813,
          268124,
          268711,
          269140,
          270478,
          271796,
          272440,
          273159,
          274001,
          274761,
          275872,
          276254,
          277550,
          278190,
          279675,
          280209,
          281454,
          282490,
          283272,
          283488,
          284912,
          285378,
          286221,
          287466,
          288699,
          289620,
          290143,
          291365,
          291975,
          292343,
          293449,
          294810,
          295485,
          296065,
          297424,
          298083,
          299421,
          300223,
          301146,
          301744,
          302695,
          303210,
          304281,
          304908,
          306096,
          307246,
          307784,
          309155,
          309780,
          310319,
          311317,
          312037,
          312886,
          314525,
          315132,
          315699,
          316863,
          317727,
          318638,
          319228,
          320726,
          320985,
          322422,
          322990,
          323652,
          325080,
          326136,
          326911,
          327566,
          327958,
          329120,
          329754,
          331069,
          331884,
          333275,
          333764,
          335068,
          335787,
          336817,
          337283,
          338120,
          338806,
          339626,
          341190,
          341879,
          342354,
          343852,
          344590,
          345590,
          346564,
          347244,
          347889,
          348940,
          349810,
          350571,
          351353,
          352764,
          353595,
          354622,
          355254,
          356203,
          356775,
          357387,
          358820,
          359725,
          360903,
          361761,
          361852,
          363026,
          364119,
          364629,
          365533,
          366681,
          367822,
          368931,
          369248,
          369823,
          371111,
          371677,
          373110,
          373981,
          374440,
          376060,
          376465,
          377817,
          378641,
          379479,
          380144,
          380840,
          381425,
          383059,
          383484,
          384234,
          385201,
          386431,
          387257,
          388521,
          389321,
          389804,
          390422,
          391661,
          392971,
          393415,
          394709,
          395583,
          396499,
          396889,
          397621,
          398613,
          400069,
          400371,
          401630,
          402276,
          403684,
          404577,
          405137,
          405872,
          406431,
          407704,
          408451,
          409501,
          410367,
          411701,
          412438,
          413141,
          414131,
          414652,
          416053,
          417046,
          417559,
          418532,
          419306,
          420177,
          420830,
          421516,
          423228,
          424097,
          424889,
          425524,
          426803,
          427229,
          428031,
          428660,
          430265,
          430925,
          432018,
          432472,
          433692,
          434752,
          435430,
          436396,
          436982,
          438015,
          439281,
          439860,
          440946,
          441634,
          442113,
          443164,
          444235,
          445503,
          446126,
          446549,
          447373,
          448814,
          449609,
          450317,
          451545,
          452395,
          453521,
          454009,
          454989,
          455480,
          456496,
          457542,
          458504,
          459814,
          460241,
          461591,
          461983,
          463111,
          463853,
          465037,
          465501,
          466590,
          466997,
          468333,
          469235,
          469841,
          471394,
          471994,
          472744,
          473260,
          474776,
          475047,
          476650,
          477147,
          478187,
          479107,
          480299,
          480768,
          481996,
          482514,
          483678,
          484604,
          485516,
          485754,
          486797,
          487769,
          488611,
          489761,
          490542,
          491734,
          492199,
          493669,
          494340,
          495289,
          495685,
          497052,
          497299,
          498259,
          499416,
          500074,
          501629,
          502460,
          503165,
          503682,
          505243,
          506165,
          506475,
          507202,
          508193,
          508993,
          509793,
          510649,
          511610,
          512917,
          514011,
          515050,
          515411,
          516751,
          517725,
          518609,
          519379,
          520324,
          520891,
          521756,
          522505,
          523346,
          524792,
          525295,
          526459,
          527132,
          527696,
          528669,
          529583,
          530630,
          531625,
          532189,
          533300,
          534235,
          535468,
          536329,
          537095,
          537655,
          538572,
          539501,
          540220,
          541060,
          542546,
          543226,
          543598,
          545359,
          545824,
          546385,
          547819,
          548321,
          549326,
          550404,
          550726,
          552404,
          553224,
          553422,
          554887,
          555887,
          556475,
          557270,
          558701,
          559118,
          559662,
          561059,
          561493,
          563029,
          563467,
          564982,
          565409,
          565877,
          567322,
          568363,
          568547,
          569579,
          570459,
          571357,
          572196,
          573703,
          574510,
          575674,
          576051,
          577320,
          577880,
          578672,
          580025,
          580576,
          581895,
          582253,
          582903,
          584201,
          585145,
          586261,
          586802,
          587776,
          589003,
          589849,
          589960,
          591375,
          592429,
          592831,
          594019,
          594982,
          595879,
          596553,
          597952,
          598661,
          599736,
          600412,
          601397,
          601912,
          603167,
          604172,
          604784,
          605569,
          606372,
          607458,
          608498,
          609414,
          610266,
          610557,
          612203,
          612749,
          613975,
          614516,
          615360,
          616433,
          616721,
          618018,
          618688,
          619778,
          620987,
          622015,
          622787,
          623615,
          624198,
          625579,
          626030,
          627223,
          628236,
          629063,
          629678,
          630545,
          631817,
          632311,
          632962,
          634148,
          635228,
          635527,
          637164,
          637703,
          638161,
          639462,
          640067,
          641253,
          641964,
          643230,
          643708,
          644579,
          646025,
          646509,
          647019,
          648354,
          649098,
          650149,
          651110,
          651921,
          653093,
          653648,
          654569,
          655783,
          656045,
          657370,
          657811,
          658722,
          659998,
          660756,
          661296,
          662117,
          663223,
          664100,
          665675,
          666350,
          667053,
          668354,
          669245,
          669899,
          670845,
          671586,
          671959,
          673598,
          674591,
          675020,
          676266,
          677178,
          677876,
          678805,
          679278,
          680579,
          681288,
          682540,
          683291,
          684394,
          684962,
          685469,
          686625,
          687608,
          688381,
          689596,
          690313,
          691344,
          691862,
          693305,
          693575,
          694391,
          695442,
          696358,
          697386,
          698573,
          699151,
          700020,
          701155,
          701327,
          702727,
          703591,
          704301,
          705450,
          706623,
          707521,
          708311,
          709178,
          709959,
          710970,
          711828,
          712144,
          713394,
          713943,
          714775,
          716360,
          716926,
          717583,
          718668,
          719334,
          720931,
          721493,
          722262,
          723164,
          724431,
          724894,
          725388,
          726471,
          727991,
          728761,
          729356,
          730249,
          731536,
          731971,
          732552,
          733851,
          734550,
          735325,
          736585,
          737707,
          738423,
          739219,
          740534,
          741356,
          742273,
          743083,
          744065,
          744968,
          745681,
          746045,
          747620,
          748323,
          749186,
          750331,
          751152,
          751817,
          752899,
          753398,
          754216,
          755502,
          756558,
          757311,
          758094,
          759154,
          759983,
          760161,
          761246,
          762100,
          763706,
          764065,
          764895,
          765921,
          767123,
          768061,
          769032,
          769749,
          770299,
          771288,
          772016,
          772645,
          773588,
          775109,
          776144,
          776268,
          777952,
          778803,
          778909,
          780388,
          781178,
          782323,
          783213,
          783855,
          784998,
          785672,
          786248,
          787026,
          787943,
          789259,
          789974,
          790442,
          791962,
          792671,
          793568,
          794762,
          795602,
          796208,
          797517,
          797904,
          799073,
          800243,
          800975,
          801717,
          802805,
          803459,
          804683,
          805001,
          805598,
          806909,
          807664,
          808705,
          809560,
          810836,
          811380,
          811915,
          813014,
          814267,
          815099,
          816136,
          816465,
          817340,
          818449,
          819207,
          819897,
          821625,
          822326,
          823324,
          823631,
          824573,
          825250,
          826396,
          827851,
          828302,
          829474,
          829681,
          831107,
          831730,
          832638,
          833863,
          834671,
          835676,
          836099,
          837610,
          838515,
          839205,
          839767,
          840346,
          841637,
          842702,
          843032,
          844780,
          845536,
          846367,
          846943,
          847699,
          848709,
          850093,
          850749,
          851856,
          852712,
          852855,
          853820,
          855179,
          855815,
          856711,
          858167,
          858540,
          859059,
          860104,
          860843,
          861732,
          862998,
          863740,
          865296,
          865785,
          866658,
          867372,
          868363,
          869672,
          870586,
          871369,
          871958,
          872453,
          873343,
          874892,
          875153,
          876521,
          877769,
          878288,
          879481,
          879959,
          880447,
          881410,
          882229,
          883754,
          884403,
          885587,
          886552,
          887346,
          888459,
          888865,
          889358
         ],
         "xaxis": "x2",
         "y": {
          "dtype": "float64",
          "shape": [
           1000
          ]
         }
        },
        {
         "line": {
          "color": "red",
          "dash": "dot"
         },
         "name": "<b style=\"color:sandybrown\">[R]</b> qA <i style=\"color:#fc9944\">~890</i>",
         "opacity": 0.5,
         "type": "scattergl",
         "uid": "4e786dd8-b36a-4e08-b6d8-5d57fb54aced",
         "x": [
          0,
          0,
          0,
          0,
          0,
          0,
          0,
          0,
          0,
          0,
          0,
          0,
          0,
          0,
          0,
          0,
          0,
          0,
          0,
          0,
          0,
          0,
          0,
          0,
          0,
          0,
          0,
          0,
          0,
          0,
          0,
          0,
          0,
          0,
          0,
          0,
          0,
          0,
          0,
          0,
          0,
          0,
          0,
          0,
          0,
          0,
          0,
          0,
          0,
          0,
          0,
          0,
          0,
          0,
          0,
          0,
          0,
          0,
          0,
          0,
          0,
          0,
          0,
          0,
          0,
          0,
          0,
          0,
          0,
          0,
          0,
          0,
          0,
          0,
          0,
          0,
          0,
          0,
          0,
          0,
          0,
          0,
          0,
          0,
          0,
          0,
          0,
          0,
          0,
          0,
          0,
          0,
          0,
          0,
          0,
          0,
          0,
          0,
          0,
          0,
          0,
          0,
          0,
          0,
          0,
          0,
          0,
          0,
          0,
          0,
          0,
          0,
          0,
          0,
          0,
          0,
          0,
          0,
          0,
          0,
          0,
          0,
          0,
          0,
          0,
          0,
          0,
          0,
          0,
          0,
          0,
          0,
          0,
          0,
          0,
          0,
          0,
          0,
          0,
          0,
          0,
          0,
          0,
          0,
          0,
          0,
          0,
          0,
          0,
          0,
          0,
          0,
          0,
          0,
          0,
          0,
          0,
          0,
          0,
          0,
          0,
          0,
          0,
          0,
          0,
          0,
          0,
          0,
          0,
          0,
          0,
          0,
          0,
          0,
          0,
          0,
          0,
          0,
          0,
          0,
          0,
          0,
          0,
          0,
          0,
          0,
          0,
          0,
          0,
          0,
          0,
          0,
          0,
          0,
          0,
          0,
          0,
          0,
          0,
          0,
          0,
          0,
          0,
          0,
          0,
          0,
          0,
          0,
          0,
          0,
          0,
          0,
          0,
          0,
          0,
          0,
          0,
          0,
          0,
          0,
          0,
          0,
          0,
          0,
          0,
          0,
          0,
          0,
          0,
          0,
          0,
          0,
          0,
          0,
          0,
          0,
          0,
          0,
          0,
          0,
          0,
          0,
          0,
          0,
          0,
          0,
          0,
          0,
          0,
          0,
          0,
          0,
          0,
          0,
          0,
          0,
          0,
          0,
          0,
          0,
          0,
          0,
          0,
          0,
          0,
          0,
          0,
          0,
          0,
          0,
          0,
          0,
          0,
          0,
          0,
          0,
          0,
          0,
          0,
          0,
          0,
          0,
          0,
          0,
          0,
          0,
          0,
          0,
          0,
          0,
          0,
          0,
          0,
          0,
          0,
          0,
          0,
          0,
          0,
          0,
          0,
          0,
          0,
          0,
          0,
          0,
          0,
          0,
          0,
          0,
          0,
          0,
          0,
          0,
          0,
          0,
          0,
          0,
          0,
          0,
          0,
          0,
          0,
          0,
          0,
          0,
          0,
          0,
          0,
          0,
          0,
          0,
          0,
          0,
          0,
          0,
          0,
          0,
          0,
          0,
          0,
          0,
          0,
          0,
          0,
          0,
          0,
          0,
          0,
          0,
          0,
          0,
          0,
          0,
          0,
          0,
          0,
          0,
          0,
          0,
          0,
          0,
          0,
          0,
          0,
          0,
          0,
          0,
          0,
          0,
          0,
          0,
          0,
          0,
          0,
          0,
          0,
          0,
          0,
          0,
          0,
          0,
          0,
          0,
          0,
          0,
          0,
          0,
          0,
          0,
          0,
          0,
          0,
          0,
          0,
          0,
          0,
          0,
          0,
          0,
          0,
          0,
          0,
          0,
          0,
          0,
          0,
          0,
          0,
          0,
          0,
          0,
          0,
          0,
          0,
          0,
          0,
          0,
          0,
          0,
          0,
          0,
          0,
          0,
          0,
          0,
          0,
          0,
          0,
          0,
          0,
          0,
          0,
          0,
          0,
          0,
          0,
          0,
          0,
          0,
          0,
          0,
          0,
          0,
          0,
          0,
          0,
          0,
          0,
          0,
          0,
          0,
          0,
          0,
          0,
          0,
          0,
          0,
          0,
          0,
          0,
          0,
          0,
          0,
          0,
          0,
          0,
          0,
          0,
          0,
          0,
          0,
          0,
          0,
          0,
          0,
          0,
          0,
          0,
          0,
          0,
          0,
          0,
          0,
          0,
          0,
          0,
          0,
          0,
          0,
          0,
          0,
          0,
          0,
          0,
          0,
          0,
          0,
          0,
          0,
          0,
          0,
          0,
          0,
          0,
          0,
          0,
          0,
          0,
          0,
          0,
          0,
          0,
          0,
          0,
          0,
          0,
          0,
          0,
          0,
          0,
          0,
          0,
          0,
          0,
          0,
          0,
          0,
          0,
          0,
          0,
          0,
          0,
          0,
          0,
          0,
          0,
          0,
          0,
          0,
          0,
          0,
          0,
          0,
          0,
          0,
          0,
          0,
          0,
          0,
          0,
          0,
          0,
          0,
          0,
          0,
          0,
          0,
          0,
          0,
          0,
          0,
          0,
          0,
          0,
          0,
          0,
          0,
          0,
          0,
          0,
          0,
          0,
          0,
          0,
          0,
          0,
          0,
          0,
          0,
          0,
          0,
          0,
          0,
          0,
          0,
          0,
          0,
          0,
          0,
          0,
          0,
          0,
          0,
          0,
          0,
          0,
          0,
          0,
          0,
          0,
          0,
          0,
          0,
          0,
          0,
          0,
          0,
          0,
          0,
          0,
          0,
          0,
          0,
          0,
          0,
          0,
          0,
          0,
          0,
          0,
          0,
          0,
          0,
          0,
          0,
          0,
          0,
          0,
          0,
          0,
          0,
          0,
          0,
          0,
          0,
          0,
          0,
          0,
          0,
          0,
          0,
          0,
          0,
          0,
          0,
          0,
          0,
          0,
          0,
          0,
          0,
          0,
          0,
          0,
          0,
          0,
          0,
          0,
          0,
          0,
          0,
          0,
          0,
          0,
          0,
          0,
          0,
          0,
          0,
          0,
          0,
          0,
          0,
          0,
          0,
          0,
          0,
          0,
          0,
          0,
          0,
          0,
          0,
          0,
          0,
          0,
          0,
          0,
          0,
          0,
          0,
          0,
          0,
          0,
          0,
          0,
          0,
          0,
          0,
          0,
          0,
          0,
          0,
          0,
          0,
          0,
          0,
          0,
          0,
          0,
          0,
          0,
          0,
          0,
          0,
          0,
          0,
          0,
          0,
          0,
          0,
          0,
          0,
          0,
          0,
          0,
          0,
          0,
          0,
          0,
          0,
          0,
          0,
          0,
          0,
          0,
          0,
          0,
          0,
          0,
          0,
          0,
          0,
          0,
          0,
          0,
          0,
          0,
          0,
          0,
          0,
          0,
          0,
          0,
          0,
          0,
          0,
          0,
          0,
          0,
          0,
          0,
          0,
          0,
          0,
          0,
          0,
          0,
          0,
          0,
          0,
          0,
          0,
          0,
          0,
          0,
          0,
          0,
          0,
          0,
          0,
          0,
          0,
          0,
          0,
          0,
          0,
          0,
          0,
          0,
          0,
          0,
          0,
          0,
          0,
          0,
          0,
          0,
          0,
          0,
          0,
          0,
          0,
          0,
          0,
          0,
          0,
          0,
          0,
          0,
          0,
          0,
          0,
          0,
          0,
          0,
          0,
          0,
          0,
          0,
          0,
          0,
          0,
          0,
          0,
          0,
          0,
          0,
          0,
          0,
          0,
          0,
          0,
          0,
          0,
          0,
          0,
          0,
          0,
          0,
          0,
          0,
          0,
          0,
          0,
          0,
          0,
          0,
          0,
          0,
          0,
          0,
          0,
          0,
          0,
          0,
          0,
          0,
          0,
          0,
          0,
          0,
          0,
          0,
          0,
          0,
          0,
          0,
          0,
          0,
          0,
          0,
          0,
          0,
          0,
          0,
          0,
          0,
          0,
          0,
          0,
          0,
          0,
          0,
          0,
          0,
          0,
          0,
          0,
          0,
          0,
          0,
          0,
          0,
          0,
          0,
          0,
          0,
          0,
          0,
          0,
          0,
          0,
          0,
          0,
          0,
          0,
          0,
          0,
          0,
          0,
          0,
          0,
          0,
          0,
          0,
          0,
          0,
          0,
          0,
          0,
          0,
          0,
          0,
          0,
          0,
          0,
          0,
          0,
          0,
          0,
          0,
          0,
          0,
          0,
          0,
          0,
          0,
          0,
          0,
          0,
          0,
          0,
          0,
          0,
          0,
          0,
          0,
          0,
          0,
          0,
          0,
          0,
          0,
          0,
          0,
          0,
          0,
          0,
          0,
          0,
          0,
          0,
          0,
          0,
          0,
          0,
          0,
          0,
          0,
          0,
          0,
          0,
          0,
          0,
          0,
          0,
          0,
          0,
          0,
          0,
          0,
          0,
          0,
          0,
          0,
          0,
          0,
          0,
          0,
          0,
          0,
          0,
          0,
          0,
          0,
          0,
          0,
          889358
         ],
         "xaxis": "x2",
         "y": {
          "dtype": "float64",
          "shape": [
           1000
          ]
         }
        },
        {
         "line": {
          "color": "green",
          "dash": "dot"
         },
         "name": "<b style=\"color:sandybrown\">[R]</b> qB <i style=\"color:#fc9944\">~890</i>",
         "opacity": 0.5,
         "type": "scattergl",
         "uid": "aecebe47-2afb-4c02-ac1a-70c2a4a2f10d",
         "x": [
          0,
          0,
          0,
          0,
          0,
          0,
          0,
          0,
          0,
          0,
          0,
          0,
          0,
          0,
          0,
          0,
          0,
          0,
          0,
          0,
          0,
          0,
          0,
          0,
          0,
          0,
          0,
          0,
          0,
          0,
          0,
          0,
          0,
          0,
          0,
          0,
          0,
          0,
          0,
          0,
          0,
          0,
          0,
          0,
          0,
          0,
          0,
          0,
          0,
          0,
          0,
          0,
          0,
          0,
          0,
          0,
          0,
          0,
          0,
          0,
          0,
          0,
          0,
          0,
          0,
          0,
          0,
          0,
          0,
          0,
          0,
          0,
          0,
          0,
          0,
          0,
          0,
          0,
          0,
          0,
          0,
          0,
          0,
          0,
          0,
          0,
          0,
          0,
          0,
          0,
          0,
          0,
          0,
          0,
          0,
          0,
          0,
          0,
          0,
          0,
          0,
          0,
          0,
          0,
          0,
          0,
          0,
          0,
          0,
          0,
          0,
          0,
          0,
          0,
          0,
          0,
          0,
          0,
          0,
          0,
          0,
          0,
          0,
          0,
          0,
          0,
          0,
          0,
          0,
          0,
          0,
          0,
          0,
          0,
          0,
          0,
          0,
          0,
          0,
          0,
          0,
          0,
          0,
          0,
          0,
          0,
          0,
          0,
          0,
          0,
          0,
          0,
          0,
          0,
          0,
          0,
          0,
          0,
          0,
          0,
          0,
          0,
          0,
          0,
          0,
          0,
          0,
          0,
          0,
          0,
          0,
          0,
          0,
          0,
          0,
          0,
          0,
          0,
          0,
          0,
          0,
          0,
          0,
          0,
          0,
          0,
          0,
          0,
          0,
          0,
          0,
          0,
          0,
          0,
          0,
          0,
          0,
          0,
          0,
          0,
          0,
          0,
          0,
          0,
          0,
          0,
          0,
          0,
          0,
          0,
          0,
          0,
          0,
          0,
          0,
          0,
          0,
          0,
          0,
          0,
          0,
          0,
          0,
          0,
          0,
          0,
          0,
          0,
          0,
          0,
          0,
          0,
          0,
          0,
          0,
          0,
          0,
          0,
          0,
          0,
          0,
          0,
          0,
          0,
          0,
          0,
          0,
          0,
          0,
          0,
          0,
          0,
          0,
          0,
          0,
          0,
          0,
          0,
          0,
          0,
          0,
          0,
          0,
          0,
          0,
          0,
          0,
          0,
          0,
          0,
          0,
          0,
          0,
          0,
          0,
          0,
          0,
          0,
          0,
          0,
          0,
          0,
          0,
          0,
          0,
          0,
          0,
          0,
          0,
          0,
          0,
          0,
          0,
          0,
          0,
          0,
          0,
          0,
          0,
          0,
          0,
          0,
          0,
          0,
          0,
          0,
          0,
          0,
          0,
          0,
          0,
          0,
          0,
          0,
          0,
          0,
          0,
          0,
          0,
          0,
          0,
          0,
          0,
          0,
          0,
          0,
          0,
          0,
          0,
          0,
          0,
          0,
          0,
          0,
          0,
          0,
          0,
          0,
          0,
          0,
          0,
          0,
          0,
          0,
          0,
          0,
          0,
          0,
          0,
          0,
          0,
          0,
          0,
          0,
          0,
          0,
          0,
          0,
          0,
          0,
          0,
          0,
          0,
          0,
          0,
          0,
          0,
          0,
          0,
          0,
          0,
          0,
          0,
          0,
          0,
          0,
          0,
          0,
          0,
          0,
          0,
          0,
          0,
          0,
          0,
          0,
          0,
          0,
          0,
          0,
          0,
          0,
          0,
          0,
          0,
          0,
          0,
          0,
          0,
          0,
          0,
          0,
          0,
          0,
          0,
          0,
          0,
          0,
          0,
          0,
          0,
          0,
          0,
          0,
          0,
          0,
          0,
          0,
          0,
          0,
          0,
          0,
          0,
          0,
          0,
          0,
          0,
          0,
          0,
          0,
          0,
          0,
          0,
          0,
          0,
          0,
          0,
          0,
          0,
          0,
          0,
          0,
          0,
          0,
          0,
          0,
          0,
          0,
          0,
          0,
          0,
          0,
          0,
          0,
          0,
          0,
          0,
          0,
          0,
          0,
          0,
          0,
          0,
          0,
          0,
          0,
          0,
          0,
          0,
          0,
          0,
          0,
          0,
          0,
          0,
          0,
          0,
          0,
          0,
          0,
          0,
          0,
          0,
          0,
          0,
          0,
          0,
          0,
          0,
          0,
          0,
          0,
          0,
          0,
          0,
          0,
          0,
          0,
          0,
          0,
          0,
          0,
          0,
          0,
          0,
          0,
          0,
          0,
          0,
          0,
          0,
          0,
          0,
          0,
          0,
          0,
          0,
          0,
          0,
          0,
          0,
          0,
          0,
          0,
          0,
          0,
          0,
          0,
          0,
          0,
          0,
          0,
          0,
          0,
          0,
          0,
          0,
          0,
          0,
          0,
          0,
          0,
          0,
          0,
          0,
          0,
          0,
          0,
          0,
          0,
          0,
          0,
          0,
          0,
          0,
          0,
          0,
          0,
          0,
          0,
          0,
          0,
          0,
          0,
          0,
          0,
          0,
          0,
          0,
          0,
          0,
          0,
          0,
          0,
          0,
          0,
          0,
          0,
          0,
          0,
          0,
          0,
          0,
          0,
          0,
          0,
          0,
          0,
          0,
          0,
          0,
          0,
          0,
          0,
          0,
          0,
          0,
          0,
          0,
          0,
          0,
          0,
          0,
          0,
          0,
          0,
          0,
          0,
          0,
          0,
          0,
          0,
          0,
          0,
          0,
          0,
          0,
          0,
          0,
          0,
          0,
          0,
          0,
          0,
          0,
          0,
          0,
          0,
          0,
          0,
          0,
          0,
          0,
          0,
          0,
          0,
          0,
          0,
          0,
          0,
          0,
          0,
          0,
          0,
          0,
          0,
          0,
          0,
          0,
          0,
          0,
          0,
          0,
          0,
          0,
          0,
          0,
          0,
          0,
          0,
          0,
          0,
          0,
          0,
          0,
          0,
          0,
          0,
          0,
          0,
          0,
          0,
          0,
          0,
          0,
          0,
          0,
          0,
          0,
          0,
          0,
          0,
          0,
          0,
          0,
          0,
          0,
          0,
          0,
          0,
          0,
          0,
          0,
          0,
          0,
          0,
          0,
          0,
          0,
          0,
          0,
          0,
          0,
          0,
          0,
          0,
          0,
          0,
          0,
          0,
          0,
          0,
          0,
          0,
          0,
          0,
          0,
          0,
          0,
          0,
          0,
          0,
          0,
          0,
          0,
          0,
          0,
          0,
          0,
          0,
          0,
          0,
          0,
          0,
          0,
          0,
          0,
          0,
          0,
          0,
          0,
          0,
          0,
          0,
          0,
          0,
          0,
          0,
          0,
          0,
          0,
          0,
          0,
          0,
          0,
          0,
          0,
          0,
          0,
          0,
          0,
          0,
          0,
          0,
          0,
          0,
          0,
          0,
          0,
          0,
          0,
          0,
          0,
          0,
          0,
          0,
          0,
          0,
          0,
          0,
          0,
          0,
          0,
          0,
          0,
          0,
          0,
          0,
          0,
          0,
          0,
          0,
          0,
          0,
          0,
          0,
          0,
          0,
          0,
          0,
          0,
          0,
          0,
          0,
          0,
          0,
          0,
          0,
          0,
          0,
          0,
          0,
          0,
          0,
          0,
          0,
          0,
          0,
          0,
          0,
          0,
          0,
          0,
          0,
          0,
          0,
          0,
          0,
          0,
          0,
          0,
          0,
          0,
          0,
          0,
          0,
          0,
          0,
          0,
          0,
          0,
          0,
          0,
          0,
          0,
          0,
          0,
          0,
          0,
          0,
          0,
          0,
          0,
          0,
          0,
          0,
          0,
          0,
          0,
          0,
          0,
          0,
          0,
          0,
          0,
          0,
          0,
          0,
          0,
          0,
          0,
          0,
          0,
          0,
          0,
          0,
          0,
          0,
          0,
          0,
          0,
          0,
          0,
          0,
          0,
          0,
          0,
          0,
          0,
          0,
          0,
          0,
          0,
          0,
          0,
          0,
          0,
          0,
          0,
          0,
          0,
          0,
          0,
          0,
          0,
          0,
          0,
          0,
          0,
          0,
          0,
          0,
          0,
          0,
          0,
          0,
          0,
          0,
          0,
          0,
          0,
          0,
          0,
          0,
          0,
          0,
          0,
          0,
          0,
          0,
          0,
          0,
          0,
          0,
          0,
          0,
          0,
          0,
          0,
          0,
          0,
          0,
          0,
          0,
          0,
          0,
          0,
          0,
          0,
          0,
          0,
          0,
          0,
          0,
          0,
          0,
          0,
          0,
          0,
          0,
          0,
          0,
          0,
          0,
          0,
          0,
          0,
          0,
          0,
          0,
          0,
          0,
          0,
          0,
          0,
          0,
          0,
          0,
          0,
          0,
          0,
          0,
          0,
          0,
          0,
          0,
          0,
          0,
          0,
          0,
          0,
          0,
          0,
          0,
          0,
          0,
          0,
          0,
          0,
          889358
         ],
         "xaxis": "x2",
         "y": {
          "dtype": "float64",
          "shape": [
           1000
          ]
         }
        },
        {
         "hovertext": "",
         "line": {
          "color": "black",
          "shape": "hv",
          "width": 8
         },
         "name": "Profit",
         "opacity": 0.1,
         "type": "scattergl",
         "uid": "28bc991a-0eda-4ca4-8bc6-b27975fd6998",
         "x": [
          0
         ],
         "xaxis": "x2",
         "y": [
          null
         ],
         "yaxis": "y2"
        },
        {
         "marker": {
          "color": "green",
          "line": {
           "color": "darkgreen",
           "width": 1
          },
          "size": 10,
          "symbol": "triangle-up"
         },
         "mode": "markers",
         "name": "Buy",
         "type": "scattergl",
         "uid": "8ae6b8fd-93a4-408d-a1cc-9f06046161c7",
         "x": [
          120613,
          418863,
          418864,
          418864
         ],
         "xaxis": "x2",
         "y": {
          "dtype": "float64",
          "shape": [
           4
          ]
         }
        },
        {
         "hovertext": "",
         "marker": {
          "color": "red",
          "line": {
           "color": "darkred",
           "width": 1
          },
          "size": 10,
          "symbol": "triangle-down"
         },
         "mode": "markers",
         "name": "Sell",
         "type": "scattergl",
         "uid": "c35bb7c6-9e66-4bbe-845b-e3485c832cfe",
         "x": [
          347996
         ],
         "xaxis": "x2",
         "y": [
          null
         ]
        }
       ],
       "_js2py_restyle": {},
       "_js2py_update": {},
       "_last_layout_edit_id": 41,
       "_last_trace_edit_id": 31,
       "_layout": {
        "autosize": true,
        "height": 650,
        "legend": {
         "orientation": "h",
         "x": 0.1,
         "y": 1
        },
        "margin": {
         "b": 10,
         "l": 45,
         "pad": 3,
         "r": 15,
         "t": 30
        },
        "template": {
         "data": {
          "bar": [
           {
            "error_x": {
             "color": "#2a3f5f"
            },
            "error_y": {
             "color": "#2a3f5f"
            },
            "marker": {
             "line": {
              "color": "white",
              "width": 0.5
             },
             "pattern": {
              "fillmode": "overlay",
              "size": 10,
              "solidity": 0.2
             }
            },
            "type": "bar"
           }
          ],
          "barpolar": [
           {
            "marker": {
             "line": {
              "color": "white",
              "width": 0.5
             },
             "pattern": {
              "fillmode": "overlay",
              "size": 10,
              "solidity": 0.2
             }
            },
            "type": "barpolar"
           }
          ],
          "carpet": [
           {
            "aaxis": {
             "endlinecolor": "#2a3f5f",
             "gridcolor": "#C8D4E3",
             "linecolor": "#C8D4E3",
             "minorgridcolor": "#C8D4E3",
             "startlinecolor": "#2a3f5f"
            },
            "baxis": {
             "endlinecolor": "#2a3f5f",
             "gridcolor": "#C8D4E3",
             "linecolor": "#C8D4E3",
             "minorgridcolor": "#C8D4E3",
             "startlinecolor": "#2a3f5f"
            },
            "type": "carpet"
           }
          ],
          "choropleth": [
           {
            "colorbar": {
             "outlinewidth": 0,
             "ticks": ""
            },
            "type": "choropleth"
           }
          ],
          "contour": [
           {
            "colorbar": {
             "outlinewidth": 0,
             "ticks": ""
            },
            "colorscale": [
             [
              0,
              "#0d0887"
             ],
             [
              0.1111111111111111,
              "#46039f"
             ],
             [
              0.2222222222222222,
              "#7201a8"
             ],
             [
              0.3333333333333333,
              "#9c179e"
             ],
             [
              0.4444444444444444,
              "#bd3786"
             ],
             [
              0.5555555555555556,
              "#d8576b"
             ],
             [
              0.6666666666666666,
              "#ed7953"
             ],
             [
              0.7777777777777778,
              "#fb9f3a"
             ],
             [
              0.8888888888888888,
              "#fdca26"
             ],
             [
              1,
              "#f0f921"
             ]
            ],
            "type": "contour"
           }
          ],
          "contourcarpet": [
           {
            "colorbar": {
             "outlinewidth": 0,
             "ticks": ""
            },
            "type": "contourcarpet"
           }
          ],
          "heatmap": [
           {
            "colorbar": {
             "outlinewidth": 0,
             "ticks": ""
            },
            "colorscale": [
             [
              0,
              "#0d0887"
             ],
             [
              0.1111111111111111,
              "#46039f"
             ],
             [
              0.2222222222222222,
              "#7201a8"
             ],
             [
              0.3333333333333333,
              "#9c179e"
             ],
             [
              0.4444444444444444,
              "#bd3786"
             ],
             [
              0.5555555555555556,
              "#d8576b"
             ],
             [
              0.6666666666666666,
              "#ed7953"
             ],
             [
              0.7777777777777778,
              "#fb9f3a"
             ],
             [
              0.8888888888888888,
              "#fdca26"
             ],
             [
              1,
              "#f0f921"
             ]
            ],
            "type": "heatmap"
           }
          ],
          "heatmapgl": [
           {
            "colorbar": {
             "outlinewidth": 0,
             "ticks": ""
            },
            "colorscale": [
             [
              0,
              "#0d0887"
             ],
             [
              0.1111111111111111,
              "#46039f"
             ],
             [
              0.2222222222222222,
              "#7201a8"
             ],
             [
              0.3333333333333333,
              "#9c179e"
             ],
             [
              0.4444444444444444,
              "#bd3786"
             ],
             [
              0.5555555555555556,
              "#d8576b"
             ],
             [
              0.6666666666666666,
              "#ed7953"
             ],
             [
              0.7777777777777778,
              "#fb9f3a"
             ],
             [
              0.8888888888888888,
              "#fdca26"
             ],
             [
              1,
              "#f0f921"
             ]
            ],
            "type": "heatmapgl"
           }
          ],
          "histogram": [
           {
            "marker": {
             "pattern": {
              "fillmode": "overlay",
              "size": 10,
              "solidity": 0.2
             }
            },
            "type": "histogram"
           }
          ],
          "histogram2d": [
           {
            "colorbar": {
             "outlinewidth": 0,
             "ticks": ""
            },
            "colorscale": [
             [
              0,
              "#0d0887"
             ],
             [
              0.1111111111111111,
              "#46039f"
             ],
             [
              0.2222222222222222,
              "#7201a8"
             ],
             [
              0.3333333333333333,
              "#9c179e"
             ],
             [
              0.4444444444444444,
              "#bd3786"
             ],
             [
              0.5555555555555556,
              "#d8576b"
             ],
             [
              0.6666666666666666,
              "#ed7953"
             ],
             [
              0.7777777777777778,
              "#fb9f3a"
             ],
             [
              0.8888888888888888,
              "#fdca26"
             ],
             [
              1,
              "#f0f921"
             ]
            ],
            "type": "histogram2d"
           }
          ],
          "histogram2dcontour": [
           {
            "colorbar": {
             "outlinewidth": 0,
             "ticks": ""
            },
            "colorscale": [
             [
              0,
              "#0d0887"
             ],
             [
              0.1111111111111111,
              "#46039f"
             ],
             [
              0.2222222222222222,
              "#7201a8"
             ],
             [
              0.3333333333333333,
              "#9c179e"
             ],
             [
              0.4444444444444444,
              "#bd3786"
             ],
             [
              0.5555555555555556,
              "#d8576b"
             ],
             [
              0.6666666666666666,
              "#ed7953"
             ],
             [
              0.7777777777777778,
              "#fb9f3a"
             ],
             [
              0.8888888888888888,
              "#fdca26"
             ],
             [
              1,
              "#f0f921"
             ]
            ],
            "type": "histogram2dcontour"
           }
          ],
          "mesh3d": [
           {
            "colorbar": {
             "outlinewidth": 0,
             "ticks": ""
            },
            "type": "mesh3d"
           }
          ],
          "parcoords": [
           {
            "line": {
             "colorbar": {
              "outlinewidth": 0,
              "ticks": ""
             }
            },
            "type": "parcoords"
           }
          ],
          "pie": [
           {
            "automargin": true,
            "type": "pie"
           }
          ],
          "scatter": [
           {
            "marker": {
             "colorbar": {
              "outlinewidth": 0,
              "ticks": ""
             }
            },
            "type": "scatter"
           }
          ],
          "scatter3d": [
           {
            "line": {
             "colorbar": {
              "outlinewidth": 0,
              "ticks": ""
             }
            },
            "marker": {
             "colorbar": {
              "outlinewidth": 0,
              "ticks": ""
             }
            },
            "type": "scatter3d"
           }
          ],
          "scattercarpet": [
           {
            "marker": {
             "colorbar": {
              "outlinewidth": 0,
              "ticks": ""
             }
            },
            "type": "scattercarpet"
           }
          ],
          "scattergeo": [
           {
            "marker": {
             "colorbar": {
              "outlinewidth": 0,
              "ticks": ""
             }
            },
            "type": "scattergeo"
           }
          ],
          "scattergl": [
           {
            "marker": {
             "colorbar": {
              "outlinewidth": 0,
              "ticks": ""
             }
            },
            "type": "scattergl"
           }
          ],
          "scattermapbox": [
           {
            "marker": {
             "colorbar": {
              "outlinewidth": 0,
              "ticks": ""
             }
            },
            "type": "scattermapbox"
           }
          ],
          "scatterpolar": [
           {
            "marker": {
             "colorbar": {
              "outlinewidth": 0,
              "ticks": ""
             }
            },
            "type": "scatterpolar"
           }
          ],
          "scatterpolargl": [
           {
            "marker": {
             "colorbar": {
              "outlinewidth": 0,
              "ticks": ""
             }
            },
            "type": "scatterpolargl"
           }
          ],
          "scatterternary": [
           {
            "marker": {
             "colorbar": {
              "outlinewidth": 0,
              "ticks": ""
             }
            },
            "type": "scatterternary"
           }
          ],
          "surface": [
           {
            "colorbar": {
             "outlinewidth": 0,
             "ticks": ""
            },
            "colorscale": [
             [
              0,
              "#0d0887"
             ],
             [
              0.1111111111111111,
              "#46039f"
             ],
             [
              0.2222222222222222,
              "#7201a8"
             ],
             [
              0.3333333333333333,
              "#9c179e"
             ],
             [
              0.4444444444444444,
              "#bd3786"
             ],
             [
              0.5555555555555556,
              "#d8576b"
             ],
             [
              0.6666666666666666,
              "#ed7953"
             ],
             [
              0.7777777777777778,
              "#fb9f3a"
             ],
             [
              0.8888888888888888,
              "#fdca26"
             ],
             [
              1,
              "#f0f921"
             ]
            ],
            "type": "surface"
           }
          ],
          "table": [
           {
            "cells": {
             "fill": {
              "color": "#EBF0F8"
             },
             "line": {
              "color": "white"
             }
            },
            "header": {
             "fill": {
              "color": "#C8D4E3"
             },
             "line": {
              "color": "white"
             }
            },
            "type": "table"
           }
          ]
         },
         "layout": {
          "annotationdefaults": {
           "arrowcolor": "#2a3f5f",
           "arrowhead": 0,
           "arrowwidth": 1
          },
          "autotypenumbers": "strict",
          "coloraxis": {
           "colorbar": {
            "outlinewidth": 0,
            "ticks": ""
           }
          },
          "colorscale": {
           "diverging": [
            [
             0,
             "#8e0152"
            ],
            [
             0.1,
             "#c51b7d"
            ],
            [
             0.2,
             "#de77ae"
            ],
            [
             0.3,
             "#f1b6da"
            ],
            [
             0.4,
             "#fde0ef"
            ],
            [
             0.5,
             "#f7f7f7"
            ],
            [
             0.6,
             "#e6f5d0"
            ],
            [
             0.7,
             "#b8e186"
            ],
            [
             0.8,
             "#7fbc41"
            ],
            [
             0.9,
             "#4d9221"
            ],
            [
             1,
             "#276419"
            ]
           ],
           "sequential": [
            [
             0,
             "#0d0887"
            ],
            [
             0.1111111111111111,
             "#46039f"
            ],
            [
             0.2222222222222222,
             "#7201a8"
            ],
            [
             0.3333333333333333,
             "#9c179e"
            ],
            [
             0.4444444444444444,
             "#bd3786"
            ],
            [
             0.5555555555555556,
             "#d8576b"
            ],
            [
             0.6666666666666666,
             "#ed7953"
            ],
            [
             0.7777777777777778,
             "#fb9f3a"
            ],
            [
             0.8888888888888888,
             "#fdca26"
            ],
            [
             1,
             "#f0f921"
            ]
           ],
           "sequentialminus": [
            [
             0,
             "#0d0887"
            ],
            [
             0.1111111111111111,
             "#46039f"
            ],
            [
             0.2222222222222222,
             "#7201a8"
            ],
            [
             0.3333333333333333,
             "#9c179e"
            ],
            [
             0.4444444444444444,
             "#bd3786"
            ],
            [
             0.5555555555555556,
             "#d8576b"
            ],
            [
             0.6666666666666666,
             "#ed7953"
            ],
            [
             0.7777777777777778,
             "#fb9f3a"
            ],
            [
             0.8888888888888888,
             "#fdca26"
            ],
            [
             1,
             "#f0f921"
            ]
           ]
          },
          "colorway": [
           "#636efa",
           "#EF553B",
           "#00cc96",
           "#ab63fa",
           "#FFA15A",
           "#19d3f3",
           "#FF6692",
           "#B6E880",
           "#FF97FF",
           "#FECB52"
          ],
          "font": {
           "color": "#2a3f5f"
          },
          "geo": {
           "bgcolor": "white",
           "lakecolor": "white",
           "landcolor": "white",
           "showlakes": true,
           "showland": true,
           "subunitcolor": "#C8D4E3"
          },
          "hoverlabel": {
           "align": "left"
          },
          "hovermode": "closest",
          "mapbox": {
           "style": "light"
          },
          "paper_bgcolor": "white",
          "plot_bgcolor": "white",
          "polar": {
           "angularaxis": {
            "gridcolor": "#EBF0F8",
            "linecolor": "#EBF0F8",
            "ticks": ""
           },
           "bgcolor": "white",
           "radialaxis": {
            "gridcolor": "#EBF0F8",
            "linecolor": "#EBF0F8",
            "ticks": ""
           }
          },
          "scene": {
           "xaxis": {
            "backgroundcolor": "white",
            "gridcolor": "#DFE8F3",
            "gridwidth": 2,
            "linecolor": "#EBF0F8",
            "showbackground": true,
            "ticks": "",
            "zerolinecolor": "#EBF0F8"
           },
           "yaxis": {
            "backgroundcolor": "white",
            "gridcolor": "#DFE8F3",
            "gridwidth": 2,
            "linecolor": "#EBF0F8",
            "showbackground": true,
            "ticks": "",
            "zerolinecolor": "#EBF0F8"
           },
           "zaxis": {
            "backgroundcolor": "white",
            "gridcolor": "#DFE8F3",
            "gridwidth": 2,
            "linecolor": "#EBF0F8",
            "showbackground": true,
            "ticks": "",
            "zerolinecolor": "#EBF0F8"
           }
          },
          "shapedefaults": {
           "line": {
            "color": "#2a3f5f"
           }
          },
          "ternary": {
           "aaxis": {
            "gridcolor": "#DFE8F3",
            "linecolor": "#A2B1C6",
            "ticks": ""
           },
           "baxis": {
            "gridcolor": "#DFE8F3",
            "linecolor": "#A2B1C6",
            "ticks": ""
           },
           "bgcolor": "white",
           "caxis": {
            "gridcolor": "#DFE8F3",
            "linecolor": "#A2B1C6",
            "ticks": ""
           }
          },
          "title": {
           "x": 0.05
          },
          "xaxis": {
           "automargin": true,
           "gridcolor": "#EBF0F8",
           "linecolor": "#EBF0F8",
           "ticks": "",
           "title": {
            "standoff": 15
           },
           "zerolinecolor": "#EBF0F8",
           "zerolinewidth": 2
          },
          "yaxis": {
           "automargin": true,
           "gridcolor": "#EBF0F8",
           "linecolor": "#EBF0F8",
           "ticks": "",
           "title": {
            "standoff": 15
           },
           "zerolinecolor": "#EBF0F8",
           "zerolinewidth": 2
          }
         }
        },
        "xaxis": {
         "anchor": "y",
         "domain": [
          0,
          0.94
         ],
         "spikedash": "dot",
         "spikemode": "across+marker",
         "spikesnap": "cursor",
         "spikethickness": 2
        },
        "xaxis2": {
         "autorange": true,
         "range": [
          126681.66153425569,
          128357.80061001107
         ]
        },
        "yaxis": {
         "anchor": "x",
         "autorange": true,
         "domain": [
          0,
          1
         ]
        },
        "yaxis2": {
         "anchor": "x",
         "autorange": true,
         "overlaying": "y",
         "range": [
          3.4286429277944737,
          3.428711966702648
         ],
         "side": "right"
        }
       },
       "_py2js_animate": {},
       "_py2js_deleteTraces": {},
       "_py2js_moveTraces": {},
       "_py2js_removeTraceProps": {},
       "_view_count": 0
      }
     },
     "a8ef882e1227444fb245652b0fcc14f3": {
      "model_module": "@jupyter-widgets/controls",
      "model_module_version": "1.5.0",
      "model_name": "VBoxModel",
      "state": {
       "children": [
        "IPY_MODEL_336fd4dd231d44fab95a0e8f12e51fe8",
        "IPY_MODEL_906f04de22dc4c91b335812e009f1f39"
       ],
       "layout": "IPY_MODEL_9cbddb2f058a4df28dbc1ca22ff08758"
      }
     },
     "b3d6a0a17a8046f992223fbde2ab7e96": {
      "model_module": "@jupyter-widgets/controls",
      "model_module_version": "1.5.0",
      "model_name": "HTMLModel",
      "state": {
       "layout": "IPY_MODEL_42afb9f642354c56a81b6b2d4ecee9ed",
       "style": "IPY_MODEL_01daa88758724d9485453c17ea30c17d",
       "value": " 5/5 [00:08&lt;00:00,  1.53s/it, fit=6,430.57]"
      }
     },
     "b75f63ce3d434fcdb85f482635c5ebed": {
      "model_module": "@jupyter-widgets/controls",
      "model_module_version": "1.5.0",
      "model_name": "FloatProgressModel",
      "state": {
       "bar_style": "success",
       "layout": "IPY_MODEL_9ec64a8b98db4c9dab63cebef5830dbe",
       "max": 5,
       "style": "IPY_MODEL_6ed3ec66b0cc4e7595ca309177751de0",
       "value": 5
      }
     },
     "bb3c4781a22b40cf8ab15a72adb783f2": {
      "model_module": "ipyslickgrid",
      "model_module_version": "0.0.3",
      "model_name": "QgridModel",
      "state": {
       "_columns": {
        "AvgProfit": {
         "cssClass": "number",
         "defaultSortAsc": false,
         "editable": true,
         "field": "AvgProfit",
         "id": "AvgProfit",
         "minWidth": 30,
         "name": "AvgProfit",
         "position": 6,
         "resizable": true,
         "sortable": true,
         "toolTip": "",
         "type": "number"
        },
        "Count": {
         "cssClass": "number",
         "defaultSortAsc": false,
         "editable": true,
         "field": "Count",
         "id": "Count",
         "minWidth": 30,
         "name": "Count",
         "position": 5,
         "resizable": true,
         "sortable": true,
         "toolTip": "",
         "type": "number"
        },
        "Fitness": {
         "cssClass": "number",
         "defaultSortAsc": false,
         "editable": true,
         "field": "Fitness",
         "id": "Fitness",
         "minWidth": 30,
         "name": "Fitness",
         "position": 4,
         "resizable": true,
         "sortable": true,
         "toolTip": "",
         "type": "number"
        },
        "Period": {
         "cssClass": "integer",
         "defaultSortAsc": false,
         "editable": true,
         "field": "Period",
         "id": "Period",
         "minWidth": 30,
         "name": "Period",
         "position": 2,
         "resizable": true,
         "sortable": true,
         "toolTip": "",
         "type": "integer"
        },
        "Sharpe": {
         "cssClass": "number",
         "defaultSortAsc": false,
         "editable": true,
         "field": "Sharpe",
         "id": "Sharpe",
         "minWidth": 30,
         "name": "Sharpe",
         "position": 7,
         "resizable": true,
         "sortable": true,
         "toolTip": "",
         "type": "number"
        },
        "StdDev": {
         "cssClass": "number",
         "defaultSortAsc": false,
         "editable": true,
         "field": "StdDev",
         "id": "StdDev",
         "minWidth": 30,
         "name": "StdDev",
         "position": 3,
         "resizable": true,
         "sortable": true,
         "toolTip": "",
         "type": "number"
        },
        "index": {
         "cssClass": "integer first-idx-col idx-col",
         "defaultSortAsc": false,
         "editable": true,
         "field": "index",
         "first_index": true,
         "id": "index",
         "index_display_text": "",
         "is_index": true,
         "level": 0,
         "minWidth": 30,
         "name": "",
         "position": 0,
         "resizable": true,
         "sortable": true,
         "toolTip": "",
         "type": "integer"
        },
        "qgrid_unfiltered_index": {
         "cssClass": "integer",
         "defaultSortAsc": false,
         "editable": true,
         "field": "qgrid_unfiltered_index",
         "id": "qgrid_unfiltered_index",
         "maxWidth": null,
         "minWidth": 30,
         "name": "qgrid_unfiltered_index",
         "position": 1,
         "resizable": true,
         "sortable": true,
         "toolTip": "",
         "type": "integer",
         "width": null
        }
       },
       "_df_json": "{\"schema\":{\"fields\":[{\"name\":\"index\",\"type\":\"integer\"},{\"name\":\"qgrid_unfiltered_index\",\"type\":\"integer\"},{\"name\":\"Period\",\"type\":\"integer\"},{\"name\":\"StdDev\",\"type\":\"number\"},{\"name\":\"Fitness\",\"type\":\"number\"},{\"name\":\"Count\",\"type\":\"number\"},{\"name\":\"AvgProfit\",\"type\":\"number\"},{\"name\":\"Sharpe\",\"type\":\"number\"}],\"primaryKey\":[\"index\"],\"pandas_version\":\"0.20.0\"},\"data\":[{\"index\":368,\"qgrid_unfiltered_index\":230,\"Period\":31966,\"StdDev\":3.1709,\"Fitness\":7542.2463,\"Count\":5.0,\"AvgProfit\":1508.44926,\"Sharpe\":7.19682},{\"index\":131,\"qgrid_unfiltered_index\":229,\"Period\":31660,\"StdDev\":3.1709,\"Fitness\":7534.36376,\"Count\":5.0,\"AvgProfit\":1506.87275,\"Sharpe\":7.18989},{\"index\":396,\"qgrid_unfiltered_index\":228,\"Period\":27459,\"StdDev\":2.34235,\"Fitness\":5902.99415,\"Count\":23.0,\"AvgProfit\":256.65192,\"Sharpe\":12.49996},{\"index\":156,\"qgrid_unfiltered_index\":227,\"Period\":35523,\"StdDev\":3.1709,\"Fitness\":5801.64027,\"Count\":4.0,\"AvgProfit\":1450.41007,\"Sharpe\":7.3085},{\"index\":209,\"qgrid_unfiltered_index\":226,\"Period\":31966,\"StdDev\":2.34235,\"Fitness\":5777.49276,\"Count\":21.0,\"AvgProfit\":275.1187,\"Sharpe\":12.29483},{\"index\":356,\"qgrid_unfiltered_index\":225,\"Period\":30565,\"StdDev\":3.1709,\"Fitness\":5739.50969,\"Count\":4.0,\"AvgProfit\":1434.87742,\"Sharpe\":7.41162},{\"index\":387,\"qgrid_unfiltered_index\":224,\"Period\":33951,\"StdDev\":3.1709,\"Fitness\":5570.46388,\"Count\":4.0,\"AvgProfit\":1392.61597,\"Sharpe\":6.89477},{\"index\":364,\"qgrid_unfiltered_index\":223,\"Period\":32846,\"StdDev\":3.1709,\"Fitness\":5562.8699,\"Count\":4.0,\"AvgProfit\":1390.71747,\"Sharpe\":6.91246},{\"index\":243,\"qgrid_unfiltered_index\":222,\"Period\":33267,\"StdDev\":3.08307,\"Fitness\":5531.51467,\"Count\":6.0,\"AvgProfit\":921.91911,\"Sharpe\":9.36964},{\"index\":400,\"qgrid_unfiltered_index\":221,\"Period\":31660,\"StdDev\":2.34235,\"Fitness\":5311.83496,\"Count\":21.0,\"AvgProfit\":252.94452,\"Sharpe\":11.31115},{\"index\":469,\"qgrid_unfiltered_index\":220,\"Period\":35523,\"StdDev\":3.08307,\"Fitness\":5221.20815,\"Count\":4.0,\"AvgProfit\":1305.30204,\"Sharpe\":6.76206},{\"index\":309,\"qgrid_unfiltered_index\":219,\"Period\":30565,\"StdDev\":2.34235,\"Fitness\":5094.69921,\"Count\":21.0,\"AvgProfit\":242.60472,\"Sharpe\":10.76422},{\"index\":165,\"qgrid_unfiltered_index\":218,\"Period\":31660,\"StdDev\":3.08307,\"Fitness\":5046.3,\"Count\":5.0,\"AvgProfit\":1009.26,\"Sharpe\":8.22761},{\"index\":241,\"qgrid_unfiltered_index\":217,\"Period\":31966,\"StdDev\":3.08307,\"Fitness\":5038.86624,\"Count\":5.0,\"AvgProfit\":1007.77325,\"Sharpe\":8.19867},{\"index\":234,\"qgrid_unfiltered_index\":216,\"Period\":32846,\"StdDev\":3.08307,\"Fitness\":5015.2516,\"Count\":5.0,\"AvgProfit\":1003.05032,\"Sharpe\":8.17541},{\"index\":328,\"qgrid_unfiltered_index\":215,\"Period\":32846,\"StdDev\":2.34235,\"Fitness\":4996.51292,\"Count\":19.0,\"AvgProfit\":262.97436,\"Sharpe\":8.53642},{\"index\":251,\"qgrid_unfiltered_index\":214,\"Period\":26161,\"StdDev\":2.34235,\"Fitness\":4406.20886,\"Count\":23.0,\"AvgProfit\":191.5743,\"Sharpe\":9.47539},{\"index\":235,\"qgrid_unfiltered_index\":213,\"Period\":31660,\"StdDev\":2.18015,\"Fitness\":4357.57981,\"Count\":22.0,\"AvgProfit\":198.07181,\"Sharpe\":9.26867},{\"index\":352,\"qgrid_unfiltered_index\":212,\"Period\":28245,\"StdDev\":2.18015,\"Fitness\":4324.19415,\"Count\":25.0,\"AvgProfit\":172.96777,\"Sharpe\":9.69396},{\"index\":317,\"qgrid_unfiltered_index\":211,\"Period\":33267,\"StdDev\":2.18015,\"Fitness\":4199.91051,\"Count\":21.0,\"AvgProfit\":199.99574,\"Sharpe\":9.08281},{\"index\":127,\"qgrid_unfiltered_index\":210,\"Period\":36865,\"StdDev\":2.34235,\"Fitness\":4198.65117,\"Count\":16.0,\"AvgProfit\":262.4157,\"Sharpe\":6.87374},{\"index\":93,\"qgrid_unfiltered_index\":209,\"Period\":32846,\"StdDev\":2.18015,\"Fitness\":4061.41689,\"Count\":21.0,\"AvgProfit\":193.4008,\"Sharpe\":8.77509},{\"index\":111,\"qgrid_unfiltered_index\":208,\"Period\":30565,\"StdDev\":3.08307,\"Fitness\":3995.8469,\"Count\":5.0,\"AvgProfit\":799.16938,\"Sharpe\":6.83675},{\"index\":132,\"qgrid_unfiltered_index\":207,\"Period\":20148,\"StdDev\":2.34235,\"Fitness\":3868.26192,\"Count\":28.0,\"AvgProfit\":138.15221,\"Sharpe\":8.04347},{\"index\":221,\"qgrid_unfiltered_index\":206,\"Period\":27459,\"StdDev\":2.95789,\"Fitness\":3862.01383,\"Count\":5.0,\"AvgProfit\":772.40277,\"Sharpe\":6.10039},{\"index\":347,\"qgrid_unfiltered_index\":205,\"Period\":27459,\"StdDev\":2.18015,\"Fitness\":3820.4025,\"Count\":25.0,\"AvgProfit\":152.8161,\"Sharpe\":8.58181},{\"index\":215,\"qgrid_unfiltered_index\":204,\"Period\":33951,\"StdDev\":3.08307,\"Fitness\":3806.6267,\"Count\":4.0,\"AvgProfit\":951.65668,\"Sharpe\":6.38248},{\"index\":417,\"qgrid_unfiltered_index\":203,\"Period\":35523,\"StdDev\":2.34235,\"Fitness\":3794.10731,\"Count\":16.0,\"AvgProfit\":237.13171,\"Sharpe\":6.28007},{\"index\":262,\"qgrid_unfiltered_index\":202,\"Period\":31966,\"StdDev\":2.18015,\"Fitness\":3704.66189,\"Count\":21.0,\"AvgProfit\":176.41247,\"Sharpe\":8.00246},{\"index\":265,\"qgrid_unfiltered_index\":201,\"Period\":31966,\"StdDev\":2.17958,\"Fitness\":3700.40338,\"Count\":21.0,\"AvgProfit\":176.20968,\"Sharpe\":7.99336},{\"index\":443,\"qgrid_unfiltered_index\":200,\"Period\":35523,\"StdDev\":2.18015,\"Fitness\":3700.34652,\"Count\":19.0,\"AvgProfit\":194.75508,\"Sharpe\":6.18043},{\"index\":146,\"qgrid_unfiltered_index\":199,\"Period\":39329,\"StdDev\":1.89743,\"Fitness\":3371.69415,\"Count\":20.0,\"AvgProfit\":168.58471,\"Sharpe\":5.85441},{\"index\":308,\"qgrid_unfiltered_index\":198,\"Period\":20148,\"StdDev\":3.08307,\"Fitness\":3333.60937,\"Count\":4.0,\"AvgProfit\":833.40234,\"Sharpe\":4.07548},{\"index\":89,\"qgrid_unfiltered_index\":197,\"Period\":26161,\"StdDev\":2.95789,\"Fitness\":3333.33426,\"Count\":3.0,\"AvgProfit\":1111.11142,\"Sharpe\":5.77154},{\"index\":66,\"qgrid_unfiltered_index\":196,\"Period\":28273,\"StdDev\":3.24939,\"Fitness\":3244.88044,\"Count\":3.0,\"AvgProfit\":1081.62681,\"Sharpe\":6.50626},{\"index\":254,\"qgrid_unfiltered_index\":195,\"Period\":31660,\"StdDev\":1.99917,\"Fitness\":3202.1693,\"Count\":24.0,\"AvgProfit\":133.42372,\"Sharpe\":7.23805},{\"index\":43,\"qgrid_unfiltered_index\":194,\"Period\":19143,\"StdDev\":2.34235,\"Fitness\":3149.13105,\"Count\":28.0,\"AvgProfit\":112.46897,\"Sharpe\":6.57905},{\"index\":110,\"qgrid_unfiltered_index\":193,\"Period\":28245,\"StdDev\":1.99917,\"Fitness\":3125.98411,\"Count\":26.0,\"AvgProfit\":120.23016,\"Sharpe\":7.04634},{\"index\":218,\"qgrid_unfiltered_index\":192,\"Period\":29461,\"StdDev\":2.81593,\"Fitness\":3119.44975,\"Count\":8.0,\"AvgProfit\":389.93122,\"Sharpe\":5.66051},{\"index\":337,\"qgrid_unfiltered_index\":191,\"Period\":26161,\"StdDev\":3.1709,\"Fitness\":3110.66178,\"Count\":3.0,\"AvgProfit\":1036.88726,\"Sharpe\":6.28583},{\"index\":32,\"qgrid_unfiltered_index\":190,\"Period\":26948,\"StdDev\":3.1709,\"Fitness\":3090.54576,\"Count\":3.0,\"AvgProfit\":1030.18192,\"Sharpe\":6.21116},{\"index\":485,\"qgrid_unfiltered_index\":189,\"Period\":27459,\"StdDev\":3.1709,\"Fitness\":3079.12327,\"Count\":3.0,\"AvgProfit\":1026.37442,\"Sharpe\":6.21964},{\"index\":255,\"qgrid_unfiltered_index\":188,\"Period\":28245,\"StdDev\":3.1709,\"Fitness\":3078.47777,\"Count\":3.0,\"AvgProfit\":1026.15926,\"Sharpe\":6.2184},{\"index\":326,\"qgrid_unfiltered_index\":187,\"Period\":26161,\"StdDev\":2.18015,\"Fitness\":3057.84834,\"Count\":25.0,\"AvgProfit\":122.31393,\"Sharpe\":6.7049},{\"index\":176,\"qgrid_unfiltered_index\":186,\"Period\":18732,\"StdDev\":2.87927,\"Fitness\":3050.43343,\"Count\":12.0,\"AvgProfit\":254.20279,\"Sharpe\":4.01879},{\"index\":288,\"qgrid_unfiltered_index\":185,\"Period\":30565,\"StdDev\":2.95958,\"Fitness\":2939.26928,\"Count\":6.0,\"AvgProfit\":489.87821,\"Sharpe\":4.51332},{\"index\":79,\"qgrid_unfiltered_index\":184,\"Period\":28245,\"StdDev\":3.08307,\"Fitness\":2928.99146,\"Count\":3.0,\"AvgProfit\":976.33049,\"Sharpe\":5.81505},{\"index\":240,\"qgrid_unfiltered_index\":183,\"Period\":28245,\"StdDev\":2.81593,\"Fitness\":2907.35776,\"Count\":7.0,\"AvgProfit\":415.33682,\"Sharpe\":4.51336},{\"index\":252,\"qgrid_unfiltered_index\":182,\"Period\":36354,\"StdDev\":2.0054,\"Fitness\":2873.54049,\"Count\":19.0,\"AvgProfit\":151.23897,\"Sharpe\":4.78612},{\"index\":457,\"qgrid_unfiltered_index\":181,\"Period\":32846,\"StdDev\":2.95958,\"Fitness\":2868.83697,\"Count\":6.0,\"AvgProfit\":478.13949,\"Sharpe\":4.39762},{\"index\":327,\"qgrid_unfiltered_index\":180,\"Period\":32846,\"StdDev\":2.95789,\"Fitness\":2865.32939,\"Count\":6.0,\"AvgProfit\":477.5549,\"Sharpe\":4.39199},{\"index\":346,\"qgrid_unfiltered_index\":179,\"Period\":31660,\"StdDev\":2.95789,\"Fitness\":2856.76648,\"Count\":6.0,\"AvgProfit\":476.12775,\"Sharpe\":4.31104},{\"index\":17,\"qgrid_unfiltered_index\":178,\"Period\":16929,\"StdDev\":2.95958,\"Fitness\":2852.88225,\"Count\":10.0,\"AvgProfit\":285.28823,\"Sharpe\":4.23525},{\"index\":376,\"qgrid_unfiltered_index\":177,\"Period\":33951,\"StdDev\":2.92462,\"Fitness\":2830.42969,\"Count\":6.0,\"AvgProfit\":471.73828,\"Sharpe\":4.37995},{\"index\":319,\"qgrid_unfiltered_index\":176,\"Period\":30565,\"StdDev\":2.0054,\"Fitness\":2828.98592,\"Count\":24.0,\"AvgProfit\":117.87441,\"Sharpe\":6.33523},{\"index\":48,\"qgrid_unfiltered_index\":175,\"Period\":33504,\"StdDev\":2.17958,\"Fitness\":2813.73322,\"Count\":19.0,\"AvgProfit\":148.09122,\"Sharpe\":4.72667},{\"index\":114,\"qgrid_unfiltered_index\":174,\"Period\":31966,\"StdDev\":2.79417,\"Fitness\":2799.87563,\"Count\":8.0,\"AvgProfit\":349.98445,\"Sharpe\":5.58047},{\"index\":2,\"qgrid_unfiltered_index\":173,\"Period\":30565,\"StdDev\":1.99917,\"Fitness\":2790.51411,\"Count\":24.0,\"AvgProfit\":116.27142,\"Sharpe\":6.25011},{\"index\":119,\"qgrid_unfiltered_index\":172,\"Period\":31966,\"StdDev\":2.92193,\"Fitness\":2746.48093,\"Count\":6.0,\"AvgProfit\":457.74682,\"Sharpe\":4.14185},{\"index\":29,\"qgrid_unfiltered_index\":171,\"Period\":33951,\"StdDev\":2.88997,\"Fitness\":2743.54836,\"Count\":6.0,\"AvgProfit\":457.25806,\"Sharpe\":4.24617},{\"index\":263,\"qgrid_unfiltered_index\":170,\"Period\":32846,\"StdDev\":2.92193,\"Fitness\":2736.52196,\"Count\":6.0,\"AvgProfit\":456.08699,\"Sharpe\":4.14071},{\"index\":214,\"qgrid_unfiltered_index\":169,\"Period\":30565,\"StdDev\":2.88997,\"Fitness\":2674.96756,\"Count\":6.0,\"AvgProfit\":445.82793,\"Sharpe\":4.02968},{\"index\":171,\"qgrid_unfiltered_index\":168,\"Period\":33267,\"StdDev\":2.88997,\"Fitness\":2671.21245,\"Count\":6.0,\"AvgProfit\":445.20208,\"Sharpe\":4.07149},{\"index\":116,\"qgrid_unfiltered_index\":167,\"Period\":28273,\"StdDev\":2.87927,\"Fitness\":2640.10105,\"Count\":5.0,\"AvgProfit\":528.02021,\"Sharpe\":3.25768},{\"index\":109,\"qgrid_unfiltered_index\":166,\"Period\":31966,\"StdDev\":2.88997,\"Fitness\":2639.46517,\"Count\":6.0,\"AvgProfit\":439.91086,\"Sharpe\":3.96951},{\"index\":219,\"qgrid_unfiltered_index\":165,\"Period\":31966,\"StdDev\":2.87927,\"Fitness\":2614.95534,\"Count\":6.0,\"AvgProfit\":435.82589,\"Sharpe\":3.93221},{\"index\":108,\"qgrid_unfiltered_index\":164,\"Period\":33951,\"StdDev\":2.81593,\"Fitness\":2548.76396,\"Count\":6.0,\"AvgProfit\":424.79399,\"Sharpe\":3.90041},{\"index\":75,\"qgrid_unfiltered_index\":163,\"Period\":18523,\"StdDev\":2.76719,\"Fitness\":2543.39573,\"Count\":14.0,\"AvgProfit\":181.67112,\"Sharpe\":3.81769},{\"index\":280,\"qgrid_unfiltered_index\":162,\"Period\":31660,\"StdDev\":1.89743,\"Fitness\":2517.00516,\"Count\":24.0,\"AvgProfit\":104.87522,\"Sharpe\":5.69705},{\"index\":44,\"qgrid_unfiltered_index\":161,\"Period\":29461,\"StdDev\":2.87927,\"Fitness\":2498.31595,\"Count\":6.0,\"AvgProfit\":416.38599,\"Sharpe\":3.7763},{\"index\":264,\"qgrid_unfiltered_index\":160,\"Period\":33504,\"StdDev\":2.81593,\"Fitness\":2492.98405,\"Count\":6.0,\"AvgProfit\":415.49734,\"Sharpe\":3.79383},{\"index\":369,\"qgrid_unfiltered_index\":159,\"Period\":31660,\"StdDev\":2.81593,\"Fitness\":2465.9267,\"Count\":6.0,\"AvgProfit\":410.98778,\"Sharpe\":3.69491},{\"index\":88,\"qgrid_unfiltered_index\":158,\"Period\":31966,\"StdDev\":2.81593,\"Fitness\":2459.41985,\"Count\":6.0,\"AvgProfit\":409.90331,\"Sharpe\":3.68517},{\"index\":117,\"qgrid_unfiltered_index\":157,\"Period\":29461,\"StdDev\":3.24939,\"Fitness\":2435.11814,\"Count\":2.0,\"AvgProfit\":1217.55907,\"Sharpe\":4.23269},{\"index\":84,\"qgrid_unfiltered_index\":156,\"Period\":22166,\"StdDev\":2.0054,\"Fitness\":2388.0399,\"Count\":34.0,\"AvgProfit\":70.23647,\"Sharpe\":5.78406},{\"index\":67,\"qgrid_unfiltered_index\":155,\"Period\":29221,\"StdDev\":3.20397,\"Fitness\":2377.50848,\"Count\":2.0,\"AvgProfit\":1188.75424,\"Sharpe\":4.12291},{\"index\":493,\"qgrid_unfiltered_index\":154,\"Period\":29461,\"StdDev\":3.1709,\"Fitness\":2361.89566,\"Count\":2.0,\"AvgProfit\":1180.94783,\"Sharpe\":4.07621},{\"index\":357,\"qgrid_unfiltered_index\":153,\"Period\":35523,\"StdDev\":1.99917,\"Fitness\":2353.58878,\"Count\":19.0,\"AvgProfit\":123.87309,\"Sharpe\":3.94974},{\"index\":177,\"qgrid_unfiltered_index\":152,\"Period\":29461,\"StdDev\":2.94566,\"Fitness\":2301.6189,\"Count\":5.0,\"AvgProfit\":460.32378,\"Sharpe\":3.22727},{\"index\":47,\"qgrid_unfiltered_index\":151,\"Period\":19105,\"StdDev\":2.92462,\"Fitness\":2297.10702,\"Count\":10.0,\"AvgProfit\":229.7107,\"Sharpe\":2.84575},{\"index\":141,\"qgrid_unfiltered_index\":150,\"Period\":22166,\"StdDev\":2.95789,\"Fitness\":2196.51871,\"Count\":4.0,\"AvgProfit\":549.12968,\"Sharpe\":3.01592},{\"index\":90,\"qgrid_unfiltered_index\":149,\"Period\":5402,\"StdDev\":3.42066,\"Fitness\":2161.30595,\"Count\":5.0,\"AvgProfit\":432.26119,\"Sharpe\":1.78366},{\"index\":194,\"qgrid_unfiltered_index\":148,\"Period\":36354,\"StdDev\":2.55192,\"Fitness\":2157.92876,\"Count\":12.0,\"AvgProfit\":179.8274,\"Sharpe\":3.2211},{\"index\":323,\"qgrid_unfiltered_index\":147,\"Period\":32846,\"StdDev\":1.89743,\"Fitness\":2151.57773,\"Count\":23.0,\"AvgProfit\":93.54686,\"Sharpe\":4.9214},{\"index\":20,\"qgrid_unfiltered_index\":146,\"Period\":30926,\"StdDev\":1.39985,\"Fitness\":2148.26438,\"Count\":32.0,\"AvgProfit\":67.13326,\"Sharpe\":5.22999},{\"index\":498,\"qgrid_unfiltered_index\":145,\"Period\":36865,\"StdDev\":3.1709,\"Fitness\":2036.51816,\"Count\":2.0,\"AvgProfit\":1018.25908,\"Sharpe\":2.37679},{\"index\":46,\"qgrid_unfiltered_index\":144,\"Period\":36865,\"StdDev\":2.97439,\"Fitness\":1960.19241,\"Count\":4.0,\"AvgProfit\":490.0481,\"Sharpe\":3.47813},{\"index\":92,\"qgrid_unfiltered_index\":143,\"Period\":26639,\"StdDev\":2.00591,\"Fitness\":1932.43938,\"Count\":26.0,\"AvgProfit\":74.32459,\"Sharpe\":4.28712},{\"index\":272,\"qgrid_unfiltered_index\":142,\"Period\":37723,\"StdDev\":2.95789,\"Fitness\":1926.26804,\"Count\":4.0,\"AvgProfit\":481.56701,\"Sharpe\":3.36601},{\"index\":72,\"qgrid_unfiltered_index\":141,\"Period\":37723,\"StdDev\":3.51228,\"Fitness\":1899.3069,\"Count\":1.0,\"AvgProfit\":1899.3069,\"Sharpe\":0.0},{\"index\":397,\"qgrid_unfiltered_index\":140,\"Period\":36865,\"StdDev\":2.95789,\"Fitness\":1887.94164,\"Count\":4.0,\"AvgProfit\":471.98541,\"Sharpe\":3.33583},{\"index\":14,\"qgrid_unfiltered_index\":139,\"Period\":28337,\"StdDev\":1.74014,\"Fitness\":1869.47821,\"Count\":28.0,\"AvgProfit\":66.76708,\"Sharpe\":4.36734},{\"index\":322,\"qgrid_unfiltered_index\":138,\"Period\":39329,\"StdDev\":2.18015,\"Fitness\":1861.0272,\"Count\":14.0,\"AvgProfit\":132.93051,\"Sharpe\":2.75322},{\"index\":336,\"qgrid_unfiltered_index\":137,\"Period\":35523,\"StdDev\":2.95789,\"Fitness\":1853.94162,\"Count\":4.0,\"AvgProfit\":463.48541,\"Sharpe\":3.33589},{\"index\":1,\"qgrid_unfiltered_index\":136,\"Period\":33267,\"StdDev\":1.83237,\"Fitness\":1798.92873,\"Count\":23.0,\"AvgProfit\":78.21429,\"Sharpe\":4.12207},{\"index\":70,\"qgrid_unfiltered_index\":135,\"Period\":36354,\"StdDev\":1.31498,\"Fitness\":1796.62469,\"Count\":28.0,\"AvgProfit\":64.16517,\"Sharpe\":4.14103},{\"index\":65,\"qgrid_unfiltered_index\":134,\"Period\":40543,\"StdDev\":2.92193,\"Fitness\":1635.6948,\"Count\":4.0,\"AvgProfit\":408.9237,\"Sharpe\":2.69564},{\"index\":140,\"qgrid_unfiltered_index\":133,\"Period\":26161,\"StdDev\":2.0054,\"Fitness\":1625.74644,\"Count\":26.0,\"AvgProfit\":62.52871,\"Sharpe\":3.57762},{\"index\":329,\"qgrid_unfiltered_index\":132,\"Period\":36865,\"StdDev\":3.08307,\"Fitness\":1566.56627,\"Count\":2.0,\"AvgProfit\":783.28314,\"Sharpe\":2.41826},{\"index\":318,\"qgrid_unfiltered_index\":131,\"Period\":36354,\"StdDev\":3.08307,\"Fitness\":1540.086,\"Count\":2.0,\"AvgProfit\":770.043,\"Sharpe\":2.35883}]}",
       "_df_range": [
        0,
        100
       ],
       "_editable_rows": {},
       "_index_col_name": "qgrid_unfiltered_index",
       "_interval_columns": [],
       "_model_module_version": "0.0.3",
       "_multi_index": false,
       "_row_count": 231,
       "_row_styles": {},
       "_sort_ascending": false,
       "_sort_field": "Fitness",
       "_view_module_version": "0.0.3",
       "_viewport_range": [
        0,
        16
       ],
       "grid_options": {
        "autoEdit": false,
        "boldIndex": true,
        "defaultColumnWidth": 150,
        "editable": false,
        "enableColumnReorder": false,
        "enableTextSelectionOnCells": true,
        "explicitInitialization": true,
        "filterable": true,
        "forceFitColumns": true,
        "fullWidthRows": true,
        "highlightSelectedCell": false,
        "highlightSelectedRow": true,
        "maxVisibleRows": 15,
        "minVisibleRows": 8,
        "multiSelect": false,
        "rowHeight": 28,
        "sortable": true,
        "syncColumnCellResize": true
       },
       "id": "d450b7cb-74bf-4ccd-85fc-dc740a7b0f66",
       "layout": "IPY_MODEL_95c747779f894beebb2dca5089ba4dd9",
       "precision": 5,
       "show_toolbar": false
      }
     },
     "c220a47658b6469f93e0ec0ac2ec9660": {
      "model_module": "@jupyter-widgets/base",
      "model_module_version": "1.2.0",
      "model_name": "LayoutModel",
      "state": {}
     },
     "c2355221393c41589eb7c88a6aa78a8b": {
      "buffers": [
       {
        "data": "SeYM6bV68T+gSMuLZRv8P3/+nPJW7fU/Q7jkSikj/T9wYa5zJET4Pzjj8y4sZPk/iHcoLqS4AUCpDPQbjOz/P8t6Pkpq4ARAnSZC6Y4k9j+BgonW2/vwP/ZEAdYFcQFAisB9qlxh8j/WZpEQnU/0P8kHqIfk2PI/UuO8MQE5/z+b1T4HHVEAQK62+dof9vM/rrb52h/28z9ET5rqtxELQOwcjdCCufg/1lrSMTCnBUAO1rYg71L0P+Zwyzhr0vg/qqRsmcboA0CK/TotO54CQC4NUPljTwpAJgIFdEIjCUC/dMCzYRnxP/KICrJ87fU/PO1zrlFm+j+ckVqE6E4FQGiZ3xCekgNAco3hBk8Y8T+NQA1Kl7L8P6fca6V7kwdAKlznDE8E8D/m5QowkU/2P/6+/wcqnANA6PwUnXNP8D+K/TotO54CQBr97IrOYghAKlxFLDoUCUBR30VOO1gIQP6+/wcqnANAOn3lnSHABUDA68nqjdgFQMbXwEHGvQVA0qPQQyEY9j+W6VvD5gMOQJ8dkQrO2gxAAAAAAAAAAAAAAAAAAAAAAJ8dkQrO2gxAAAAAAAAAAACW6VvD5gMOQOwcjdCCufg/AAAAAAAAAAA3PGJdnTIKQAAAAAAAAAAA/CzRqx6yD0CDdGK1iX8OQAAAAAAAAAAAe4JqV4ZRDUDjLG3OwLQPQJ0r5jRvIQ5AAAAAAAAAAABNpB6J1ugMQJ8dkQrO2gxAzPXhfNkuDkB7gmpXhlENQO8uqhRY0A9A0ekH/cFnD0BWbaErUcgNQAAAAAAAAAAAg3RitYl/DkBLWXUVk8QMQAAAAAAAAAAAAMI0/NMPCUCK/TotO54CQFSPJg44ZA9AS1l1FZPEDECXts9xw4INQBL/ABPzJwhAnwVQZ4eeAEDewfzdksj3P1jcPcU4cP4/4C1e/PARCkC6O/4qK6wJQDc8Yl2dMgpA8ujyCOwKCkC6O/4qK6wJQMkHqIfk2PI/9Cj8WuNV/T+NQA1Kl7L8Px1NQt7BgPU/0u141pMp/j9+jiV+jgn6P4ilZzs9yvo/9Cj8WuNV/T9SJSiNJVYNQHmVzX+ul/w/adpGRbiXAkCK/TotO54CQCwv/sJmvgFArrb52h/28z8WsWXAMEj3P/Qo/FrjVf0/rrb52h/28z+fHZEKztoMQGj+z51XFQ1Aiv06LTueAkDEF9TT710IQNrzYZ5TFAZAss85jy0+DUCfBVBnh54AQAq4AvfNFAFA90qO22AwAkCIdygupLgBQHmVzX+ul/w/eZXNf66X/D9iT/rWt2kIQGnaRkW4lwJAAMI0/NMPCUAqXEUsOhQJQLOA4E1byQxAAMI0/NMPCUD+vv8HKpwDQJhAQhv4yg1AnwVQZ4eeAECutvnaH/bzP/Qo/FrjVf0/K2lZUB7pAkCNQA1Kl7L8Pxr97IrOYghAaJnfEJ6SA0D+vv8HKpwDQIr9Oi07ngJAZvd9Mv7u+D8ikyOAX6b5P2b3fTL+7vg/lulbw+YDDkBp2kZFuJcCQCpcRSw6FAlAiHcoLqS4AUAAwjT80w8JQCpcRSw6FAlAiHcoLqS4AUD0KPxa41X9P+Fi+yh9twJAoKeICK30B0AAwjT80w8JQCpcRSw6FAlAnwVQZ4eeAEAraVlQHukCQLo7/iorrAlA/r7/ByqcA0CIpWc7Pcr6P6CniAit9AdAoKeICK30B0Bp2kZFuJcCQLo7/iorrAlAGv3sis5iCECfBVBnh54AQBIUsovWqAhAEhSyi9aoCEAraVlQHukCQPQo/FrjVf0/oKeICK30B0CfBVBnh54AQCpcRSw6FAlAAMI0/NMPCUAqXEUsOhQJQADCNPzTDwlAKlxFLDoUCUD+vv8HKpwDQJcP4a+n3gdAujv+KiusCUC6O/4qK6wJQHmVzX+ul/w/AMI0/NMPCUBomd8QnpIDQP6+/wcqnANA/r7/ByqcA0Cgp4gIrfQHQOFi+yh9twJACrgC980UAUAraVlQHukCQCtpWVAe6QJAgX2GEWwnBkAraVlQHukCQCtpWVAe6QJAoKeICK30B0CIdygupLgBQCtpWVAe6QJAiv06LTueAkCIdygupLgBQIh3KC6kuAFAK2lZUB7pAkCK/TotO54CQAq4AvfNFAFAGv3sis5iCEAa/eyKzmIIQBIUsovWqAhAiv06LTueAkAraVlQHukCQCpcRSw6FAlAAMI0/NMPCUAqXEUsOhQJQGnaRkW4lwJA4WL7KH23AkCK/TotO54CQIr9Oi07ngJA4WL7KH23AkAraVlQHukCQCtpWVAe6QJA4WL7KH23AkCJJQ+ZJUQDQGnaRkW4lwJAujv+KiusCUCK/TotO54CQOFi+yh9twJA/r7/ByqcA0Bomd8QnpIDQP6+/wcqnANA/r7/ByqcA0AAwjT80w8JQCpcRSw6FAlA/r7/ByqcA0C6O/4qK6wJQLo7/iorrAlAujv+KiusCUA=",
        "encoding": "base64",
        "path": [
         "_data",
         0,
         "dimensions",
         1,
         "values",
         "value"
        ]
       },
       {
        "data": "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",
        "encoding": "base64",
        "path": [
         "_data",
         0,
         "dimensions",
         2,
         "values",
         "value"
        ]
       },
       {
        "data": "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",
        "encoding": "base64",
        "path": [
         "_data",
         0,
         "dimensions",
         3,
         "values",
         "value"
        ]
       },
       {
        "data": "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",
        "encoding": "base64",
        "path": [
         "_data",
         0,
         "dimensions",
         4,
         "values",
         "value"
        ]
       },
       {
        "data": "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",
        "encoding": "base64",
        "path": [
         "_data",
         0,
         "dimensions",
         5,
         "values",
         "value"
        ]
       }
      ],
      "model_module": "jupyterlab-plotly",
      "model_module_version": "^5.6.0",
      "model_name": "FigureModel",
      "state": {
       "_config": {
        "plotlyServerURL": "https://plot.ly"
       },
       "_data": [
        {
         "dimensions": [
          {
           "label": "Period",
           "values": [
            5298,
            5084,
            7419,
            6574,
            8670,
            8780,
            5214,
            8503,
            2466,
            13166,
            19356,
            6685,
            15312,
            15752,
            18694,
            13876,
            12738,
            18694,
            18825,
            10339,
            17154,
            7541,
            19996,
            18124,
            7671,
            11679,
            7805,
            14382,
            48944,
            46866,
            48005,
            11149,
            11679,
            27289,
            18825,
            14844,
            49214,
            22045,
            38472,
            30260,
            47864,
            18825,
            18825,
            16800,
            42046,
            42719,
            42949,
            46153,
            26664,
            27955,
            18336,
            27955,
            31968,
            27291,
            47864,
            18694,
            0,
            38472,
            22401,
            42046,
            2681,
            47864,
            34816,
            5214,
            32431,
            39441,
            20841,
            31157,
            27955,
            4832,
            19756,
            6040,
            30989,
            22009,
            25376,
            18336,
            20841,
            31789,
            0,
            0,
            45662,
            0,
            42166,
            6084,
            22401,
            23125,
            23380,
            36590,
            37074,
            18020,
            42907,
            38943,
            31291,
            25172,
            34816,
            39589,
            24525,
            43682,
            42046,
            25376,
            7478,
            27291,
            43778,
            43375,
            21776,
            37074,
            38291,
            24925,
            34816,
            47864,
            48274,
            38472,
            40647,
            24084,
            7032,
            18825,
            24305,
            42081,
            22401,
            27955,
            24305,
            19884,
            38976,
            43375,
            5214,
            35786,
            42046,
            43778,
            36765,
            24925,
            31968,
            27955,
            21544,
            24925,
            47864,
            37074,
            37074,
            21544,
            38976,
            38090,
            31789,
            11679,
            22401,
            37074,
            38943,
            21544,
            21544,
            25172,
            31968,
            21544,
            38943,
            19756,
            19756,
            34816,
            22401,
            25172,
            27955,
            31259,
            24925,
            25172,
            18825,
            23203,
            27291,
            31968,
            43375,
            27955,
            20841,
            37074,
            31968,
            27291,
            27291,
            27955,
            27955,
            25172,
            25172,
            21544,
            16329,
            27955,
            27291,
            38472,
            20841,
            18694,
            34816,
            22401,
            34816,
            25172,
            38472,
            18825,
            34816,
            23203,
            24925,
            18020,
            27291,
            37074,
            25172,
            34816,
            31789,
            31259,
            37074,
            27291,
            31259,
            31789,
            31259,
            31789,
            31259,
            31789,
            31968,
            31789,
            31789,
            31789,
            31259,
            31789,
            31968,
            27291,
            31259,
            31968,
            31789,
            30720,
            27955,
            34816,
            27955,
            27955,
            27291,
            31291,
            31259,
            31789,
            31259,
            31259,
            31968,
            31789,
            31968,
            31259
           ]
          },
          {
           "label": "StdDev",
           "values": {
            "dtype": "float64",
            "shape": [
             232
            ]
           }
          },
          {
           "label": "Fitness",
           "values": {
            "dtype": "float64",
            "shape": [
             232
            ]
           }
          },
          {
           "label": "Count",
           "values": {
            "dtype": "float64",
            "shape": [
             232
            ]
           }
          },
          {
           "label": "AvgProfit",
           "values": {
            "dtype": "float64",
            "shape": [
             232
            ]
           }
          },
          {
           "label": "Sharpe",
           "values": {
            "dtype": "float64",
            "shape": [
             232
            ]
           }
          }
         ],
         "type": "parcoords",
         "uid": "9f69a1e6-e06e-4c4f-9690-fb6f6c599e30"
        }
       ],
       "_js2py_pointsCallback": {},
       "_js2py_relayout": {},
       "_js2py_restyle": {},
       "_js2py_update": {},
       "_last_layout_edit_id": 1,
       "_last_trace_edit_id": 1,
       "_layout": {
        "autosize": true,
        "height": 400,
        "margin": {
         "b": 20,
         "l": 45,
         "pad": 3,
         "r": 45,
         "t": 50
        },
        "template": {
         "data": {
          "bar": [
           {
            "error_x": {
             "color": "#2a3f5f"
            },
            "error_y": {
             "color": "#2a3f5f"
            },
            "marker": {
             "line": {
              "color": "white",
              "width": 0.5
             },
             "pattern": {
              "fillmode": "overlay",
              "size": 10,
              "solidity": 0.2
             }
            },
            "type": "bar"
           }
          ],
          "barpolar": [
           {
            "marker": {
             "line": {
              "color": "white",
              "width": 0.5
             },
             "pattern": {
              "fillmode": "overlay",
              "size": 10,
              "solidity": 0.2
             }
            },
            "type": "barpolar"
           }
          ],
          "carpet": [
           {
            "aaxis": {
             "endlinecolor": "#2a3f5f",
             "gridcolor": "#C8D4E3",
             "linecolor": "#C8D4E3",
             "minorgridcolor": "#C8D4E3",
             "startlinecolor": "#2a3f5f"
            },
            "baxis": {
             "endlinecolor": "#2a3f5f",
             "gridcolor": "#C8D4E3",
             "linecolor": "#C8D4E3",
             "minorgridcolor": "#C8D4E3",
             "startlinecolor": "#2a3f5f"
            },
            "type": "carpet"
           }
          ],
          "choropleth": [
           {
            "colorbar": {
             "outlinewidth": 0,
             "ticks": ""
            },
            "type": "choropleth"
           }
          ],
          "contour": [
           {
            "colorbar": {
             "outlinewidth": 0,
             "ticks": ""
            },
            "colorscale": [
             [
              0,
              "#0d0887"
             ],
             [
              0.1111111111111111,
              "#46039f"
             ],
             [
              0.2222222222222222,
              "#7201a8"
             ],
             [
              0.3333333333333333,
              "#9c179e"
             ],
             [
              0.4444444444444444,
              "#bd3786"
             ],
             [
              0.5555555555555556,
              "#d8576b"
             ],
             [
              0.6666666666666666,
              "#ed7953"
             ],
             [
              0.7777777777777778,
              "#fb9f3a"
             ],
             [
              0.8888888888888888,
              "#fdca26"
             ],
             [
              1,
              "#f0f921"
             ]
            ],
            "type": "contour"
           }
          ],
          "contourcarpet": [
           {
            "colorbar": {
             "outlinewidth": 0,
             "ticks": ""
            },
            "type": "contourcarpet"
           }
          ],
          "heatmap": [
           {
            "colorbar": {
             "outlinewidth": 0,
             "ticks": ""
            },
            "colorscale": [
             [
              0,
              "#0d0887"
             ],
             [
              0.1111111111111111,
              "#46039f"
             ],
             [
              0.2222222222222222,
              "#7201a8"
             ],
             [
              0.3333333333333333,
              "#9c179e"
             ],
             [
              0.4444444444444444,
              "#bd3786"
             ],
             [
              0.5555555555555556,
              "#d8576b"
             ],
             [
              0.6666666666666666,
              "#ed7953"
             ],
             [
              0.7777777777777778,
              "#fb9f3a"
             ],
             [
              0.8888888888888888,
              "#fdca26"
             ],
             [
              1,
              "#f0f921"
             ]
            ],
            "type": "heatmap"
           }
          ],
          "heatmapgl": [
           {
            "colorbar": {
             "outlinewidth": 0,
             "ticks": ""
            },
            "colorscale": [
             [
              0,
              "#0d0887"
             ],
             [
              0.1111111111111111,
              "#46039f"
             ],
             [
              0.2222222222222222,
              "#7201a8"
             ],
             [
              0.3333333333333333,
              "#9c179e"
             ],
             [
              0.4444444444444444,
              "#bd3786"
             ],
             [
              0.5555555555555556,
              "#d8576b"
             ],
             [
              0.6666666666666666,
              "#ed7953"
             ],
             [
              0.7777777777777778,
              "#fb9f3a"
             ],
             [
              0.8888888888888888,
              "#fdca26"
             ],
             [
              1,
              "#f0f921"
             ]
            ],
            "type": "heatmapgl"
           }
          ],
          "histogram": [
           {
            "marker": {
             "pattern": {
              "fillmode": "overlay",
              "size": 10,
              "solidity": 0.2
             }
            },
            "type": "histogram"
           }
          ],
          "histogram2d": [
           {
            "colorbar": {
             "outlinewidth": 0,
             "ticks": ""
            },
            "colorscale": [
             [
              0,
              "#0d0887"
             ],
             [
              0.1111111111111111,
              "#46039f"
             ],
             [
              0.2222222222222222,
              "#7201a8"
             ],
             [
              0.3333333333333333,
              "#9c179e"
             ],
             [
              0.4444444444444444,
              "#bd3786"
             ],
             [
              0.5555555555555556,
              "#d8576b"
             ],
             [
              0.6666666666666666,
              "#ed7953"
             ],
             [
              0.7777777777777778,
              "#fb9f3a"
             ],
             [
              0.8888888888888888,
              "#fdca26"
             ],
             [
              1,
              "#f0f921"
             ]
            ],
            "type": "histogram2d"
           }
          ],
          "histogram2dcontour": [
           {
            "colorbar": {
             "outlinewidth": 0,
             "ticks": ""
            },
            "colorscale": [
             [
              0,
              "#0d0887"
             ],
             [
              0.1111111111111111,
              "#46039f"
             ],
             [
              0.2222222222222222,
              "#7201a8"
             ],
             [
              0.3333333333333333,
              "#9c179e"
             ],
             [
              0.4444444444444444,
              "#bd3786"
             ],
             [
              0.5555555555555556,
              "#d8576b"
             ],
             [
              0.6666666666666666,
              "#ed7953"
             ],
             [
              0.7777777777777778,
              "#fb9f3a"
             ],
             [
              0.8888888888888888,
              "#fdca26"
             ],
             [
              1,
              "#f0f921"
             ]
            ],
            "type": "histogram2dcontour"
           }
          ],
          "mesh3d": [
           {
            "colorbar": {
             "outlinewidth": 0,
             "ticks": ""
            },
            "type": "mesh3d"
           }
          ],
          "parcoords": [
           {
            "line": {
             "colorbar": {
              "outlinewidth": 0,
              "ticks": ""
             }
            },
            "type": "parcoords"
           }
          ],
          "pie": [
           {
            "automargin": true,
            "type": "pie"
           }
          ],
          "scatter": [
           {
            "marker": {
             "colorbar": {
              "outlinewidth": 0,
              "ticks": ""
             }
            },
            "type": "scatter"
           }
          ],
          "scatter3d": [
           {
            "line": {
             "colorbar": {
              "outlinewidth": 0,
              "ticks": ""
             }
            },
            "marker": {
             "colorbar": {
              "outlinewidth": 0,
              "ticks": ""
             }
            },
            "type": "scatter3d"
           }
          ],
          "scattercarpet": [
           {
            "marker": {
             "colorbar": {
              "outlinewidth": 0,
              "ticks": ""
             }
            },
            "type": "scattercarpet"
           }
          ],
          "scattergeo": [
           {
            "marker": {
             "colorbar": {
              "outlinewidth": 0,
              "ticks": ""
             }
            },
            "type": "scattergeo"
           }
          ],
          "scattergl": [
           {
            "marker": {
             "colorbar": {
              "outlinewidth": 0,
              "ticks": ""
             }
            },
            "type": "scattergl"
           }
          ],
          "scattermapbox": [
           {
            "marker": {
             "colorbar": {
              "outlinewidth": 0,
              "ticks": ""
             }
            },
            "type": "scattermapbox"
           }
          ],
          "scatterpolar": [
           {
            "marker": {
             "colorbar": {
              "outlinewidth": 0,
              "ticks": ""
             }
            },
            "type": "scatterpolar"
           }
          ],
          "scatterpolargl": [
           {
            "marker": {
             "colorbar": {
              "outlinewidth": 0,
              "ticks": ""
             }
            },
            "type": "scatterpolargl"
           }
          ],
          "scatterternary": [
           {
            "marker": {
             "colorbar": {
              "outlinewidth": 0,
              "ticks": ""
             }
            },
            "type": "scatterternary"
           }
          ],
          "surface": [
           {
            "colorbar": {
             "outlinewidth": 0,
             "ticks": ""
            },
            "colorscale": [
             [
              0,
              "#0d0887"
             ],
             [
              0.1111111111111111,
              "#46039f"
             ],
             [
              0.2222222222222222,
              "#7201a8"
             ],
             [
              0.3333333333333333,
              "#9c179e"
             ],
             [
              0.4444444444444444,
              "#bd3786"
             ],
             [
              0.5555555555555556,
              "#d8576b"
             ],
             [
              0.6666666666666666,
              "#ed7953"
             ],
             [
              0.7777777777777778,
              "#fb9f3a"
             ],
             [
              0.8888888888888888,
              "#fdca26"
             ],
             [
              1,
              "#f0f921"
             ]
            ],
            "type": "surface"
           }
          ],
          "table": [
           {
            "cells": {
             "fill": {
              "color": "#EBF0F8"
             },
             "line": {
              "color": "white"
             }
            },
            "header": {
             "fill": {
              "color": "#C8D4E3"
             },
             "line": {
              "color": "white"
             }
            },
            "type": "table"
           }
          ]
         },
         "layout": {
          "annotationdefaults": {
           "arrowcolor": "#2a3f5f",
           "arrowhead": 0,
           "arrowwidth": 1
          },
          "autotypenumbers": "strict",
          "coloraxis": {
           "colorbar": {
            "outlinewidth": 0,
            "ticks": ""
           }
          },
          "colorscale": {
           "diverging": [
            [
             0,
             "#8e0152"
            ],
            [
             0.1,
             "#c51b7d"
            ],
            [
             0.2,
             "#de77ae"
            ],
            [
             0.3,
             "#f1b6da"
            ],
            [
             0.4,
             "#fde0ef"
            ],
            [
             0.5,
             "#f7f7f7"
            ],
            [
             0.6,
             "#e6f5d0"
            ],
            [
             0.7,
             "#b8e186"
            ],
            [
             0.8,
             "#7fbc41"
            ],
            [
             0.9,
             "#4d9221"
            ],
            [
             1,
             "#276419"
            ]
           ],
           "sequential": [
            [
             0,
             "#0d0887"
            ],
            [
             0.1111111111111111,
             "#46039f"
            ],
            [
             0.2222222222222222,
             "#7201a8"
            ],
            [
             0.3333333333333333,
             "#9c179e"
            ],
            [
             0.4444444444444444,
             "#bd3786"
            ],
            [
             0.5555555555555556,
             "#d8576b"
            ],
            [
             0.6666666666666666,
             "#ed7953"
            ],
            [
             0.7777777777777778,
             "#fb9f3a"
            ],
            [
             0.8888888888888888,
             "#fdca26"
            ],
            [
             1,
             "#f0f921"
            ]
           ],
           "sequentialminus": [
            [
             0,
             "#0d0887"
            ],
            [
             0.1111111111111111,
             "#46039f"
            ],
            [
             0.2222222222222222,
             "#7201a8"
            ],
            [
             0.3333333333333333,
             "#9c179e"
            ],
            [
             0.4444444444444444,
             "#bd3786"
            ],
            [
             0.5555555555555556,
             "#d8576b"
            ],
            [
             0.6666666666666666,
             "#ed7953"
            ],
            [
             0.7777777777777778,
             "#fb9f3a"
            ],
            [
             0.8888888888888888,
             "#fdca26"
            ],
            [
             1,
             "#f0f921"
            ]
           ]
          },
          "colorway": [
           "#636efa",
           "#EF553B",
           "#00cc96",
           "#ab63fa",
           "#FFA15A",
           "#19d3f3",
           "#FF6692",
           "#B6E880",
           "#FF97FF",
           "#FECB52"
          ],
          "font": {
           "color": "#2a3f5f"
          },
          "geo": {
           "bgcolor": "white",
           "lakecolor": "white",
           "landcolor": "white",
           "showlakes": true,
           "showland": true,
           "subunitcolor": "#C8D4E3"
          },
          "hoverlabel": {
           "align": "left"
          },
          "hovermode": "closest",
          "mapbox": {
           "style": "light"
          },
          "paper_bgcolor": "white",
          "plot_bgcolor": "white",
          "polar": {
           "angularaxis": {
            "gridcolor": "#EBF0F8",
            "linecolor": "#EBF0F8",
            "ticks": ""
           },
           "bgcolor": "white",
           "radialaxis": {
            "gridcolor": "#EBF0F8",
            "linecolor": "#EBF0F8",
            "ticks": ""
           }
          },
          "scene": {
           "xaxis": {
            "backgroundcolor": "white",
            "gridcolor": "#DFE8F3",
            "gridwidth": 2,
            "linecolor": "#EBF0F8",
            "showbackground": true,
            "ticks": "",
            "zerolinecolor": "#EBF0F8"
           },
           "yaxis": {
            "backgroundcolor": "white",
            "gridcolor": "#DFE8F3",
            "gridwidth": 2,
            "linecolor": "#EBF0F8",
            "showbackground": true,
            "ticks": "",
            "zerolinecolor": "#EBF0F8"
           },
           "zaxis": {
            "backgroundcolor": "white",
            "gridcolor": "#DFE8F3",
            "gridwidth": 2,
            "linecolor": "#EBF0F8",
            "showbackground": true,
            "ticks": "",
            "zerolinecolor": "#EBF0F8"
           }
          },
          "shapedefaults": {
           "line": {
            "color": "#2a3f5f"
           }
          },
          "ternary": {
           "aaxis": {
            "gridcolor": "#DFE8F3",
            "linecolor": "#A2B1C6",
            "ticks": ""
           },
           "baxis": {
            "gridcolor": "#DFE8F3",
            "linecolor": "#A2B1C6",
            "ticks": ""
           },
           "bgcolor": "white",
           "caxis": {
            "gridcolor": "#DFE8F3",
            "linecolor": "#A2B1C6",
            "ticks": ""
           }
          },
          "title": {
           "x": 0.05
          },
          "xaxis": {
           "automargin": true,
           "gridcolor": "#EBF0F8",
           "linecolor": "#EBF0F8",
           "ticks": "",
           "title": {
            "standoff": 15
           },
           "zerolinecolor": "#EBF0F8",
           "zerolinewidth": 2
          },
          "yaxis": {
           "automargin": true,
           "gridcolor": "#EBF0F8",
           "linecolor": "#EBF0F8",
           "ticks": "",
           "title": {
            "standoff": 15
           },
           "zerolinecolor": "#EBF0F8",
           "zerolinewidth": 2
          }
         }
        }
       },
       "_py2js_addTraces": {},
       "_py2js_animate": {},
       "_py2js_deleteTraces": {},
       "_py2js_moveTraces": {},
       "_py2js_removeLayoutProps": {},
       "_py2js_removeTraceProps": {},
       "_py2js_restyle": {},
       "_view_count": 0
      }
     },
     "c2d0216eaab2428e8792a1703df05181": {
      "model_module": "@jupyter-widgets/base",
      "model_module_version": "1.2.0",
      "model_name": "LayoutModel",
      "state": {}
     },
     "c6cf1e4d385c45649935a89b786d5669": {
      "model_module": "@jupyter-widgets/base",
      "model_module_version": "1.2.0",
      "model_name": "LayoutModel",
      "state": {}
     },
     "cc89908a07a943ee83640fbb9600a5af": {
      "model_module": "@jupyter-widgets/base",
      "model_module_version": "1.2.0",
      "model_name": "LayoutModel",
      "state": {}
     },
     "d166079fc67c4fcfa806dd83ce0fcf64": {
      "model_module": "@jupyter-widgets/base",
      "model_module_version": "1.2.0",
      "model_name": "LayoutModel",
      "state": {}
     },
     "e1a16c6898214f058aa2d6dad1567222": {
      "model_module": "@jupyter-widgets/controls",
      "model_module_version": "1.5.0",
      "model_name": "HTMLModel",
      "state": {
       "layout": "IPY_MODEL_18ea819c7a694bd18ac70ae4305182ad",
       "style": "IPY_MODEL_76e09e4318f4453c9d50c91ec7c79bcf",
       "value": " 5/5 [00:07&lt;00:00,  1.17s/it, fit=5,311.83]"
      }
     },
     "e6685b81c16f4b7ca0a592b0ab036202": {
      "model_module": "jupyterlab-plotly",
      "model_module_version": "^5.6.0",
      "model_name": "FigureModel",
      "state": {
       "_config": {
        "plotlyServerURL": "https://plot.ly"
       },
       "_js2py_layoutDelta": {},
       "_js2py_pointsCallback": {},
       "_js2py_relayout": {},
       "_js2py_restyle": {},
       "_js2py_traceDeltas": {},
       "_js2py_update": {},
       "_layout": {
        "template": {
         "data": {
          "bar": [
           {
            "error_x": {
             "color": "#2a3f5f"
            },
            "error_y": {
             "color": "#2a3f5f"
            },
            "marker": {
             "line": {
              "color": "#E5ECF6",
              "width": 0.5
             },
             "pattern": {
              "fillmode": "overlay",
              "size": 10,
              "solidity": 0.2
             }
            },
            "type": "bar"
           }
          ],
          "barpolar": [
           {
            "marker": {
             "line": {
              "color": "#E5ECF6",
              "width": 0.5
             },
             "pattern": {
              "fillmode": "overlay",
              "size": 10,
              "solidity": 0.2
             }
            },
            "type": "barpolar"
           }
          ],
          "carpet": [
           {
            "aaxis": {
             "endlinecolor": "#2a3f5f",
             "gridcolor": "white",
             "linecolor": "white",
             "minorgridcolor": "white",
             "startlinecolor": "#2a3f5f"
            },
            "baxis": {
             "endlinecolor": "#2a3f5f",
             "gridcolor": "white",
             "linecolor": "white",
             "minorgridcolor": "white",
             "startlinecolor": "#2a3f5f"
            },
            "type": "carpet"
           }
          ],
          "choropleth": [
           {
            "colorbar": {
             "outlinewidth": 0,
             "ticks": ""
            },
            "type": "choropleth"
           }
          ],
          "contour": [
           {
            "colorbar": {
             "outlinewidth": 0,
             "ticks": ""
            },
            "colorscale": [
             [
              0,
              "#0d0887"
             ],
             [
              0.1111111111111111,
              "#46039f"
             ],
             [
              0.2222222222222222,
              "#7201a8"
             ],
             [
              0.3333333333333333,
              "#9c179e"
             ],
             [
              0.4444444444444444,
              "#bd3786"
             ],
             [
              0.5555555555555556,
              "#d8576b"
             ],
             [
              0.6666666666666666,
              "#ed7953"
             ],
             [
              0.7777777777777778,
              "#fb9f3a"
             ],
             [
              0.8888888888888888,
              "#fdca26"
             ],
             [
              1,
              "#f0f921"
             ]
            ],
            "type": "contour"
           }
          ],
          "contourcarpet": [
           {
            "colorbar": {
             "outlinewidth": 0,
             "ticks": ""
            },
            "type": "contourcarpet"
           }
          ],
          "heatmap": [
           {
            "colorbar": {
             "outlinewidth": 0,
             "ticks": ""
            },
            "colorscale": [
             [
              0,
              "#0d0887"
             ],
             [
              0.1111111111111111,
              "#46039f"
             ],
             [
              0.2222222222222222,
              "#7201a8"
             ],
             [
              0.3333333333333333,
              "#9c179e"
             ],
             [
              0.4444444444444444,
              "#bd3786"
             ],
             [
              0.5555555555555556,
              "#d8576b"
             ],
             [
              0.6666666666666666,
              "#ed7953"
             ],
             [
              0.7777777777777778,
              "#fb9f3a"
             ],
             [
              0.8888888888888888,
              "#fdca26"
             ],
             [
              1,
              "#f0f921"
             ]
            ],
            "type": "heatmap"
           }
          ],
          "heatmapgl": [
           {
            "colorbar": {
             "outlinewidth": 0,
             "ticks": ""
            },
            "colorscale": [
             [
              0,
              "#0d0887"
             ],
             [
              0.1111111111111111,
              "#46039f"
             ],
             [
              0.2222222222222222,
              "#7201a8"
             ],
             [
              0.3333333333333333,
              "#9c179e"
             ],
             [
              0.4444444444444444,
              "#bd3786"
             ],
             [
              0.5555555555555556,
              "#d8576b"
             ],
             [
              0.6666666666666666,
              "#ed7953"
             ],
             [
              0.7777777777777778,
              "#fb9f3a"
             ],
             [
              0.8888888888888888,
              "#fdca26"
             ],
             [
              1,
              "#f0f921"
             ]
            ],
            "type": "heatmapgl"
           }
          ],
          "histogram": [
           {
            "marker": {
             "pattern": {
              "fillmode": "overlay",
              "size": 10,
              "solidity": 0.2
             }
            },
            "type": "histogram"
           }
          ],
          "histogram2d": [
           {
            "colorbar": {
             "outlinewidth": 0,
             "ticks": ""
            },
            "colorscale": [
             [
              0,
              "#0d0887"
             ],
             [
              0.1111111111111111,
              "#46039f"
             ],
             [
              0.2222222222222222,
              "#7201a8"
             ],
             [
              0.3333333333333333,
              "#9c179e"
             ],
             [
              0.4444444444444444,
              "#bd3786"
             ],
             [
              0.5555555555555556,
              "#d8576b"
             ],
             [
              0.6666666666666666,
              "#ed7953"
             ],
             [
              0.7777777777777778,
              "#fb9f3a"
             ],
             [
              0.8888888888888888,
              "#fdca26"
             ],
             [
              1,
              "#f0f921"
             ]
            ],
            "type": "histogram2d"
           }
          ],
          "histogram2dcontour": [
           {
            "colorbar": {
             "outlinewidth": 0,
             "ticks": ""
            },
            "colorscale": [
             [
              0,
              "#0d0887"
             ],
             [
              0.1111111111111111,
              "#46039f"
             ],
             [
              0.2222222222222222,
              "#7201a8"
             ],
             [
              0.3333333333333333,
              "#9c179e"
             ],
             [
              0.4444444444444444,
              "#bd3786"
             ],
             [
              0.5555555555555556,
              "#d8576b"
             ],
             [
              0.6666666666666666,
              "#ed7953"
             ],
             [
              0.7777777777777778,
              "#fb9f3a"
             ],
             [
              0.8888888888888888,
              "#fdca26"
             ],
             [
              1,
              "#f0f921"
             ]
            ],
            "type": "histogram2dcontour"
           }
          ],
          "mesh3d": [
           {
            "colorbar": {
             "outlinewidth": 0,
             "ticks": ""
            },
            "type": "mesh3d"
           }
          ],
          "parcoords": [
           {
            "line": {
             "colorbar": {
              "outlinewidth": 0,
              "ticks": ""
             }
            },
            "type": "parcoords"
           }
          ],
          "pie": [
           {
            "automargin": true,
            "type": "pie"
           }
          ],
          "scatter": [
           {
            "marker": {
             "colorbar": {
              "outlinewidth": 0,
              "ticks": ""
             }
            },
            "type": "scatter"
           }
          ],
          "scatter3d": [
           {
            "line": {
             "colorbar": {
              "outlinewidth": 0,
              "ticks": ""
             }
            },
            "marker": {
             "colorbar": {
              "outlinewidth": 0,
              "ticks": ""
             }
            },
            "type": "scatter3d"
           }
          ],
          "scattercarpet": [
           {
            "marker": {
             "colorbar": {
              "outlinewidth": 0,
              "ticks": ""
             }
            },
            "type": "scattercarpet"
           }
          ],
          "scattergeo": [
           {
            "marker": {
             "colorbar": {
              "outlinewidth": 0,
              "ticks": ""
             }
            },
            "type": "scattergeo"
           }
          ],
          "scattergl": [
           {
            "marker": {
             "colorbar": {
              "outlinewidth": 0,
              "ticks": ""
             }
            },
            "type": "scattergl"
           }
          ],
          "scattermapbox": [
           {
            "marker": {
             "colorbar": {
              "outlinewidth": 0,
              "ticks": ""
             }
            },
            "type": "scattermapbox"
           }
          ],
          "scatterpolar": [
           {
            "marker": {
             "colorbar": {
              "outlinewidth": 0,
              "ticks": ""
             }
            },
            "type": "scatterpolar"
           }
          ],
          "scatterpolargl": [
           {
            "marker": {
             "colorbar": {
              "outlinewidth": 0,
              "ticks": ""
             }
            },
            "type": "scatterpolargl"
           }
          ],
          "scatterternary": [
           {
            "marker": {
             "colorbar": {
              "outlinewidth": 0,
              "ticks": ""
             }
            },
            "type": "scatterternary"
           }
          ],
          "surface": [
           {
            "colorbar": {
             "outlinewidth": 0,
             "ticks": ""
            },
            "colorscale": [
             [
              0,
              "#0d0887"
             ],
             [
              0.1111111111111111,
              "#46039f"
             ],
             [
              0.2222222222222222,
              "#7201a8"
             ],
             [
              0.3333333333333333,
              "#9c179e"
             ],
             [
              0.4444444444444444,
              "#bd3786"
             ],
             [
              0.5555555555555556,
              "#d8576b"
             ],
             [
              0.6666666666666666,
              "#ed7953"
             ],
             [
              0.7777777777777778,
              "#fb9f3a"
             ],
             [
              0.8888888888888888,
              "#fdca26"
             ],
             [
              1,
              "#f0f921"
             ]
            ],
            "type": "surface"
           }
          ],
          "table": [
           {
            "cells": {
             "fill": {
              "color": "#EBF0F8"
             },
             "line": {
              "color": "white"
             }
            },
            "header": {
             "fill": {
              "color": "#C8D4E3"
             },
             "line": {
              "color": "white"
             }
            },
            "type": "table"
           }
          ]
         },
         "layout": {
          "annotationdefaults": {
           "arrowcolor": "#2a3f5f",
           "arrowhead": 0,
           "arrowwidth": 1
          },
          "autotypenumbers": "strict",
          "coloraxis": {
           "colorbar": {
            "outlinewidth": 0,
            "ticks": ""
           }
          },
          "colorscale": {
           "diverging": [
            [
             0,
             "#8e0152"
            ],
            [
             0.1,
             "#c51b7d"
            ],
            [
             0.2,
             "#de77ae"
            ],
            [
             0.3,
             "#f1b6da"
            ],
            [
             0.4,
             "#fde0ef"
            ],
            [
             0.5,
             "#f7f7f7"
            ],
            [
             0.6,
             "#e6f5d0"
            ],
            [
             0.7,
             "#b8e186"
            ],
            [
             0.8,
             "#7fbc41"
            ],
            [
             0.9,
             "#4d9221"
            ],
            [
             1,
             "#276419"
            ]
           ],
           "sequential": [
            [
             0,
             "#0d0887"
            ],
            [
             0.1111111111111111,
             "#46039f"
            ],
            [
             0.2222222222222222,
             "#7201a8"
            ],
            [
             0.3333333333333333,
             "#9c179e"
            ],
            [
             0.4444444444444444,
             "#bd3786"
            ],
            [
             0.5555555555555556,
             "#d8576b"
            ],
            [
             0.6666666666666666,
             "#ed7953"
            ],
            [
             0.7777777777777778,
             "#fb9f3a"
            ],
            [
             0.8888888888888888,
             "#fdca26"
            ],
            [
             1,
             "#f0f921"
            ]
           ],
           "sequentialminus": [
            [
             0,
             "#0d0887"
            ],
            [
             0.1111111111111111,
             "#46039f"
            ],
            [
             0.2222222222222222,
             "#7201a8"
            ],
            [
             0.3333333333333333,
             "#9c179e"
            ],
            [
             0.4444444444444444,
             "#bd3786"
            ],
            [
             0.5555555555555556,
             "#d8576b"
            ],
            [
             0.6666666666666666,
             "#ed7953"
            ],
            [
             0.7777777777777778,
             "#fb9f3a"
            ],
            [
             0.8888888888888888,
             "#fdca26"
            ],
            [
             1,
             "#f0f921"
            ]
           ]
          },
          "colorway": [
           "#636efa",
           "#EF553B",
           "#00cc96",
           "#ab63fa",
           "#FFA15A",
           "#19d3f3",
           "#FF6692",
           "#B6E880",
           "#FF97FF",
           "#FECB52"
          ],
          "font": {
           "color": "#2a3f5f"
          },
          "geo": {
           "bgcolor": "white",
           "lakecolor": "white",
           "landcolor": "#E5ECF6",
           "showlakes": true,
           "showland": true,
           "subunitcolor": "white"
          },
          "hoverlabel": {
           "align": "left"
          },
          "hovermode": "closest",
          "mapbox": {
           "style": "light"
          },
          "paper_bgcolor": "white",
          "plot_bgcolor": "#E5ECF6",
          "polar": {
           "angularaxis": {
            "gridcolor": "white",
            "linecolor": "white",
            "ticks": ""
           },
           "bgcolor": "#E5ECF6",
           "radialaxis": {
            "gridcolor": "white",
            "linecolor": "white",
            "ticks": ""
           }
          },
          "scene": {
           "xaxis": {
            "backgroundcolor": "#E5ECF6",
            "gridcolor": "white",
            "gridwidth": 2,
            "linecolor": "white",
            "showbackground": true,
            "ticks": "",
            "zerolinecolor": "white"
           },
           "yaxis": {
            "backgroundcolor": "#E5ECF6",
            "gridcolor": "white",
            "gridwidth": 2,
            "linecolor": "white",
            "showbackground": true,
            "ticks": "",
            "zerolinecolor": "white"
           },
           "zaxis": {
            "backgroundcolor": "#E5ECF6",
            "gridcolor": "white",
            "gridwidth": 2,
            "linecolor": "white",
            "showbackground": true,
            "ticks": "",
            "zerolinecolor": "white"
           }
          },
          "shapedefaults": {
           "line": {
            "color": "#2a3f5f"
           }
          },
          "ternary": {
           "aaxis": {
            "gridcolor": "white",
            "linecolor": "white",
            "ticks": ""
           },
           "baxis": {
            "gridcolor": "white",
            "linecolor": "white",
            "ticks": ""
           },
           "bgcolor": "#E5ECF6",
           "caxis": {
            "gridcolor": "white",
            "linecolor": "white",
            "ticks": ""
           }
          },
          "title": {
           "x": 0.05
          },
          "xaxis": {
           "automargin": true,
           "gridcolor": "white",
           "linecolor": "white",
           "ticks": "",
           "title": {
            "standoff": 15
           },
           "zerolinecolor": "white",
           "zerolinewidth": 2
          },
          "yaxis": {
           "automargin": true,
           "gridcolor": "white",
           "linecolor": "white",
           "ticks": "",
           "title": {
            "standoff": 15
           },
           "zerolinecolor": "white",
           "zerolinewidth": 2
          }
         }
        },
        "xaxis": {
         "anchor": "y",
         "domain": [
          0,
          0.94
         ]
        },
        "yaxis": {
         "anchor": "x",
         "domain": [
          0,
          1
         ]
        },
        "yaxis2": {
         "anchor": "x",
         "overlaying": "y",
         "side": "right"
        }
       },
       "_py2js_addTraces": {},
       "_py2js_animate": {},
       "_py2js_deleteTraces": {},
       "_py2js_moveTraces": {},
       "_py2js_relayout": {},
       "_py2js_removeLayoutProps": {},
       "_py2js_removeTraceProps": {},
       "_py2js_restyle": {},
       "_py2js_update": {},
       "_view_count": 0
      }
     },
     "e7ca928ede8a420ca0367fcee5e18fba": {
      "model_module": "@jupyter-widgets/controls",
      "model_module_version": "1.5.0",
      "model_name": "VBoxModel",
      "state": {
       "_dom_classes": [
        "widget-interact"
       ],
       "children": [
        "IPY_MODEL_4b4a5dc9846f4105a9e7825055f28d65",
        "IPY_MODEL_e7def9760b0b419fada0cf0117c4c4bb",
        "IPY_MODEL_85c891949c064a8a9342834cc7988ef1"
       ],
       "layout": "IPY_MODEL_6aaca8dd29684865b8410fb788555fff"
      }
     },
     "e7def9760b0b419fada0cf0117c4c4bb": {
      "model_module": "@jupyter-widgets/controls",
      "model_module_version": "1.5.0",
      "model_name": "FloatSliderModel",
      "state": {
       "description": "StdDev",
       "layout": "IPY_MODEL_723a3f4d1d4143429a32dc4c4e19c4fd",
       "max": 4,
       "min": 1,
       "step": 0.1,
       "style": "IPY_MODEL_0d0f35ef308d4e1a86ba9dce62cb9a9e",
       "value": 3.170896762079369
      }
     },
     "ead6fc643eb14c3792ca7c7d37b18640": {
      "model_module": "@jupyter-widgets/base",
      "model_module_version": "1.2.0",
      "model_name": "LayoutModel",
      "state": {}
     },
     "f86775efbf8240c5a02e4dab6fb93f20": {
      "model_module": "@jupyter-widgets/controls",
      "model_module_version": "1.5.0",
      "model_name": "SliderStyleModel",
      "state": {
       "description_width": ""
      }
     }
    },
    "version_major": 2,
    "version_minor": 0
   }
  }
 },
 "nbformat": 4,
 "nbformat_minor": 5
}
