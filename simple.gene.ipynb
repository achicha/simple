{
 "cells": [
  {
   "cell_type": "code",
   "execution_count": 1,
   "id": "64c4a250",
   "metadata": {
    "ExecuteTime": {
     "end_time": "2022-04-25T13:52:42.223632Z",
     "start_time": "2022-04-25T13:52:41.717653Z"
    },
    "code_folding": []
   },
   "outputs": [],
   "source": [
    "# import\n",
    "import pandas as pd\n",
    "import numpy as np\n",
    "from plotly_charts import interactFigure, updateLines, updateSliders\n",
    "from numba import njit\n",
    "from funcs import vwap\n",
    "from geneopt import GeneOpt\n",
    "from ipyslickgrid import show_grid\n",
    "from multiprocessing import current_process\n",
    "import plotly.graph_objs as go\n",
    "from ipywidgets import VBox"
   ]
  },
  {
   "cell_type": "code",
   "execution_count": 2,
   "id": "725efe1b",
   "metadata": {
    "ExecuteTime": {
     "end_time": "2022-04-25T13:52:42.352181Z",
     "start_time": "2022-04-25T13:52:42.225091Z"
    }
   },
   "outputs": [
    {
     "data": {
      "text/plain": [
       "889360"
      ]
     },
     "execution_count": 2,
     "metadata": {},
     "output_type": "execute_result"
    }
   ],
   "source": [
    "T = np.load('tick.npz')['arr_0'].view(np.recarray)\n",
    "len(T)"
   ]
  },
  {
   "cell_type": "code",
   "execution_count": 3,
   "id": "a0f3de34",
   "metadata": {
    "ExecuteTime": {
     "end_time": "2022-04-25T13:52:42.364544Z",
     "start_time": "2022-04-25T13:52:42.353947Z"
    },
    "code_folding": [
     4
    ],
    "jupyter": {
     "source_hidden": true
    },
    "tags": []
   },
   "outputs": [],
   "source": [
    "fp32 = np.float32\n",
    "default_fee = 0.05\n",
    "\n",
    "\n",
    "@njit(nogil=True)\n",
    "def backtestLimit(PriceA, qA, qB, fee_percent=default_fee) -> list:\n",
    "    \"\"\"Vectorized backtester for limit order strategies\"\"\"\n",
    "\n",
    "    buys = [(int(x), fp32(x)) for x in range(0)]\n",
    "    sells = [(int(x), fp32(x)) for x in range(0)]\n",
    "    trades = [(int(x), fp32(x), int(x), fp32(x), int(x), fp32(x), fp32(x)) for x in range(0)]\n",
    "\n",
    "    pos: int = 0\n",
    "\n",
    "    for i in range(len(PriceA) - 1):\n",
    "        price = PriceA[i]\n",
    "\n",
    "        if price > qA[i]:\n",
    "            delta_pos = -min(pos + 1, 1)\n",
    "        elif price < qB[i]:\n",
    "            delta_pos = min(1 - pos, 1)\n",
    "        else:\n",
    "            delta_pos = 0\n",
    "\n",
    "        k = i + 1\n",
    "        if delta_pos > 0:\n",
    "            buys.append((k, qB[k]))\n",
    "        elif delta_pos < 0:\n",
    "            sells.append((k, qA[k]))\n",
    "\n",
    "        if len(sells) > 0 and len(buys) > 0:\n",
    "            k_buy, buy = buys.pop(0)\n",
    "            k_sell, sell = sells.pop(0)\n",
    "            d_rawPnL = sell - buy\n",
    "            fee = fee_percent / 100 * (sell + buy)\n",
    "            d_PnL = d_rawPnL - fee\n",
    "            if delta_pos < 0:\n",
    "                trades.append((k_buy, buy, k_sell, sell, -delta_pos, d_PnL, fee))\n",
    "            else:\n",
    "                trades.append((k_sell, sell, k_buy, buy, -delta_pos, d_PnL, fee))\n",
    "\n",
    "        pos += delta_pos\n",
    "\n",
    "    return trades\n",
    "\n",
    "\n",
    "def npBacktestLimit(PriceA, qA, qB, fee_percent=default_fee) -> np.ndarray:\n",
    "    \"\"\"Converts trades from the limit-backtester to structured array\"\"\"\n",
    "\n",
    "    trades = backtestLimit(PriceA, qA, qB, fee_percent=fee_percent)\n",
    "    TPairTrade = [('X0', int), ('Price0', float), ('X1', int), ('Price1', float),\n",
    "                  ('Size', float), ('Profit', float), ('Fee', float)]\n",
    "    return np.array(trades, dtype=TPairTrade).view(np.recarray)\n",
    "\n",
    "\n",
    "def getLong(trades):\n",
    "    LongEntry = trades[['X0', 'Price0']][trades.Size > 0]\n",
    "    LongExit = trades[['X1', 'Price1']][trades.Size < 0]\n",
    "    return {'x': np.concatenate((LongEntry.X0, LongExit.X1)), 'y': np.concatenate((LongEntry.Price0, LongExit.Price1))}\n",
    "\n",
    "\n",
    "def getShort(trades):\n",
    "    ShortEntry = trades[['X0', 'Price0']][trades.Size < 0]\n",
    "    ShortExit = trades[['X1', 'Price1']][trades.Size > 0]\n",
    "    return {'x': np.concatenate((ShortEntry.X0, ShortExit.X1)), 'y': np.concatenate((ShortEntry.Price0, ShortExit.Price1))}"
   ]
  },
  {
   "cell_type": "code",
   "execution_count": 4,
   "id": "efaa5fb3",
   "metadata": {
    "ExecuteTime": {
     "end_time": "2022-04-25T13:52:42.369400Z",
     "start_time": "2022-04-25T13:52:42.365777Z"
    }
   },
   "outputs": [],
   "source": [
    "# declare chart linestyles\n",
    "line_styles = {\n",
    "    'Tick': dict(color='gray', opacity=0.25),\n",
    "    'Center': dict(color='blue', opacity=0.5),\n",
    "    'qA': dict(color='red', opacity=0.5, dash='dot'),\n",
    "    'qB': dict(color='green', opacity=0.5, dash='dot'),\n",
    "    'Profit': dict(color='black', width=8, opacity=0.1, secondary_y=True, shape='hv'),\n",
    "    'Buy': dict(mode='markers', color='green', symbol='triangle-up', size=10, line=dict(color=\"darkgreen\", width=1)),\n",
    "    'Sell': dict(mode='markers', color='red', symbol='triangle-down', size=10, line=dict(color=\"darkred\", width=1))\n",
    "}"
   ]
  },
  {
   "cell_type": "code",
   "execution_count": 5,
   "id": "237bbc5b",
   "metadata": {
    "ExecuteTime": {
     "end_time": "2022-04-25T13:52:42.374438Z",
     "start_time": "2022-04-25T13:52:42.370371Z"
    },
    "code_folding": []
   },
   "outputs": [],
   "source": [
    "def model(Period: int = (1000, 50000), StdDev: float = (1, 4, 0.1)):\n",
    "    if Period == 0 or StdDev == 0: return 0, {}\n",
    "    Tick = T.PriceA\n",
    "    Center = vwap(Tick, T.VolumeA, Period)\n",
    "    std = pd.Series(Tick).rolling(Period).std().values\n",
    "    qA = Center + std*StdDev\n",
    "    qB = Center - std*StdDev\n",
    "\n",
    "    trades = npBacktestLimit(Tick, qA, qB)\n",
    "    Buy, Sell = getLong(trades), getShort(trades)\n",
    "    return trades.Profit.sum(), {\n",
    "        'Count': len(trades),\n",
    "        'AvgProfit': trades.Profit.mean() if len(trades) > 0 else 0,\n",
    "        'Sharpe': trades.Profit.sum() / trades.Profit.std() if len(trades) > 1 else 0\n",
    "     } if current_process().daemon else locals()"
   ]
  },
  {
   "cell_type": "code",
   "execution_count": 6,
   "id": "14af796c",
   "metadata": {
    "ExecuteTime": {
     "end_time": "2022-04-25T13:52:55.151601Z",
     "start_time": "2022-04-25T13:52:42.375536Z"
    }
   },
   "outputs": [
    {
     "data": {
      "application/vnd.jupyter.widget-view+json": {
       "model_id": "3a544aa5d1e644d4b7fab6f8e7395819",
       "version_major": 2,
       "version_minor": 0
      },
      "text/plain": [
       "  0%|          | 0/5 [00:00<?, ?it/s]"
      ]
     },
     "metadata": {},
     "output_type": "display_data"
    },
    {
     "data": {
      "text/plain": [
       "{'Period': 33867, 'StdDev': 3.2646777536415614}"
      ]
     },
     "execution_count": 6,
     "metadata": {},
     "output_type": "execute_result"
    }
   ],
   "source": [
    "# Genetic optimizer\n",
    "G = GeneOpt(model)\n",
    "G.maximize(population_size=100, generations=5)"
   ]
  },
  {
   "cell_type": "code",
   "execution_count": 7,
   "id": "fadf1447",
   "metadata": {},
   "outputs": [],
   "source": [
    "# Create interactive figure\n",
    "box = interactFigure(model, line_styles, height=650)"
   ]
  },
  {
   "cell_type": "code",
   "execution_count": 8,
   "id": "f89b4e16",
   "metadata": {
    "ExecuteTime": {
     "end_time": "2022-04-25T13:52:55.176199Z",
     "start_time": "2022-04-25T13:52:55.153062Z"
    },
    "code_folding": [
     0
    ]
   },
   "outputs": [
    {
     "data": {
      "application/vnd.jupyter.widget-view+json": {
       "model_id": "800eed1e5d4542d78c1e426c620a5416",
       "version_major": 2,
       "version_minor": 0
      },
      "text/plain": [
       "VBox(children=(VBox(children=(HBox(children=(IntSlider(value=25500, description='Period', max=50000, min=1000)…"
      ]
     },
     "metadata": {},
     "output_type": "display_data"
    }
   ],
   "source": [
    "# Genetic result browser\n",
    "X = pd.DataFrame(G.log, columns=G.log_columns).drop_duplicates().sort_values('Fitness')\n",
    "\n",
    "\n",
    "def on_changed(event, grid):\n",
    "    changed = grid.get_changed_df()\n",
    "    k = event['new'][0]\n",
    "    selected = changed.iloc[k:k+1].to_dict('records')[0]\n",
    "    param = dict(filter(lambda x: x[0] in G.args, selected.items()))\n",
    "    updateSliders(box.children[0].children, **param)\n",
    "    updateLines(box.children[1], **model(**param)[1])\n",
    "\n",
    "\n",
    "grid = show_grid(X, grid_options={'editable': False, 'forceFitColumns': True, 'multiSelect': False},\n",
    "                 column_options={'defaultSortAsc': False})\n",
    "grid.on('selection_changed', on_changed)\n",
    "\n",
    "VBox([box, grid])"
   ]
  },
  {
   "cell_type": "code",
   "execution_count": 9,
   "id": "76156819",
   "metadata": {
    "ExecuteTime": {
     "end_time": "2022-04-25T13:52:56.580591Z",
     "start_time": "2022-04-25T13:52:56.442327Z"
    }
   },
   "outputs": [
    {
     "data": {
      "application/vnd.jupyter.widget-view+json": {
       "model_id": "0cf6d0e6007349e3941cff8fc0f24ae9",
       "version_major": 2,
       "version_minor": 0
      },
      "text/plain": [
       "FigureWidget({\n",
       "    'data': [{'dimensions': [{'label': 'Period',\n",
       "                              'values': array(…"
      ]
     },
     "metadata": {},
     "output_type": "display_data"
    }
   ],
   "source": [
    "# parallel coordinates chart for optimization results\n",
    "fig = go.FigureWidget(data=go.Parcoords(dimensions=[{'label': c, 'values': X[c]} for c in X.columns]))\n",
    "fig.update_layout(autosize=True, height=400, template='plotly_white', margin=dict(l=45, r=45, b=20, t=50, pad=3))\n",
    "fig"
   ]
  }
 ],
 "metadata": {
  "kernelspec": {
   "display_name": "Python 3 (ipykernel)",
   "language": "python",
   "name": "python3"
  },
  "language_info": {
   "codemirror_mode": {
    "name": "ipython",
    "version": 3
   },
   "file_extension": ".py",
   "mimetype": "text/x-python",
   "name": "python",
   "nbconvert_exporter": "python",
   "pygments_lexer": "ipython3",
   "version": "3.8.13"
  },
  "widgets": {
   "application/vnd.jupyter.widget-state+json": {
    "state": {
     "03cf08fc53f74b8e82a327488880d169": {
      "model_module": "@jupyter-widgets/base",
      "model_module_version": "1.2.0",
      "model_name": "LayoutModel",
      "state": {}
     },
     "0cf6d0e6007349e3941cff8fc0f24ae9": {
      "buffers": [
       {
        "data": "nrN2ffNw8D8itW6L1Hn3P13ul3zgtfA/RgHXZEMdBEAIFZIEaNzzP2WU/pbdSgBAZjP6jYRh9z8KWeca6e30PzbzFDk7dfo/vHOqDbNmCUBiF8gbIUH/PzJ/7lVbQfQ/zAzWuOx48j8oA/KzWjH5P3wXUst7+gFAEFXnuONN8j90fQ9qphQHQD8KS6agtwZAbcSfrltJ+z9A3lwYUPD0P1+XRp0HYPk/sNKDjxxh+T/FaMXq0rL+P8pPIRFGCgBAaBp/hLk+C0AZdYip44n7PwpHt2QeugpAGmCSv6IlCEC8CyZofz7xPwL68b93Zvs/0tm89pd4BEBIDQCTjgz+P1+txxIbw/c/ghKj4kZzAUDPMSuHsWsGQE+l8hlVVQ1AsYOzdhTICUAoA/KzWjH5P+A7SZd0VPI/sNKDjxxh+T9I8dNqLpr4PySNA5IsfgFArrA22afm8D9rIkN18tADQEgNAJOODP4/y66BYhn98D/N5obhnmzyP6GXJ/HsPAxAaQfhvsMn/T/lFSseS7QKQPSYE3y08A9ALaKq6c+yDECxg7N2FMgJQGX9T8YC3wtAOvS+Xg8eCkCukCTHi6IAQE7pb6KkWAxAAU62qhxAD0AAAAAAAAAAAB01L38+jQ9A+wQwHi30D0AAAAAAAAAAALGDs3YUyAlAVT70DDS/CkAAAAAAAAAAAAFOtqocQA9AAAAAAAAAAABGYf9BHu8MQAAAAAAAAAAAAAAAAAAAAABrIkN18tADQKKyDzTXz/I/3MX1dfl6DkCSSsUfFmAKQCgD8rNaMfk/orIPNNfP8j/FaMXq0rL+P7NKtS01hwlAPHhpbYCQB0AQVee4403yP7GDs3YUyAlAaOsfjptr+j8ZdYip44n7P88xK4exawZA04GQIK2gCUCSSsUfFmAKQMVoxerSsv4/7Pk54iIq/z90KnD0vlL1P2jrH46ba/o/kaLKpkXu+z+IQlO9I3L2PwzX3Ip07fY/dy1WT23FA0C7KlPdzg/4P8dDfV288vQ/DbfgDzkVBUD4lUaQ69sBQEgNAJOODP4/7tJ07Ce4+z8toqrpz7IMQFU+9Aw0vwpAphY4I7XWB0CSSsUfFmAKQMNJ40l1IQtAxWjF6tKy/j+91NZDX4sLQHSFv/ko1ghAxWjF6tKy/j+W6kyY+GUCQACKOx8cHAFAMF631KF0B0AM4C7tvW3/P+z5OeIiKv8/Z5TIZSxYCECVaMppDGoCQLGDs3YUyAlAtlDCz7luAkDFaMXq0rL+P66QJMeLogBAayJDdfLQA0AwXrfUoXQHQGjrH46ba/o/7Pk54iIq/z8ZdYip44n7PwzgLu29bf8/xWjF6tKy/j+aS2Z1R4cMQLZQws+5bgJAtoldOL+ZBkBI8dNqLpr4P1zYYznKWAlAXNhjOcpYCUBIvG9YDhn8P4cjqySjKghArpAkx4uiAEC2UMLPuW4CQCgD8rNaMfk/lWjKaQxqAkAoA/KzWjH5Pxl1iKnjifs/XNhjOcpYCUDy2IwgJpEFQFzYYznKWAlArpAkx4uiAEBc2GM5ylgJQFzYYznKWAlA8tiMICaRBUCzSrUtNYcJQFzYYznKWAlAsYOzdhTICUDFaMXq0rL+P7GDs3YUyAlAsYOzdhTICUDy2IwgJpEFQPLYjCAmkQVAMjDSFxqzA0Bww9Eg1l8GQHDD0SDWXwZAhyOrJKMqCEC2iV04v5kGQAlDJ9OJkwlAayJDdfLQA0A69L5eDx4KQBpgkr+iJQhA8tiMICaRBUC2iV04v5kGQBpgkr+iJQhAhyOrJKMqCEBrIkN18tADQOz5OeIiKv8/kkrFHxZgCkAyMNIXGrMDQDIw0hcaswNAsYOzdhTICUAyMNIXGrMDQMVoxerSsv4/kkrFHxZgCkCSSsUfFmAKQJJKxR8WYApAkkrFHxZgCkBpB+G+wyf9P0i8b1gOGfw/sNKDjxxh+T93LVZPbcUDQPLYjCAmkQVAxWjF6tKy/j9rIkN18tADQGsiQ3Xy0ANA+JVGkOvbAUDPMSuHsWsGQFzYYznKWAlA7Pk54iIq/z/PMSuHsWsGQCgD8rNaMfk/8tiMICaRBUDy2IwgJpEFQFzYYznKWAlA8tiMICaRBUDy2IwgJpEFQDIw0hcaswNAayJDdfLQA0DPMSuHsWsGQEbe5ACRKglAsYOzdhTICUAyMNIXGrMDQGsiQ3Xy0ANAMjDSFxqzA0BI8dNqLpr4P2siQ3Xy0ANA8tiMICaRBUAyMNIXGrMDQGsiQ3Xy0ANAayJDdfLQA0DPMSuHsWsGQBpgkr+iJQhAzzErh7FrBkDMhSezVsX6P/iVRpDr2wFAZ5TIZSxYCEBc2GM5ylgJQJk+Utp/GAZAZ5TIZSxYCECw0oOPHGH5P/iVRpDr2wFAZ5TIZSxYCEBnlMhlLFgIQPiVRpDr2wFA+JVGkOvbAUC2UMLPuW4CQLZQws+5bgJAtlDCz7luAkC2UMLPuW4CQHDD0SDWXwZAtlDCz7luAkCVaMppDGoCQLZQws+5bgJAkkrFHxZgCkCSSsUfFmAKQJVoymkMagJAtlDCz7luAkCVaMppDGoCQJJKxR8WYApAGmCSv6IlCEBc2GM5ylgJQFzYYznKWAlAXNhjOcpYCUBc2GM5ylgJQLZQws+5bgJAsYOzdhTICUCxg7N2FMgJQPLYjCAmkQVAMjDSFxqzA0B3LVZPbcUDQGsiQ3Xy0ANA8tiMICaRBUAyMNIXGrMDQDIw0hcaswNAOvS+Xg8eCkA=",
        "encoding": "base64",
        "path": [
         "_data",
         0,
         "dimensions",
         1,
         "values",
         "value"
        ]
       },
       {
        "data": "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",
        "encoding": "base64",
        "path": [
         "_data",
         0,
         "dimensions",
         2,
         "values",
         "value"
        ]
       },
       {
        "data": "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",
        "encoding": "base64",
        "path": [
         "_data",
         0,
         "dimensions",
         3,
         "values",
         "value"
        ]
       },
       {
        "data": "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",
        "encoding": "base64",
        "path": [
         "_data",
         0,
         "dimensions",
         4,
         "values",
         "value"
        ]
       },
       {
        "data": "R0RiL/CdTsBKaYVtlQ5OwCNh7ceQd0rA3is/apiuSsD53iQs5/s/wNV2FibeijTA3OVTddGNM8AnZhOtvsEywKX4F6q05y/AfqIwDr+fIMCqcsVl0iYpwHsEqbmMzSbAPsaxdaQqJcAmwTwqC48hwIYcd/9mqB3AiC1nscA+IcCagPPlRekSwKnl+i0ZdRDA3pAps6ntCcDi60dAmb8IwNKSHh1sRgbAulC6TeSMBcCXTg2CQaQRwIvjNQgQiRHAIEUvsRofC8DdYBSK40sCwHdZxSAEYgXAk7R6It4/AcCwUIpVJfcLwCgEMZghf/+/BDU/v+/r+7/yj1ZWXLL0v3Di8QC6zvW/NKKTF8AS/78V0Ps1kL3wv3AK2NRkMOa/AAAAAAAAAABJHWfxUn7qv1B5FijzBee/3Z5HGzpI5781xDbYEkjlv4709xNbl9G/adOvhrvE4b+UpLmho0S+v1rEERWj67K/q/AB4t4Kgr8AAAAAAAD4fwAAAAAAAAAAAAAAAAAA+H8AAAAAAAAAAAAAAAAAAAAAAAAAAAAAAAAAAAAAAAAAAAAAAAAAAAAAAAAAAAAA+H8AAAAAAAD4fwAAAAAAAAAAAAAAAAAAAAAAAAAAAAD4fwAAAAAAAAAAAAAAAAAAAAAAAAAAAAD4fwAAAAAAAPh/AAAAAAAAAAAAAAAAAAD4fwAAAAAAAAAAAAAAAAAA+H8AAAAAAAAAAAAAAAAAAPh/AAAAAAAA+H8AAAAAAAD4fwAAAAAAAPh/AAAAAAAAAAAAAAAAAAAAAL91Hpprfr4/YhDWPSHDuT/da3ObUHnIP1XM+eWY8rU/jnzB7oaFvT+nKjugo/HGP1Z1UTbA1sE/AeCrKetJ2T/rCztFY/XYP2ozIMtXmto/AAAAAAAAAAAAAAAAAAAAAMvAb2w5OOM/HQyTPezY6D9dwxncCA/kP84lpz0h8Os/gcNqcC3a7D/vktOG7+fvP1+qWZJAj+g/Rk0gtmA+6z9CeCGrtK31P8GFk56l+/Y/cEQZ2CqC8D8iHj7GY9b5P3ilq+rwwfw/6/drYsME+z8AAAAAAAAAAAAAAAAAAAAAW3Layr4P+j8AAAAAAAAAAAAAAAAAAAAASAsQJ/h3/D8AAAAAAAAAAAK8D8T1ehNA05n4cL0lAED40cu5lAD6P0C14uSdkAZAcLQ6GBD/AEDDOnvry2MCQAaCVHnEtwJARb1SecMAAkBVBHLu78kKQAFQ2IuBAxVA0CIg0vYZC0Bpnd+8a/0LQGz58lxbwA5AqLW9vCdkA0DXtx2JouUFQH6LqjfbOw9AiZQ2+A7GDkDd4Jns0SYQQDwdw88V6gRAsumytgXODkAAAAAAAAAAAHMfLisLcRBA1IuUABDFD0CBW73TnNYRQHKJuWe6tAJAAAAAAAAAAADKKchZAvALQNXSgEkpUQ1AUomd4N7ZDUBusEvj9EkTQH7blz2bmBRAcS5dr+awE0Aam5xU5w4VQDVE8yG/QhVAUte6+Xc0EEBaXDMJCtcSQHCxlnHPNxBApoOhGU3+D0CKfCuhLUsQQPECveuHShBAqfBoUXv7EkBK2x3stnIQQITTBc7WQxBAi/lazCWpEEDbkSKKIrQVQNdfK9gkrBBAuE8GxsWpEEAK8nqlLgcTQGqJeIb7kBNAAxLneEZXDUDNZr7277wNQFdekKfeRwlAIcwP/Q8lDEBQirC6/bAOQIyxdpWEgBRAvEvVVKGnEEAthidpB+QUQK9EgevLbBFAQO2lLl8zCkAK94Z+iXsLQE1pootwxBJAhpob4sjPEkBzoDKIwvsQQD1jp4MeNBhAbGnTc9ItFUAcu5Mf9ncSQGJEJgg7iRVASQGJx/TiGED+bZo0J5UXQNnbIDHYQBlAIaIoS2CUHEDajqErkyccQOuILl6L9RtAZ+/PSU2rG0BrqlOGblcTQN11SfQZ5RlAIwkPeplvG0DSYAGCk3gYQB8DqDDv/hVAlJmuUCWZGkDdTUV/RQ4ZQHrituPOqBRA01VGJWLVGkC1XGV6N+8UQDA3LHhojhhAodl0iOl/G0BaC93N4UgWQAdu0TkVfx1AHoOJNHzwFkD7BHZPHBIXQNUZt4AEPBlAN2ThUSUMGEDk9BKQdGkXQIyRLEpN4BNA2Fi0MujnE0Ah5njlQOITQCTngFwajxNADjxsZMqkGUC7C1HphBUUQEuuATPHUBRARMc2MqqAG0D/L5BI2xAfQADrvsORxhRAeXYbkf6DGUCvatazIOMUQNhDKueiihxAsNt1nqGNFUCsmidmP/gZQM9y8a36BRdAlCyON3xpGkA53FzioH4gQE1ot3OWvB9AQJWVAeDfGUBdK0wXymQJQA9xVlsMnxtA9nbW7kDjGUDJRnRivLUhQFV6iOjsPyBAa2fD4TEZGkBm5w7K9nwZQPz6guQqHxtAmxkAuft6IUA/6cmfpLYbQJ9iwpA5tSFAdxs2m3U2IkBKsaznKXkiQMnQtZ3rRB1AeJZdq+gYJEB3qCwsxK0gQG/JVsBs1CBAw3FRlFSKDkAodAc3PpEOQJ45N70xUiFAydhlp+1fIUCJi0QgWkIhQMm2ApG2BBBA8Ntxx/IXIkDt8vxiBJMbQE+SFcn5jhtAiJbL/xXEG0DHvTb98qgbQHDVUiBaDShAh6ojPBjTG0AWky2dCvAbQAYPzM9ZlyBAY4tYaypJJ0CYbY7onMonQBkC7geu9SdAMhqOqGhkIUCRok4SFjgqQCLdAMIV7ihAb3XIQ93wF0A=",
        "encoding": "base64",
        "path": [
         "_data",
         0,
         "dimensions",
         5,
         "values",
         "value"
        ]
       }
      ],
      "model_module": "jupyterlab-plotly",
      "model_module_version": "^5.6.0",
      "model_name": "FigureModel",
      "state": {
       "_config": {
        "plotlyServerURL": "https://plot.ly"
       },
       "_data": [
        {
         "dimensions": [
          {
           "label": "Period",
           "values": [
            5281,
            3842,
            5782,
            1297,
            8303,
            6926,
            10864,
            12690,
            10421,
            3243,
            13541,
            18485,
            20310,
            17114,
            12270,
            21630,
            7366,
            11257,
            43454,
            47935,
            48444,
            49361,
            17817,
            17086,
            15344,
            46449,
            13737,
            17817,
            27694,
            49554,
            39979,
            45754,
            47764,
            16756,
            16798,
            1377,
            20961,
            20961,
            30038,
            20961,
            24702,
            43989,
            26108,
            42821,
            25284,
            46565,
            0,
            23151,
            0,
            23036,
            28982,
            28375,
            21630,
            21700,
            0,
            0,
            25465,
            29434,
            34404,
            24156,
            44746,
            21630,
            0,
            21630,
            33867,
            33470,
            8850,
            24504,
            30642,
            36786,
            0,
            0,
            18182,
            21630,
            24702,
            45754,
            24702,
            16798,
            11482,
            42821,
            17114,
            21630,
            23892,
            39862,
            38126,
            46114,
            25284,
            23892,
            39677,
            23442,
            23870,
            24678,
            38090,
            46114,
            26160,
            29908,
            13206,
            21630,
            22847,
            25648,
            46449,
            39862,
            45287,
            30642,
            32357,
            34404,
            31442,
            43030,
            34703,
            42380,
            24205,
            34463,
            34463,
            34703,
            36906,
            21630,
            49361,
            21630,
            29592,
            23442,
            36310,
            39531,
            29384,
            29384,
            28375,
            39531,
            33470,
            43061,
            17114,
            23105,
            33867,
            36310,
            20961,
            36310,
            36906,
            34404,
            20961,
            34404,
            18715,
            34703,
            33470,
            29201,
            29592,
            29384,
            34703,
            29434,
            29592,
            29811,
            29384,
            29811,
            29201,
            28375,
            29434,
            29592,
            29434,
            30642,
            24702,
            33470,
            17817,
            29811,
            33470,
            23919,
            29384,
            25675,
            22847,
            18715,
            17817,
            25284,
            24702,
            29592,
            28375,
            24702,
            28375,
            22847,
            30642,
            20961,
            29201,
            29201,
            29434,
            29592,
            29811,
            36786,
            33867,
            29201,
            20961,
            33470,
            29434,
            20961,
            28375,
            29434,
            23442,
            28375,
            29201,
            29384,
            29592,
            33867,
            34009,
            25675,
            28375,
            34404,
            33867,
            33470,
            21630,
            30392,
            28375,
            34009,
            33867,
            21630,
            30642,
            34009,
            29201,
            34404,
            21630,
            34404,
            34404,
            33470,
            34703,
            30434,
            29592,
            29201,
            21630,
            35809,
            29384,
            30642,
            29811,
            29811,
            34703,
            34703,
            30642,
            33470,
            29201,
            29434,
            29592,
            23105,
            30642,
            33867,
            33867,
            33867,
            33470,
            34404,
            34404,
            36786,
            34703,
            34009,
            34009,
            33867,
            30642,
            34404,
            28375,
            34009,
            34404,
            20961,
            29592,
            29811,
            29811,
            21630,
            29434,
            30642,
            33867
           ]
          },
          {
           "label": "StdDev",
           "values": {
            "dtype": "float64",
            "shape": [
             259
            ]
           }
          },
          {
           "label": "Fitness",
           "values": {
            "dtype": "float64",
            "shape": [
             259
            ]
           }
          },
          {
           "label": "Count",
           "values": {
            "dtype": "float64",
            "shape": [
             259
            ]
           }
          },
          {
           "label": "AvgProfit",
           "values": {
            "dtype": "float64",
            "shape": [
             259
            ]
           }
          },
          {
           "label": "Sharpe",
           "values": {
            "dtype": "float64",
            "shape": [
             259
            ]
           }
          }
         ],
         "type": "parcoords",
         "uid": "bb1beb7f-1dbd-46a6-aaef-b319d450db6b"
        }
       ],
       "_js2py_pointsCallback": {},
       "_js2py_relayout": {},
       "_js2py_restyle": {},
       "_js2py_update": {},
       "_last_layout_edit_id": 1,
       "_last_trace_edit_id": 1,
       "_layout": {
        "autosize": true,
        "height": 400,
        "margin": {
         "b": 20,
         "l": 45,
         "pad": 3,
         "r": 45,
         "t": 50
        },
        "template": {
         "data": {
          "bar": [
           {
            "error_x": {
             "color": "#2a3f5f"
            },
            "error_y": {
             "color": "#2a3f5f"
            },
            "marker": {
             "line": {
              "color": "white",
              "width": 0.5
             },
             "pattern": {
              "fillmode": "overlay",
              "size": 10,
              "solidity": 0.2
             }
            },
            "type": "bar"
           }
          ],
          "barpolar": [
           {
            "marker": {
             "line": {
              "color": "white",
              "width": 0.5
             },
             "pattern": {
              "fillmode": "overlay",
              "size": 10,
              "solidity": 0.2
             }
            },
            "type": "barpolar"
           }
          ],
          "carpet": [
           {
            "aaxis": {
             "endlinecolor": "#2a3f5f",
             "gridcolor": "#C8D4E3",
             "linecolor": "#C8D4E3",
             "minorgridcolor": "#C8D4E3",
             "startlinecolor": "#2a3f5f"
            },
            "baxis": {
             "endlinecolor": "#2a3f5f",
             "gridcolor": "#C8D4E3",
             "linecolor": "#C8D4E3",
             "minorgridcolor": "#C8D4E3",
             "startlinecolor": "#2a3f5f"
            },
            "type": "carpet"
           }
          ],
          "choropleth": [
           {
            "colorbar": {
             "outlinewidth": 0,
             "ticks": ""
            },
            "type": "choropleth"
           }
          ],
          "contour": [
           {
            "colorbar": {
             "outlinewidth": 0,
             "ticks": ""
            },
            "colorscale": [
             [
              0,
              "#0d0887"
             ],
             [
              0.1111111111111111,
              "#46039f"
             ],
             [
              0.2222222222222222,
              "#7201a8"
             ],
             [
              0.3333333333333333,
              "#9c179e"
             ],
             [
              0.4444444444444444,
              "#bd3786"
             ],
             [
              0.5555555555555556,
              "#d8576b"
             ],
             [
              0.6666666666666666,
              "#ed7953"
             ],
             [
              0.7777777777777778,
              "#fb9f3a"
             ],
             [
              0.8888888888888888,
              "#fdca26"
             ],
             [
              1,
              "#f0f921"
             ]
            ],
            "type": "contour"
           }
          ],
          "contourcarpet": [
           {
            "colorbar": {
             "outlinewidth": 0,
             "ticks": ""
            },
            "type": "contourcarpet"
           }
          ],
          "heatmap": [
           {
            "colorbar": {
             "outlinewidth": 0,
             "ticks": ""
            },
            "colorscale": [
             [
              0,
              "#0d0887"
             ],
             [
              0.1111111111111111,
              "#46039f"
             ],
             [
              0.2222222222222222,
              "#7201a8"
             ],
             [
              0.3333333333333333,
              "#9c179e"
             ],
             [
              0.4444444444444444,
              "#bd3786"
             ],
             [
              0.5555555555555556,
              "#d8576b"
             ],
             [
              0.6666666666666666,
              "#ed7953"
             ],
             [
              0.7777777777777778,
              "#fb9f3a"
             ],
             [
              0.8888888888888888,
              "#fdca26"
             ],
             [
              1,
              "#f0f921"
             ]
            ],
            "type": "heatmap"
           }
          ],
          "heatmapgl": [
           {
            "colorbar": {
             "outlinewidth": 0,
             "ticks": ""
            },
            "colorscale": [
             [
              0,
              "#0d0887"
             ],
             [
              0.1111111111111111,
              "#46039f"
             ],
             [
              0.2222222222222222,
              "#7201a8"
             ],
             [
              0.3333333333333333,
              "#9c179e"
             ],
             [
              0.4444444444444444,
              "#bd3786"
             ],
             [
              0.5555555555555556,
              "#d8576b"
             ],
             [
              0.6666666666666666,
              "#ed7953"
             ],
             [
              0.7777777777777778,
              "#fb9f3a"
             ],
             [
              0.8888888888888888,
              "#fdca26"
             ],
             [
              1,
              "#f0f921"
             ]
            ],
            "type": "heatmapgl"
           }
          ],
          "histogram": [
           {
            "marker": {
             "pattern": {
              "fillmode": "overlay",
              "size": 10,
              "solidity": 0.2
             }
            },
            "type": "histogram"
           }
          ],
          "histogram2d": [
           {
            "colorbar": {
             "outlinewidth": 0,
             "ticks": ""
            },
            "colorscale": [
             [
              0,
              "#0d0887"
             ],
             [
              0.1111111111111111,
              "#46039f"
             ],
             [
              0.2222222222222222,
              "#7201a8"
             ],
             [
              0.3333333333333333,
              "#9c179e"
             ],
             [
              0.4444444444444444,
              "#bd3786"
             ],
             [
              0.5555555555555556,
              "#d8576b"
             ],
             [
              0.6666666666666666,
              "#ed7953"
             ],
             [
              0.7777777777777778,
              "#fb9f3a"
             ],
             [
              0.8888888888888888,
              "#fdca26"
             ],
             [
              1,
              "#f0f921"
             ]
            ],
            "type": "histogram2d"
           }
          ],
          "histogram2dcontour": [
           {
            "colorbar": {
             "outlinewidth": 0,
             "ticks": ""
            },
            "colorscale": [
             [
              0,
              "#0d0887"
             ],
             [
              0.1111111111111111,
              "#46039f"
             ],
             [
              0.2222222222222222,
              "#7201a8"
             ],
             [
              0.3333333333333333,
              "#9c179e"
             ],
             [
              0.4444444444444444,
              "#bd3786"
             ],
             [
              0.5555555555555556,
              "#d8576b"
             ],
             [
              0.6666666666666666,
              "#ed7953"
             ],
             [
              0.7777777777777778,
              "#fb9f3a"
             ],
             [
              0.8888888888888888,
              "#fdca26"
             ],
             [
              1,
              "#f0f921"
             ]
            ],
            "type": "histogram2dcontour"
           }
          ],
          "mesh3d": [
           {
            "colorbar": {
             "outlinewidth": 0,
             "ticks": ""
            },
            "type": "mesh3d"
           }
          ],
          "parcoords": [
           {
            "line": {
             "colorbar": {
              "outlinewidth": 0,
              "ticks": ""
             }
            },
            "type": "parcoords"
           }
          ],
          "pie": [
           {
            "automargin": true,
            "type": "pie"
           }
          ],
          "scatter": [
           {
            "marker": {
             "colorbar": {
              "outlinewidth": 0,
              "ticks": ""
             }
            },
            "type": "scatter"
           }
          ],
          "scatter3d": [
           {
            "line": {
             "colorbar": {
              "outlinewidth": 0,
              "ticks": ""
             }
            },
            "marker": {
             "colorbar": {
              "outlinewidth": 0,
              "ticks": ""
             }
            },
            "type": "scatter3d"
           }
          ],
          "scattercarpet": [
           {
            "marker": {
             "colorbar": {
              "outlinewidth": 0,
              "ticks": ""
             }
            },
            "type": "scattercarpet"
           }
          ],
          "scattergeo": [
           {
            "marker": {
             "colorbar": {
              "outlinewidth": 0,
              "ticks": ""
             }
            },
            "type": "scattergeo"
           }
          ],
          "scattergl": [
           {
            "marker": {
             "colorbar": {
              "outlinewidth": 0,
              "ticks": ""
             }
            },
            "type": "scattergl"
           }
          ],
          "scattermapbox": [
           {
            "marker": {
             "colorbar": {
              "outlinewidth": 0,
              "ticks": ""
             }
            },
            "type": "scattermapbox"
           }
          ],
          "scatterpolar": [
           {
            "marker": {
             "colorbar": {
              "outlinewidth": 0,
              "ticks": ""
             }
            },
            "type": "scatterpolar"
           }
          ],
          "scatterpolargl": [
           {
            "marker": {
             "colorbar": {
              "outlinewidth": 0,
              "ticks": ""
             }
            },
            "type": "scatterpolargl"
           }
          ],
          "scatterternary": [
           {
            "marker": {
             "colorbar": {
              "outlinewidth": 0,
              "ticks": ""
             }
            },
            "type": "scatterternary"
           }
          ],
          "surface": [
           {
            "colorbar": {
             "outlinewidth": 0,
             "ticks": ""
            },
            "colorscale": [
             [
              0,
              "#0d0887"
             ],
             [
              0.1111111111111111,
              "#46039f"
             ],
             [
              0.2222222222222222,
              "#7201a8"
             ],
             [
              0.3333333333333333,
              "#9c179e"
             ],
             [
              0.4444444444444444,
              "#bd3786"
             ],
             [
              0.5555555555555556,
              "#d8576b"
             ],
             [
              0.6666666666666666,
              "#ed7953"
             ],
             [
              0.7777777777777778,
              "#fb9f3a"
             ],
             [
              0.8888888888888888,
              "#fdca26"
             ],
             [
              1,
              "#f0f921"
             ]
            ],
            "type": "surface"
           }
          ],
          "table": [
           {
            "cells": {
             "fill": {
              "color": "#EBF0F8"
             },
             "line": {
              "color": "white"
             }
            },
            "header": {
             "fill": {
              "color": "#C8D4E3"
             },
             "line": {
              "color": "white"
             }
            },
            "type": "table"
           }
          ]
         },
         "layout": {
          "annotationdefaults": {
           "arrowcolor": "#2a3f5f",
           "arrowhead": 0,
           "arrowwidth": 1
          },
          "autotypenumbers": "strict",
          "coloraxis": {
           "colorbar": {
            "outlinewidth": 0,
            "ticks": ""
           }
          },
          "colorscale": {
           "diverging": [
            [
             0,
             "#8e0152"
            ],
            [
             0.1,
             "#c51b7d"
            ],
            [
             0.2,
             "#de77ae"
            ],
            [
             0.3,
             "#f1b6da"
            ],
            [
             0.4,
             "#fde0ef"
            ],
            [
             0.5,
             "#f7f7f7"
            ],
            [
             0.6,
             "#e6f5d0"
            ],
            [
             0.7,
             "#b8e186"
            ],
            [
             0.8,
             "#7fbc41"
            ],
            [
             0.9,
             "#4d9221"
            ],
            [
             1,
             "#276419"
            ]
           ],
           "sequential": [
            [
             0,
             "#0d0887"
            ],
            [
             0.1111111111111111,
             "#46039f"
            ],
            [
             0.2222222222222222,
             "#7201a8"
            ],
            [
             0.3333333333333333,
             "#9c179e"
            ],
            [
             0.4444444444444444,
             "#bd3786"
            ],
            [
             0.5555555555555556,
             "#d8576b"
            ],
            [
             0.6666666666666666,
             "#ed7953"
            ],
            [
             0.7777777777777778,
             "#fb9f3a"
            ],
            [
             0.8888888888888888,
             "#fdca26"
            ],
            [
             1,
             "#f0f921"
            ]
           ],
           "sequentialminus": [
            [
             0,
             "#0d0887"
            ],
            [
             0.1111111111111111,
             "#46039f"
            ],
            [
             0.2222222222222222,
             "#7201a8"
            ],
            [
             0.3333333333333333,
             "#9c179e"
            ],
            [
             0.4444444444444444,
             "#bd3786"
            ],
            [
             0.5555555555555556,
             "#d8576b"
            ],
            [
             0.6666666666666666,
             "#ed7953"
            ],
            [
             0.7777777777777778,
             "#fb9f3a"
            ],
            [
             0.8888888888888888,
             "#fdca26"
            ],
            [
             1,
             "#f0f921"
            ]
           ]
          },
          "colorway": [
           "#636efa",
           "#EF553B",
           "#00cc96",
           "#ab63fa",
           "#FFA15A",
           "#19d3f3",
           "#FF6692",
           "#B6E880",
           "#FF97FF",
           "#FECB52"
          ],
          "font": {
           "color": "#2a3f5f"
          },
          "geo": {
           "bgcolor": "white",
           "lakecolor": "white",
           "landcolor": "white",
           "showlakes": true,
           "showland": true,
           "subunitcolor": "#C8D4E3"
          },
          "hoverlabel": {
           "align": "left"
          },
          "hovermode": "closest",
          "mapbox": {
           "style": "light"
          },
          "paper_bgcolor": "white",
          "plot_bgcolor": "white",
          "polar": {
           "angularaxis": {
            "gridcolor": "#EBF0F8",
            "linecolor": "#EBF0F8",
            "ticks": ""
           },
           "bgcolor": "white",
           "radialaxis": {
            "gridcolor": "#EBF0F8",
            "linecolor": "#EBF0F8",
            "ticks": ""
           }
          },
          "scene": {
           "xaxis": {
            "backgroundcolor": "white",
            "gridcolor": "#DFE8F3",
            "gridwidth": 2,
            "linecolor": "#EBF0F8",
            "showbackground": true,
            "ticks": "",
            "zerolinecolor": "#EBF0F8"
           },
           "yaxis": {
            "backgroundcolor": "white",
            "gridcolor": "#DFE8F3",
            "gridwidth": 2,
            "linecolor": "#EBF0F8",
            "showbackground": true,
            "ticks": "",
            "zerolinecolor": "#EBF0F8"
           },
           "zaxis": {
            "backgroundcolor": "white",
            "gridcolor": "#DFE8F3",
            "gridwidth": 2,
            "linecolor": "#EBF0F8",
            "showbackground": true,
            "ticks": "",
            "zerolinecolor": "#EBF0F8"
           }
          },
          "shapedefaults": {
           "line": {
            "color": "#2a3f5f"
           }
          },
          "ternary": {
           "aaxis": {
            "gridcolor": "#DFE8F3",
            "linecolor": "#A2B1C6",
            "ticks": ""
           },
           "baxis": {
            "gridcolor": "#DFE8F3",
            "linecolor": "#A2B1C6",
            "ticks": ""
           },
           "bgcolor": "white",
           "caxis": {
            "gridcolor": "#DFE8F3",
            "linecolor": "#A2B1C6",
            "ticks": ""
           }
          },
          "title": {
           "x": 0.05
          },
          "xaxis": {
           "automargin": true,
           "gridcolor": "#EBF0F8",
           "linecolor": "#EBF0F8",
           "ticks": "",
           "title": {
            "standoff": 15
           },
           "zerolinecolor": "#EBF0F8",
           "zerolinewidth": 2
          },
          "yaxis": {
           "automargin": true,
           "gridcolor": "#EBF0F8",
           "linecolor": "#EBF0F8",
           "ticks": "",
           "title": {
            "standoff": 15
           },
           "zerolinecolor": "#EBF0F8",
           "zerolinewidth": 2
          }
         }
        }
       },
       "_py2js_addTraces": {},
       "_py2js_animate": {},
       "_py2js_deleteTraces": {},
       "_py2js_moveTraces": {},
       "_py2js_removeLayoutProps": {},
       "_py2js_removeTraceProps": {},
       "_py2js_restyle": {},
       "_view_count": 1
      }
     },
     "268c12f8ad304fd189f85a9fdba067c8": {
      "model_module": "@jupyter-widgets/base",
      "model_module_version": "1.2.0",
      "model_name": "LayoutModel",
      "state": {}
     },
     "2742645039a04c8aae4de00408c2dcd9": {
      "model_module": "@jupyter-widgets/base",
      "model_module_version": "1.2.0",
      "model_name": "LayoutModel",
      "state": {}
     },
     "3933dc8f09c449a9878ed0c75007e888": {
      "model_module": "@jupyter-widgets/base",
      "model_module_version": "1.2.0",
      "model_name": "LayoutModel",
      "state": {}
     },
     "3a544aa5d1e644d4b7fab6f8e7395819": {
      "model_module": "@jupyter-widgets/controls",
      "model_module_version": "1.5.0",
      "model_name": "HBoxModel",
      "state": {
       "children": [
        "IPY_MODEL_959a7df3ea7d46dcaf14b595cc7f2dda",
        "IPY_MODEL_9b533cec09524d80bcfe7da4153817f4",
        "IPY_MODEL_627e9289fc324144858407804ed226b7"
       ],
       "layout": "IPY_MODEL_2742645039a04c8aae4de00408c2dcd9"
      }
     },
     "460d6aaba864469b97de33b1a18fb246": {
      "model_module": "@jupyter-widgets/controls",
      "model_module_version": "1.5.0",
      "model_name": "DescriptionStyleModel",
      "state": {
       "description_width": ""
      }
     },
     "4e68e267a0d04867ae0d63f9b904bc1e": {
      "model_module": "@jupyter-widgets/controls",
      "model_module_version": "1.5.0",
      "model_name": "VBoxModel",
      "state": {
       "children": [
        "IPY_MODEL_7fbdfd00b9154ef08422567a068a6a26",
        "IPY_MODEL_b47f3d8f5a954902abd7a9edb4828ae3"
       ],
       "layout": "IPY_MODEL_c192b00421db4b8c975c766e9550b1fa"
      }
     },
     "593465540a9640bd9577d4ead1ecc58b": {
      "model_module": "@jupyter-widgets/base",
      "model_module_version": "1.2.0",
      "model_name": "LayoutModel",
      "state": {}
     },
     "627e9289fc324144858407804ed226b7": {
      "model_module": "@jupyter-widgets/controls",
      "model_module_version": "1.5.0",
      "model_name": "HTMLModel",
      "state": {
       "layout": "IPY_MODEL_03cf08fc53f74b8e82a327488880d169",
       "style": "IPY_MODEL_460d6aaba864469b97de33b1a18fb246",
       "value": " 5/5 [00:08&lt;00:00,  1.56s/it, fit=3,207.26]"
      }
     },
     "7012632ac7e64828aa8553d01914cbcb": {
      "model_module": "@jupyter-widgets/base",
      "model_module_version": "1.2.0",
      "model_name": "LayoutModel",
      "state": {}
     },
     "7fbdfd00b9154ef08422567a068a6a26": {
      "model_module": "@jupyter-widgets/controls",
      "model_module_version": "1.5.0",
      "model_name": "HBoxModel",
      "state": {
       "children": [
        "IPY_MODEL_a30abad048954f538624aa57ba998312",
        "IPY_MODEL_fd153041830b43e08835bc707430ce08"
       ],
       "layout": "IPY_MODEL_7012632ac7e64828aa8553d01914cbcb"
      }
     },
     "800eed1e5d4542d78c1e426c620a5416": {
      "model_module": "@jupyter-widgets/controls",
      "model_module_version": "1.5.0",
      "model_name": "VBoxModel",
      "state": {
       "children": [
        "IPY_MODEL_4e68e267a0d04867ae0d63f9b904bc1e",
        "IPY_MODEL_ed0c0554011a467c8dc24a095b34be70"
       ],
       "layout": "IPY_MODEL_aba99687b59346afa39e52319a9af422"
      }
     },
     "819b3aa437074cbda8418c3671620358": {
      "model_module": "@jupyter-widgets/base",
      "model_module_version": "1.2.0",
      "model_name": "LayoutModel",
      "state": {}
     },
     "959a7df3ea7d46dcaf14b595cc7f2dda": {
      "model_module": "@jupyter-widgets/controls",
      "model_module_version": "1.5.0",
      "model_name": "HTMLModel",
      "state": {
       "layout": "IPY_MODEL_268c12f8ad304fd189f85a9fdba067c8",
       "style": "IPY_MODEL_d6bd5d9f505a4fed815c5c6249291927",
       "value": "100%"
      }
     },
     "9b533cec09524d80bcfe7da4153817f4": {
      "model_module": "@jupyter-widgets/controls",
      "model_module_version": "1.5.0",
      "model_name": "FloatProgressModel",
      "state": {
       "bar_style": "success",
       "layout": "IPY_MODEL_f3983fe882864fca81f62ddf36a30eef",
       "max": 5,
       "style": "IPY_MODEL_dd46c714d7fd4862bf0a242bf13bc178",
       "value": 5
      }
     },
     "9d76722077d940929887d64db23bd523": {
      "model_module": "@jupyter-widgets/controls",
      "model_module_version": "1.5.0",
      "model_name": "VBoxModel",
      "state": {
       "_dom_classes": [
        "widget-interact"
       ],
       "children": [
        "IPY_MODEL_a30abad048954f538624aa57ba998312",
        "IPY_MODEL_fd153041830b43e08835bc707430ce08",
        "IPY_MODEL_cfc57d99e092403e967603fa00a0f593"
       ],
       "layout": "IPY_MODEL_ce76a1ec1e1c4b8392ec00b22d9da0c7"
      }
     },
     "9dec9d88042042cf956fd387d3ff6811": {
      "model_module": "@jupyter-widgets/base",
      "model_module_version": "1.2.0",
      "model_name": "LayoutModel",
      "state": {}
     },
     "a30abad048954f538624aa57ba998312": {
      "model_module": "@jupyter-widgets/controls",
      "model_module_version": "1.5.0",
      "model_name": "IntSliderModel",
      "state": {
       "description": "Period",
       "layout": "IPY_MODEL_9dec9d88042042cf956fd387d3ff6811",
       "max": 50000,
       "min": 1000,
       "style": "IPY_MODEL_e3dbb2ff49d64b1cbda15435ab80f541",
       "value": 25500
      }
     },
     "aba99687b59346afa39e52319a9af422": {
      "model_module": "@jupyter-widgets/base",
      "model_module_version": "1.2.0",
      "model_name": "LayoutModel",
      "state": {}
     },
     "ada091a2545c43979223c3a20bb9cc78": {
      "model_module": "@jupyter-widgets/controls",
      "model_module_version": "1.5.0",
      "model_name": "SliderStyleModel",
      "state": {
       "description_width": ""
      }
     },
     "b47f3d8f5a954902abd7a9edb4828ae3": {
      "buffers": [
       {
        "data": "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",
        "encoding": "base64",
        "path": [
         "_data",
         0,
         "y",
         "value"
        ]
       },
       {
        "data": "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",
        "encoding": "base64",
        "path": [
         "_data",
         1,
         "y",
         "value"
        ]
       },
       {
        "data": "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",
        "encoding": "base64",
        "path": [
         "_data",
         2,
         "y",
         "value"
        ]
       },
       {
        "data": "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",
        "encoding": "base64",
        "path": [
         "_data",
         3,
         "y",
         "value"
        ]
       },
       {
        "data": "nNxN7iZXUkDbtm3btv1iQHVlujJd+XBAj1/Hr+OHdkCk/dH+aOOBQIN5wbxgPodABVwCLgHXi0BnUbOoWfqSQMwL5gXzkpZAGWOMMcZ+mECI1cPqYV2bQIWnwlPhQ51A90f7o/33nkCQ9kf7o/1iQE+Fp8JT+XBAaX+0P9qHdkCRjchGZOOBQHAJuARcPodA8uv4dfzWi0Bdma5MV/qSQMNT4anwkpZAD6uH1cN+mEB+Hb+OX12bQHzvvffeQ51A7Y/2R/v3nkDbtm3btqOfQA==",
        "encoding": "base64",
        "path": [
         "_data",
         5,
         "x",
         "value"
        ]
       },
       {
        "data": "p1UUXQHL4UBUI3WuUOPhQDLbHDeFn+FAdm0UZtPl4UCofnVOyarhQM3/0n1EHeJAxbxe1rpx4kCQWTsc8u3iQPhECIcL2eJAlOihtFBF4kCjE0Fo+83hQOvNr5nLvOFAEsqTgzT04UCRNsKTUePhQJIQgraEn+FApyD7QdTl4UASXhnUyarhQM5hYuhEHeJA+gcSt7tx4kAXmcjs8e3iQL8idnwM2eJAoqwPVlNF4kA3gdtC/M3hQErlY1PMvOFASsI72DT04UDwTzWc3/fhQA==",
        "encoding": "base64",
        "path": [
         "_data",
         5,
         "y",
         "value"
        ]
       },
       {
        "data": "iWxENiIbWkDK3eRuctdrQIuaRc2irnJATMAl4BLofED3R/uj/YmDQFrULGoWXYhA1sPqYfVYkECJbEQ2Iq2UQOGp8FR4BJhAk7vJ3eR0mkALT4WnwlGcQKT90f5o7Z1APBWeCk9Ln0Dy6/h1/BpaQH4dv45f12tAZboyXZmuckAm4BJwCeh8QOTX8ev4iYNAR2QjshFdiEDMC+YF81iQQH+0P9ofrZRA2PHr+HUEmECKA8WB4nSaQAGXgEvAUZxAm0XNombtnUAzXZmuTEufQA==",
        "encoding": "base64",
        "path": [
         "_data",
         6,
         "x",
         "value"
        ]
       },
       {
        "data": "LN6kAT4X4kDAmnJTxcThQMvrovjv9OFAW7iPnS7G4UD1LkAza+3hQINyrYBAQOJAmOwSCXpZ4kC3t8qGmeniQKdznR+7kOJA0U4/32z54UCCKoWJMNbhQAWkVxWpBuJALmxkYYUt4kAo+lvjPhfiQCiqVrzIxOFATknZau/04UDcf6DHLcbhQMMmdDFq7eFA7yFlXEBA4kCtaD9TfFniQD4MPxya6eJAfFXwTbqQ4kCKhbPCbPnhQFo3AC8w1uFAfd13h6gG4kABfdbAhC3iQA==",
        "encoding": "base64",
        "path": [
         "_data",
         6,
         "y",
         "value"
        ]
       }
      ],
      "model_module": "jupyterlab-plotly",
      "model_module_version": "^5.6.0",
      "model_name": "FigureModel",
      "state": {
       "_config": {
        "plotlyServerURL": "https://plot.ly"
       },
       "_data": [
        {
         "line": {
          "color": "gray"
         },
         "name": "Tick",
         "opacity": 0.25,
         "type": "scattergl",
         "uid": "ce6dcbd8-f698-49aa-bd67-431d5eb55be9",
         "xaxis": "x2",
         "y": {
          "dtype": "float64",
          "shape": [
           2050
          ]
         }
        },
        {
         "line": {
          "color": "blue"
         },
         "name": "Center",
         "opacity": 0.5,
         "type": "scattergl",
         "uid": "8dabf938-024a-41f8-97d9-f89d985b12ef",
         "xaxis": "x2",
         "y": {
          "dtype": "float64",
          "shape": [
           2050
          ]
         }
        },
        {
         "line": {
          "color": "red",
          "dash": "dot"
         },
         "name": "qA",
         "opacity": 0.5,
         "type": "scattergl",
         "uid": "3d39718b-4415-4ead-b896-f8530606fa2f",
         "xaxis": "x2",
         "y": {
          "dtype": "float64",
          "shape": [
           2050
          ]
         }
        },
        {
         "line": {
          "color": "green",
          "dash": "dot"
         },
         "name": "qB",
         "opacity": 0.5,
         "type": "scattergl",
         "uid": "3050deea-d6aa-483f-bfff-63f82f2e9724",
         "xaxis": "x2",
         "y": {
          "dtype": "float64",
          "shape": [
           2050
          ]
         }
        },
        {
         "line": {
          "color": "black",
          "shape": "hv",
          "width": 8
         },
         "name": "Profit",
         "opacity": 0.1,
         "type": "scattergl",
         "uid": "3aaa4667-814d-4d9b-9c9d-cd4528bab055",
         "xaxis": "x2",
         "yaxis": "y2"
        },
        {
         "marker": {
          "color": "green",
          "line": {
           "color": "darkgreen",
           "width": 1
          },
          "size": 10,
          "symbol": "triangle-up"
         },
         "mode": "markers",
         "name": "Buy",
         "type": "scattergl",
         "uid": "eef1ad1c-31e8-4f08-b4aa-101aa3a33100",
         "x": {
          "dtype": "float64",
          "shape": [
           26
          ]
         },
         "xaxis": "x2",
         "y": {
          "dtype": "float64",
          "shape": [
           26
          ]
         }
        },
        {
         "marker": {
          "color": "red",
          "line": {
           "color": "darkred",
           "width": 1
          },
          "size": 10,
          "symbol": "triangle-down"
         },
         "mode": "markers",
         "name": "Sell",
         "type": "scattergl",
         "uid": "04e66a0b-d7fe-422d-a63c-ed9d06adcfe7",
         "x": {
          "dtype": "float64",
          "shape": [
           26
          ]
         },
         "xaxis": "x2",
         "y": {
          "dtype": "float64",
          "shape": [
           26
          ]
         }
        }
       ],
       "_js2py_pointsCallback": {},
       "_js2py_restyle": {},
       "_js2py_update": {},
       "_last_layout_edit_id": 18,
       "_last_trace_edit_id": 17,
       "_layout": {
        "autosize": true,
        "height": 650,
        "legend": {
         "orientation": "h",
         "x": 0.1,
         "y": 1
        },
        "margin": {
         "b": 10,
         "l": 45,
         "pad": 3,
         "r": 15,
         "t": 30
        },
        "template": {
         "data": {
          "bar": [
           {
            "error_x": {
             "color": "#2a3f5f"
            },
            "error_y": {
             "color": "#2a3f5f"
            },
            "marker": {
             "line": {
              "color": "white",
              "width": 0.5
             },
             "pattern": {
              "fillmode": "overlay",
              "size": 10,
              "solidity": 0.2
             }
            },
            "type": "bar"
           }
          ],
          "barpolar": [
           {
            "marker": {
             "line": {
              "color": "white",
              "width": 0.5
             },
             "pattern": {
              "fillmode": "overlay",
              "size": 10,
              "solidity": 0.2
             }
            },
            "type": "barpolar"
           }
          ],
          "carpet": [
           {
            "aaxis": {
             "endlinecolor": "#2a3f5f",
             "gridcolor": "#C8D4E3",
             "linecolor": "#C8D4E3",
             "minorgridcolor": "#C8D4E3",
             "startlinecolor": "#2a3f5f"
            },
            "baxis": {
             "endlinecolor": "#2a3f5f",
             "gridcolor": "#C8D4E3",
             "linecolor": "#C8D4E3",
             "minorgridcolor": "#C8D4E3",
             "startlinecolor": "#2a3f5f"
            },
            "type": "carpet"
           }
          ],
          "choropleth": [
           {
            "colorbar": {
             "outlinewidth": 0,
             "ticks": ""
            },
            "type": "choropleth"
           }
          ],
          "contour": [
           {
            "colorbar": {
             "outlinewidth": 0,
             "ticks": ""
            },
            "colorscale": [
             [
              0,
              "#0d0887"
             ],
             [
              0.1111111111111111,
              "#46039f"
             ],
             [
              0.2222222222222222,
              "#7201a8"
             ],
             [
              0.3333333333333333,
              "#9c179e"
             ],
             [
              0.4444444444444444,
              "#bd3786"
             ],
             [
              0.5555555555555556,
              "#d8576b"
             ],
             [
              0.6666666666666666,
              "#ed7953"
             ],
             [
              0.7777777777777778,
              "#fb9f3a"
             ],
             [
              0.8888888888888888,
              "#fdca26"
             ],
             [
              1,
              "#f0f921"
             ]
            ],
            "type": "contour"
           }
          ],
          "contourcarpet": [
           {
            "colorbar": {
             "outlinewidth": 0,
             "ticks": ""
            },
            "type": "contourcarpet"
           }
          ],
          "heatmap": [
           {
            "colorbar": {
             "outlinewidth": 0,
             "ticks": ""
            },
            "colorscale": [
             [
              0,
              "#0d0887"
             ],
             [
              0.1111111111111111,
              "#46039f"
             ],
             [
              0.2222222222222222,
              "#7201a8"
             ],
             [
              0.3333333333333333,
              "#9c179e"
             ],
             [
              0.4444444444444444,
              "#bd3786"
             ],
             [
              0.5555555555555556,
              "#d8576b"
             ],
             [
              0.6666666666666666,
              "#ed7953"
             ],
             [
              0.7777777777777778,
              "#fb9f3a"
             ],
             [
              0.8888888888888888,
              "#fdca26"
             ],
             [
              1,
              "#f0f921"
             ]
            ],
            "type": "heatmap"
           }
          ],
          "heatmapgl": [
           {
            "colorbar": {
             "outlinewidth": 0,
             "ticks": ""
            },
            "colorscale": [
             [
              0,
              "#0d0887"
             ],
             [
              0.1111111111111111,
              "#46039f"
             ],
             [
              0.2222222222222222,
              "#7201a8"
             ],
             [
              0.3333333333333333,
              "#9c179e"
             ],
             [
              0.4444444444444444,
              "#bd3786"
             ],
             [
              0.5555555555555556,
              "#d8576b"
             ],
             [
              0.6666666666666666,
              "#ed7953"
             ],
             [
              0.7777777777777778,
              "#fb9f3a"
             ],
             [
              0.8888888888888888,
              "#fdca26"
             ],
             [
              1,
              "#f0f921"
             ]
            ],
            "type": "heatmapgl"
           }
          ],
          "histogram": [
           {
            "marker": {
             "pattern": {
              "fillmode": "overlay",
              "size": 10,
              "solidity": 0.2
             }
            },
            "type": "histogram"
           }
          ],
          "histogram2d": [
           {
            "colorbar": {
             "outlinewidth": 0,
             "ticks": ""
            },
            "colorscale": [
             [
              0,
              "#0d0887"
             ],
             [
              0.1111111111111111,
              "#46039f"
             ],
             [
              0.2222222222222222,
              "#7201a8"
             ],
             [
              0.3333333333333333,
              "#9c179e"
             ],
             [
              0.4444444444444444,
              "#bd3786"
             ],
             [
              0.5555555555555556,
              "#d8576b"
             ],
             [
              0.6666666666666666,
              "#ed7953"
             ],
             [
              0.7777777777777778,
              "#fb9f3a"
             ],
             [
              0.8888888888888888,
              "#fdca26"
             ],
             [
              1,
              "#f0f921"
             ]
            ],
            "type": "histogram2d"
           }
          ],
          "histogram2dcontour": [
           {
            "colorbar": {
             "outlinewidth": 0,
             "ticks": ""
            },
            "colorscale": [
             [
              0,
              "#0d0887"
             ],
             [
              0.1111111111111111,
              "#46039f"
             ],
             [
              0.2222222222222222,
              "#7201a8"
             ],
             [
              0.3333333333333333,
              "#9c179e"
             ],
             [
              0.4444444444444444,
              "#bd3786"
             ],
             [
              0.5555555555555556,
              "#d8576b"
             ],
             [
              0.6666666666666666,
              "#ed7953"
             ],
             [
              0.7777777777777778,
              "#fb9f3a"
             ],
             [
              0.8888888888888888,
              "#fdca26"
             ],
             [
              1,
              "#f0f921"
             ]
            ],
            "type": "histogram2dcontour"
           }
          ],
          "mesh3d": [
           {
            "colorbar": {
             "outlinewidth": 0,
             "ticks": ""
            },
            "type": "mesh3d"
           }
          ],
          "parcoords": [
           {
            "line": {
             "colorbar": {
              "outlinewidth": 0,
              "ticks": ""
             }
            },
            "type": "parcoords"
           }
          ],
          "pie": [
           {
            "automargin": true,
            "type": "pie"
           }
          ],
          "scatter": [
           {
            "marker": {
             "colorbar": {
              "outlinewidth": 0,
              "ticks": ""
             }
            },
            "type": "scatter"
           }
          ],
          "scatter3d": [
           {
            "line": {
             "colorbar": {
              "outlinewidth": 0,
              "ticks": ""
             }
            },
            "marker": {
             "colorbar": {
              "outlinewidth": 0,
              "ticks": ""
             }
            },
            "type": "scatter3d"
           }
          ],
          "scattercarpet": [
           {
            "marker": {
             "colorbar": {
              "outlinewidth": 0,
              "ticks": ""
             }
            },
            "type": "scattercarpet"
           }
          ],
          "scattergeo": [
           {
            "marker": {
             "colorbar": {
              "outlinewidth": 0,
              "ticks": ""
             }
            },
            "type": "scattergeo"
           }
          ],
          "scattergl": [
           {
            "marker": {
             "colorbar": {
              "outlinewidth": 0,
              "ticks": ""
             }
            },
            "type": "scattergl"
           }
          ],
          "scattermapbox": [
           {
            "marker": {
             "colorbar": {
              "outlinewidth": 0,
              "ticks": ""
             }
            },
            "type": "scattermapbox"
           }
          ],
          "scatterpolar": [
           {
            "marker": {
             "colorbar": {
              "outlinewidth": 0,
              "ticks": ""
             }
            },
            "type": "scatterpolar"
           }
          ],
          "scatterpolargl": [
           {
            "marker": {
             "colorbar": {
              "outlinewidth": 0,
              "ticks": ""
             }
            },
            "type": "scatterpolargl"
           }
          ],
          "scatterternary": [
           {
            "marker": {
             "colorbar": {
              "outlinewidth": 0,
              "ticks": ""
             }
            },
            "type": "scatterternary"
           }
          ],
          "surface": [
           {
            "colorbar": {
             "outlinewidth": 0,
             "ticks": ""
            },
            "colorscale": [
             [
              0,
              "#0d0887"
             ],
             [
              0.1111111111111111,
              "#46039f"
             ],
             [
              0.2222222222222222,
              "#7201a8"
             ],
             [
              0.3333333333333333,
              "#9c179e"
             ],
             [
              0.4444444444444444,
              "#bd3786"
             ],
             [
              0.5555555555555556,
              "#d8576b"
             ],
             [
              0.6666666666666666,
              "#ed7953"
             ],
             [
              0.7777777777777778,
              "#fb9f3a"
             ],
             [
              0.8888888888888888,
              "#fdca26"
             ],
             [
              1,
              "#f0f921"
             ]
            ],
            "type": "surface"
           }
          ],
          "table": [
           {
            "cells": {
             "fill": {
              "color": "#EBF0F8"
             },
             "line": {
              "color": "white"
             }
            },
            "header": {
             "fill": {
              "color": "#C8D4E3"
             },
             "line": {
              "color": "white"
             }
            },
            "type": "table"
           }
          ]
         },
         "layout": {
          "annotationdefaults": {
           "arrowcolor": "#2a3f5f",
           "arrowhead": 0,
           "arrowwidth": 1
          },
          "autotypenumbers": "strict",
          "coloraxis": {
           "colorbar": {
            "outlinewidth": 0,
            "ticks": ""
           }
          },
          "colorscale": {
           "diverging": [
            [
             0,
             "#8e0152"
            ],
            [
             0.1,
             "#c51b7d"
            ],
            [
             0.2,
             "#de77ae"
            ],
            [
             0.3,
             "#f1b6da"
            ],
            [
             0.4,
             "#fde0ef"
            ],
            [
             0.5,
             "#f7f7f7"
            ],
            [
             0.6,
             "#e6f5d0"
            ],
            [
             0.7,
             "#b8e186"
            ],
            [
             0.8,
             "#7fbc41"
            ],
            [
             0.9,
             "#4d9221"
            ],
            [
             1,
             "#276419"
            ]
           ],
           "sequential": [
            [
             0,
             "#0d0887"
            ],
            [
             0.1111111111111111,
             "#46039f"
            ],
            [
             0.2222222222222222,
             "#7201a8"
            ],
            [
             0.3333333333333333,
             "#9c179e"
            ],
            [
             0.4444444444444444,
             "#bd3786"
            ],
            [
             0.5555555555555556,
             "#d8576b"
            ],
            [
             0.6666666666666666,
             "#ed7953"
            ],
            [
             0.7777777777777778,
             "#fb9f3a"
            ],
            [
             0.8888888888888888,
             "#fdca26"
            ],
            [
             1,
             "#f0f921"
            ]
           ],
           "sequentialminus": [
            [
             0,
             "#0d0887"
            ],
            [
             0.1111111111111111,
             "#46039f"
            ],
            [
             0.2222222222222222,
             "#7201a8"
            ],
            [
             0.3333333333333333,
             "#9c179e"
            ],
            [
             0.4444444444444444,
             "#bd3786"
            ],
            [
             0.5555555555555556,
             "#d8576b"
            ],
            [
             0.6666666666666666,
             "#ed7953"
            ],
            [
             0.7777777777777778,
             "#fb9f3a"
            ],
            [
             0.8888888888888888,
             "#fdca26"
            ],
            [
             1,
             "#f0f921"
            ]
           ]
          },
          "colorway": [
           "#636efa",
           "#EF553B",
           "#00cc96",
           "#ab63fa",
           "#FFA15A",
           "#19d3f3",
           "#FF6692",
           "#B6E880",
           "#FF97FF",
           "#FECB52"
          ],
          "font": {
           "color": "#2a3f5f"
          },
          "geo": {
           "bgcolor": "white",
           "lakecolor": "white",
           "landcolor": "white",
           "showlakes": true,
           "showland": true,
           "subunitcolor": "#C8D4E3"
          },
          "hoverlabel": {
           "align": "left"
          },
          "hovermode": "closest",
          "mapbox": {
           "style": "light"
          },
          "paper_bgcolor": "white",
          "plot_bgcolor": "white",
          "polar": {
           "angularaxis": {
            "gridcolor": "#EBF0F8",
            "linecolor": "#EBF0F8",
            "ticks": ""
           },
           "bgcolor": "white",
           "radialaxis": {
            "gridcolor": "#EBF0F8",
            "linecolor": "#EBF0F8",
            "ticks": ""
           }
          },
          "scene": {
           "xaxis": {
            "backgroundcolor": "white",
            "gridcolor": "#DFE8F3",
            "gridwidth": 2,
            "linecolor": "#EBF0F8",
            "showbackground": true,
            "ticks": "",
            "zerolinecolor": "#EBF0F8"
           },
           "yaxis": {
            "backgroundcolor": "white",
            "gridcolor": "#DFE8F3",
            "gridwidth": 2,
            "linecolor": "#EBF0F8",
            "showbackground": true,
            "ticks": "",
            "zerolinecolor": "#EBF0F8"
           },
           "zaxis": {
            "backgroundcolor": "white",
            "gridcolor": "#DFE8F3",
            "gridwidth": 2,
            "linecolor": "#EBF0F8",
            "showbackground": true,
            "ticks": "",
            "zerolinecolor": "#EBF0F8"
           }
          },
          "shapedefaults": {
           "line": {
            "color": "#2a3f5f"
           }
          },
          "ternary": {
           "aaxis": {
            "gridcolor": "#DFE8F3",
            "linecolor": "#A2B1C6",
            "ticks": ""
           },
           "baxis": {
            "gridcolor": "#DFE8F3",
            "linecolor": "#A2B1C6",
            "ticks": ""
           },
           "bgcolor": "white",
           "caxis": {
            "gridcolor": "#DFE8F3",
            "linecolor": "#A2B1C6",
            "ticks": ""
           }
          },
          "title": {
           "x": 0.05
          },
          "xaxis": {
           "automargin": true,
           "gridcolor": "#EBF0F8",
           "linecolor": "#EBF0F8",
           "ticks": "",
           "title": {
            "standoff": 15
           },
           "zerolinecolor": "#EBF0F8",
           "zerolinewidth": 2
          },
          "yaxis": {
           "automargin": true,
           "gridcolor": "#EBF0F8",
           "linecolor": "#EBF0F8",
           "ticks": "",
           "title": {
            "standoff": 15
           },
           "zerolinecolor": "#EBF0F8",
           "zerolinewidth": 2
          }
         }
        },
        "xaxis": {
         "anchor": "y",
         "domain": [
          0,
          0.94
         ],
         "spikedash": "dot",
         "spikemode": "across+marker",
         "spikesnap": "cursor",
         "spikethickness": 2
        },
        "xaxis2": {
         "autorange": true,
         "range": [
          -46.90526006251811,
          2145.195582643163
         ],
         "type": "linear"
        },
        "yaxis": {
         "anchor": "x",
         "domain": [
          0,
          1
         ]
        },
        "yaxis2": {
         "anchor": "x",
         "overlaying": "y",
         "side": "right"
        }
       },
       "_py2js_animate": {},
       "_py2js_deleteTraces": {},
       "_py2js_moveTraces": {},
       "_py2js_removeLayoutProps": {},
       "_py2js_removeTraceProps": {},
       "_py2js_restyle": {},
       "_view_count": 1
      }
     },
     "c192b00421db4b8c975c766e9550b1fa": {
      "model_module": "@jupyter-widgets/base",
      "model_module_version": "1.2.0",
      "model_name": "LayoutModel",
      "state": {}
     },
     "ce76a1ec1e1c4b8392ec00b22d9da0c7": {
      "model_module": "@jupyter-widgets/base",
      "model_module_version": "1.2.0",
      "model_name": "LayoutModel",
      "state": {}
     },
     "cfc57d99e092403e967603fa00a0f593": {
      "model_module": "@jupyter-widgets/output",
      "model_module_version": "1.0.0",
      "model_name": "OutputModel",
      "state": {
       "layout": "IPY_MODEL_593465540a9640bd9577d4ead1ecc58b"
      }
     },
     "d6bd5d9f505a4fed815c5c6249291927": {
      "model_module": "@jupyter-widgets/controls",
      "model_module_version": "1.5.0",
      "model_name": "DescriptionStyleModel",
      "state": {
       "description_width": ""
      }
     },
     "dd46c714d7fd4862bf0a242bf13bc178": {
      "model_module": "@jupyter-widgets/controls",
      "model_module_version": "1.5.0",
      "model_name": "ProgressStyleModel",
      "state": {
       "description_width": ""
      }
     },
     "e3dbb2ff49d64b1cbda15435ab80f541": {
      "model_module": "@jupyter-widgets/controls",
      "model_module_version": "1.5.0",
      "model_name": "SliderStyleModel",
      "state": {
       "description_width": ""
      }
     },
     "ed0c0554011a467c8dc24a095b34be70": {
      "model_module": "ipyslickgrid",
      "model_module_version": "0.0.3",
      "model_name": "QgridModel",
      "state": {
       "_columns": {
        "AvgProfit": {
         "cssClass": "number",
         "defaultSortAsc": false,
         "editable": true,
         "field": "AvgProfit",
         "id": "AvgProfit",
         "minWidth": 30,
         "name": "AvgProfit",
         "position": 6,
         "resizable": true,
         "sortable": true,
         "toolTip": "",
         "type": "number"
        },
        "Count": {
         "cssClass": "number",
         "defaultSortAsc": false,
         "editable": true,
         "field": "Count",
         "id": "Count",
         "minWidth": 30,
         "name": "Count",
         "position": 5,
         "resizable": true,
         "sortable": true,
         "toolTip": "",
         "type": "number"
        },
        "Fitness": {
         "cssClass": "number",
         "defaultSortAsc": false,
         "editable": true,
         "field": "Fitness",
         "id": "Fitness",
         "minWidth": 30,
         "name": "Fitness",
         "position": 4,
         "resizable": true,
         "sortable": true,
         "toolTip": "",
         "type": "number"
        },
        "Period": {
         "cssClass": "integer",
         "defaultSortAsc": false,
         "editable": true,
         "field": "Period",
         "id": "Period",
         "minWidth": 30,
         "name": "Period",
         "position": 2,
         "resizable": true,
         "sortable": true,
         "toolTip": "",
         "type": "integer"
        },
        "Sharpe": {
         "cssClass": "number",
         "defaultSortAsc": false,
         "editable": true,
         "field": "Sharpe",
         "id": "Sharpe",
         "minWidth": 30,
         "name": "Sharpe",
         "position": 7,
         "resizable": true,
         "sortable": true,
         "toolTip": "",
         "type": "number"
        },
        "StdDev": {
         "cssClass": "number",
         "defaultSortAsc": false,
         "editable": true,
         "field": "StdDev",
         "id": "StdDev",
         "minWidth": 30,
         "name": "StdDev",
         "position": 3,
         "resizable": true,
         "sortable": true,
         "toolTip": "",
         "type": "number"
        },
        "index": {
         "cssClass": "integer first-idx-col idx-col",
         "defaultSortAsc": false,
         "editable": true,
         "field": "index",
         "first_index": true,
         "id": "index",
         "index_display_text": "",
         "is_index": true,
         "level": 0,
         "minWidth": 30,
         "name": "",
         "position": 0,
         "resizable": true,
         "sortable": true,
         "toolTip": "",
         "type": "integer"
        },
        "qgrid_unfiltered_index": {
         "cssClass": "integer",
         "defaultSortAsc": false,
         "editable": true,
         "field": "qgrid_unfiltered_index",
         "id": "qgrid_unfiltered_index",
         "maxWidth": null,
         "minWidth": 30,
         "name": "qgrid_unfiltered_index",
         "position": 1,
         "resizable": true,
         "sortable": true,
         "toolTip": "",
         "type": "integer",
         "width": null
        }
       },
       "_df_json": "{\"schema\":{\"fields\":[{\"name\":\"index\",\"type\":\"integer\"},{\"name\":\"qgrid_unfiltered_index\",\"type\":\"integer\"},{\"name\":\"Period\",\"type\":\"integer\"},{\"name\":\"StdDev\",\"type\":\"number\"},{\"name\":\"Fitness\",\"type\":\"number\"},{\"name\":\"Count\",\"type\":\"number\"},{\"name\":\"AvgProfit\",\"type\":\"number\"},{\"name\":\"Sharpe\",\"type\":\"number\"}],\"primaryKey\":[\"index\"],\"pandas_version\":\"0.20.0\"},\"data\":[{\"index\":79,\"qgrid_unfiltered_index\":0,\"Period\":5281,\"StdDev\":1.02758,\"Fitness\":-14820.14416,\"Count\":176.0,\"AvgProfit\":-84.20536,\"Sharpe\":-61.23389},{\"index\":59,\"qgrid_unfiltered_index\":1,\"Period\":3842,\"StdDev\":1.46724,\"Fitness\":-14620.92543,\"Count\":188.0,\"AvgProfit\":-77.77088,\"Sharpe\":-60.11394},{\"index\":45,\"qgrid_unfiltered_index\":2,\"Period\":5782,\"StdDev\":1.0444,\"Fitness\":-13482.43908,\"Count\":157.0,\"AvgProfit\":-85.87541,\"Sharpe\":-52.93411},{\"index\":60,\"qgrid_unfiltered_index\":3,\"Period\":1297,\"StdDev\":2.51429,\"Fitness\":-12893.89177,\"Count\":183.0,\"AvgProfit\":-70.45842,\"Sharpe\":-53.36403},{\"index\":88,\"qgrid_unfiltered_index\":4,\"Period\":8303,\"StdDev\":1.24131,\"Fitness\":-10426.00114,\"Count\":98.0,\"AvgProfit\":-106.38777,\"Sharpe\":-31.984},{\"index\":49,\"qgrid_unfiltered_index\":5,\"Period\":6926,\"StdDev\":2.03656,\"Fitness\":-7419.91024,\"Count\":80.0,\"AvgProfit\":-92.74888,\"Sharpe\":-20.54245},{\"index\":14,\"qgrid_unfiltered_index\":6,\"Period\":10864,\"StdDev\":1.46131,\"Fitness\":-7142.60716,\"Count\":65.0,\"AvgProfit\":-109.88626,\"Sharpe\":-19.55398},{\"index\":11,\"qgrid_unfiltered_index\":7,\"Period\":12690,\"StdDev\":1.30808,\"Fitness\":-7003.22005,\"Count\":62.0,\"AvgProfit\":-112.95516,\"Sharpe\":-18.75682},{\"index\":29,\"qgrid_unfiltered_index\":8,\"Period\":10421,\"StdDev\":1.65362,\"Fitness\":-5846.89436,\"Count\":65.0,\"AvgProfit\":-89.95222,\"Sharpe\":-15.95255},{\"index\":66,\"qgrid_unfiltered_index\":9,\"Period\":3243,\"StdDev\":3.17515,\"Fitness\":-5553.79812,\"Count\":14.0,\"AvgProfit\":-396.69987,\"Sharpe\":-8.312},{\"index\":55,\"qgrid_unfiltered_index\":10,\"Period\":13541,\"StdDev\":1.9534,\"Fitness\":-4935.33156,\"Count\":42.0,\"AvgProfit\":-117.50789,\"Sharpe\":-12.57582},{\"index\":72,\"qgrid_unfiltered_index\":11,\"Period\":18485,\"StdDev\":1.26596,\"Fitness\":-4555.98412,\"Count\":44.0,\"AvgProfit\":-103.54509,\"Sharpe\":-11.40146},{\"index\":50,\"qgrid_unfiltered_index\":12,\"Period\":20310,\"StdDev\":1.15452,\"Fitness\":-4118.04596,\"Count\":44.0,\"AvgProfit\":-93.59195,\"Sharpe\":-10.58329},{\"index\":282,\"qgrid_unfiltered_index\":13,\"Period\":17114,\"StdDev\":1.57455,\"Fitness\":-3508.85515,\"Count\":42.0,\"AvgProfit\":-83.54417,\"Sharpe\":-8.77938},{\"index\":90,\"qgrid_unfiltered_index\":14,\"Period\":12270,\"StdDev\":2.24731,\"Fitness\":-3368.28598,\"Count\":38.0,\"AvgProfit\":-88.6391,\"Sharpe\":-7.41446},{\"index\":143,\"qgrid_unfiltered_index\":15,\"Period\":21630,\"StdDev\":1.14402,\"Fitness\":-3302.81688,\"Count\":44.0,\"AvgProfit\":-75.06402,\"Sharpe\":-8.62256},{\"index\":37,\"qgrid_unfiltered_index\":16,\"Period\":7366,\"StdDev\":2.88508,\"Fitness\":-2628.88848,\"Count\":25.0,\"AvgProfit\":-105.15554,\"Sharpe\":-4.72781},{\"index\":53,\"qgrid_unfiltered_index\":17,\"Period\":11257,\"StdDev\":2.83966,\"Fitness\":-2445.58387,\"Count\":18.0,\"AvgProfit\":-135.86577,\"Sharpe\":-4.11435},{\"index\":47,\"qgrid_unfiltered_index\":18,\"Period\":43454,\"StdDev\":1.70541,\"Fitness\":-2288.90019,\"Count\":12.0,\"AvgProfit\":-190.74168,\"Sharpe\":-3.24105},{\"index\":26,\"qgrid_unfiltered_index\":19,\"Period\":47935,\"StdDev\":1.30867,\"Fitness\":-2027.10461,\"Count\":14.0,\"AvgProfit\":-144.79319,\"Sharpe\":-3.09355},{\"index\":12,\"qgrid_unfiltered_index\":20,\"Period\":48444,\"StdDev\":1.58594,\"Fitness\":-1949.61781,\"Count\":12.0,\"AvgProfit\":-162.46815,\"Sharpe\":-2.78439},{\"index\":71,\"qgrid_unfiltered_index\":21,\"Period\":49361,\"StdDev\":1.58621,\"Fitness\":-1882.92727,\"Count\":12.0,\"AvgProfit\":-156.91061,\"Sharpe\":-2.69379},{\"index\":196,\"qgrid_unfiltered_index\":22,\"Period\":17817,\"StdDev\":1.91866,\"Fitness\":-1811.09307,\"Count\":34.0,\"AvgProfit\":-53.26744,\"Sharpe\":-4.41041},{\"index\":24,\"qgrid_unfiltered_index\":23,\"Period\":17086,\"StdDev\":2.00502,\"Fitness\":-1804.74701,\"Count\":34.0,\"AvgProfit\":-53.08079,\"Sharpe\":-4.38385},{\"index\":77,\"qgrid_unfiltered_index\":24,\"Period\":15344,\"StdDev\":3.40563,\"Fitness\":-1789.98518,\"Count\":3.0,\"AvgProfit\":-596.66173,\"Sharpe\":-3.39019},{\"index\":175,\"qgrid_unfiltered_index\":25,\"Period\":46449,\"StdDev\":1.72116,\"Fitness\":-1645.43066,\"Count\":12.0,\"AvgProfit\":-137.11922,\"Sharpe\":-2.28706},{\"index\":62,\"qgrid_unfiltered_index\":26,\"Period\":13737,\"StdDev\":3.34088,\"Fitness\":-1608.14033,\"Count\":4.0,\"AvgProfit\":-402.03508,\"Sharpe\":-2.67286},{\"index\":208,\"qgrid_unfiltered_index\":27,\"Period\":17817,\"StdDev\":3.01838,\"Fitness\":-1463.55685,\"Count\":8.0,\"AvgProfit\":-182.94461,\"Sharpe\":-2.15619},{\"index\":76,\"qgrid_unfiltered_index\":28,\"Period\":27694,\"StdDev\":1.07776,\"Fitness\":-1393.40041,\"Count\":38.0,\"AvgProfit\":-36.66843,\"Sharpe\":-3.49568},{\"index\":4,\"qgrid_unfiltered_index\":29,\"Period\":49554,\"StdDev\":1.71252,\"Fitness\":-1383.97851,\"Count\":12.0,\"AvgProfit\":-115.33154,\"Sharpe\":-1.96854},{\"index\":68,\"qgrid_unfiltered_index\":30,\"Period\":39979,\"StdDev\":2.55888,\"Fitness\":-1274.10008,\"Count\":6.0,\"AvgProfit\":-212.35001,\"Sharpe\":-1.7451},{\"index\":114,\"qgrid_unfiltered_index\":31,\"Period\":45754,\"StdDev\":1.87807,\"Fitness\":-938.84429,\"Count\":12.0,\"AvgProfit\":-78.23702,\"Sharpe\":-1.29355},{\"index\":97,\"qgrid_unfiltered_index\":32,\"Period\":47764,\"StdDev\":1.48513,\"Fitness\":-899.09991,\"Count\":14.0,\"AvgProfit\":-64.22142,\"Sharpe\":-1.36297},{\"index\":89,\"qgrid_unfiltered_index\":33,\"Period\":16756,\"StdDev\":2.18129,\"Fitness\":-876.06269,\"Count\":32.0,\"AvgProfit\":-27.37696,\"Sharpe\":-1.94208},{\"index\":166,\"qgrid_unfiltered_index\":34,\"Period\":16798,\"StdDev\":2.80258,\"Fitness\":-802.58688,\"Count\":14.0,\"AvgProfit\":-57.32763,\"Sharpe\":-1.04628},{\"index\":56,\"qgrid_unfiltered_index\":35,\"Period\":1377,\"StdDev\":3.66667,\"Fitness\":-430.77378,\"Count\":2.0,\"AvgProfit\":-215.38689,\"Sharpe\":-0.69341},{\"index\":462,\"qgrid_unfiltered_index\":36,\"Period\":20961,\"StdDev\":3.2227,\"Fitness\":-339.45484,\"Count\":1.0,\"AvgProfit\":-339.45484,\"Sharpe\":0.0},{\"index\":231,\"qgrid_unfiltered_index\":37,\"Period\":20961,\"StdDev\":1.57455,\"Fitness\":-329.81221,\"Count\":40.0,\"AvgProfit\":-8.24531,\"Sharpe\":-0.82792},{\"index\":91,\"qgrid_unfiltered_index\":38,\"Period\":30038,\"StdDev\":1.14562,\"Fitness\":-290.77788,\"Count\":34.0,\"AvgProfit\":-8.55229,\"Sharpe\":-0.71948},{\"index\":202,\"qgrid_unfiltered_index\":39,\"Period\":20961,\"StdDev\":1.58621,\"Fitness\":-290.42213,\"Count\":40.0,\"AvgProfit\":-7.26055,\"Sharpe\":-0.72757},{\"index\":127,\"qgrid_unfiltered_index\":40,\"Period\":24702,\"StdDev\":1.53764,\"Fitness\":-271.5746,\"Count\":34.0,\"AvgProfit\":-7.98749,\"Sharpe\":-0.66505},{\"index\":58,\"qgrid_unfiltered_index\":41,\"Period\":43989,\"StdDev\":2.18661,\"Fitness\":-200.90322,\"Count\":10.0,\"AvgProfit\":-20.09032,\"Sharpe\":-0.27486},{\"index\":5,\"qgrid_unfiltered_index\":42,\"Period\":26108,\"StdDev\":1.05631,\"Fitness\":-198.04962,\"Count\":46.0,\"AvgProfit\":-4.30543,\"Sharpe\":-0.55527},{\"index\":142,\"qgrid_unfiltered_index\":43,\"Period\":42821,\"StdDev\":2.47702,\"Fitness\":-91.05235,\"Count\":8.0,\"AvgProfit\":-11.38154,\"Sharpe\":-0.11823},{\"index\":128,\"qgrid_unfiltered_index\":44,\"Period\":25284,\"StdDev\":1.87807,\"Fitness\":-32.93096,\"Count\":26.0,\"AvgProfit\":-1.26658,\"Sharpe\":-0.07391},{\"index\":86,\"qgrid_unfiltered_index\":45,\"Period\":46565,\"StdDev\":1.06179,\"Fitness\":-4.8338,\"Count\":22.0,\"AvgProfit\":-0.21972,\"Sharpe\":-0.00881},{\"index\":92,\"qgrid_unfiltered_index\":46,\"Period\":0,\"StdDev\":1.15152,\"Fitness\":0.0,\"Count\":null,\"AvgProfit\":null,\"Sharpe\":null},{\"index\":15,\"qgrid_unfiltered_index\":47,\"Period\":23151,\"StdDev\":3.52975,\"Fitness\":0.0,\"Count\":0.0,\"AvgProfit\":0.0,\"Sharpe\":0.0},{\"index\":178,\"qgrid_unfiltered_index\":48,\"Period\":0,\"StdDev\":1.82221,\"Fitness\":0.0,\"Count\":null,\"AvgProfit\":null,\"Sharpe\":null},{\"index\":13,\"qgrid_unfiltered_index\":49,\"Period\":23036,\"StdDev\":3.33803,\"Fitness\":0.0,\"Count\":0.0,\"AvgProfit\":0.0,\"Sharpe\":0.0},{\"index\":16,\"qgrid_unfiltered_index\":50,\"Period\":28982,\"StdDev\":3.99253,\"Fitness\":0.0,\"Count\":0.0,\"AvgProfit\":0.0,\"Sharpe\":0.0},{\"index\":174,\"qgrid_unfiltered_index\":51,\"Period\":28375,\"StdDev\":3.58731,\"Fitness\":0.0,\"Count\":0.0,\"AvgProfit\":0.0,\"Sharpe\":0.0},{\"index\":435,\"qgrid_unfiltered_index\":52,\"Period\":21630,\"StdDev\":3.2227,\"Fitness\":0.0,\"Count\":0.0,\"AvgProfit\":0.0,\"Sharpe\":0.0},{\"index\":18,\"qgrid_unfiltered_index\":53,\"Period\":21700,\"StdDev\":3.48389,\"Fitness\":0.0,\"Count\":0.0,\"AvgProfit\":0.0,\"Sharpe\":0.0},{\"index\":153,\"qgrid_unfiltered_index\":54,\"Period\":0,\"StdDev\":3.26468,\"Fitness\":0.0,\"Count\":null,\"AvgProfit\":null,\"Sharpe\":null},{\"index\":137,\"qgrid_unfiltered_index\":55,\"Period\":0,\"StdDev\":2.07937,\"Fitness\":0.0,\"Count\":null,\"AvgProfit\":null,\"Sharpe\":null},{\"index\":1,\"qgrid_unfiltered_index\":56,\"Period\":25465,\"StdDev\":3.54328,\"Fitness\":0.0,\"Count\":0.0,\"AvgProfit\":0.0,\"Sharpe\":0.0},{\"index\":67,\"qgrid_unfiltered_index\":57,\"Period\":29434,\"StdDev\":3.9063,\"Fitness\":0.0,\"Count\":0.0,\"AvgProfit\":0.0,\"Sharpe\":0.0},{\"index\":446,\"qgrid_unfiltered_index\":58,\"Period\":34404,\"StdDev\":0.0,\"Fitness\":0.0,\"Count\":null,\"AvgProfit\":null,\"Sharpe\":null},{\"index\":93,\"qgrid_unfiltered_index\":59,\"Period\":24156,\"StdDev\":3.94397,\"Fitness\":0.0,\"Count\":0.0,\"AvgProfit\":0.0,\"Sharpe\":0.0},{\"index\":46,\"qgrid_unfiltered_index\":60,\"Period\":44746,\"StdDev\":3.99423,\"Fitness\":0.0,\"Count\":0.0,\"AvgProfit\":0.0,\"Sharpe\":0.0},{\"index\":260,\"qgrid_unfiltered_index\":61,\"Period\":21630,\"StdDev\":0.0,\"Fitness\":0.0,\"Count\":null,\"AvgProfit\":null,\"Sharpe\":null},{\"index\":354,\"qgrid_unfiltered_index\":62,\"Period\":0,\"StdDev\":3.2227,\"Fitness\":0.0,\"Count\":null,\"AvgProfit\":null,\"Sharpe\":null},{\"index\":252,\"qgrid_unfiltered_index\":63,\"Period\":21630,\"StdDev\":3.34336,\"Fitness\":0.0,\"Count\":0.0,\"AvgProfit\":0.0,\"Sharpe\":0.0},{\"index\":337,\"qgrid_unfiltered_index\":64,\"Period\":33867,\"StdDev\":0.0,\"Fitness\":0.0,\"Count\":null,\"AvgProfit\":null,\"Sharpe\":null},{\"index\":112,\"qgrid_unfiltered_index\":65,\"Period\":33470,\"StdDev\":3.9063,\"Fitness\":0.0,\"Count\":0.0,\"AvgProfit\":0.0,\"Sharpe\":0.0},{\"index\":51,\"qgrid_unfiltered_index\":66,\"Period\":8850,\"StdDev\":0.0,\"Fitness\":0.0,\"Count\":null,\"AvgProfit\":null,\"Sharpe\":null},{\"index\":21,\"qgrid_unfiltered_index\":67,\"Period\":24504,\"StdDev\":3.61676,\"Fitness\":0.0,\"Count\":0.0,\"AvgProfit\":0.0,\"Sharpe\":0.0},{\"index\":318,\"qgrid_unfiltered_index\":68,\"Period\":30642,\"StdDev\":0.0,\"Fitness\":0.0,\"Count\":null,\"AvgProfit\":null,\"Sharpe\":null},{\"index\":210,\"qgrid_unfiltered_index\":69,\"Period\":36786,\"StdDev\":0.0,\"Fitness\":0.0,\"Count\":null,\"AvgProfit\":null,\"Sharpe\":null},{\"index\":120,\"qgrid_unfiltered_index\":70,\"Period\":0,\"StdDev\":2.47702,\"Fitness\":0.0,\"Count\":null,\"AvgProfit\":null,\"Sharpe\":null},{\"index\":115,\"qgrid_unfiltered_index\":71,\"Period\":0,\"StdDev\":1.17574,\"Fitness\":0.0,\"Count\":null,\"AvgProfit\":null,\"Sharpe\":null},{\"index\":99,\"qgrid_unfiltered_index\":72,\"Period\":18182,\"StdDev\":3.81005,\"Fitness\":0.0,\"Count\":0.0,\"AvgProfit\":0.0,\"Sharpe\":0.0},{\"index\":329,\"qgrid_unfiltered_index\":73,\"Period\":21630,\"StdDev\":3.29692,\"Fitness\":0.0,\"Count\":0.0,\"AvgProfit\":0.0,\"Sharpe\":0.0},{\"index\":168,\"qgrid_unfiltered_index\":74,\"Period\":24702,\"StdDev\":1.57455,\"Fitness\":48.6182,\"Count\":34.0,\"AvgProfit\":1.42995,\"Sharpe\":0.11912},{\"index\":17,\"qgrid_unfiltered_index\":75,\"Period\":45754,\"StdDev\":1.17574,\"Fitness\":62.5039,\"Count\":20.0,\"AvgProfit\":3.1252,\"Sharpe\":0.10063},{\"index\":323,\"qgrid_unfiltered_index\":76,\"Period\":24702,\"StdDev\":1.91866,\"Fitness\":86.15047,\"Count\":26.0,\"AvgProfit\":3.31348,\"Sharpe\":0.1912},{\"index\":96,\"qgrid_unfiltered_index\":77,\"Period\":16798,\"StdDev\":3.19102,\"Fitness\":91.46982,\"Count\":4.0,\"AvgProfit\":22.86746,\"Sharpe\":0.08573},{\"index\":95,\"qgrid_unfiltered_index\":78,\"Period\":11482,\"StdDev\":2.94556,\"Fitness\":94.33582,\"Count\":12.0,\"AvgProfit\":7.86132,\"Sharpe\":0.11532},{\"index\":83,\"qgrid_unfiltered_index\":79,\"Period\":42821,\"StdDev\":1.14402,\"Fitness\":99.15195,\"Count\":22.0,\"AvgProfit\":4.50691,\"Sharpe\":0.17925},{\"index\":139,\"qgrid_unfiltered_index\":80,\"Period\":17114,\"StdDev\":3.2227,\"Fitness\":148.03372,\"Count\":4.0,\"AvgProfit\":37.00843,\"Sharpe\":0.13937},{\"index\":225,\"qgrid_unfiltered_index\":81,\"Period\":21630,\"StdDev\":1.65127,\"Fitness\":161.13442,\"Count\":38.0,\"AvgProfit\":4.24038,\"Sharpe\":0.39514},{\"index\":161,\"qgrid_unfiltered_index\":82,\"Period\":23892,\"StdDev\":1.72116,\"Fitness\":162.37408,\"Count\":32.0,\"AvgProfit\":5.07419,\"Sharpe\":0.38998},{\"index\":253,\"qgrid_unfiltered_index\":83,\"Period\":39862,\"StdDev\":2.80258,\"Fitness\":216.88981,\"Count\":4.0,\"AvgProfit\":54.22245,\"Sharpe\":0.41567},{\"index\":41,\"qgrid_unfiltered_index\":84,\"Period\":38126,\"StdDev\":3.20346,\"Fitness\":239.01632,\"Count\":1.0,\"AvgProfit\":239.01632,\"Sharpe\":0.0},{\"index\":393,\"qgrid_unfiltered_index\":85,\"Period\":46114,\"StdDev\":3.29692,\"Fitness\":258.9534,\"Count\":1.0,\"AvgProfit\":258.9534,\"Sharpe\":0.0},{\"index\":180,\"qgrid_unfiltered_index\":86,\"Period\":25284,\"StdDev\":1.91866,\"Fitness\":268.68133,\"Count\":26.0,\"AvgProfit\":10.3339,\"Sharpe\":0.60061},{\"index\":31,\"qgrid_unfiltered_index\":87,\"Period\":23892,\"StdDev\":1.94779,\"Fitness\":314.69201,\"Count\":28.0,\"AvgProfit\":11.239,\"Sharpe\":0.77648},{\"index\":3,\"qgrid_unfiltered_index\":88,\"Period\":39677,\"StdDev\":1.3327,\"Fitness\":360.55728,\"Count\":21.0,\"AvgProfit\":17.16939,\"Sharpe\":0.62684},{\"index\":44,\"qgrid_unfiltered_index\":89,\"Period\":23442,\"StdDev\":1.65127,\"Fitness\":361.50778,\"Count\":34.0,\"AvgProfit\":10.63258,\"Sharpe\":0.87306},{\"index\":87,\"qgrid_unfiltered_index\":90,\"Period\":23870,\"StdDev\":1.74567,\"Fitness\":375.7965,\"Count\":32.0,\"AvgProfit\":11.74364,\"Sharpe\":0.90163},{\"index\":54,\"qgrid_unfiltered_index\":91,\"Period\":24678,\"StdDev\":1.40287,\"Fitness\":389.04728,\"Count\":38.0,\"AvgProfit\":10.23809,\"Sharpe\":0.99706},{\"index\":25,\"qgrid_unfiltered_index\":92,\"Period\":38090,\"StdDev\":1.43297,\"Fitness\":440.01842,\"Count\":21.0,\"AvgProfit\":20.95326,\"Sharpe\":0.76749},{\"index\":22,\"qgrid_unfiltered_index\":93,\"Period\":46114,\"StdDev\":2.4714,\"Fitness\":527.3477,\"Count\":6.0,\"AvgProfit\":87.89128,\"Sharpe\":0.85136},{\"index\":10,\"qgrid_unfiltered_index\":94,\"Period\":26160,\"StdDev\":1.50386,\"Fitness\":538.88022,\"Count\":34.0,\"AvgProfit\":15.84942,\"Sharpe\":1.35491},{\"index\":48,\"qgrid_unfiltered_index\":95,\"Period\":29908,\"StdDev\":1.30926,\"Fitness\":593.04571,\"Count\":32.0,\"AvgProfit\":18.53268,\"Sharpe\":1.43644},{\"index\":9,\"qgrid_unfiltered_index\":96,\"Period\":13206,\"StdDev\":2.63536,\"Fitness\":687.93557,\"Count\":22.0,\"AvgProfit\":31.2698,\"Sharpe\":1.03178},{\"index\":125,\"qgrid_unfiltered_index\":97,\"Period\":21630,\"StdDev\":2.23238,\"Fitness\":719.61748,\"Count\":26.0,\"AvgProfit\":27.6776,\"Sharpe\":1.61484},{\"index\":73,\"qgrid_unfiltered_index\":98,\"Period\":22847,\"StdDev\":1.87807,\"Fitness\":742.78994,\"Count\":32.0,\"AvgProfit\":23.21219,\"Sharpe\":1.79735},{\"index\":70,\"qgrid_unfiltered_index\":99,\"Period\":25648,\"StdDev\":1.73246,\"Fitness\":744.5466,\"Count\":30.0,\"AvgProfit\":24.81822,\"Sharpe\":1.68866}]}",
       "_df_range": [
        0,
        100
       ],
       "_editable_rows": {},
       "_index_col_name": "qgrid_unfiltered_index",
       "_interval_columns": [],
       "_model_module_version": "0.0.3",
       "_multi_index": false,
       "_row_count": 259,
       "_row_styles": {},
       "_sort_ascending": true,
       "_sort_field": null,
       "_view_module_version": "0.0.3",
       "_viewport_range": [
        0,
        16
       ],
       "grid_options": {
        "autoEdit": false,
        "boldIndex": true,
        "defaultColumnWidth": 150,
        "editable": false,
        "enableColumnReorder": false,
        "enableTextSelectionOnCells": true,
        "explicitInitialization": true,
        "filterable": true,
        "forceFitColumns": true,
        "fullWidthRows": true,
        "highlightSelectedCell": false,
        "highlightSelectedRow": true,
        "maxVisibleRows": 15,
        "minVisibleRows": 8,
        "multiSelect": false,
        "rowHeight": 28,
        "sortable": true,
        "syncColumnCellResize": true
       },
       "id": "4141dac7-f0fd-4084-b52e-1931e2592712",
       "layout": "IPY_MODEL_3933dc8f09c449a9878ed0c75007e888",
       "precision": 5,
       "show_toolbar": false
      }
     },
     "f3983fe882864fca81f62ddf36a30eef": {
      "model_module": "@jupyter-widgets/base",
      "model_module_version": "1.2.0",
      "model_name": "LayoutModel",
      "state": {}
     },
     "fd153041830b43e08835bc707430ce08": {
      "model_module": "@jupyter-widgets/controls",
      "model_module_version": "1.5.0",
      "model_name": "FloatSliderModel",
      "state": {
       "description": "StdDev",
       "layout": "IPY_MODEL_819b3aa437074cbda8418c3671620358",
       "max": 4,
       "min": 1,
       "step": 0.1,
       "style": "IPY_MODEL_ada091a2545c43979223c3a20bb9cc78",
       "value": 2
      }
     }
    },
    "version_major": 2,
    "version_minor": 0
   }
  }
 },
 "nbformat": 4,
 "nbformat_minor": 5
}
