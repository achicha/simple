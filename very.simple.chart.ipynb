{
 "cells": [
  {
   "cell_type": "code",
   "execution_count": 1,
   "id": "c72f71d9",
   "metadata": {
    "ExecuteTime": {
     "end_time": "2022-05-16T15:03:14.846938Z",
     "start_time": "2022-05-16T15:03:14.087941Z"
    },
    "code_folding": [
     0
    ],
    "execution": {
     "iopub.execute_input": "2022-05-23T10:51:45.737432Z",
     "iopub.status.busy": "2022-05-23T10:51:45.737432Z",
     "iopub.status.idle": "2022-05-23T10:51:46.552176Z",
     "shell.execute_reply": "2022-05-23T10:51:46.552176Z",
     "shell.execute_reply.started": "2022-05-23T10:51:45.737432Z"
    },
    "tags": []
   },
   "outputs": [],
   "source": [
    "import numpy as np\n",
    "from plotly_charts import chartFigure\n",
    "from funcs import symlog"
   ]
  },
  {
   "cell_type": "code",
   "execution_count": 2,
   "id": "78806a1e",
   "metadata": {
    "ExecuteTime": {
     "end_time": "2022-05-16T15:03:14.977000Z",
     "start_time": "2022-05-16T15:03:14.848974Z"
    },
    "execution": {
     "iopub.execute_input": "2022-05-23T10:51:46.553174Z",
     "iopub.status.busy": "2022-05-23T10:51:46.552176Z",
     "iopub.status.idle": "2022-05-23T10:51:46.668739Z",
     "shell.execute_reply": "2022-05-23T10:51:46.668739Z",
     "shell.execute_reply.started": "2022-05-23T10:51:46.553174Z"
    }
   },
   "outputs": [
    {
     "data": {
      "text/plain": [
       "889360"
      ]
     },
     "execution_count": 2,
     "metadata": {},
     "output_type": "execute_result"
    }
   ],
   "source": [
    "T = np.load('tick.npz')['BTCUSDT']\n",
    "len(T)"
   ]
  },
  {
   "cell_type": "code",
   "execution_count": 3,
   "id": "3fbd2922",
   "metadata": {
    "ExecuteTime": {
     "end_time": "2022-05-16T15:03:14.987935Z",
     "start_time": "2022-05-16T15:03:14.985114Z"
    },
    "execution": {
     "iopub.execute_input": "2022-05-23T10:51:46.669730Z",
     "iopub.status.busy": "2022-05-23T10:51:46.669730Z",
     "iopub.status.idle": "2022-05-23T10:51:47.304772Z",
     "shell.execute_reply": "2022-05-23T10:51:47.304772Z",
     "shell.execute_reply.started": "2022-05-23T10:51:46.669730Z"
    }
   },
   "outputs": [],
   "source": [
    "Buy = np.where(T['VolumeA'] > 0, symlog(T['VolumeA']), 0)\n",
    "Sell = np.where(T['VolumeA'] < 0, symlog(T['VolumeA']), 0)"
   ]
  },
  {
   "cell_type": "code",
   "execution_count": 4,
   "id": "2290a208",
   "metadata": {
    "ExecuteTime": {
     "end_time": "2022-05-16T15:03:16.154373Z",
     "start_time": "2022-05-16T15:03:14.989361Z"
    },
    "execution": {
     "iopub.execute_input": "2022-05-23T10:51:47.305772Z",
     "iopub.status.busy": "2022-05-23T10:51:47.305772Z",
     "iopub.status.idle": "2022-05-23T10:51:47.827034Z",
     "shell.execute_reply": "2022-05-23T10:51:47.827034Z",
     "shell.execute_reply.started": "2022-05-23T10:51:47.305772Z"
    },
    "tags": []
   },
   "outputs": [
    {
     "data": {
      "application/vnd.jupyter.widget-view+json": {
       "model_id": "858ef109d116448f8d820ffe9d838738",
       "version_major": 2,
       "version_minor": 0
      },
      "text/plain": [
       "FigureWidgetResampler({\n",
       "    'data': [{'line': {'color': 'gray'},\n",
       "              'name': '<b style=\"color:sandyb…"
      ]
     },
     "metadata": {},
     "output_type": "display_data"
    }
   ],
   "source": [
    "chartFigure(Tick={'color': 'gray', 'opacity': 0.4, 'y': T['PriceA']},\n",
    "            Buy={'color': 'green', 'shape': 'hv', 'opacity': 0.6, 'row': 2, 'y': Buy},\n",
    "            Sell={'color': 'red', 'shape': 'hv', 'opacity': 0.6, 'row': 2, 'y': Sell}, rows=2)"
   ]
  },
  {
   "cell_type": "code",
   "execution_count": null,
   "id": "dc07358d",
   "metadata": {},
   "outputs": [],
   "source": []
  }
 ],
 "metadata": {
  "kernelspec": {
   "display_name": "Python 3 (ipykernel)",
   "language": "python",
   "name": "python3"
  },
  "language_info": {
   "codemirror_mode": {
    "name": "ipython",
    "version": 3
   },
   "file_extension": ".py",
   "mimetype": "text/x-python",
   "name": "python",
   "nbconvert_exporter": "python",
   "pygments_lexer": "ipython3",
   "version": "3.8.13"
  },
  "widgets": {
   "application/vnd.jupyter.widget-state+json": {
    "state": {},
    "version_major": 2,
    "version_minor": 0
   }
  }
 },
 "nbformat": 4,
 "nbformat_minor": 5
}
