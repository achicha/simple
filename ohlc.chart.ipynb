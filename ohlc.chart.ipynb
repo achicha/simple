{
 "cells": [
  {
   "cell_type": "code",
   "execution_count": 1,
   "id": "99d015a5-e0f9-4836-bc38-0a75f2a716fe",
   "metadata": {},
   "outputs": [],
   "source": [
    "import numpy as np\n",
    "from ohlc import ohlcVolume\n",
    "import plotly.graph_objects as go"
   ]
  },
  {
   "cell_type": "code",
   "execution_count": 7,
   "id": "f0177d68-489a-4ce3-9660-277ef75473cb",
   "metadata": {},
   "outputs": [
    {
     "data": {
      "text/plain": [
       "126"
      ]
     },
     "execution_count": 7,
     "metadata": {},
     "output_type": "execute_result"
    }
   ],
   "source": [
    "T = np.load('tick.npz')['arr_0'].view(np.recarray)\n",
    "\n",
    "OHLC = ohlcVolume(T, 50_000_000)\n",
    "len(OHLC)"
   ]
  },
  {
   "cell_type": "code",
   "execution_count": 9,
   "id": "a97423f1-7b08-4288-923a-e520623978b5",
   "metadata": {},
   "outputs": [
    {
     "data": {
      "application/vnd.jupyter.widget-view+json": {
       "model_id": "c7facf4196544130a4d99448cc6cd990",
       "version_major": 2,
       "version_minor": 0
      },
      "text/plain": [
       "FigureWidget({\n",
       "    'data': [{'close': array([37708. , 37710.5, 37000. , 36775. , 36677. , 36896. , 37287.5, 36…"
      ]
     },
     "metadata": {},
     "output_type": "display_data"
    }
   ],
   "source": [
    "fig = go.FigureWidget(layout={'height':500, 'template': 'plotly_white', \n",
    "                              'margin': dict(l=45, r=5, b=10, t=25, pad=3), \n",
    "                              'legend_orientation': 'h', 'xaxis_rangeslider_visible': False})\n",
    "\n",
    "fig.add_trace(go.Candlestick(\n",
    "    open=OHLC.Open, high=OHLC.High, low=OHLC.Low, close=OHLC.Close, name='OHLC', opacity=0.35)) \n",
    "\n",
    "fig"
   ]
  },
  {
   "cell_type": "code",
   "execution_count": null,
   "id": "e969cd66-3c0a-454b-b26f-bf49a254b0ca",
   "metadata": {},
   "outputs": [],
   "source": []
  },
  {
   "cell_type": "code",
   "execution_count": null,
   "id": "3866d519-ab4e-42eb-bd01-58097c7ae15c",
   "metadata": {},
   "outputs": [],
   "source": []
  }
 ],
 "metadata": {
  "kernelspec": {
   "display_name": "Python 3 (ipykernel)",
   "language": "python",
   "name": "python3"
  },
  "language_info": {
   "codemirror_mode": {
    "name": "ipython",
    "version": 3
   },
   "file_extension": ".py",
   "mimetype": "text/x-python",
   "name": "python",
   "nbconvert_exporter": "python",
   "pygments_lexer": "ipython3",
   "version": "3.8.13"
  }
 },
 "nbformat": 4,
 "nbformat_minor": 5
}
