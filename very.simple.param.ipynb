{
 "cells": [
  {
   "cell_type": "code",
   "execution_count": 1,
   "id": "c72f71d9",
   "metadata": {
    "ExecuteTime": {
     "end_time": "2022-05-23T13:36:53.792537Z",
     "start_time": "2022-05-23T13:36:53.105224Z"
    },
    "code_folding": []
   },
   "outputs": [],
   "source": [
    "import numpy as np\n",
    "from plotly_charts import interactFigure\n",
    "from funcs import symlog, vwap"
   ]
  },
  {
   "cell_type": "code",
   "execution_count": 2,
   "id": "78806a1e",
   "metadata": {
    "ExecuteTime": {
     "end_time": "2022-05-23T13:36:53.921429Z",
     "start_time": "2022-05-23T13:36:53.794091Z"
    },
    "tags": []
   },
   "outputs": [
    {
     "data": {
      "text/plain": [
       "889360"
      ]
     },
     "execution_count": 2,
     "metadata": {},
     "output_type": "execute_result"
    }
   ],
   "source": [
    "T = np.load('tick.npz')['arr_0'].view(np.recarray)\n",
    "len(T)"
   ]
  },
  {
   "cell_type": "code",
   "execution_count": 3,
   "id": "3fbd2922",
   "metadata": {
    "ExecuteTime": {
     "end_time": "2022-05-23T13:36:53.926831Z",
     "start_time": "2022-05-23T13:36:53.923204Z"
    },
    "tags": []
   },
   "outputs": [],
   "source": [
    "def model(Period: int = (500, 20000, 500)):\n",
    "    Tick = T.PriceA\n",
    "    Center = vwap(T.PriceA, T.VolumeA, Period)\n",
    "    Buy = np.where(T.VolumeA > 0, symlog(T.VolumeA), 0)\n",
    "    Sell = np.where(T.VolumeA < 0, symlog(T.VolumeA), 0)\n",
    "    return 0, locals()"
   ]
  },
  {
   "cell_type": "code",
   "execution_count": 4,
   "id": "2290a208",
   "metadata": {
    "ExecuteTime": {
     "end_time": "2022-05-23T13:36:55.343862Z",
     "start_time": "2022-05-23T13:36:53.927816Z"
    }
   },
   "outputs": [
    {
     "data": {
      "application/vnd.jupyter.widget-view+json": {
       "model_id": "454f3224f2a14a2cb477f1b11ed7efa6",
       "version_major": 2,
       "version_minor": 0
      },
      "text/plain": [
       "VBox(children=(HBox(children=(IntSlider(value=10000, description='Period', max=20000, min=500, step=500),)), F…"
      ]
     },
     "metadata": {},
     "output_type": "display_data"
    }
   ],
   "source": [
    "interactFigure(model, {\n",
    "    'Tick': {'color': 'gray', 'opacity': 0.4},\n",
    "    'Center': {'color': 'blue', 'opacity': 0.4},\n",
    "    'Buy': {'color': 'green', 'shape': 'hv', 'opacity': 0.6, 'row': 2},\n",
    "    'Sell': {'color': 'red', 'shape': 'hv', 'opacity': 0.6, 'row': 2}\n",
    "}, rows=2, height=850)"
   ]
  }
 ],
 "metadata": {
  "kernelspec": {
   "display_name": "Python 3 (ipykernel)",
   "language": "python",
   "name": "python3"
  },
  "language_info": {
   "codemirror_mode": {
    "name": "ipython",
    "version": 3
   },
   "file_extension": ".py",
   "mimetype": "text/x-python",
   "name": "python",
   "nbconvert_exporter": "python",
   "pygments_lexer": "ipython3",
   "version": "3.8.13"
  },
  "widgets": {
   "application/vnd.jupyter.widget-state+json": {
    "state": {
     "02a7a611bd894e65b385c6df9390d528": {
      "model_module": "@jupyter-widgets/controls",
      "model_module_version": "1.5.0",
      "model_name": "HBoxModel",
      "state": {
       "children": [
        "IPY_MODEL_4745584ea1c5467c9a49ed3c6e556515"
       ],
       "layout": "IPY_MODEL_c6c351b37e154e169aacc5bf3430a4a6"
      }
     },
     "183487c7516347d4b6b2efda4f9f4932": {
      "model_module": "@jupyter-widgets/output",
      "model_module_version": "1.0.0",
      "model_name": "OutputModel",
      "state": {
       "layout": "IPY_MODEL_83efe3d2f75e42bbbca3b645f748a357"
      }
     },
     "306bd4809c59459095f8e81afe6be685": {
      "model_module": "@jupyter-widgets/controls",
      "model_module_version": "1.5.0",
      "model_name": "VBoxModel",
      "state": {
       "_dom_classes": [
        "widget-interact"
       ],
       "children": [
        "IPY_MODEL_4745584ea1c5467c9a49ed3c6e556515",
        "IPY_MODEL_183487c7516347d4b6b2efda4f9f4932"
       ],
       "layout": "IPY_MODEL_5227cc7d56684b879f19848f59049393"
      }
     },
     "454f3224f2a14a2cb477f1b11ed7efa6": {
      "model_module": "@jupyter-widgets/controls",
      "model_module_version": "1.5.0",
      "model_name": "VBoxModel",
      "state": {
       "children": [
        "IPY_MODEL_02a7a611bd894e65b385c6df9390d528",
        "IPY_MODEL_ff94f8aedf1f4240ade09eb4f5286475"
       ],
       "layout": "IPY_MODEL_8b4059a2bd8043fe9ad45fb51cdd131b"
      }
     },
     "4745584ea1c5467c9a49ed3c6e556515": {
      "model_module": "@jupyter-widgets/controls",
      "model_module_version": "1.5.0",
      "model_name": "IntSliderModel",
      "state": {
       "description": "Period",
       "layout": "IPY_MODEL_5ef43a50efcd40d4a009b115393fb860",
       "max": 20000,
       "min": 500,
       "step": 500,
       "style": "IPY_MODEL_6545598489e340c1bbe64847486283b7",
       "value": 13500
      }
     },
     "5227cc7d56684b879f19848f59049393": {
      "model_module": "@jupyter-widgets/base",
      "model_module_version": "1.2.0",
      "model_name": "LayoutModel",
      "state": {}
     },
     "5ef43a50efcd40d4a009b115393fb860": {
      "model_module": "@jupyter-widgets/base",
      "model_module_version": "1.2.0",
      "model_name": "LayoutModel",
      "state": {}
     },
     "6545598489e340c1bbe64847486283b7": {
      "model_module": "@jupyter-widgets/controls",
      "model_module_version": "1.5.0",
      "model_name": "SliderStyleModel",
      "state": {
       "description_width": ""
      }
     },
     "83efe3d2f75e42bbbca3b645f748a357": {
      "model_module": "@jupyter-widgets/base",
      "model_module_version": "1.2.0",
      "model_name": "LayoutModel",
      "state": {}
     },
     "8b4059a2bd8043fe9ad45fb51cdd131b": {
      "model_module": "@jupyter-widgets/base",
      "model_module_version": "1.2.0",
      "model_name": "LayoutModel",
      "state": {}
     },
     "c6c351b37e154e169aacc5bf3430a4a6": {
      "model_module": "@jupyter-widgets/base",
      "model_module_version": "1.2.0",
      "model_name": "LayoutModel",
      "state": {}
     },
     "d5ef4d667ec244879e775b2f47f27532": {
      "model_module": "jupyterlab-plotly",
      "model_module_version": "^5.6.0",
      "model_name": "FigureModel",
      "state": {
       "_config": {
        "plotlyServerURL": "https://plot.ly"
       },
       "_js2py_layoutDelta": {},
       "_js2py_pointsCallback": {},
       "_js2py_relayout": {},
       "_js2py_restyle": {},
       "_js2py_traceDeltas": {},
       "_js2py_update": {},
       "_layout": {
        "template": {
         "data": {
          "bar": [
           {
            "error_x": {
             "color": "#2a3f5f"
            },
            "error_y": {
             "color": "#2a3f5f"
            },
            "marker": {
             "line": {
              "color": "#E5ECF6",
              "width": 0.5
             },
             "pattern": {
              "fillmode": "overlay",
              "size": 10,
              "solidity": 0.2
             }
            },
            "type": "bar"
           }
          ],
          "barpolar": [
           {
            "marker": {
             "line": {
              "color": "#E5ECF6",
              "width": 0.5
             },
             "pattern": {
              "fillmode": "overlay",
              "size": 10,
              "solidity": 0.2
             }
            },
            "type": "barpolar"
           }
          ],
          "carpet": [
           {
            "aaxis": {
             "endlinecolor": "#2a3f5f",
             "gridcolor": "white",
             "linecolor": "white",
             "minorgridcolor": "white",
             "startlinecolor": "#2a3f5f"
            },
            "baxis": {
             "endlinecolor": "#2a3f5f",
             "gridcolor": "white",
             "linecolor": "white",
             "minorgridcolor": "white",
             "startlinecolor": "#2a3f5f"
            },
            "type": "carpet"
           }
          ],
          "choropleth": [
           {
            "colorbar": {
             "outlinewidth": 0,
             "ticks": ""
            },
            "type": "choropleth"
           }
          ],
          "contour": [
           {
            "colorbar": {
             "outlinewidth": 0,
             "ticks": ""
            },
            "colorscale": [
             [
              0,
              "#0d0887"
             ],
             [
              0.1111111111111111,
              "#46039f"
             ],
             [
              0.2222222222222222,
              "#7201a8"
             ],
             [
              0.3333333333333333,
              "#9c179e"
             ],
             [
              0.4444444444444444,
              "#bd3786"
             ],
             [
              0.5555555555555556,
              "#d8576b"
             ],
             [
              0.6666666666666666,
              "#ed7953"
             ],
             [
              0.7777777777777778,
              "#fb9f3a"
             ],
             [
              0.8888888888888888,
              "#fdca26"
             ],
             [
              1,
              "#f0f921"
             ]
            ],
            "type": "contour"
           }
          ],
          "contourcarpet": [
           {
            "colorbar": {
             "outlinewidth": 0,
             "ticks": ""
            },
            "type": "contourcarpet"
           }
          ],
          "heatmap": [
           {
            "colorbar": {
             "outlinewidth": 0,
             "ticks": ""
            },
            "colorscale": [
             [
              0,
              "#0d0887"
             ],
             [
              0.1111111111111111,
              "#46039f"
             ],
             [
              0.2222222222222222,
              "#7201a8"
             ],
             [
              0.3333333333333333,
              "#9c179e"
             ],
             [
              0.4444444444444444,
              "#bd3786"
             ],
             [
              0.5555555555555556,
              "#d8576b"
             ],
             [
              0.6666666666666666,
              "#ed7953"
             ],
             [
              0.7777777777777778,
              "#fb9f3a"
             ],
             [
              0.8888888888888888,
              "#fdca26"
             ],
             [
              1,
              "#f0f921"
             ]
            ],
            "type": "heatmap"
           }
          ],
          "heatmapgl": [
           {
            "colorbar": {
             "outlinewidth": 0,
             "ticks": ""
            },
            "colorscale": [
             [
              0,
              "#0d0887"
             ],
             [
              0.1111111111111111,
              "#46039f"
             ],
             [
              0.2222222222222222,
              "#7201a8"
             ],
             [
              0.3333333333333333,
              "#9c179e"
             ],
             [
              0.4444444444444444,
              "#bd3786"
             ],
             [
              0.5555555555555556,
              "#d8576b"
             ],
             [
              0.6666666666666666,
              "#ed7953"
             ],
             [
              0.7777777777777778,
              "#fb9f3a"
             ],
             [
              0.8888888888888888,
              "#fdca26"
             ],
             [
              1,
              "#f0f921"
             ]
            ],
            "type": "heatmapgl"
           }
          ],
          "histogram": [
           {
            "marker": {
             "pattern": {
              "fillmode": "overlay",
              "size": 10,
              "solidity": 0.2
             }
            },
            "type": "histogram"
           }
          ],
          "histogram2d": [
           {
            "colorbar": {
             "outlinewidth": 0,
             "ticks": ""
            },
            "colorscale": [
             [
              0,
              "#0d0887"
             ],
             [
              0.1111111111111111,
              "#46039f"
             ],
             [
              0.2222222222222222,
              "#7201a8"
             ],
             [
              0.3333333333333333,
              "#9c179e"
             ],
             [
              0.4444444444444444,
              "#bd3786"
             ],
             [
              0.5555555555555556,
              "#d8576b"
             ],
             [
              0.6666666666666666,
              "#ed7953"
             ],
             [
              0.7777777777777778,
              "#fb9f3a"
             ],
             [
              0.8888888888888888,
              "#fdca26"
             ],
             [
              1,
              "#f0f921"
             ]
            ],
            "type": "histogram2d"
           }
          ],
          "histogram2dcontour": [
           {
            "colorbar": {
             "outlinewidth": 0,
             "ticks": ""
            },
            "colorscale": [
             [
              0,
              "#0d0887"
             ],
             [
              0.1111111111111111,
              "#46039f"
             ],
             [
              0.2222222222222222,
              "#7201a8"
             ],
             [
              0.3333333333333333,
              "#9c179e"
             ],
             [
              0.4444444444444444,
              "#bd3786"
             ],
             [
              0.5555555555555556,
              "#d8576b"
             ],
             [
              0.6666666666666666,
              "#ed7953"
             ],
             [
              0.7777777777777778,
              "#fb9f3a"
             ],
             [
              0.8888888888888888,
              "#fdca26"
             ],
             [
              1,
              "#f0f921"
             ]
            ],
            "type": "histogram2dcontour"
           }
          ],
          "mesh3d": [
           {
            "colorbar": {
             "outlinewidth": 0,
             "ticks": ""
            },
            "type": "mesh3d"
           }
          ],
          "parcoords": [
           {
            "line": {
             "colorbar": {
              "outlinewidth": 0,
              "ticks": ""
             }
            },
            "type": "parcoords"
           }
          ],
          "pie": [
           {
            "automargin": true,
            "type": "pie"
           }
          ],
          "scatter": [
           {
            "marker": {
             "colorbar": {
              "outlinewidth": 0,
              "ticks": ""
             }
            },
            "type": "scatter"
           }
          ],
          "scatter3d": [
           {
            "line": {
             "colorbar": {
              "outlinewidth": 0,
              "ticks": ""
             }
            },
            "marker": {
             "colorbar": {
              "outlinewidth": 0,
              "ticks": ""
             }
            },
            "type": "scatter3d"
           }
          ],
          "scattercarpet": [
           {
            "marker": {
             "colorbar": {
              "outlinewidth": 0,
              "ticks": ""
             }
            },
            "type": "scattercarpet"
           }
          ],
          "scattergeo": [
           {
            "marker": {
             "colorbar": {
              "outlinewidth": 0,
              "ticks": ""
             }
            },
            "type": "scattergeo"
           }
          ],
          "scattergl": [
           {
            "marker": {
             "colorbar": {
              "outlinewidth": 0,
              "ticks": ""
             }
            },
            "type": "scattergl"
           }
          ],
          "scattermapbox": [
           {
            "marker": {
             "colorbar": {
              "outlinewidth": 0,
              "ticks": ""
             }
            },
            "type": "scattermapbox"
           }
          ],
          "scatterpolar": [
           {
            "marker": {
             "colorbar": {
              "outlinewidth": 0,
              "ticks": ""
             }
            },
            "type": "scatterpolar"
           }
          ],
          "scatterpolargl": [
           {
            "marker": {
             "colorbar": {
              "outlinewidth": 0,
              "ticks": ""
             }
            },
            "type": "scatterpolargl"
           }
          ],
          "scatterternary": [
           {
            "marker": {
             "colorbar": {
              "outlinewidth": 0,
              "ticks": ""
             }
            },
            "type": "scatterternary"
           }
          ],
          "surface": [
           {
            "colorbar": {
             "outlinewidth": 0,
             "ticks": ""
            },
            "colorscale": [
             [
              0,
              "#0d0887"
             ],
             [
              0.1111111111111111,
              "#46039f"
             ],
             [
              0.2222222222222222,
              "#7201a8"
             ],
             [
              0.3333333333333333,
              "#9c179e"
             ],
             [
              0.4444444444444444,
              "#bd3786"
             ],
             [
              0.5555555555555556,
              "#d8576b"
             ],
             [
              0.6666666666666666,
              "#ed7953"
             ],
             [
              0.7777777777777778,
              "#fb9f3a"
             ],
             [
              0.8888888888888888,
              "#fdca26"
             ],
             [
              1,
              "#f0f921"
             ]
            ],
            "type": "surface"
           }
          ],
          "table": [
           {
            "cells": {
             "fill": {
              "color": "#EBF0F8"
             },
             "line": {
              "color": "white"
             }
            },
            "header": {
             "fill": {
              "color": "#C8D4E3"
             },
             "line": {
              "color": "white"
             }
            },
            "type": "table"
           }
          ]
         },
         "layout": {
          "annotationdefaults": {
           "arrowcolor": "#2a3f5f",
           "arrowhead": 0,
           "arrowwidth": 1
          },
          "autotypenumbers": "strict",
          "coloraxis": {
           "colorbar": {
            "outlinewidth": 0,
            "ticks": ""
           }
          },
          "colorscale": {
           "diverging": [
            [
             0,
             "#8e0152"
            ],
            [
             0.1,
             "#c51b7d"
            ],
            [
             0.2,
             "#de77ae"
            ],
            [
             0.3,
             "#f1b6da"
            ],
            [
             0.4,
             "#fde0ef"
            ],
            [
             0.5,
             "#f7f7f7"
            ],
            [
             0.6,
             "#e6f5d0"
            ],
            [
             0.7,
             "#b8e186"
            ],
            [
             0.8,
             "#7fbc41"
            ],
            [
             0.9,
             "#4d9221"
            ],
            [
             1,
             "#276419"
            ]
           ],
           "sequential": [
            [
             0,
             "#0d0887"
            ],
            [
             0.1111111111111111,
             "#46039f"
            ],
            [
             0.2222222222222222,
             "#7201a8"
            ],
            [
             0.3333333333333333,
             "#9c179e"
            ],
            [
             0.4444444444444444,
             "#bd3786"
            ],
            [
             0.5555555555555556,
             "#d8576b"
            ],
            [
             0.6666666666666666,
             "#ed7953"
            ],
            [
             0.7777777777777778,
             "#fb9f3a"
            ],
            [
             0.8888888888888888,
             "#fdca26"
            ],
            [
             1,
             "#f0f921"
            ]
           ],
           "sequentialminus": [
            [
             0,
             "#0d0887"
            ],
            [
             0.1111111111111111,
             "#46039f"
            ],
            [
             0.2222222222222222,
             "#7201a8"
            ],
            [
             0.3333333333333333,
             "#9c179e"
            ],
            [
             0.4444444444444444,
             "#bd3786"
            ],
            [
             0.5555555555555556,
             "#d8576b"
            ],
            [
             0.6666666666666666,
             "#ed7953"
            ],
            [
             0.7777777777777778,
             "#fb9f3a"
            ],
            [
             0.8888888888888888,
             "#fdca26"
            ],
            [
             1,
             "#f0f921"
            ]
           ]
          },
          "colorway": [
           "#636efa",
           "#EF553B",
           "#00cc96",
           "#ab63fa",
           "#FFA15A",
           "#19d3f3",
           "#FF6692",
           "#B6E880",
           "#FF97FF",
           "#FECB52"
          ],
          "font": {
           "color": "#2a3f5f"
          },
          "geo": {
           "bgcolor": "white",
           "lakecolor": "white",
           "landcolor": "#E5ECF6",
           "showlakes": true,
           "showland": true,
           "subunitcolor": "white"
          },
          "hoverlabel": {
           "align": "left"
          },
          "hovermode": "closest",
          "mapbox": {
           "style": "light"
          },
          "paper_bgcolor": "white",
          "plot_bgcolor": "#E5ECF6",
          "polar": {
           "angularaxis": {
            "gridcolor": "white",
            "linecolor": "white",
            "ticks": ""
           },
           "bgcolor": "#E5ECF6",
           "radialaxis": {
            "gridcolor": "white",
            "linecolor": "white",
            "ticks": ""
           }
          },
          "scene": {
           "xaxis": {
            "backgroundcolor": "#E5ECF6",
            "gridcolor": "white",
            "gridwidth": 2,
            "linecolor": "white",
            "showbackground": true,
            "ticks": "",
            "zerolinecolor": "white"
           },
           "yaxis": {
            "backgroundcolor": "#E5ECF6",
            "gridcolor": "white",
            "gridwidth": 2,
            "linecolor": "white",
            "showbackground": true,
            "ticks": "",
            "zerolinecolor": "white"
           },
           "zaxis": {
            "backgroundcolor": "#E5ECF6",
            "gridcolor": "white",
            "gridwidth": 2,
            "linecolor": "white",
            "showbackground": true,
            "ticks": "",
            "zerolinecolor": "white"
           }
          },
          "shapedefaults": {
           "line": {
            "color": "#2a3f5f"
           }
          },
          "ternary": {
           "aaxis": {
            "gridcolor": "white",
            "linecolor": "white",
            "ticks": ""
           },
           "baxis": {
            "gridcolor": "white",
            "linecolor": "white",
            "ticks": ""
           },
           "bgcolor": "#E5ECF6",
           "caxis": {
            "gridcolor": "white",
            "linecolor": "white",
            "ticks": ""
           }
          },
          "title": {
           "x": 0.05
          },
          "xaxis": {
           "automargin": true,
           "gridcolor": "white",
           "linecolor": "white",
           "ticks": "",
           "title": {
            "standoff": 15
           },
           "zerolinecolor": "white",
           "zerolinewidth": 2
          },
          "yaxis": {
           "automargin": true,
           "gridcolor": "white",
           "linecolor": "white",
           "ticks": "",
           "title": {
            "standoff": 15
           },
           "zerolinecolor": "white",
           "zerolinewidth": 2
          }
         }
        },
        "xaxis": {
         "anchor": "y",
         "domain": [
          0,
          0.94
         ],
         "matches": "x2",
         "showticklabels": false
        },
        "xaxis2": {
         "anchor": "y3",
         "domain": [
          0,
          0.94
         ]
        },
        "yaxis": {
         "anchor": "x",
         "domain": [
          0.32100000000000006,
          1
         ]
        },
        "yaxis2": {
         "anchor": "x",
         "overlaying": "y",
         "side": "right"
        },
        "yaxis3": {
         "anchor": "x2",
         "domain": [
          0,
          0.29100000000000004
         ]
        },
        "yaxis4": {
         "anchor": "x2",
         "overlaying": "y3",
         "side": "right"
        }
       },
       "_py2js_addTraces": {},
       "_py2js_animate": {},
       "_py2js_deleteTraces": {},
       "_py2js_moveTraces": {},
       "_py2js_relayout": {},
       "_py2js_removeLayoutProps": {},
       "_py2js_removeTraceProps": {},
       "_py2js_restyle": {},
       "_py2js_update": {},
       "_view_count": 0
      }
     },
     "dc47a05341f14401bee67dbbec6300a0": {
      "model_module": "jupyterlab-plotly",
      "model_module_version": "^5.6.0",
      "model_name": "FigureModel",
      "state": {
       "_config": {
        "plotlyServerURL": "https://plot.ly"
       },
       "_js2py_layoutDelta": {},
       "_js2py_pointsCallback": {},
       "_js2py_relayout": {},
       "_js2py_restyle": {},
       "_js2py_traceDeltas": {},
       "_js2py_update": {},
       "_layout": {
        "template": {
         "data": {
          "bar": [
           {
            "error_x": {
             "color": "#2a3f5f"
            },
            "error_y": {
             "color": "#2a3f5f"
            },
            "marker": {
             "line": {
              "color": "#E5ECF6",
              "width": 0.5
             },
             "pattern": {
              "fillmode": "overlay",
              "size": 10,
              "solidity": 0.2
             }
            },
            "type": "bar"
           }
          ],
          "barpolar": [
           {
            "marker": {
             "line": {
              "color": "#E5ECF6",
              "width": 0.5
             },
             "pattern": {
              "fillmode": "overlay",
              "size": 10,
              "solidity": 0.2
             }
            },
            "type": "barpolar"
           }
          ],
          "carpet": [
           {
            "aaxis": {
             "endlinecolor": "#2a3f5f",
             "gridcolor": "white",
             "linecolor": "white",
             "minorgridcolor": "white",
             "startlinecolor": "#2a3f5f"
            },
            "baxis": {
             "endlinecolor": "#2a3f5f",
             "gridcolor": "white",
             "linecolor": "white",
             "minorgridcolor": "white",
             "startlinecolor": "#2a3f5f"
            },
            "type": "carpet"
           }
          ],
          "choropleth": [
           {
            "colorbar": {
             "outlinewidth": 0,
             "ticks": ""
            },
            "type": "choropleth"
           }
          ],
          "contour": [
           {
            "colorbar": {
             "outlinewidth": 0,
             "ticks": ""
            },
            "colorscale": [
             [
              0,
              "#0d0887"
             ],
             [
              0.1111111111111111,
              "#46039f"
             ],
             [
              0.2222222222222222,
              "#7201a8"
             ],
             [
              0.3333333333333333,
              "#9c179e"
             ],
             [
              0.4444444444444444,
              "#bd3786"
             ],
             [
              0.5555555555555556,
              "#d8576b"
             ],
             [
              0.6666666666666666,
              "#ed7953"
             ],
             [
              0.7777777777777778,
              "#fb9f3a"
             ],
             [
              0.8888888888888888,
              "#fdca26"
             ],
             [
              1,
              "#f0f921"
             ]
            ],
            "type": "contour"
           }
          ],
          "contourcarpet": [
           {
            "colorbar": {
             "outlinewidth": 0,
             "ticks": ""
            },
            "type": "contourcarpet"
           }
          ],
          "heatmap": [
           {
            "colorbar": {
             "outlinewidth": 0,
             "ticks": ""
            },
            "colorscale": [
             [
              0,
              "#0d0887"
             ],
             [
              0.1111111111111111,
              "#46039f"
             ],
             [
              0.2222222222222222,
              "#7201a8"
             ],
             [
              0.3333333333333333,
              "#9c179e"
             ],
             [
              0.4444444444444444,
              "#bd3786"
             ],
             [
              0.5555555555555556,
              "#d8576b"
             ],
             [
              0.6666666666666666,
              "#ed7953"
             ],
             [
              0.7777777777777778,
              "#fb9f3a"
             ],
             [
              0.8888888888888888,
              "#fdca26"
             ],
             [
              1,
              "#f0f921"
             ]
            ],
            "type": "heatmap"
           }
          ],
          "heatmapgl": [
           {
            "colorbar": {
             "outlinewidth": 0,
             "ticks": ""
            },
            "colorscale": [
             [
              0,
              "#0d0887"
             ],
             [
              0.1111111111111111,
              "#46039f"
             ],
             [
              0.2222222222222222,
              "#7201a8"
             ],
             [
              0.3333333333333333,
              "#9c179e"
             ],
             [
              0.4444444444444444,
              "#bd3786"
             ],
             [
              0.5555555555555556,
              "#d8576b"
             ],
             [
              0.6666666666666666,
              "#ed7953"
             ],
             [
              0.7777777777777778,
              "#fb9f3a"
             ],
             [
              0.8888888888888888,
              "#fdca26"
             ],
             [
              1,
              "#f0f921"
             ]
            ],
            "type": "heatmapgl"
           }
          ],
          "histogram": [
           {
            "marker": {
             "pattern": {
              "fillmode": "overlay",
              "size": 10,
              "solidity": 0.2
             }
            },
            "type": "histogram"
           }
          ],
          "histogram2d": [
           {
            "colorbar": {
             "outlinewidth": 0,
             "ticks": ""
            },
            "colorscale": [
             [
              0,
              "#0d0887"
             ],
             [
              0.1111111111111111,
              "#46039f"
             ],
             [
              0.2222222222222222,
              "#7201a8"
             ],
             [
              0.3333333333333333,
              "#9c179e"
             ],
             [
              0.4444444444444444,
              "#bd3786"
             ],
             [
              0.5555555555555556,
              "#d8576b"
             ],
             [
              0.6666666666666666,
              "#ed7953"
             ],
             [
              0.7777777777777778,
              "#fb9f3a"
             ],
             [
              0.8888888888888888,
              "#fdca26"
             ],
             [
              1,
              "#f0f921"
             ]
            ],
            "type": "histogram2d"
           }
          ],
          "histogram2dcontour": [
           {
            "colorbar": {
             "outlinewidth": 0,
             "ticks": ""
            },
            "colorscale": [
             [
              0,
              "#0d0887"
             ],
             [
              0.1111111111111111,
              "#46039f"
             ],
             [
              0.2222222222222222,
              "#7201a8"
             ],
             [
              0.3333333333333333,
              "#9c179e"
             ],
             [
              0.4444444444444444,
              "#bd3786"
             ],
             [
              0.5555555555555556,
              "#d8576b"
             ],
             [
              0.6666666666666666,
              "#ed7953"
             ],
             [
              0.7777777777777778,
              "#fb9f3a"
             ],
             [
              0.8888888888888888,
              "#fdca26"
             ],
             [
              1,
              "#f0f921"
             ]
            ],
            "type": "histogram2dcontour"
           }
          ],
          "mesh3d": [
           {
            "colorbar": {
             "outlinewidth": 0,
             "ticks": ""
            },
            "type": "mesh3d"
           }
          ],
          "parcoords": [
           {
            "line": {
             "colorbar": {
              "outlinewidth": 0,
              "ticks": ""
             }
            },
            "type": "parcoords"
           }
          ],
          "pie": [
           {
            "automargin": true,
            "type": "pie"
           }
          ],
          "scatter": [
           {
            "marker": {
             "colorbar": {
              "outlinewidth": 0,
              "ticks": ""
             }
            },
            "type": "scatter"
           }
          ],
          "scatter3d": [
           {
            "line": {
             "colorbar": {
              "outlinewidth": 0,
              "ticks": ""
             }
            },
            "marker": {
             "colorbar": {
              "outlinewidth": 0,
              "ticks": ""
             }
            },
            "type": "scatter3d"
           }
          ],
          "scattercarpet": [
           {
            "marker": {
             "colorbar": {
              "outlinewidth": 0,
              "ticks": ""
             }
            },
            "type": "scattercarpet"
           }
          ],
          "scattergeo": [
           {
            "marker": {
             "colorbar": {
              "outlinewidth": 0,
              "ticks": ""
             }
            },
            "type": "scattergeo"
           }
          ],
          "scattergl": [
           {
            "marker": {
             "colorbar": {
              "outlinewidth": 0,
              "ticks": ""
             }
            },
            "type": "scattergl"
           }
          ],
          "scattermapbox": [
           {
            "marker": {
             "colorbar": {
              "outlinewidth": 0,
              "ticks": ""
             }
            },
            "type": "scattermapbox"
           }
          ],
          "scatterpolar": [
           {
            "marker": {
             "colorbar": {
              "outlinewidth": 0,
              "ticks": ""
             }
            },
            "type": "scatterpolar"
           }
          ],
          "scatterpolargl": [
           {
            "marker": {
             "colorbar": {
              "outlinewidth": 0,
              "ticks": ""
             }
            },
            "type": "scatterpolargl"
           }
          ],
          "scatterternary": [
           {
            "marker": {
             "colorbar": {
              "outlinewidth": 0,
              "ticks": ""
             }
            },
            "type": "scatterternary"
           }
          ],
          "surface": [
           {
            "colorbar": {
             "outlinewidth": 0,
             "ticks": ""
            },
            "colorscale": [
             [
              0,
              "#0d0887"
             ],
             [
              0.1111111111111111,
              "#46039f"
             ],
             [
              0.2222222222222222,
              "#7201a8"
             ],
             [
              0.3333333333333333,
              "#9c179e"
             ],
             [
              0.4444444444444444,
              "#bd3786"
             ],
             [
              0.5555555555555556,
              "#d8576b"
             ],
             [
              0.6666666666666666,
              "#ed7953"
             ],
             [
              0.7777777777777778,
              "#fb9f3a"
             ],
             [
              0.8888888888888888,
              "#fdca26"
             ],
             [
              1,
              "#f0f921"
             ]
            ],
            "type": "surface"
           }
          ],
          "table": [
           {
            "cells": {
             "fill": {
              "color": "#EBF0F8"
             },
             "line": {
              "color": "white"
             }
            },
            "header": {
             "fill": {
              "color": "#C8D4E3"
             },
             "line": {
              "color": "white"
             }
            },
            "type": "table"
           }
          ]
         },
         "layout": {
          "annotationdefaults": {
           "arrowcolor": "#2a3f5f",
           "arrowhead": 0,
           "arrowwidth": 1
          },
          "autotypenumbers": "strict",
          "coloraxis": {
           "colorbar": {
            "outlinewidth": 0,
            "ticks": ""
           }
          },
          "colorscale": {
           "diverging": [
            [
             0,
             "#8e0152"
            ],
            [
             0.1,
             "#c51b7d"
            ],
            [
             0.2,
             "#de77ae"
            ],
            [
             0.3,
             "#f1b6da"
            ],
            [
             0.4,
             "#fde0ef"
            ],
            [
             0.5,
             "#f7f7f7"
            ],
            [
             0.6,
             "#e6f5d0"
            ],
            [
             0.7,
             "#b8e186"
            ],
            [
             0.8,
             "#7fbc41"
            ],
            [
             0.9,
             "#4d9221"
            ],
            [
             1,
             "#276419"
            ]
           ],
           "sequential": [
            [
             0,
             "#0d0887"
            ],
            [
             0.1111111111111111,
             "#46039f"
            ],
            [
             0.2222222222222222,
             "#7201a8"
            ],
            [
             0.3333333333333333,
             "#9c179e"
            ],
            [
             0.4444444444444444,
             "#bd3786"
            ],
            [
             0.5555555555555556,
             "#d8576b"
            ],
            [
             0.6666666666666666,
             "#ed7953"
            ],
            [
             0.7777777777777778,
             "#fb9f3a"
            ],
            [
             0.8888888888888888,
             "#fdca26"
            ],
            [
             1,
             "#f0f921"
            ]
           ],
           "sequentialminus": [
            [
             0,
             "#0d0887"
            ],
            [
             0.1111111111111111,
             "#46039f"
            ],
            [
             0.2222222222222222,
             "#7201a8"
            ],
            [
             0.3333333333333333,
             "#9c179e"
            ],
            [
             0.4444444444444444,
             "#bd3786"
            ],
            [
             0.5555555555555556,
             "#d8576b"
            ],
            [
             0.6666666666666666,
             "#ed7953"
            ],
            [
             0.7777777777777778,
             "#fb9f3a"
            ],
            [
             0.8888888888888888,
             "#fdca26"
            ],
            [
             1,
             "#f0f921"
            ]
           ]
          },
          "colorway": [
           "#636efa",
           "#EF553B",
           "#00cc96",
           "#ab63fa",
           "#FFA15A",
           "#19d3f3",
           "#FF6692",
           "#B6E880",
           "#FF97FF",
           "#FECB52"
          ],
          "font": {
           "color": "#2a3f5f"
          },
          "geo": {
           "bgcolor": "white",
           "lakecolor": "white",
           "landcolor": "#E5ECF6",
           "showlakes": true,
           "showland": true,
           "subunitcolor": "white"
          },
          "hoverlabel": {
           "align": "left"
          },
          "hovermode": "closest",
          "mapbox": {
           "style": "light"
          },
          "paper_bgcolor": "white",
          "plot_bgcolor": "#E5ECF6",
          "polar": {
           "angularaxis": {
            "gridcolor": "white",
            "linecolor": "white",
            "ticks": ""
           },
           "bgcolor": "#E5ECF6",
           "radialaxis": {
            "gridcolor": "white",
            "linecolor": "white",
            "ticks": ""
           }
          },
          "scene": {
           "xaxis": {
            "backgroundcolor": "#E5ECF6",
            "gridcolor": "white",
            "gridwidth": 2,
            "linecolor": "white",
            "showbackground": true,
            "ticks": "",
            "zerolinecolor": "white"
           },
           "yaxis": {
            "backgroundcolor": "#E5ECF6",
            "gridcolor": "white",
            "gridwidth": 2,
            "linecolor": "white",
            "showbackground": true,
            "ticks": "",
            "zerolinecolor": "white"
           },
           "zaxis": {
            "backgroundcolor": "#E5ECF6",
            "gridcolor": "white",
            "gridwidth": 2,
            "linecolor": "white",
            "showbackground": true,
            "ticks": "",
            "zerolinecolor": "white"
           }
          },
          "shapedefaults": {
           "line": {
            "color": "#2a3f5f"
           }
          },
          "ternary": {
           "aaxis": {
            "gridcolor": "white",
            "linecolor": "white",
            "ticks": ""
           },
           "baxis": {
            "gridcolor": "white",
            "linecolor": "white",
            "ticks": ""
           },
           "bgcolor": "#E5ECF6",
           "caxis": {
            "gridcolor": "white",
            "linecolor": "white",
            "ticks": ""
           }
          },
          "title": {
           "x": 0.05
          },
          "xaxis": {
           "automargin": true,
           "gridcolor": "white",
           "linecolor": "white",
           "ticks": "",
           "title": {
            "standoff": 15
           },
           "zerolinecolor": "white",
           "zerolinewidth": 2
          },
          "yaxis": {
           "automargin": true,
           "gridcolor": "white",
           "linecolor": "white",
           "ticks": "",
           "title": {
            "standoff": 15
           },
           "zerolinecolor": "white",
           "zerolinewidth": 2
          }
         }
        },
        "xaxis": {
         "anchor": "y",
         "domain": [
          0,
          0.94
         ],
         "matches": "x2",
         "showticklabels": false
        },
        "xaxis2": {
         "anchor": "y3",
         "domain": [
          0,
          0.94
         ]
        },
        "yaxis": {
         "anchor": "x",
         "domain": [
          0.32100000000000006,
          1
         ]
        },
        "yaxis2": {
         "anchor": "x",
         "overlaying": "y",
         "side": "right"
        },
        "yaxis3": {
         "anchor": "x2",
         "domain": [
          0,
          0.29100000000000004
         ]
        },
        "yaxis4": {
         "anchor": "x2",
         "overlaying": "y3",
         "side": "right"
        }
       },
       "_py2js_addTraces": {},
       "_py2js_animate": {},
       "_py2js_deleteTraces": {},
       "_py2js_moveTraces": {},
       "_py2js_relayout": {},
       "_py2js_removeLayoutProps": {},
       "_py2js_removeTraceProps": {},
       "_py2js_restyle": {},
       "_py2js_update": {},
       "_view_count": 0
      }
     },
     "ff94f8aedf1f4240ade09eb4f5286475": {
      "buffers": [
       {
        "data": "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",
        "encoding": "base64",
        "path": [
         "_data",
         0,
         "y",
         "value"
        ]
       },
       {
        "data": "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",
        "encoding": "base64",
        "path": [
         "_data",
         1,
         "y",
         "value"
        ]
       },
       {
        "data": "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",
        "encoding": "base64",
        "path": [
         "_data",
         2,
         "y",
         "value"
        ]
       },
       {
        "data": "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",
        "encoding": "base64",
        "path": [
         "_data",
         3,
         "y",
         "value"
        ]
       }
      ],
      "model_module": "jupyterlab-plotly",
      "model_module_version": "^5.6.0",
      "model_name": "FigureModel",
      "state": {
       "_config": {
        "plotlyServerURL": "https://plot.ly"
       },
       "_data": [
        {
         "line": {
          "color": "gray"
         },
         "name": "<b style=\"color:sandybrown\">[R]</b> Tick <i style=\"color:#fc9944\">~890</i>",
         "opacity": 0.4,
         "type": "scattergl",
         "uid": "9981118a-9d78-4b59-ade5-50f4bd208626",
         "x": [
          0,
          538,
          1383,
          2031,
          3137,
          3593,
          5130,
          5515,
          6577,
          7345,
          8157,
          8993,
          10173,
          11201,
          11585,
          13271,
          13859,
          15114,
          15962,
          16376,
          17585,
          17966,
          19605,
          20103,
          21223,
          21987,
          22971,
          23269,
          24660,
          25843,
          26486,
          27617,
          27858,
          28918,
          29923,
          30385,
          31850,
          32954,
          33197,
          34581,
          35488,
          36536,
          36982,
          37428,
          38585,
          39211,
          40693,
          41186,
          42109,
          42949,
          44087,
          44681,
          45635,
          46932,
          47987,
          48442,
          49026,
          50610,
          51316,
          51753,
          52925,
          54125,
          54599,
          55702,
          56352,
          57539,
          58815,
          59176,
          60476,
          61192,
          62294,
          62786,
          63390,
          64385,
          65936,
          66830,
          67532,
          68044,
          69269,
          70247,
          70699,
          71452,
          72774,
          73772,
          74013,
          75446,
          76158,
          77363,
          78239,
          78855,
          79362,
          80407,
          81462,
          82807,
          83352,
          83958,
          84819,
          85919,
          86816,
          88025,
          88759,
          89202,
          90683,
          91445,
          92386,
          92980,
          93838,
          94655,
          95542,
          96262,
          97135,
          98916,
          99760,
          100051,
          101046,
          102190,
          103112,
          103453,
          105098,
          105286,
          106936,
          107735,
          108557,
          108999,
          109669,
          110913,
          112212,
          112412,
          114037,
          114625,
          115536,
          115849,
          116939,
          118093,
          119244,
          120106,
          120755,
          121483,
          122140,
          123517,
          124141,
          124996,
          126162,
          126827,
          127647,
          129075,
          130019,
          130170,
          131154,
          132278,
          133114,
          134184,
          134815,
          135810,
          136545,
          137846,
          139017,
          139805,
          140089,
          140801,
          141943,
          143473,
          144077,
          144378,
          145561,
          146267,
          147233,
          148307,
          148983,
          150602,
          151324,
          151663,
          152630,
          153660,
          154591,
          155796,
          156173,
          156856,
          158351,
          159089,
          160186,
          160479,
          161672,
          162188,
          163509,
          164705,
          165358,
          165964,
          167103,
          168101,
          168796,
          169776,
          170878,
          171294,
          172373,
          173337,
          174192,
          175428,
          176146,
          176649,
          177437,
          178266,
          179321,
          180526,
          181062,
          182039,
          183474,
          184424,
          184854,
          185358,
          186763,
          187664,
          188380,
          188949,
          190125,
          190846,
          192213,
          193087,
          193867,
          194358,
          195359,
          196051,
          197028,
          198724,
          199593,
          200048,
          201006,
          201398,
          202378,
          204021,
          204539,
          205421,
          205884,
          207470,
          208511,
          208879,
          210010,
          210453,
          211530,
          212352,
          213143,
          214201,
          214934,
          216207,
          217232,
          217913,
          219219,
          219918,
          220158,
          221654,
          222721,
          222849,
          223879,
          224801,
          225767,
          226756,
          228095,
          228960,
          229517,
          230555,
          231369,
          231960,
          232693,
          233561,
          234984,
          235734,
          236228,
          237061,
          238448,
          239596,
          239731,
          241028,
          241689,
          242397,
          244027,
          244626,
          245165,
          246845,
          247098,
          247957,
          248894,
          250067,
          250888,
          251686,
          252194,
          253309,
          254531,
          255112,
          256226,
          256885,
          257567,
          259106,
          259582,
          260221,
          261814,
          262533,
          263478,
          264259,
          264777,
          266271,
          266534,
          267673,
          268814,
          269581,
          270213,
          271399,
          272499,
          272955,
          274024,
          275095,
          275925,
          277045,
          278023,
          278863,
          279178,
          280562,
          281229,
          282382,
          283225,
          284090,
          285019,
          285433,
          286229,
          286965,
          288525,
          289335,
          290112,
          290649,
          292230,
          292573,
          293898,
          294929,
          295396,
          296749,
          297220,
          298222,
          298869,
          299919,
          300904,
          301774,
          302433,
          303189,
          304090,
          305277,
          305910,
          307061,
          308096,
          308965,
          310009,
          310285,
          311115,
          312236,
          313075,
          314502,
          314918,
          316106,
          316525,
          317246,
          318294,
          319031,
          320570,
          321535,
          321886,
          322988,
          323484,
          324575,
          325566,
          326544,
          327540,
          328383,
          329154,
          330613,
          331245,
          332353,
          332978,
          333519,
          334696,
          335441,
          336159,
          336961,
          338376,
          339025,
          340148,
          340535,
          342197,
          342435,
          343394,
          344141,
          345090,
          346247,
          346682,
          348098,
          349326,
          349705,
          350618,
          351200,
          352366,
          353232,
          354196,
          354674,
          356152,
          357280,
          357645,
          358955,
          359460,
          360651,
          361090,
          361869,
          363089,
          364172,
          364616,
          365454,
          366686,
          367390,
          368929,
          369787,
          370466,
          370887,
          371937,
          372566,
          373650,
          375063,
          375647,
          376308,
          377699,
          378049,
          379051,
          380153,
          381233,
          381871,
          382693,
          383437,
          384374,
          385718,
          385914,
          387060,
          388128,
          388744,
          390183,
          390530,
          391404,
          392477,
          393021,
          394052,
          395089,
          395667,
          396670,
          397700,
          398450,
          400021,
          400438,
          401142,
          401917,
          402878,
          404100,
          404960,
          405672,
          406552,
          407842,
          408276,
          409177,
          410668,
          411693,
          412189,
          412920,
          413999,
          414719,
          415875,
          416458,
          417338,
          418007,
          418864,
          420576,
          420941,
          421520,
          422429,
          423456,
          424227,
          425372,
          426808,
          427302,
          428187,
          428983,
          430132,
          430597,
          431642,
          432435,
          433241,
          434763,
          434930,
          435770,
          436945,
          437942,
          439277,
          439958,
          440263,
          441431,
          442014,
          443651,
          443856,
          445502,
          446450,
          446952,
          447588,
          448596,
          449361,
          450869,
          451444,
          452257,
          453393,
          454077,
          454736,
          455893,
          456519,
          457585,
          458741,
          459423,
          460625,
          461296,
          462425,
          463128,
          463717,
          464459,
          465442,
          466669,
          467281,
          468211,
          469155,
          470418,
          471411,
          472037,
          473088,
          473452,
          474893,
          475276,
          476536,
          477343,
          477813,
          479431,
          479831,
          480499,
          481635,
          482115,
          483164,
          484123,
          484852,
          486252,
          487197,
          487581,
          488370,
          489663,
          490128,
          491617,
          492002,
          493103,
          494024,
          494957,
          496365,
          496585,
          497799,
          498753,
          499704,
          500344,
          500821,
          502603,
          503000,
          503972,
          504570,
          505321,
          506534,
          507389,
          508504,
          509617,
          510470,
          511245,
          511994,
          512432,
          513811,
          514190,
          515199,
          516085,
          516862,
          518393,
          518709,
          520109,
          520648,
          522117,
          522813,
          523705,
          524011,
          525695,
          525834,
          527166,
          528061,
          529056,
          529815,
          530304,
          531348,
          532404,
          533255,
          534259,
          534921,
          535902,
          536973,
          537789,
          538313,
          539463,
          540204,
          541385,
          542691,
          543595,
          543979,
          545017,
          546128,
          546642,
          547511,
          548640,
          549200,
          550548,
          550915,
          552192,
          553386,
          553900,
          554526,
          555337,
          556072,
          557341,
          558225,
          559366,
          560220,
          561353,
          561938,
          563199,
          563825,
          564500,
          565197,
          566291,
          567479,
          567757,
          568942,
          570107,
          571193,
          571647,
          572984,
          573779,
          574548,
          574990,
          575890,
          577456,
          578188,
          578369,
          579847,
          580694,
          581292,
          582563,
          583116,
          583817,
          584636,
          585637,
          586374,
          587369,
          588328,
          589771,
          589991,
          591086,
          592313,
          592884,
          593697,
          594416,
          596064,
          596537,
          597563,
          598230,
          599047,
          600125,
          601339,
          601563,
          602994,
          604006,
          604690,
          605740,
          606697,
          606945,
          608379,
          608794,
          609663,
          610718,
          611728,
          612649,
          613993,
          614574,
          615724,
          616420,
          616803,
          617579,
          619301,
          619458,
          620959,
          621961,
          622196,
          623057,
          624570,
          624733,
          626471,
          627129,
          627791,
          628254,
          629705,
          630216,
          631064,
          632617,
          633365,
          634469,
          635020,
          635699,
          636344,
          637551,
          638842,
          639658,
          639993,
          641359,
          642004,
          642912,
          643720,
          644791,
          645592,
          646077,
          647798,
          648496,
          648928,
          650531,
          651243,
          652261,
          652876,
          653441,
          654984,
          655070,
          656543,
          657122,
          658468,
          659069,
          659451,
          660698,
          661416,
          662312,
          663360,
          664428,
          664934,
          666119,
          667304,
          667568,
          669030,
          670087,
          670701,
          671866,
          672808,
          673435,
          674164,
          675301,
          676043,
          677097,
          677496,
          678158,
          679206,
          679987,
          680832,
          682302,
          683246,
          684380,
          685125,
          686176,
          686742,
          687918,
          688376,
          689364,
          689921,
          691344,
          692143,
          692868,
          694198,
          694636,
          695594,
          696131,
          697034,
          698571,
          699400,
          700001,
          700525,
          702145,
          702325,
          703523,
          704511,
          705745,
          706148,
          706736,
          708035,
          708576,
          709471,
          710315,
          711990,
          712266,
          713100,
          714118,
          715016,
          715599,
          717021,
          717430,
          718333,
          719799,
          720679,
          721551,
          722570,
          723034,
          724022,
          725206,
          726164,
          726813,
          728033,
          728695,
          729641,
          730035,
          731359,
          732415,
          733164,
          733623,
          734593,
          735812,
          736082,
          737464,
          738635,
          739056,
          740336,
          740561,
          741641,
          742948,
          743723,
          744107,
          745750,
          746766,
          747005,
          748555,
          749144,
          750229,
          751059,
          751672,
          752816,
          753178,
          754374,
          755260,
          756379,
          756772,
          757699,
          758883,
          760115,
          760367,
          761260,
          762352,
          763498,
          763791,
          764880,
          766315,
          767271,
          767510,
          768475,
          769922,
          770086,
          770837,
          772148,
          772920,
          774148,
          775132,
          776127,
          776883,
          777905,
          778408,
          778922,
          779748,
          781257,
          782212,
          782521,
          783329,
          784919,
          785867,
          786599,
          787356,
          788033,
          789450,
          790119,
          791102,
          791455,
          792348,
          793736,
          794291,
          794936,
          795976,
          796975,
          797824,
          798508,
          800158,
          800328,
          801955,
          802741,
          803013,
          804696,
          805584,
          806055,
          806589,
          807757,
          809007,
          809478,
          810495,
          811163,
          812033,
          813585,
          814073,
          815162,
          816248,
          816569,
          817244,
          818406,
          819347,
          820172,
          820939,
          821632,
          823276,
          823983,
          824698,
          825676,
          826723,
          827731,
          828167,
          828879,
          829693,
          830769,
          831787,
          832631,
          833883,
          834925,
          835456,
          836516,
          837353,
          838205,
          839050,
          840218,
          840935,
          841443,
          842687,
          843342,
          844546,
          845189,
          845781,
          846956,
          848077,
          849207,
          850019,
          850323,
          851272,
          852216,
          853003,
          854567,
          855224,
          855813,
          856657,
          857376,
          858834,
          859605,
          860311,
          861473,
          862234,
          863471,
          863981,
          864559,
          866087,
          866319,
          867354,
          868528,
          869295,
          870219,
          870645,
          872110,
          873042,
          873469,
          874209,
          875100,
          876188,
          877097,
          877974,
          879476,
          879954,
          880807,
          881361,
          883015,
          884010,
          884520,
          885088,
          886682,
          887574,
          888427,
          889167,
          889359
         ],
         "xaxis": "x2",
         "y": {
          "dtype": "float64",
          "shape": [
           1000
          ]
         }
        },
        {
         "line": {
          "color": "blue"
         },
         "name": "<b style=\"color:sandybrown\">[R]</b> Center <i style=\"color:#fc9944\">~890</i>",
         "opacity": 0.4,
         "type": "scattergl",
         "uid": "37456bbb-d5de-45c0-bfdc-a4a029615e08",
         "x": [
          0,
          891,
          1782,
          2673,
          3564,
          4455,
          5346,
          6237,
          7129,
          8020,
          8911,
          9802,
          10693,
          11584,
          12475,
          13367,
          13673,
          14468,
          15484,
          16210,
          17221,
          18647,
          19605,
          20051,
          21230,
          21755,
          22864,
          24033,
          24356,
          25258,
          26675,
          26735,
          27665,
          29119,
          30253,
          31173,
          31738,
          32396,
          33033,
          34474,
          35006,
          36209,
          37317,
          38170,
          39196,
          40039,
          40463,
          41698,
          42289,
          43586,
          43828,
          45153,
          46157,
          47128,
          47954,
          48506,
          49476,
          49904,
          51080,
          52028,
          52992,
          53696,
          55164,
          56091,
          56821,
          57326,
          57932,
          59162,
          60566,
          61488,
          61723,
          62525,
          63789,
          64706,
          65890,
          66489,
          67335,
          67995,
          69193,
          70133,
          70429,
          72044,
          72530,
          73240,
          73971,
          75203,
          76273,
          77043,
          77714,
          78668,
          79552,
          80585,
          81977,
          82447,
          83054,
          84486,
          84873,
          85738,
          86803,
          88141,
          89113,
          89791,
          90435,
          91492,
          92521,
          92939,
          94460,
          95120,
          96105,
          96507,
          97753,
          98700,
          99516,
          100235,
          100699,
          101959,
          103120,
          104198,
          104964,
          105431,
          106566,
          107014,
          108719,
          109551,
          110498,
          110807,
          112225,
          112736,
          113851,
          114252,
          114972,
          116630,
          117529,
          118491,
          118760,
          120032,
          120729,
          121936,
          122266,
          123695,
          124676,
          125491,
          126538,
          126738,
          127577,
          128326,
          129798,
          130561,
          131393,
          132408,
          133532,
          133684,
          134602,
          135861,
          136552,
          137710,
          138347,
          139631,
          140244,
          141078,
          142389,
          143119,
          143570,
          145049,
          145482,
          147038,
          147184,
          148293,
          148854,
          150069,
          150851,
          151496,
          153221,
          153606,
          154835,
          155948,
          156810,
          157203,
          157988,
          158623,
          160024,
          161148,
          161948,
          163045,
          163526,
          164219,
          164971,
          166393,
          167062,
          168266,
          168814,
          169546,
          170608,
          171172,
          172528,
          173694,
          174005,
          174865,
          175836,
          176476,
          177925,
          178825,
          179216,
          180219,
          181786,
          182050,
          182842,
          183774,
          185356,
          186248,
          187027,
          187940,
          188125,
          189438,
          190443,
          191431,
          192080,
          193376,
          193804,
          195141,
          195876,
          196857,
          197504,
          197942,
          199487,
          199824,
          200625,
          201623,
          203015,
          203458,
          204214,
          205054,
          206559,
          207583,
          208197,
          208914,
          209854,
          210762,
          211390,
          212524,
          213343,
          214758,
          215629,
          216094,
          216805,
          218329,
          218487,
          219645,
          220495,
          221697,
          222700,
          222786,
          224212,
          225434,
          226293,
          226997,
          227983,
          228441,
          229287,
          230225,
          231622,
          232133,
          233068,
          233980,
          234659,
          235576,
          236352,
          237554,
          238580,
          239153,
          240494,
          241265,
          242369,
          242970,
          243521,
          244996,
          245497,
          246273,
          247462,
          248115,
          249098,
          249900,
          251068,
          252095,
          252675,
          253746,
          254816,
          255488,
          256637,
          257038,
          257971,
          259206,
          260097,
          260570,
          261819,
          262389,
          263714,
          263825,
          265393,
          266036,
          267112,
          267795,
          268573,
          269127,
          270727,
          271487,
          272440,
          273207,
          274292,
          275319,
          275937,
          276751,
          277607,
          278665,
          279498,
          280230,
          280893,
          282211,
          283206,
          283992,
          284658,
          285446,
          286205,
          287152,
          288195,
          289617,
          289997,
          291394,
          291977,
          292400,
          293736,
          294740,
          295485,
          296747,
          297524,
          298271,
          298657,
          300314,
          300478,
          301288,
          302734,
          303670,
          304769,
          305477,
          305727,
          306964,
          307767,
          308985,
          309685,
          310458,
          311317,
          312017,
          312992,
          313816,
          314934,
          315643,
          316959,
          318034,
          319025,
          319783,
          320364,
          321700,
          322592,
          322990,
          323665,
          324817,
          326120,
          326957,
          327565,
          327958,
          329120,
          329754,
          331049,
          332380,
          332842,
          333957,
          334225,
          335238,
          336586,
          337579,
          338404,
          339049,
          340167,
          340867,
          341410,
          342620,
          343254,
          344569,
          345384,
          346651,
          347054,
          347889,
          348940,
          349852,
          350857,
          351458,
          352561,
          353206,
          353925,
          354704,
          356165,
          357347,
          357790,
          358518,
          359132,
          360581,
          361156,
          361851,
          363478,
          364120,
          364584,
          365528,
          366732,
          367845,
          368835,
          369248,
          369824,
          371058,
          372234,
          373200,
          373909,
          375084,
          375513,
          376499,
          377658,
          378611,
          379384,
          379978,
          380732,
          382241,
          383087,
          383450,
          384730,
          385238,
          386225,
          387403,
          387984,
          389320,
          389691,
          391210,
          392091,
          392842,
          393649,
          394065,
          394966,
          396346,
          397349,
          397500,
          398738,
          399932,
          400903,
          401487,
          402773,
          403153,
          404272,
          404955,
          405909,
          406874,
          407735,
          408321,
          409516,
          410668,
          411422,
          412375,
          413446,
          414175,
          414969,
          415979,
          417046,
          417599,
          418514,
          419634,
          420185,
          420829,
          421821,
          423267,
          424111,
          425001,
          425628,
          426789,
          427070,
          427997,
          429005,
          430324,
          430969,
          432018,
          433049,
          433717,
          434765,
          435377,
          436366,
          436966,
          437609,
          438914,
          439576,
          440808,
          441910,
          442833,
          443405,
          444236,
          445081,
          445936,
          446714,
          447661,
          448815,
          449896,
          450848,
          451286,
          452218,
          453578,
          454079,
          454992,
          455914,
          457014,
          457730,
          458367,
          459814,
          460241,
          460835,
          461981,
          463229,
          463853,
          465043,
          465501,
          466525,
          466997,
          468334,
          469090,
          470166,
          471409,
          471799,
          472759,
          473927,
          474451,
          475003,
          476611,
          477134,
          478175,
          479001,
          480175,
          480775,
          481834,
          482108,
          483136,
          483892,
          485051,
          485788,
          486753,
          488109,
          489233,
          489726,
          490128,
          491695,
          492074,
          493393,
          494292,
          495165,
          495790,
          497221,
          497680,
          498224,
          499606,
          500195,
          501387,
          502151,
          503484,
          504264,
          505243,
          506165,
          506475,
          507792,
          508656,
          508891,
          510156,
          511231,
          512056,
          513204,
          514060,
          515003,
          515509,
          516812,
          517572,
          518498,
          519466,
          520323,
          520986,
          521532,
          522717,
          523684,
          524379,
          525405,
          526523,
          527129,
          528122,
          528913,
          530228,
          530570,
          531195,
          532191,
          533300,
          534250,
          535260,
          536448,
          537088,
          537789,
          538905,
          539792,
          540789,
          541204,
          542671,
          542883,
          543596,
          545307,
          545669,
          546271,
          547741,
          548795,
          549710,
          550604,
          551058,
          551960,
          552507,
          553400,
          554684,
          555663,
          556345,
          557034,
          558320,
          559117,
          560173,
          560915,
          561703,
          562340,
          563472,
          564665,
          565251,
          566259,
          566951,
          567670,
          569017,
          569702,
          571220,
          572055,
          572732,
          573532,
          574484,
          575667,
          576044,
          577028,
          578264,
          578780,
          580069,
          580870,
          581899,
          582615,
          582982,
          584584,
          585358,
          586168,
          586813,
          587608,
          589016,
          589860,
          590062,
          591359,
          592429,
          592900,
          594076,
          594391,
          595554,
          596400,
          597414,
          598636,
          599572,
          600415,
          601471,
          602283,
          603031,
          603422,
          604646,
          605929,
          606861,
          607552,
          608497,
          609481,
          610220,
          610911,
          611817,
          612649,
          613962,
          614284,
          615760,
          616346,
          616738,
          618014,
          618985,
          620054,
          620671,
          621520,
          622031,
          623145,
          624630,
          625580,
          626027,
          627223,
          628187,
          629063,
          629684,
          630040,
          631818,
          632310,
          633104,
          634148,
          635303,
          636262,
          636851,
          637889,
          638435,
          639148,
          639917,
          641521,
          641975,
          643207,
          644045,
          644577,
          645811,
          646476,
          647237,
          648727,
          649173,
          650284,
          651389,
          652213,
          653114,
          653754,
          654733,
          655047,
          656727,
          657287,
          658542,
          659438,
          660002,
          660961,
          661406,
          662658,
          663020,
          664624,
          665427,
          666351,
          666950,
          668298,
          668569,
          669443,
          670438,
          671497,
          672217,
          672834,
          674366,
          675088,
          676324,
          676871,
          678016,
          678248,
          679551,
          680755,
          681349,
          681929,
          683295,
          684395,
          684868,
          685494,
          686627,
          687149,
          688307,
          689155,
          690319,
          690637,
          692301,
          693088,
          693777,
          694296,
          695093,
          696040,
          697475,
          698228,
          699196,
          699887,
          700567,
          701654,
          703015,
          703464,
          704779,
          705332,
          706312,
          707251,
          708023,
          708942,
          709519,
          710998,
          711673,
          712900,
          713315,
          713953,
          715483,
          716432,
          717036,
          717604,
          718464,
          719812,
          720840,
          721786,
          722153,
          723595,
          724354,
          724894,
          726277,
          726891,
          727935,
          728716,
          729393,
          730270,
          731495,
          732228,
          732962,
          733859,
          734550,
          735624,
          736484,
          737097,
          738390,
          739008,
          739819,
          740706,
          741687,
          743210,
          743502,
          744291,
          745085,
          746147,
          747357,
          748504,
          749217,
          750336,
          751139,
          751800,
          752214,
          753639,
          754505,
          755408,
          756090,
          756979,
          757474,
          758964,
          760004,
          761033,
          761788,
          762199,
          763707,
          764076,
          764879,
          765829,
          767123,
          768061,
          769032,
          769698,
          770304,
          771288,
          772143,
          772825,
          773588,
          775100,
          775586,
          776223,
          777290,
          777969,
          779665,
          780115,
          781215,
          781561,
          782422,
          783840,
          785041,
          785743,
          786524,
          787507,
          788350,
          789412,
          789717,
          790805,
          791962,
          792265,
          793579,
          794708,
          795643,
          796600,
          796826,
          797796,
          798836,
          799380,
          800552,
          801447,
          802492,
          803056,
          804185,
          805543,
          806183,
          807111,
          808139,
          808427,
          809732,
          810311,
          811335,
          811875,
          813015,
          814267,
          814572,
          816084,
          816441,
          817424,
          818428,
          819055,
          820616,
          821233,
          822060,
          822910,
          823573,
          825194,
          825373,
          826557,
          827212,
          828072,
          829568,
          829931,
          830702,
          831524,
          832850,
          833446,
          834920,
          835559,
          836685,
          837087,
          838079,
          839021,
          840249,
          840968,
          841737,
          842708,
          843565,
          844780,
          845081,
          845868,
          846953,
          848189,
          848955,
          849508,
          850888,
          851915,
          852705,
          853413,
          854269,
          855230,
          856067,
          856636,
          858168,
          858560,
          859950,
          860749,
          861343,
          862515,
          863175,
          863858,
          864772,
          865347,
          866844,
          867951,
          868340,
          869752,
          870346,
          871490,
          872406,
          873317,
          873664,
          874552,
          875734,
          876304,
          877302,
          878288,
          879481,
          880442,
          881135,
          881883,
          882231,
          883617,
          884809,
          885470,
          886241,
          886982,
          887862,
          888624,
          889359
         ],
         "xaxis": "x2",
         "y": {
          "dtype": "float64",
          "shape": [
           1000
          ]
         }
        },
        {
         "line": {
          "color": "green",
          "shape": "hv"
         },
         "name": "<b style=\"color:sandybrown\">[R]</b> Buy <i style=\"color:#fc9944\">~890</i>",
         "opacity": 0.6,
         "type": "scattergl",
         "uid": "f5eb1f9d-87fd-4272-80b0-dea5f70d8c3c",
         "x": [
          0,
          12,
          948,
          1889,
          2690,
          3764,
          4456,
          5358,
          6243,
          7373,
          8029,
          9445,
          9815,
          11465,
          11590,
          12601,
          13372,
          14622,
          15154,
          16454,
          16932,
          18527,
          18714,
          19626,
          20497,
          22240,
          22300,
          23278,
          24061,
          25034,
          25855,
          26917,
          27632,
          29133,
          29488,
          30520,
          31190,
          32199,
          32973,
          34650,
          34787,
          35792,
          36539,
          37439,
          38323,
          39579,
          40124,
          41310,
          41884,
          43294,
          43716,
          44704,
          45449,
          46617,
          47231,
          48356,
          49013,
          49980,
          50799,
          52391,
          52584,
          54054,
          54360,
          55389,
          56142,
          57617,
          57925,
          59019,
          59779,
          60715,
          62294,
          62380,
          63760,
          64171,
          65166,
          65954,
          66896,
          67727,
          68881,
          69509,
          70644,
          71292,
          72279,
          73074,
          74589,
          74857,
          76240,
          76639,
          77812,
          78421,
          79504,
          80203,
          81514,
          81985,
          83048,
          83782,
          84678,
          85550,
          86938,
          87387,
          88309,
          89130,
          90077,
          90897,
          91917,
          92719,
          93657,
          94461,
          95381,
          96244,
          97277,
          98055,
          99031,
          99808,
          100803,
          101635,
          102565,
          103381,
          105006,
          105155,
          106807,
          106948,
          108289,
          108720,
          109847,
          110502,
          111620,
          112284,
          113343,
          114074,
          115116,
          115862,
          116974,
          117631,
          118697,
          119413,
          120371,
          121196,
          122252,
          122978,
          123921,
          124768,
          125996,
          126545,
          128061,
          128325,
          129425,
          130110,
          131138,
          131891,
          132813,
          133672,
          134721,
          135477,
          136690,
          137242,
          138703,
          139030,
          140025,
          140801,
          141700,
          142583,
          143523,
          144365,
          145606,
          146148,
          147063,
          147930,
          148998,
          150586,
          150604,
          151653,
          152385,
          153585,
          154168,
          155300,
          155950,
          157369,
          157732,
          158813,
          159515,
          160566,
          161297,
          162654,
          163079,
          164064,
          164863,
          165947,
          166644,
          168376,
          168426,
          169623,
          170227,
          171131,
          171991,
          173061,
          173773,
          174786,
          175560,
          176708,
          177447,
          178580,
          179120,
          180216,
          180910,
          182168,
          182686,
          183852,
          184467,
          185442,
          186250,
          187933,
          188031,
          188978,
          189830,
          190779,
          191621,
          192499,
          193397,
          194391,
          195168,
          196054,
          196990,
          197941,
          198725,
          199823,
          200507,
          201866,
          202303,
          203254,
          204072,
          205440,
          205878,
          206908,
          207636,
          208788,
          209422,
          210619,
          211260,
          212117,
          213005,
          214290,
          214830,
          215752,
          216560,
          217606,
          218330,
          219639,
          220112,
          221445,
          221894,
          222851,
          223713,
          224818,
          225459,
          226495,
          227241,
          228846,
          229035,
          230024,
          230817,
          231719,
          232606,
          233985,
          234370,
          235607,
          236165,
          237071,
          237936,
          238993,
          240470,
          240679,
          241724,
          243263,
          243285,
          244511,
          245064,
          246060,
          246859,
          247893,
          248641,
          249818,
          250411,
          251327,
          252193,
          253320,
          253976,
          255026,
          255758,
          256707,
          257540,
          258561,
          259322,
          260219,
          261105,
          262071,
          262899,
          263819,
          264673,
          265928,
          266484,
          268009,
          268234,
          269158,
          270016,
          270983,
          271798,
          272915,
          273581,
          274695,
          275363,
          276733,
          277145,
          278893,
          278944,
          279896,
          280764,
          281623,
          283214,
          283410,
          284362,
          285198,
          286920,
          286948,
          287932,
          288730,
          289932,
          290531,
          291510,
          292295,
          293266,
          294077,
          295446,
          295876,
          296922,
          297642,
          298959,
          299424,
          300684,
          301206,
          302369,
          302988,
          304111,
          304807,
          306191,
          306573,
          307553,
          308335,
          309272,
          310117,
          311314,
          311980,
          313116,
          313682,
          314619,
          315464,
          316362,
          317246,
          318744,
          319029,
          319988,
          320811,
          322041,
          322593,
          323996,
          324428,
          325550,
          326158,
          327663,
          327963,
          329354,
          329722,
          331069,
          331510,
          332419,
          333287,
          334213,
          335236,
          336099,
          336870,
          337925,
          338634,
          339577,
          340416,
          342136,
          342203,
          343261,
          343981,
          345234,
          345763,
          347091,
          347621,
          349046,
          349335,
          350948,
          351132,
          352149,
          352912,
          353849,
          354674,
          355854,
          356457,
          357388,
          358251,
          359231,
          360067,
          360929,
          361803,
          363107,
          363632,
          364623,
          365412,
          366982,
          367184,
          368195,
          368949,
          370054,
          370715,
          372111,
          372497,
          373479,
          374279,
          375307,
          376117,
          377158,
          377844,
          379304,
          379639,
          380678,
          381417,
          382864,
          383191,
          384866,
          385014,
          385955,
          386755,
          387813,
          388546,
          390048,
          390321,
          391293,
          392109,
          393009,
          393922,
          394790,
          395667,
          396720,
          397476,
          398926,
          399231,
          400442,
          401017,
          402194,
          402839,
          403692,
          404578,
          405538,
          406360,
          407363,
          408165,
          409179,
          409925,
          411155,
          411707,
          412664,
          413497,
          414905,
          415272,
          416214,
          417944,
          417966,
          419032,
          419741,
          420663,
          421527,
          422411,
          423302,
          424267,
          425074,
          426850,
          426880,
          427817,
          428639,
          429702,
          430421,
          431366,
          432236,
          433271,
          433998,
          435035,
          435774,
          436951,
          437584,
          438477,
          439333,
          440492,
          441115,
          442738,
          442897,
          444211,
          444781,
          445600,
          446515,
          447453,
          448244,
          449153,
          450199,
          451166,
          451875,
          452748,
          453677,
          454832,
          455390,
          456521,
          457155,
          458142,
          458939,
          460165,
          460725,
          461792,
          462505,
          463396,
          464490,
          465544,
          466067,
          467747,
          467860,
          469614,
          469637,
          470801,
          471442,
          472870,
          473196,
          474259,
          474978,
          476106,
          476761,
          478175,
          478543,
          479563,
          480333,
          481266,
          482117,
          483258,
          483907,
          484909,
          485696,
          486607,
          487454,
          488368,
          489297,
          490440,
          491019,
          492186,
          492841,
          493830,
          494583,
          495723,
          496386,
          497264,
          498155,
          499290,
          499936,
          500936,
          501712,
          502660,
          503495,
          504959,
          505311,
          506328,
          507059,
          508154,
          508842,
          509864,
          510624,
          511712,
          512414,
          513630,
          514229,
          515085,
          515973,
          517382,
          517795,
          518817,
          519554,
          520466,
          521318,
          522994,
          523100,
          524266,
          524899,
          526065,
          526664,
          527798,
          528599,
          529857,
          530229,
          531632,
          532049,
          533341,
          533794,
          534766,
          535589,
          536757,
          537392,
          538346,
          539142,
          540432,
          540923,
          541823,
          542757,
          544399,
          544515,
          545440,
          546269,
          547195,
          548934,
          548972,
          549942,
          550738,
          551983,
          552507,
          553405,
          554299,
          555305,
          556115,
          557727,
          557881,
          559003,
          559637,
          560723,
          561443,
          562446,
          563201,
          564158,
          565050,
          565946,
          566776,
          567808,
          568548,
          569453,
          570351,
          571388,
          572113,
          573464,
          573900,
          574906,
          576401,
          576568,
          577703,
          578351,
          579391,
          580133,
          581040,
          581915,
          582905,
          583697,
          584601,
          586311,
          586371,
          587490,
          588194,
          589888,
          589994,
          590930,
          591737,
          592647,
          593500,
          594559,
          595282,
          596720,
          597127,
          598319,
          598847,
          600447,
          600630,
          601564,
          603166,
          603302,
          604648,
          605109,
          606271,
          606892,
          608140,
          608649,
          609581,
          610432,
          611409,
          612220,
          613144,
          613996,
          614929,
          615787,
          617318,
          617580,
          618585,
          620209,
          620235,
          621192,
          622016,
          623351,
          623811,
          625155,
          625581,
          626604,
          627381,
          628357,
          629148,
          630318,
          630928,
          632190,
          632710,
          633798,
          634492,
          635640,
          636275,
          637609,
          638068,
          638976,
          639839,
          641066,
          641622,
          642997,
          643404,
          644956,
          645193,
          646473,
          646980,
          648104,
          648751,
          649819,
          650533,
          651509,
          652315,
          653319,
          654100,
          655068,
          655905,
          656910,
          657662,
          658806,
          659444,
          660780,
          661227,
          662951,
          663013,
          664230,
          664795,
          665872,
          666573,
          667620,
          668356,
          669390,
          670139,
          671203,
          671920,
          672938,
          673703,
          674936,
          675485,
          677106,
          677325,
          678287,
          679055,
          679944,
          680832,
          682537,
          682632,
          683627,
          684396,
          685581,
          686179,
          687236,
          687963,
          688888,
          689743,
          690657,
          691525,
          692484,
          693312,
          694279,
          695090,
          696349,
          696873,
          698126,
          698675,
          699812,
          700528,
          701783,
          702229,
          703129,
          704001,
          705010,
          705790,
          706820,
          707574,
          708695,
          709362,
          711011,
          711130,
          712604,
          712913,
          713939,
          714695,
          715647,
          716481,
          717413,
          718260,
          719158,
          720090,
          721423,
          721863,
          723331,
          723649,
          724546,
          725389,
          726317,
          727171,
          728320,
          728953,
          730058,
          730736,
          732225,
          732518,
          733931,
          734300,
          735345,
          736124,
          737145,
          737875,
          738988,
          739647,
          740705,
          741440,
          742714,
          743394,
          744170,
          744994,
          746049,
          746799,
          747792,
          748601,
          749711,
          750342,
          751388,
          752123,
          753762,
          753905,
          755372,
          755687,
          756589,
          757470,
          758767,
          759254,
          760318,
          761034,
          762004,
          762860,
          763834,
          765430,
          765490,
          766429,
          767272,
          768198,
          769061,
          770082,
          770839,
          772018,
          772619,
          774007,
          774406,
          775556,
          776198,
          777294,
          777969,
          779233,
          779755,
          780715,
          781555,
          783090,
          783355,
          784206,
          785095,
          786274,
          786878,
          788362,
          788661,
          789556,
          790442,
          791364,
          792224,
          793177,
          794006,
          795679,
          795854,
          796831,
          797580,
          798731,
          799356,
          800442,
          801136,
          802705,
          802918,
          804332,
          804802,
          806423,
          806586,
          807916,
          808265,
          809331,
          810056,
          810985,
          811837,
          813286,
          813612,
          815388,
          815401,
          816325,
          817176,
          818270,
          818958,
          819904,
          820745,
          822159,
          822535,
          823641,
          824305,
          825379,
          826088,
          827343,
          827904,
          828798,
          829652,
          831111,
          831434,
          832708,
          833236,
          834138,
          835003,
          836518,
          836781,
          838280,
          838564,
          839467,
          840346,
          841589,
          842170,
          843061,
          843910,
          845089,
          845790,
          846841,
          847497,
          848608,
          849257,
          850288,
          851068,
          852269,
          852866,
          853812,
          854604,
          855594,
          856405,
          857725,
          858169,
          859512,
          859951,
          860969,
          861733,
          862638,
          863541,
          864454,
          865303,
          866344,
          867080,
          868553,
          868862,
          870428,
          870645,
          871887,
          872447,
          873376,
          874243,
          875307,
          876008,
          877019,
          877774,
          879250,
          879556,
          880453,
          881338,
          882376,
          883121,
          884200,
          884940,
          885848,
          886687,
          887712,
          888467,
          889359
         ],
         "xaxis": "x2",
         "y": {
          "dtype": "float64",
          "shape": [
           1000
          ]
         },
         "yaxis": "y3"
        },
        {
         "line": {
          "color": "red",
          "shape": "hv"
         },
         "name": "<b style=\"color:sandybrown\">[R]</b> Sell <i style=\"color:#fc9944\">~890</i>",
         "opacity": 0.6,
         "type": "scattergl",
         "uid": "fceb4ed1-de99-4331-952b-c214d299bb06",
         "x": [
          0,
          179,
          892,
          1792,
          2674,
          3566,
          4518,
          5954,
          6238,
          7155,
          8830,
          8927,
          9980,
          10694,
          11696,
          12494,
          13439,
          14321,
          15293,
          16055,
          17417,
          17828,
          18771,
          19606,
          20697,
          21391,
          22373,
          23192,
          24092,
          24952,
          26691,
          26737,
          28044,
          28517,
          29756,
          30302,
          31760,
          32089,
          32994,
          33868,
          34877,
          35646,
          36991,
          37432,
          38480,
          39211,
          40465,
          40993,
          42240,
          42775,
          44212,
          44625,
          46123,
          46340,
          47533,
          48122,
          49029,
          49904,
          50930,
          51687,
          52949,
          53469,
          54495,
          55269,
          56259,
          57034,
          58071,
          58860,
          59839,
          60598,
          61498,
          62390,
          63420,
          64163,
          65274,
          65945,
          67246,
          67728,
          69024,
          69621,
          70424,
          71368,
          72702,
          73084,
          74236,
          74856,
          76104,
          76651,
          77620,
          78422,
          79574,
          80254,
          81481,
          81995,
          83202,
          83768,
          84872,
          85557,
          86497,
          87332,
          88466,
          89115,
          90063,
          90905,
          92165,
          92679,
          94458,
          94473,
          96051,
          96245,
          97170,
          98026,
          98920,
          99821,
          101012,
          101590,
          102596,
          104256,
          104265,
          105489,
          106046,
          107204,
          107839,
          108729,
          109618,
          110635,
          111420,
          112495,
          113175,
          114128,
          115057,
          116315,
          116740,
          118042,
          118522,
          120055,
          120367,
          121911,
          122089,
          123061,
          123869,
          124928,
          125651,
          126946,
          127434,
          128883,
          129216,
          130734,
          130998,
          132206,
          132780,
          134509,
          134563,
          135930,
          136346,
          137614,
          138132,
          139098,
          139927,
          141101,
          141698,
          143221,
          143495,
          144387,
          146085,
          146170,
          147107,
          147950,
          149643,
          149712,
          150636,
          151494,
          152943,
          153279,
          154532,
          155059,
          156390,
          156870,
          158160,
          158638,
          159852,
          160406,
          161313,
          162197,
          163238,
          163970,
          164877,
          165753,
          166704,
          167605,
          168510,
          169317,
          170750,
          171099,
          172059,
          172882,
          174624,
          174701,
          176277,
          176447,
          177936,
          178229,
          179122,
          180016,
          181109,
          181825,
          182714,
          183576,
          185088,
          185361,
          186259,
          187146,
          188793,
          188950,
          190574,
          190705,
          191710,
          192487,
          193897,
          194271,
          195402,
          196051,
          197250,
          197834,
          199169,
          199623,
          201255,
          201398,
          202395,
          203191,
          204236,
          204972,
          206499,
          206745,
          207688,
          208538,
          209541,
          210310,
          211397,
          212115,
          213036,
          213874,
          214942,
          215663,
          216732,
          217466,
          218576,
          219221,
          220395,
          221200,
          221927,
          222794,
          224096,
          224568,
          226278,
          226350,
          227374,
          228145,
          229101,
          229915,
          231505,
          231698,
          232622,
          233479,
          234490,
          235269,
          236282,
          237053,
          238488,
          238842,
          239830,
          240608,
          241598,
          242423,
          243430,
          244175,
          245103,
          245956,
          246969,
          247766,
          248783,
          249521,
          250476,
          251307,
          252258,
          253089,
          254309,
          254867,
          255761,
          257323,
          257545,
          258500,
          259332,
          260248,
          261135,
          262210,
          262887,
          264029,
          264669,
          265581,
          266451,
          267385,
          268363,
          269203,
          270017,
          271158,
          271799,
          273167,
          273588,
          274540,
          275369,
          276423,
          277153,
          278845,
          278927,
          280092,
          280710,
          281753,
          282492,
          283698,
          284274,
          285523,
          286057,
          287149,
          287920,
          288934,
          289621,
          290740,
          292190,
          292310,
          293475,
          294078,
          295378,
          295859,
          297252,
          297641,
          298594,
          299445,
          300362,
          301215,
          302262,
          303000,
          304530,
          304770,
          305931,
          306553,
          307813,
          308363,
          309584,
          310145,
          311017,
          311900,
          312992,
          313701,
          315002,
          315465,
          316438,
          317271,
          318194,
          319038,
          320028,
          320822,
          321706,
          322643,
          323537,
          324376,
          325857,
          326170,
          327319,
          327940,
          329154,
          329762,
          330978,
          331505,
          333006,
          333331,
          334312,
          335069,
          336328,
          336852,
          338401,
          338678,
          339636,
          341297,
          341420,
          342353,
          343096,
          344251,
          344910,
          345847,
          347421,
          347545,
          348450,
          349327,
          350356,
          351110,
          352377,
          352892,
          354259,
          354675,
          355949,
          356467,
          357703,
          358239,
          359517,
          360021,
          361775,
          361861,
          362704,
          363586,
          364534,
          365368,
          366485,
          367150,
          368146,
          368933,
          369989,
          370760,
          371990,
          372510,
          373561,
          374313,
          375208,
          376062,
          377033,
          377873,
          378959,
          379626,
          380536,
          381409,
          382328,
          383194,
          384287,
          384973,
          386149,
          386773,
          387893,
          388538,
          389575,
          390320,
          391320,
          392102,
          393147,
          393885,
          395117,
          395682,
          396888,
          397449,
          398341,
          399276,
          400298,
          401014,
          401927,
          402796,
          404284,
          404614,
          405637,
          406385,
          407255,
          408143,
          409392,
          409971,
          410843,
          411733,
          412752,
          413490,
          414614,
          415305,
          416163,
          417331,
          418132,
          418844,
          419860,
          420619,
          421804,
          422401,
          423730,
          424235,
          425587,
          426035,
          427367,
          427748,
          428642,
          429543,
          430970,
          431312,
          432495,
          433095,
          434432,
          434877,
          435825,
          436664,
          437982,
          438442,
          439738,
          440264,
          441174,
          442006,
          443566,
          443789,
          444926,
          446433,
          446462,
          447581,
          448315,
          449459,
          450026,
          451041,
          451809,
          453026,
          453591,
          455092,
          455373,
          456432,
          457168,
          458505,
          458938,
          459863,
          460720,
          461653,
          462502,
          463596,
          464285,
          465211,
          466068,
          466964,
          467849,
          469006,
          469631,
          470584,
          471414,
          473139,
          473261,
          474470,
          474981,
          475908,
          476775,
          477710,
          478614,
          479580,
          480325,
          481630,
          482107,
          483344,
          483890,
          485304,
          485672,
          487005,
          487478,
          488456,
          489237,
          490188,
          491036,
          491911,
          492801,
          493720,
          494590,
          495483,
          496366,
          497732,
          498148,
          499196,
          499930,
          500892,
          502382,
          502613,
          503556,
          504386,
          505934,
          506168,
          507067,
          507950,
          509158,
          509733,
          510941,
          511523,
          512613,
          513297,
          514782,
          515080,
          516372,
          516890,
          518158,
          518716,
          519628,
          520426,
          521383,
          522230,
          523100,
          523991,
          525138,
          525774,
          526741,
          527556,
          528649,
          529341,
          530887,
          531133,
          532378,
          532902,
          534061,
          534685,
          535657,
          536473,
          537906,
          538262,
          539249,
          540043,
          541258,
          541814,
          542949,
          543596,
          544892,
          545378,
          546310,
          547161,
          548092,
          548943,
          550150,
          550725,
          551821,
          552544,
          553998,
          554290,
          555351,
          556072,
          557022,
          557854,
          558750,
          559659,
          561063,
          561419,
          562344,
          563226,
          564253,
          564983,
          565968,
          566766,
          568346,
          568550,
          569771,
          570330,
          571631,
          572115,
          573770,
          573895,
          574882,
          575677,
          576770,
          577461,
          578560,
          579250,
          580158,
          581024,
          582044,
          582806,
          583849,
          584589,
          585499,
          586402,
          587756,
          588153,
          589125,
          589935,
          591232,
          591718,
          592755,
          593574,
          594446,
          595291,
          596290,
          597064,
          598158,
          598860,
          599831,
          600629,
          601746,
          602415,
          603485,
          604197,
          605242,
          605988,
          607153,
          607758,
          608667,
          609554,
          611155,
          611337,
          612784,
          613138,
          614019,
          614890,
          615795,
          616670,
          618034,
          618475,
          620023,
          620234,
          621557,
          622018,
          623324,
          623799,
          624840,
          625607,
          626558,
          627363,
          628471,
          629146,
          630480,
          630943,
          631920,
          632737,
          633623,
          634496,
          635432,
          636358,
          637327,
          638057,
          639823,
          639841,
          640772,
          641627,
          642659,
          643414,
          644700,
          645186,
          646402,
          646968,
          647968,
          648756,
          649684,
          650545,
          651715,
          652386,
          653346,
          654977,
          654989,
          656689,
          656782,
          658147,
          658553,
          659810,
          660353,
          661509,
          662124,
          663233,
          663947,
          664946,
          666353,
          666583,
          668045,
          668506,
          669811,
          670138,
          671847,
          671923,
          673435,
          673719,
          674866,
          675497,
          676955,
          677267,
          678801,
          679049,
          680077,
          680835,
          682518,
          682614,
          683552,
          684432,
          685488,
          686236,
          687583,
          687961,
          689509,
          689767,
          690637,
          691536,
          692530,
          693308,
          694284,
          695094,
          695995,
          696872,
          697784,
          698654,
          699692,
          700437,
          701358,
          702219,
          703512,
          704045,
          704914,
          705784,
          707069,
          707566,
          708585,
          709348,
          710273,
          711150,
          712088,
          712917,
          713876,
          714696,
          715905,
          716477,
          717584,
          718270,
          719236,
          720042,
          721344,
          721824,
          723110,
          723606,
          725049,
          725413,
          726941,
          727188,
          728130,
          728976,
          729861,
          730754,
          731717,
          732527,
          733448,
          734325,
          735429,
          736082,
          737044,
          737865,
          739063,
          739648,
          740575,
          741429,
          742396,
          743211,
          744255,
          744999,
          746258,
          746776,
          747729,
          748558,
          749464,
          750341,
          751559,
          752141,
          753371,
          753922,
          754831,
          755714,
          756751,
          757472,
          758417,
          759252,
          760377,
          761911,
          761942,
          762861,
          763731,
          764654,
          765595,
          766588,
          767298,
          768258,
          769055,
          770210,
          770837,
          772395,
          772640,
          773591,
          774401,
          776021,
          776184,
          777854,
          777966,
          779357,
          779748,
          781256,
          781531,
          782724,
          783313,
          784681,
          785097,
          786112,
          786877,
          787980,
          788660,
          789799,
          790459,
          791503,
          792249,
          793949,
          794008,
          795038,
          795789,
          796990,
          797571,
          798475,
          799353,
          800380,
          801141,
          802206,
          802928,
          803820,
          804700,
          805750,
          806482,
          808249,
          808341,
          809733,
          810047,
          811183,
          811829,
          813066,
          813632,
          814536,
          815394,
          816293,
          817235,
          818451,
          818975,
          820211,
          820741,
          821883,
          822523,
          823812,
          824316,
          825262,
          826091,
          827267,
          827870,
          829122,
          829680,
          830640,
          831435,
          832930,
          833217,
          834462,
          834999,
          836250,
          836782,
          837754,
          838586,
          839915,
          840458,
          841717,
          842128,
          843380,
          843933,
          844905,
          845693,
          846670,
          847475,
          848526,
          849311,
          850172,
          851039,
          852114,
          852822,
          853999,
          854605,
          855845,
          856386,
          857434,
          858283,
          859593,
          859962,
          860946,
          861762,
          862683,
          863515,
          864652,
          865298,
          866298,
          867107,
          868011,
          868888,
          870172,
          870666,
          871741,
          872427,
          873493,
          874209,
          875130,
          875991,
          877154,
          877800,
          878671,
          879579,
          880826,
          881343,
          882940,
          883133,
          884100,
          884903,
          886165,
          886685,
          887613,
          889113,
          889359
         ],
         "xaxis": "x2",
         "y": {
          "dtype": "float64",
          "shape": [
           1000
          ]
         },
         "yaxis": "y3"
        }
       ],
       "_js2py_restyle": {},
       "_js2py_update": {},
       "_last_layout_edit_id": 16,
       "_last_trace_edit_id": 16,
       "_layout": {
        "autosize": true,
        "height": 850,
        "legend": {
         "orientation": "h",
         "x": 0.1,
         "y": 1
        },
        "margin": {
         "b": 10,
         "l": 45,
         "pad": 3,
         "r": 15,
         "t": 30
        },
        "template": {
         "data": {
          "bar": [
           {
            "error_x": {
             "color": "#2a3f5f"
            },
            "error_y": {
             "color": "#2a3f5f"
            },
            "marker": {
             "line": {
              "color": "white",
              "width": 0.5
             },
             "pattern": {
              "fillmode": "overlay",
              "size": 10,
              "solidity": 0.2
             }
            },
            "type": "bar"
           }
          ],
          "barpolar": [
           {
            "marker": {
             "line": {
              "color": "white",
              "width": 0.5
             },
             "pattern": {
              "fillmode": "overlay",
              "size": 10,
              "solidity": 0.2
             }
            },
            "type": "barpolar"
           }
          ],
          "carpet": [
           {
            "aaxis": {
             "endlinecolor": "#2a3f5f",
             "gridcolor": "#C8D4E3",
             "linecolor": "#C8D4E3",
             "minorgridcolor": "#C8D4E3",
             "startlinecolor": "#2a3f5f"
            },
            "baxis": {
             "endlinecolor": "#2a3f5f",
             "gridcolor": "#C8D4E3",
             "linecolor": "#C8D4E3",
             "minorgridcolor": "#C8D4E3",
             "startlinecolor": "#2a3f5f"
            },
            "type": "carpet"
           }
          ],
          "choropleth": [
           {
            "colorbar": {
             "outlinewidth": 0,
             "ticks": ""
            },
            "type": "choropleth"
           }
          ],
          "contour": [
           {
            "colorbar": {
             "outlinewidth": 0,
             "ticks": ""
            },
            "colorscale": [
             [
              0,
              "#0d0887"
             ],
             [
              0.1111111111111111,
              "#46039f"
             ],
             [
              0.2222222222222222,
              "#7201a8"
             ],
             [
              0.3333333333333333,
              "#9c179e"
             ],
             [
              0.4444444444444444,
              "#bd3786"
             ],
             [
              0.5555555555555556,
              "#d8576b"
             ],
             [
              0.6666666666666666,
              "#ed7953"
             ],
             [
              0.7777777777777778,
              "#fb9f3a"
             ],
             [
              0.8888888888888888,
              "#fdca26"
             ],
             [
              1,
              "#f0f921"
             ]
            ],
            "type": "contour"
           }
          ],
          "contourcarpet": [
           {
            "colorbar": {
             "outlinewidth": 0,
             "ticks": ""
            },
            "type": "contourcarpet"
           }
          ],
          "heatmap": [
           {
            "colorbar": {
             "outlinewidth": 0,
             "ticks": ""
            },
            "colorscale": [
             [
              0,
              "#0d0887"
             ],
             [
              0.1111111111111111,
              "#46039f"
             ],
             [
              0.2222222222222222,
              "#7201a8"
             ],
             [
              0.3333333333333333,
              "#9c179e"
             ],
             [
              0.4444444444444444,
              "#bd3786"
             ],
             [
              0.5555555555555556,
              "#d8576b"
             ],
             [
              0.6666666666666666,
              "#ed7953"
             ],
             [
              0.7777777777777778,
              "#fb9f3a"
             ],
             [
              0.8888888888888888,
              "#fdca26"
             ],
             [
              1,
              "#f0f921"
             ]
            ],
            "type": "heatmap"
           }
          ],
          "heatmapgl": [
           {
            "colorbar": {
             "outlinewidth": 0,
             "ticks": ""
            },
            "colorscale": [
             [
              0,
              "#0d0887"
             ],
             [
              0.1111111111111111,
              "#46039f"
             ],
             [
              0.2222222222222222,
              "#7201a8"
             ],
             [
              0.3333333333333333,
              "#9c179e"
             ],
             [
              0.4444444444444444,
              "#bd3786"
             ],
             [
              0.5555555555555556,
              "#d8576b"
             ],
             [
              0.6666666666666666,
              "#ed7953"
             ],
             [
              0.7777777777777778,
              "#fb9f3a"
             ],
             [
              0.8888888888888888,
              "#fdca26"
             ],
             [
              1,
              "#f0f921"
             ]
            ],
            "type": "heatmapgl"
           }
          ],
          "histogram": [
           {
            "marker": {
             "pattern": {
              "fillmode": "overlay",
              "size": 10,
              "solidity": 0.2
             }
            },
            "type": "histogram"
           }
          ],
          "histogram2d": [
           {
            "colorbar": {
             "outlinewidth": 0,
             "ticks": ""
            },
            "colorscale": [
             [
              0,
              "#0d0887"
             ],
             [
              0.1111111111111111,
              "#46039f"
             ],
             [
              0.2222222222222222,
              "#7201a8"
             ],
             [
              0.3333333333333333,
              "#9c179e"
             ],
             [
              0.4444444444444444,
              "#bd3786"
             ],
             [
              0.5555555555555556,
              "#d8576b"
             ],
             [
              0.6666666666666666,
              "#ed7953"
             ],
             [
              0.7777777777777778,
              "#fb9f3a"
             ],
             [
              0.8888888888888888,
              "#fdca26"
             ],
             [
              1,
              "#f0f921"
             ]
            ],
            "type": "histogram2d"
           }
          ],
          "histogram2dcontour": [
           {
            "colorbar": {
             "outlinewidth": 0,
             "ticks": ""
            },
            "colorscale": [
             [
              0,
              "#0d0887"
             ],
             [
              0.1111111111111111,
              "#46039f"
             ],
             [
              0.2222222222222222,
              "#7201a8"
             ],
             [
              0.3333333333333333,
              "#9c179e"
             ],
             [
              0.4444444444444444,
              "#bd3786"
             ],
             [
              0.5555555555555556,
              "#d8576b"
             ],
             [
              0.6666666666666666,
              "#ed7953"
             ],
             [
              0.7777777777777778,
              "#fb9f3a"
             ],
             [
              0.8888888888888888,
              "#fdca26"
             ],
             [
              1,
              "#f0f921"
             ]
            ],
            "type": "histogram2dcontour"
           }
          ],
          "mesh3d": [
           {
            "colorbar": {
             "outlinewidth": 0,
             "ticks": ""
            },
            "type": "mesh3d"
           }
          ],
          "parcoords": [
           {
            "line": {
             "colorbar": {
              "outlinewidth": 0,
              "ticks": ""
             }
            },
            "type": "parcoords"
           }
          ],
          "pie": [
           {
            "automargin": true,
            "type": "pie"
           }
          ],
          "scatter": [
           {
            "marker": {
             "colorbar": {
              "outlinewidth": 0,
              "ticks": ""
             }
            },
            "type": "scatter"
           }
          ],
          "scatter3d": [
           {
            "line": {
             "colorbar": {
              "outlinewidth": 0,
              "ticks": ""
             }
            },
            "marker": {
             "colorbar": {
              "outlinewidth": 0,
              "ticks": ""
             }
            },
            "type": "scatter3d"
           }
          ],
          "scattercarpet": [
           {
            "marker": {
             "colorbar": {
              "outlinewidth": 0,
              "ticks": ""
             }
            },
            "type": "scattercarpet"
           }
          ],
          "scattergeo": [
           {
            "marker": {
             "colorbar": {
              "outlinewidth": 0,
              "ticks": ""
             }
            },
            "type": "scattergeo"
           }
          ],
          "scattergl": [
           {
            "marker": {
             "colorbar": {
              "outlinewidth": 0,
              "ticks": ""
             }
            },
            "type": "scattergl"
           }
          ],
          "scattermapbox": [
           {
            "marker": {
             "colorbar": {
              "outlinewidth": 0,
              "ticks": ""
             }
            },
            "type": "scattermapbox"
           }
          ],
          "scatterpolar": [
           {
            "marker": {
             "colorbar": {
              "outlinewidth": 0,
              "ticks": ""
             }
            },
            "type": "scatterpolar"
           }
          ],
          "scatterpolargl": [
           {
            "marker": {
             "colorbar": {
              "outlinewidth": 0,
              "ticks": ""
             }
            },
            "type": "scatterpolargl"
           }
          ],
          "scatterternary": [
           {
            "marker": {
             "colorbar": {
              "outlinewidth": 0,
              "ticks": ""
             }
            },
            "type": "scatterternary"
           }
          ],
          "surface": [
           {
            "colorbar": {
             "outlinewidth": 0,
             "ticks": ""
            },
            "colorscale": [
             [
              0,
              "#0d0887"
             ],
             [
              0.1111111111111111,
              "#46039f"
             ],
             [
              0.2222222222222222,
              "#7201a8"
             ],
             [
              0.3333333333333333,
              "#9c179e"
             ],
             [
              0.4444444444444444,
              "#bd3786"
             ],
             [
              0.5555555555555556,
              "#d8576b"
             ],
             [
              0.6666666666666666,
              "#ed7953"
             ],
             [
              0.7777777777777778,
              "#fb9f3a"
             ],
             [
              0.8888888888888888,
              "#fdca26"
             ],
             [
              1,
              "#f0f921"
             ]
            ],
            "type": "surface"
           }
          ],
          "table": [
           {
            "cells": {
             "fill": {
              "color": "#EBF0F8"
             },
             "line": {
              "color": "white"
             }
            },
            "header": {
             "fill": {
              "color": "#C8D4E3"
             },
             "line": {
              "color": "white"
             }
            },
            "type": "table"
           }
          ]
         },
         "layout": {
          "annotationdefaults": {
           "arrowcolor": "#2a3f5f",
           "arrowhead": 0,
           "arrowwidth": 1
          },
          "autotypenumbers": "strict",
          "coloraxis": {
           "colorbar": {
            "outlinewidth": 0,
            "ticks": ""
           }
          },
          "colorscale": {
           "diverging": [
            [
             0,
             "#8e0152"
            ],
            [
             0.1,
             "#c51b7d"
            ],
            [
             0.2,
             "#de77ae"
            ],
            [
             0.3,
             "#f1b6da"
            ],
            [
             0.4,
             "#fde0ef"
            ],
            [
             0.5,
             "#f7f7f7"
            ],
            [
             0.6,
             "#e6f5d0"
            ],
            [
             0.7,
             "#b8e186"
            ],
            [
             0.8,
             "#7fbc41"
            ],
            [
             0.9,
             "#4d9221"
            ],
            [
             1,
             "#276419"
            ]
           ],
           "sequential": [
            [
             0,
             "#0d0887"
            ],
            [
             0.1111111111111111,
             "#46039f"
            ],
            [
             0.2222222222222222,
             "#7201a8"
            ],
            [
             0.3333333333333333,
             "#9c179e"
            ],
            [
             0.4444444444444444,
             "#bd3786"
            ],
            [
             0.5555555555555556,
             "#d8576b"
            ],
            [
             0.6666666666666666,
             "#ed7953"
            ],
            [
             0.7777777777777778,
             "#fb9f3a"
            ],
            [
             0.8888888888888888,
             "#fdca26"
            ],
            [
             1,
             "#f0f921"
            ]
           ],
           "sequentialminus": [
            [
             0,
             "#0d0887"
            ],
            [
             0.1111111111111111,
             "#46039f"
            ],
            [
             0.2222222222222222,
             "#7201a8"
            ],
            [
             0.3333333333333333,
             "#9c179e"
            ],
            [
             0.4444444444444444,
             "#bd3786"
            ],
            [
             0.5555555555555556,
             "#d8576b"
            ],
            [
             0.6666666666666666,
             "#ed7953"
            ],
            [
             0.7777777777777778,
             "#fb9f3a"
            ],
            [
             0.8888888888888888,
             "#fdca26"
            ],
            [
             1,
             "#f0f921"
            ]
           ]
          },
          "colorway": [
           "#636efa",
           "#EF553B",
           "#00cc96",
           "#ab63fa",
           "#FFA15A",
           "#19d3f3",
           "#FF6692",
           "#B6E880",
           "#FF97FF",
           "#FECB52"
          ],
          "font": {
           "color": "#2a3f5f"
          },
          "geo": {
           "bgcolor": "white",
           "lakecolor": "white",
           "landcolor": "white",
           "showlakes": true,
           "showland": true,
           "subunitcolor": "#C8D4E3"
          },
          "hoverlabel": {
           "align": "left"
          },
          "hovermode": "closest",
          "mapbox": {
           "style": "light"
          },
          "paper_bgcolor": "white",
          "plot_bgcolor": "white",
          "polar": {
           "angularaxis": {
            "gridcolor": "#EBF0F8",
            "linecolor": "#EBF0F8",
            "ticks": ""
           },
           "bgcolor": "white",
           "radialaxis": {
            "gridcolor": "#EBF0F8",
            "linecolor": "#EBF0F8",
            "ticks": ""
           }
          },
          "scene": {
           "xaxis": {
            "backgroundcolor": "white",
            "gridcolor": "#DFE8F3",
            "gridwidth": 2,
            "linecolor": "#EBF0F8",
            "showbackground": true,
            "ticks": "",
            "zerolinecolor": "#EBF0F8"
           },
           "yaxis": {
            "backgroundcolor": "white",
            "gridcolor": "#DFE8F3",
            "gridwidth": 2,
            "linecolor": "#EBF0F8",
            "showbackground": true,
            "ticks": "",
            "zerolinecolor": "#EBF0F8"
           },
           "zaxis": {
            "backgroundcolor": "white",
            "gridcolor": "#DFE8F3",
            "gridwidth": 2,
            "linecolor": "#EBF0F8",
            "showbackground": true,
            "ticks": "",
            "zerolinecolor": "#EBF0F8"
           }
          },
          "shapedefaults": {
           "line": {
            "color": "#2a3f5f"
           }
          },
          "ternary": {
           "aaxis": {
            "gridcolor": "#DFE8F3",
            "linecolor": "#A2B1C6",
            "ticks": ""
           },
           "baxis": {
            "gridcolor": "#DFE8F3",
            "linecolor": "#A2B1C6",
            "ticks": ""
           },
           "bgcolor": "white",
           "caxis": {
            "gridcolor": "#DFE8F3",
            "linecolor": "#A2B1C6",
            "ticks": ""
           }
          },
          "title": {
           "x": 0.05
          },
          "xaxis": {
           "automargin": true,
           "gridcolor": "#EBF0F8",
           "linecolor": "#EBF0F8",
           "ticks": "",
           "title": {
            "standoff": 15
           },
           "zerolinecolor": "#EBF0F8",
           "zerolinewidth": 2
          },
          "yaxis": {
           "automargin": true,
           "gridcolor": "#EBF0F8",
           "linecolor": "#EBF0F8",
           "ticks": "",
           "title": {
            "standoff": 15
           },
           "zerolinecolor": "#EBF0F8",
           "zerolinewidth": 2
          }
         }
        },
        "xaxis": {
         "anchor": "y",
         "domain": [
          0,
          0.94
         ],
         "matches": "x2",
         "showticklabels": false,
         "spikedash": "dot",
         "spikemode": "across+marker",
         "spikesnap": "cursor",
         "spikethickness": 2
        },
        "xaxis2": {
         "anchor": "y3",
         "domain": [
          0,
          0.94
         ],
         "spikedash": "dot",
         "spikemode": "across+marker",
         "spikesnap": "cursor",
         "spikethickness": 2
        },
        "yaxis": {
         "anchor": "x",
         "domain": [
          0.32100000000000006,
          1
         ]
        },
        "yaxis2": {
         "anchor": "x",
         "overlaying": "y",
         "side": "right"
        },
        "yaxis3": {
         "anchor": "x2",
         "domain": [
          0,
          0.29100000000000004
         ]
        },
        "yaxis4": {
         "anchor": "x2",
         "overlaying": "y3",
         "side": "right"
        }
       },
       "_py2js_animate": {},
       "_py2js_deleteTraces": {},
       "_py2js_moveTraces": {},
       "_py2js_relayout": {},
       "_py2js_removeLayoutProps": {},
       "_py2js_removeTraceProps": {},
       "_view_count": 1
      }
     }
    },
    "version_major": 2,
    "version_minor": 0
   }
  }
 },
 "nbformat": 4,
 "nbformat_minor": 5
}
